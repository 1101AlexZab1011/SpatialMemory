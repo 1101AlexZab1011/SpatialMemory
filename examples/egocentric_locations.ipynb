{
 "cells": [
  {
   "cell_type": "markdown",
   "metadata": {},
   "source": [
    "## Imports"
   ]
  },
  {
   "cell_type": "code",
   "execution_count": 1,
   "metadata": {},
   "outputs": [],
   "source": [
    "from collections import OrderedDict\n",
    "from functools import partial\n",
    "from shapely.geometry import Polygon, Point\n",
    "import os\n",
    "import sys\n",
    "sys.path.insert(1, os.path.realpath(os.path.pardir))\n",
    "from bbtoolkit.data import Cached\n",
    "from bbtoolkit.preprocessing.environment.builders import EnvironmentBuilder\n",
    "from bbtoolkit.preprocessing.environment.compilers import DynamicEnvironmentCompiler\n",
    "from bbtoolkit.structures.geometry import Texture, TexturedPolygon\n",
    "import matplotlib.pyplot as plt\n",
    "from bbtoolkit.preprocessing.environment.viz import plot_polygon\n",
    "from bbtoolkit.preprocessing.environment.compilers.callbacks import TransparentObjects\n",
    "from bbtoolkit.preprocessing.environment.visible_planes import LazyVisiblePlaneWithTransparancy\n",
    "import numpy as np\n",
    "from bbtoolkit.preprocessing.environment.fov import FOVManager\n",
    "from bbtoolkit.preprocessing.environment.fov.ego import EgoManager\n",
    "from bbtoolkit.preprocessing.environment.viz import plot_arrow\n",
    "from bbtoolkit.preprocessing.environment import Environment\n",
    "from matplotlib.backend_bases import KeyEvent"
   ]
  },
  {
   "cell_type": "markdown",
   "metadata": {},
   "source": [
    "## Create Environment"
   ]
  },
  {
   "cell_type": "code",
   "execution_count": 2,
   "metadata": {},
   "outputs": [
    {
     "data": {
      "image/png": "[encoded data removed]",
      "text/plain": [
       "<Figure size 640x480 with 1 Axes>"
      ]
     },
     "metadata": {},
     "output_type": "display_data"
    }
   ],
   "source": [
    "min_xy, max_xy = -10, 10 # create the box of size 20x20\n",
    "min_train_x, max_train_x, min_train_y, max_train_y = -10, 10, -10, 10 # create the training area of size 20x10\n",
    "res = 0.2 # set grid resolution\n",
    "\n",
    "builder = EnvironmentBuilder(\n",
    "    min_xy,\n",
    "    max_xy,\n",
    "    (min_train_x, min_train_y),\n",
    "    (max_train_x, max_train_y),\n",
    "    res=res\n",
    ")\n",
    "builder.add_wall(\n",
    "    TexturedPolygon(\n",
    "        Polygon(\n",
    "            [\n",
    "                (-10, -10),\n",
    "                (-10, 10),\n",
    "                (10, 10),\n",
    "                (10, -10)\n",
    "            ],\n",
    "            holes=[\n",
    "                [\n",
    "                    (-9, -9),\n",
    "                    (-9, 9),\n",
    "                    (9, 9),\n",
    "                    (9, -9)\n",
    "                ]\n",
    "            ]\n",
    "        ),\n",
    "        texture=Texture(\n",
    "            1,\n",
    "            '#4b0082',\n",
    "            'main_wall'\n",
    "        )\n",
    "    )\n",
    ")\n",
    "_ = builder.plot()\n"
   ]
  },
  {
   "cell_type": "code",
   "execution_count": 3,
   "metadata": {},
   "outputs": [],
   "source": [
    "builder.save('../dev/env.ini')"
   ]
  },
  {
   "cell_type": "markdown",
   "metadata": {},
   "source": [
    "## Set up the compiler"
   ]
  },
  {
   "cell_type": "code",
   "execution_count": 3,
   "metadata": {},
   "outputs": [],
   "source": [
    "cache_manager = Cached(cache_storage=OrderedDict(), max_size=10000)\n",
    "compiler = DynamicEnvironmentCompiler(\n",
    "    builder,\n",
    "    partial(\n",
    "        LazyVisiblePlaneWithTransparancy,\n",
    "        cache_manager=cache_manager,\n",
    "    ),\n",
    "    callbacks=TransparentObjects()\n",
    ")\n",
    "\n",
    "compiler.add_object(\n",
    "    # some polygon:\n",
    "    TexturedPolygon(\n",
    "        [\n",
    "            (2, 2),\n",
    "            (2, 4),\n",
    "            (4, 4),\n",
    "            (4, 2)\n",
    "        ],\n",
    "        texture=Texture(\n",
    "            21,\n",
    "            '#ae03bb',\n",
    "            'obj_bound_new'\n",
    "        )\n",
    "    ),\n",
    "    TexturedPolygon(\n",
    "        [\n",
    "            (-6, 3),\n",
    "            (-6, 4),\n",
    "            (-4, 4),\n",
    "            (-4, 3)\n",
    "        ],\n",
    "        texture=Texture(\n",
    "            21,\n",
    "            '#ae03bb',\n",
    "            'obj_bound_new'\n",
    "        )\n",
    "    ),\n",
    "    TexturedPolygon(\n",
    "        [\n",
    "            (-3, -3),\n",
    "            (-3, -1),\n",
    "            (-1, -1),\n",
    "            (-1, -3)\n",
    "        ],\n",
    "        texture=Texture(\n",
    "            22,\n",
    "            '#e435f2',\n",
    "            'obj_bound_new'\n",
    "        )\n",
    "    ),\n",
    "    TexturedPolygon(\n",
    "        [\n",
    "            (7, 2),\n",
    "            (8, 2),\n",
    "            (8, -2),\n",
    "            (7, -2)\n",
    "        ],\n",
    "        texture=Texture(\n",
    "            21,\n",
    "            '#ae03bb',\n",
    "            'obj_bound_new'\n",
    "        )\n",
    "    ),\n",
    "    TexturedPolygon(\n",
    "        [\n",
    "            (-5, -7),\n",
    "            (-5, -8),\n",
    "            (-7, -8),\n",
    "            (-7, -7)\n",
    "        ],\n",
    "        texture=Texture(\n",
    "            21,\n",
    "            '#ae03bb',\n",
    "            'obj_bound_new'\n",
    "        )\n",
    "    )\n",
    ")\n",
    "\n",
    "compiler.add_wall(\n",
    "    TexturedPolygon(\n",
    "        [\n",
    "            Point(5, 5),\n",
    "            Point(5, -5),\n",
    "            Point(6, -5),\n",
    "            Point(6, 5)\n",
    "        ],\n",
    "        texture=Texture(\n",
    "            21,\n",
    "            '#4b0082',\n",
    "            'wall_bound_new2'\n",
    "        )\n",
    "    )\n",
    ")"
   ]
  },
  {
   "cell_type": "markdown",
   "metadata": {},
   "source": [
    "## Set up point of view"
   ]
  },
  {
   "cell_type": "code",
   "execution_count": 4,
   "metadata": {},
   "outputs": [],
   "source": [
    "fov_angle = np.pi/2\n",
    "position = 0, 0\n",
    "direction = -4*np.pi/5\n",
    "fov_manager = FOVManager(compiler.environment, fov_angle)"
   ]
  },
  {
   "cell_type": "code",
   "execution_count": 5,
   "metadata": {},
   "outputs": [],
   "source": [
    "compiler.save('../dev/compiler.pkl')"
   ]
  },
  {
   "cell_type": "code",
   "execution_count": 5,
   "metadata": {},
   "outputs": [
    {
     "data": {
      "image/png": "[encoded data removed]",
      "text/plain": [
       "<Figure size 640x480 with 1 Axes>"
      ]
     },
     "metadata": {},
     "output_type": "display_data"
    }
   ],
   "source": [
    "env = compiler.environment\n",
    "\n",
    "walls_fov, objects_fov = fov_manager(position, direction)\n",
    "\n",
    "fig, ax = plt.subplots()\n",
    "fig = plot_arrow(direction, *position, ax=ax)\n",
    "\n",
    "for i, obj in enumerate(env.objects + env.walls):\n",
    "    plot_polygon(obj.polygon, ax=ax, alpha=0.5, linewidth=1)\n",
    "\n",
    "for wall, poly in zip(walls_fov, compiler.environment.walls):\n",
    "    ax.plot(wall[:, 0], wall[:, 1], 'o', color=poly.polygon.texture.color, markersize=2)\n",
    "\n",
    "for obj, poly in zip(objects_fov, compiler.environment.objects):\n",
    "    ax.plot(obj[:, 0], obj[:, 1], 'o', color=poly.polygon.texture.color, markersize=2)"
   ]
  },
  {
   "cell_type": "markdown",
   "metadata": {},
   "source": [
    "## Compile egocentric POV"
   ]
  },
  {
   "cell_type": "code",
   "execution_count": 6,
   "metadata": {},
   "outputs": [
    {
     "data": {
      "image/png": "[encoded data removed]",
      "text/plain": [
       "<Figure size 640x480 with 1 Axes>"
      ]
     },
     "metadata": {},
     "output_type": "display_data"
    }
   ],
   "source": [
    "env = compiler.environment\n",
    "\n",
    "ego_manager = EgoManager(fov_manager)\n",
    "\n",
    "walls_ego, objects_ego = ego_manager(position, direction)\n",
    "\n",
    "fig, ax = plt.subplots()\n",
    "fig = plot_arrow(np.pi/2, *(0, 0), ax=ax)\n",
    "\n",
    "for wall, poly in zip(walls_ego, compiler.environment.walls):\n",
    "    ax.plot(wall[:, 0], wall[:, 1], 'o', color=poly.polygon.texture.color, markersize=2)\n",
    "\n",
    "for obj, poly in zip(objects_ego, compiler.environment.objects):\n",
    "    ax.plot(obj[:, 0], obj[:, 1], 'o', color=poly.polygon.texture.color, markersize=2)"
   ]
  },
  {
   "cell_type": "markdown",
   "metadata": {},
   "source": [
    "## Interactive environment"
   ]
  },
  {
   "cell_type": "code",
   "execution_count": 20,
   "metadata": {},
   "outputs": [],
   "source": [
    "class AgentPlotter:\n",
    "    \"\"\"\n",
    "    A class for visualizing an agent's movement and perception in an environment.\n",
    "\n",
    "    Attributes:\n",
    "        env (Environment): The environment in which the agent operates.\n",
    "        fov (FOVManager): The field of view manager for the agent.\n",
    "        ego (EgoManager): The ego-centric manager for transforming coordinates.\n",
    "        x (float): The agent's current x-coordinate.\n",
    "        y (float): The agent's current y-coordinate.\n",
    "        angle (float): The agent's current orientation angle in radians.\n",
    "        move_step (float): The step size for moving the agent.\n",
    "        angle_step (float): The step size for rotating the agent.\n",
    "        fig (matplotlib.figure.Figure): The matplotlib figure object for plotting.\n",
    "        ax1 (matplotlib.axes.Axes): The first subplot axis for the global view.\n",
    "        ax2 (matplotlib.axes.Axes): The second subplot axis for the ego-centric view.\n",
    "\n",
    "    Methods:\n",
    "        update_agent(dx, dy, dangle): Updates the agent's position and orientation and redraws the plot.\n",
    "        on_key(event): Handles key press events to control the agent.\n",
    "        run(): Initiates the visualization by showing the plot.\n",
    "    \"\"\"\n",
    "    def __init__(\n",
    "        self,\n",
    "        env: Environment,\n",
    "        fov: FOVManager,\n",
    "        ego: EgoManager\n",
    "    ):\n",
    "        \"\"\"\n",
    "        Initializes the AgentPlotter with the environment, FOVManager, and EgoManager.\n",
    "\n",
    "        Args:\n",
    "            env (Environment): The environment in which the agent operates.\n",
    "            fov (FOVManager): The field of view manager for the agent.\n",
    "            ego (EgoManager): The ego-centric manager for transforming coordinates.\n",
    "        \"\"\"\n",
    "        self.env = env\n",
    "        self.fov = fov\n",
    "        self.ego = ego\n",
    "\n",
    "        # Initial coordinates and angle\n",
    "        self.x, self.y, self.angle = 0, 0, 0\n",
    "\n",
    "        # Step size for moving and rotating\n",
    "        self.move_step = 0.5\n",
    "        self.angle_step = np.pi / 20  # radians\n",
    "\n",
    "        # Create a figure and a plot\n",
    "        self.fig, (self.ax1, self.ax2) = plt.subplots(1, 2)\n",
    "        plt.subplots_adjust(bottom=0.2)\n",
    "\n",
    "        # Set the limits of the plot\n",
    "        self.ax1.set_xlim(-10, 10)\n",
    "        self.ax1.set_ylim(-10, 10)\n",
    "        self.ax2.set_xlim(-20, 20)\n",
    "        self.ax2.set_ylim(-20, 20)\n",
    "\n",
    "        # Connect the key press event to the handler\n",
    "        self.fig.canvas.mpl_connect('key_press_event', self.on_key)\n",
    "\n",
    "    def update_agent(self, dx: float = 0, dy: float = 0, dangle: float = 0):\n",
    "        \"\"\"\n",
    "        Updates the agent's position and orientation based on the given deltas and redraws the plot.\n",
    "\n",
    "        Args:\n",
    "            dx (float): The change in the x-coordinate.\n",
    "            dy (float): The change in the y-coordinate.\n",
    "            dangle (float): The change in the orientation angle in radians.\n",
    "        \"\"\"\n",
    "        dx, dy = self.ego.rotate([(dx, dy)], -self.angle)[0]\n",
    "        self.x += dx\n",
    "        self.y += dy\n",
    "        self.angle += dangle\n",
    "        walls_fov, objects_fov = self.fov((self.x, self.y), self.angle)\n",
    "\n",
    "        self.ax1.clear(), self.ax2.clear()\n",
    "        self.ax1.set_xlim(-10, 10)\n",
    "        self.ax1.set_ylim(-10, 10)\n",
    "        self.ax2.set_xlim(-20, 20)\n",
    "        self.ax2.set_ylim(-20, 20)\n",
    "        _ = plot_arrow(self.angle, *(self.x, self.y), ax=self.ax1)\n",
    "\n",
    "        for obj in self.env.objects + self.env.walls:\n",
    "            plot_polygon(obj.polygon, ax=self.ax1, alpha=0.5, linewidth=1)\n",
    "\n",
    "        for wall, poly in zip(walls_fov, self.env.walls):\n",
    "            self.ax1.plot(wall[:, 0], wall[:, 1], 'o', color=poly.polygon.texture.color, markersize=2)\n",
    "\n",
    "        for obj, poly in zip(objects_fov, self.env.objects):\n",
    "            self.ax1.plot(obj[:, 0], obj[:, 1], 'o', color=poly.polygon.texture.color, markersize=2)\n",
    "\n",
    "        walls_ego, objects_ego = self.ego((self.x, self.y), self.angle)\n",
    "\n",
    "        _ = plot_arrow(np.pi/2, 0, -.75, ax=self.ax2)\n",
    "\n",
    "        for wall, poly in zip(walls_ego, self.env.walls):\n",
    "            self.ax2.plot(wall[:, 0], wall[:, 1], 'o', color=poly.polygon.texture.color, markersize=2)\n",
    "\n",
    "        for obj, poly in zip(objects_ego, self.env.objects):\n",
    "            self.ax2.plot(obj[:, 0], obj[:, 1], 'o', color=poly.polygon.texture.color, markersize=2)\n",
    "\n",
    "        self.fig.canvas.draw()\n",
    "\n",
    "    def on_key(self, event: KeyEvent):\n",
    "        \"\"\"\n",
    "        Handles key press events to control the agent's movement and rotation.\n",
    "\n",
    "        Args:\n",
    "            event (KeyEvent): The key event containing information about the pressed key.\n",
    "        \"\"\"\n",
    "        if event.key == 'w':\n",
    "            self.update_agent(dx=self.move_step)\n",
    "        elif event.key == 'a':\n",
    "            self.update_agent(dy=self.move_step)\n",
    "        elif event.key == 's':\n",
    "            self.update_agent(dx=-self.move_step)\n",
    "        elif event.key == 'd':\n",
    "            self.update_agent(dy=-self.move_step)\n",
    "        elif event.key == 'q':\n",
    "            self.update_agent(dangle=self.angle_step)\n",
    "        elif event.key == 'e':\n",
    "            self.update_agent(dangle=-self.angle_step)\n",
    "\n",
    "    def run(self):\n",
    "        \"\"\"\n",
    "        Initiates the visualization by updating the agent's position and showing the plot.\n",
    "        \"\"\"\n",
    "        self.update_agent()\n",
    "        plt.show()"
   ]
  },
  {
   "cell_type": "code",
   "execution_count": 22,
   "metadata": {},
   "outputs": [],
   "source": [
    "%matplotlib qt\n",
    "\n",
    "plt.rcParams['keymap.quit'].remove('q')\n",
    "plt.rcParams['keymap.save'].remove('s')"
   ]
  },
  {
   "cell_type": "code",
   "execution_count": 23,
   "metadata": {},
   "outputs": [],
   "source": [
    "simulator = AgentPlotter(env, fov_manager, ego_manager)\n",
    "simulator.run()"
   ]
  }
 ],
 "metadata": {
  "kernelspec": {
   "display_name": "venv",
   "language": "python",
   "name": "python3"
  },
  "language_info": {
   "codemirror_mode": {
    "name": "ipython",
    "version": 3
   },
   "file_extension": ".py",
   "mimetype": "text/x-python",
   "name": "python",
   "nbconvert_exporter": "python",
   "pygments_lexer": "ipython3",
   "version": "3.11.6"
  }
 },
 "nbformat": 4,
 "nbformat_minor": 2
}
