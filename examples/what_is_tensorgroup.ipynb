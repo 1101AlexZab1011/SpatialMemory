{
 "cells": [
  {
   "cell_type": "markdown",
   "metadata": {},
   "source": [
    "# Disclamer: Example here is NOT a neural model\n",
    "\n",
    "This is a simple example showing how to use TensorGroup and DirectedTensorGroup classes.\n"
   ]
  },
  {
   "cell_type": "code",
   "execution_count": 1,
   "metadata": {},
   "outputs": [],
   "source": [
    "import os\n",
    "import sys\n",
    "sys.path.insert(1, os.path.realpath(os.path.pardir))\n",
    "\n",
    "import numpy as np\n",
    "\n",
    "from bbtoolkit.structures.tensorgroups import TensorGroup, DirectedTensorGroup, NamedTensor, DirectedTensor"
   ]
  },
  {
   "cell_type": "markdown",
   "metadata": {},
   "source": [
    "### Create TensorGroup"
   ]
  },
  {
   "cell_type": "code",
   "execution_count": 2,
   "metadata": {},
   "outputs": [],
   "source": [
    "n_neurons = 10\n",
    "n_synapses = 1000\n",
    "n_timepoints = 10\n",
    "\n",
    "w1 = np.random.rand(n_neurons, n_timepoints, n_synapses)\n",
    "w2 = np.random.rand(n_synapses, n_timepoints)\n",
    "w3 = np.random.rand(n_neurons, n_timepoints)\n",
    "\n",
    "\n",
    "neural_data = TensorGroup(\n",
    "    NamedTensor(\n",
    "        'potentials',\n",
    "        w1.copy()\n",
    "    ),\n",
    "    NamedTensor(\n",
    "        'plasticity',\n",
    "        w2.copy()\n",
    "    ),\n",
    "    NamedTensor(\n",
    "        'rates',\n",
    "        w3.copy()\n",
    "    )\n",
    ")"
   ]
  },
  {
   "cell_type": "markdown",
   "metadata": {},
   "source": [
    "### How does it look like?"
   ]
  },
  {
   "cell_type": "code",
   "execution_count": 3,
   "metadata": {},
   "outputs": [
    {
     "data": {
      "text/plain": [
       "TensorGroup(potentials: ((10, 10, 1000)), plasticity: ((1000, 10)), rates: ((10, 10)))"
      ]
     },
     "execution_count": 3,
     "metadata": {},
     "output_type": "execute_result"
    }
   ],
   "source": [
    "neural_data"
   ]
  },
  {
   "cell_type": "markdown",
   "metadata": {},
   "source": [
    "### Let's take a look what is inside rates"
   ]
  },
  {
   "cell_type": "code",
   "execution_count": 4,
   "metadata": {},
   "outputs": [
    {
     "data": {
      "text/plain": [
       "array([[0.4375681 , 0.26586352, 0.14220791, 0.38205243, 0.59603709,\n",
       "        0.44504534, 0.00254881, 0.57584246, 0.70370608, 0.57245133],\n",
       "       [0.22932506, 0.13221058, 0.95517244, 0.21074444, 0.02237982,\n",
       "        0.76120744, 0.26532478, 0.62864019, 0.2424173 , 0.91929489],\n",
       "       [0.54530063, 0.61215541, 0.36203934, 0.32925348, 0.19392067,\n",
       "        0.57679211, 0.20497217, 0.22867237, 0.99387789, 0.49850833],\n",
       "       [0.85493129, 0.56159765, 0.07814701, 0.21008373, 0.87283796,\n",
       "        0.35564461, 0.95743348, 0.8005833 , 0.75096908, 0.48748988],\n",
       "       [0.48337011, 0.02113998, 0.9896186 , 0.27132514, 0.02286618,\n",
       "        0.88394514, 0.52313955, 0.44545802, 0.10654749, 0.31978303],\n",
       "       [0.81827047, 0.55898988, 0.02712178, 0.35360691, 0.83580882,\n",
       "        0.88875689, 0.79812387, 0.67486703, 0.37332261, 0.65359003],\n",
       "       [0.76121944, 0.24619093, 0.18404694, 0.52869595, 0.24147184,\n",
       "        0.717787  , 0.12166215, 0.16867429, 0.6688752 , 0.32437465],\n",
       "       [0.49547568, 0.13838178, 0.16307015, 0.89732866, 0.17796095,\n",
       "        0.03450255, 0.61364578, 0.48529254, 0.24275664, 0.57587819],\n",
       "       [0.17078015, 0.49837911, 0.03387123, 0.3750933 , 0.05437215,\n",
       "        0.73870236, 0.60571149, 0.83869513, 0.11390016, 0.86399664],\n",
       "       [0.5637386 , 0.8003237 , 0.79065167, 0.51330412, 0.63308865,\n",
       "        0.50799972, 0.07059611, 0.54644455, 0.33136143, 0.97517104]])"
      ]
     },
     "execution_count": 4,
     "metadata": {},
     "output_type": "execute_result"
    }
   ],
   "source": [
    "neural_data.rates"
   ]
  },
  {
   "cell_type": "markdown",
   "metadata": {},
   "source": [
    "### And how to access plasticity"
   ]
  },
  {
   "cell_type": "code",
   "execution_count": 5,
   "metadata": {},
   "outputs": [
    {
     "data": {
      "text/plain": [
       "(5.441784056814392e-06, 0.9999580583346502)"
      ]
     },
     "execution_count": 5,
     "metadata": {},
     "output_type": "execute_result"
    }
   ],
   "source": [
    "neural_data.plasticity.min(), neural_data.plasticity.max()"
   ]
  },
  {
   "cell_type": "markdown",
   "metadata": {},
   "source": [
    "### Let's say, we need it to be distributed around 0"
   ]
  },
  {
   "cell_type": "code",
   "execution_count": 6,
   "metadata": {},
   "outputs": [],
   "source": [
    "neural_data -= 0.5"
   ]
  },
  {
   "cell_type": "markdown",
   "metadata": {},
   "source": [
    "### What do we see now?"
   ]
  },
  {
   "cell_type": "code",
   "execution_count": 7,
   "metadata": {},
   "outputs": [
    {
     "data": {
      "text/plain": [
       "array([[-0.0624319 , -0.23413648, -0.35779209, -0.11794757,  0.09603709,\n",
       "        -0.05495466, -0.49745119,  0.07584246,  0.20370608,  0.07245133],\n",
       "       [-0.27067494, -0.36778942,  0.45517244, -0.28925556, -0.47762018,\n",
       "         0.26120744, -0.23467522,  0.12864019, -0.2575827 ,  0.41929489],\n",
       "       [ 0.04530063,  0.11215541, -0.13796066, -0.17074652, -0.30607933,\n",
       "         0.07679211, -0.29502783, -0.27132763,  0.49387789, -0.00149167],\n",
       "       [ 0.35493129,  0.06159765, -0.42185299, -0.28991627,  0.37283796,\n",
       "        -0.14435539,  0.45743348,  0.3005833 ,  0.25096908, -0.01251012],\n",
       "       [-0.01662989, -0.47886002,  0.4896186 , -0.22867486, -0.47713382,\n",
       "         0.38394514,  0.02313955, -0.05454198, -0.39345251, -0.18021697],\n",
       "       [ 0.31827047,  0.05898988, -0.47287822, -0.14639309,  0.33580882,\n",
       "         0.38875689,  0.29812387,  0.17486703, -0.12667739,  0.15359003],\n",
       "       [ 0.26121944, -0.25380907, -0.31595306,  0.02869595, -0.25852816,\n",
       "         0.217787  , -0.37833785, -0.33132571,  0.1688752 , -0.17562535],\n",
       "       [-0.00452432, -0.36161822, -0.33692985,  0.39732866, -0.32203905,\n",
       "        -0.46549745,  0.11364578, -0.01470746, -0.25724336,  0.07587819],\n",
       "       [-0.32921985, -0.00162089, -0.46612877, -0.1249067 , -0.44562785,\n",
       "         0.23870236,  0.10571149,  0.33869513, -0.38609984,  0.36399664],\n",
       "       [ 0.0637386 ,  0.3003237 ,  0.29065167,  0.01330412,  0.13308865,\n",
       "         0.00799972, -0.42940389,  0.04644455, -0.16863857,  0.47517104]])"
      ]
     },
     "execution_count": 7,
     "metadata": {},
     "output_type": "execute_result"
    }
   ],
   "source": [
    "neural_data.rates"
   ]
  },
  {
   "cell_type": "code",
   "execution_count": 8,
   "metadata": {},
   "outputs": [
    {
     "data": {
      "text/plain": [
       "(-0.4999945582159432, 0.49995805833465023)"
      ]
     },
     "execution_count": 8,
     "metadata": {},
     "output_type": "execute_result"
    }
   ],
   "source": [
    "neural_data.plasticity.min(), neural_data.plasticity.max()"
   ]
  },
  {
   "cell_type": "markdown",
   "metadata": {},
   "source": [
    "### But can we change variables within the group?"
   ]
  },
  {
   "cell_type": "code",
   "execution_count": 9,
   "metadata": {},
   "outputs": [],
   "source": [
    "some_crazy_rule = np.exp(1 - (neural_data.potentials@neural_data.plasticity).mean(-1))\n",
    "neural_data.rates /= some_crazy_rule"
   ]
  },
  {
   "cell_type": "markdown",
   "metadata": {},
   "source": [
    "### Works!"
   ]
  },
  {
   "cell_type": "code",
   "execution_count": 10,
   "metadata": {},
   "outputs": [
    {
     "data": {
      "text/plain": [
       "array([[-0.01723146, -0.11413112, -0.12494898, -0.08448989,  0.03014359,\n",
       "        -0.01455516, -0.22911851,  0.01247747,  0.03964687,  0.05084605],\n",
       "       [-0.23608711, -0.04634081,  0.04058095, -0.17119248, -0.34333101,\n",
       "         0.05640139, -0.04559339,  0.02962628, -0.0180382 ,  0.16825328],\n",
       "       [ 0.02296517,  0.02659846, -0.02795959, -0.01434298, -0.1002668 ,\n",
       "         0.00949969, -0.25022725, -0.01753683,  0.14051646, -0.00096907],\n",
       "       [ 0.40341979,  0.01489934, -0.55894851, -0.14853048,  0.16786591,\n",
       "        -0.23334495,  0.09347986,  0.29473016,  0.05742345, -0.01624364],\n",
       "       [-0.00468364, -0.17174078,  0.20591357, -0.0331035 , -0.27351499,\n",
       "         0.02663909,  0.00927578, -0.00495752, -0.15613794, -0.09725065],\n",
       "       [ 0.12327673,  0.00670079, -0.25664991, -0.10155475,  0.05343189,\n",
       "         0.06739292,  0.08414997,  0.01403295, -0.03674664,  0.03717096],\n",
       "       [ 0.16386089, -0.16983087, -0.21871366,  0.01293949, -0.06490282,\n",
       "         0.09350111, -0.09133371, -0.10825115,  0.2798733 , -0.1084512 ],\n",
       "       [-0.00610964, -0.27122956, -0.08965883,  0.32122444, -0.32257777,\n",
       "        -0.11441013,  0.02864929, -0.007396  , -0.03061793,  0.05357685],\n",
       "       [-0.16605909, -0.00071245, -0.14971463, -0.0320708 , -0.08108222,\n",
       "         0.18488599,  0.05272961,  0.02490953, -0.08084916,  0.06664829],\n",
       "       [ 0.07975391,  0.42067699,  0.06646537,  0.0027266 ,  0.02933315,\n",
       "         0.00506161, -0.12107939,  0.01342869, -0.04731429,  0.18094325]])"
      ]
     },
     "execution_count": 10,
     "metadata": {},
     "output_type": "execute_result"
    }
   ],
   "source": [
    "neural_data.rates"
   ]
  },
  {
   "cell_type": "markdown",
   "metadata": {},
   "source": [
    "### What if I need some operation to be done on the group? For example x*sin(x)"
   ]
  },
  {
   "cell_type": "code",
   "execution_count": 11,
   "metadata": {},
   "outputs": [
    {
     "data": {
      "text/plain": [
       "TensorGroup(potentials: ((10, 10, 1000)), plasticity: ((1000, 10)), rates: ((10, 10)))"
      ]
     },
     "execution_count": 11,
     "metadata": {},
     "output_type": "execute_result"
    }
   ],
   "source": [
    "neural_data.map(lambda x: x*np.sin(x), inplace=True)"
   ]
  },
  {
   "cell_type": "code",
   "execution_count": 12,
   "metadata": {},
   "outputs": [
    {
     "data": {
      "text/plain": [
       "array([[2.96908402e-04, 1.29976520e-02, 1.55716547e-02, 7.13005187e-03,\n",
       "        9.08498424e-04, 2.11845291e-04, 5.20372020e-02, 1.55683225e-04,\n",
       "        1.57146285e-03, 2.58420651e-03],\n",
       "       [5.52207957e-02, 2.14670258e-03, 1.64636130e-03, 2.91639256e-02,\n",
       "        1.15573993e-01, 3.17943037e-03, 2.07803750e-03, 8.77588023e-04,\n",
       "        3.25359172e-04, 2.81757873e-02],\n",
       "       [5.27352713e-04, 7.07394527e-04, 7.81636751e-04, 2.05714157e-04,\n",
       "        1.00365941e-02, 9.02427152e-05, 6.19623061e-02, 3.07524785e-04,\n",
       "        1.96799618e-02, 9.39095217e-07],\n",
       "       [1.58368852e-01, 2.21982189e-04, 2.96407609e-01, 2.19802750e-02,\n",
       "        2.80468075e-02, 5.39570768e-02, 8.72576294e-03, 8.56137039e-02,\n",
       "        3.29564125e-03, 2.63844242e-04],\n",
       "       [2.19364150e-05, 2.93501166e-02, 4.21014013e-02, 1.09564183e-03,\n",
       "        7.38811677e-02, 7.09557109e-04, 8.60387878e-05, 2.45768788e-05,\n",
       "        2.42801212e-02, 9.44278758e-03],\n",
       "       [1.51586882e-02, 4.49002134e-05, 6.51484295e-02, 1.02956494e-02,\n",
       "        2.85360875e-03, 4.53836831e-03, 7.07286386e-03, 1.96917253e-04,\n",
       "        1.35001143e-03, 1.38136192e-03],\n",
       "       [2.67303955e-02, 2.87040742e-02, 4.74551993e-02, 1.67425719e-04,\n",
       "        4.20941875e-03, 8.72972558e-03, 8.33025318e-03, 1.16954389e-02,\n",
       "        7.73104857e-02, 1.17386200e-02],\n",
       "       [3.73274457e-05, 7.26668073e-02, 8.02793939e-03, 1.01419746e-01,\n",
       "        1.02261160e-01, 1.30611401e-02, 8.20669616e-04, 5.47003747e-05,\n",
       "        9.37311319e-04, 2.86910563e-03],\n",
       "       [2.74490609e-02, 5.07579148e-07, 2.23308309e-02, 1.02836008e-03,\n",
       "        6.56712558e-03, 3.39884159e-02, 2.77912397e-03, 6.20420594e-04,\n",
       "        6.52946718e-03, 4.43870678e-03],\n",
       "       [6.35394469e-03, 1.71795445e-01, 4.41439288e-03, 7.43432260e-06,\n",
       "        8.60310175e-04, 2.56198284e-05, 1.46244240e-02, 1.80324306e-04,\n",
       "        2.23780708e-03, 3.25620953e-02]])"
      ]
     },
     "execution_count": 12,
     "metadata": {},
     "output_type": "execute_result"
    }
   ],
   "source": [
    "neural_data.rates"
   ]
  },
  {
   "cell_type": "markdown",
   "metadata": {},
   "source": [
    "### Can we do opeations between two groups?"
   ]
  },
  {
   "cell_type": "code",
   "execution_count": 13,
   "metadata": {},
   "outputs": [],
   "source": [
    "neural_data_1 = TensorGroup(\n",
    "    NamedTensor(\n",
    "        'potentials',\n",
    "        np.array([1, 1, 1, 1])\n",
    "    ),\n",
    "    NamedTensor(\n",
    "        'plasticity',\n",
    "        np.array([2, 2, 2, 2, 2])\n",
    "    ),\n",
    "    NamedTensor(\n",
    "        'rates',\n",
    "        np.array([1, 2, 3, 4])\n",
    "    )\n",
    ")\n",
    "\n",
    "neural_data_2 = TensorGroup(\n",
    "    NamedTensor(\n",
    "        'potentials',\n",
    "        np.array([.5, .5, .5, .5])\n",
    "    ),\n",
    "    NamedTensor(\n",
    "        'plasticity',\n",
    "        np.array([4, 4, 4, 4, 4])\n",
    "    ),\n",
    "    NamedTensor(\n",
    "        'rates',\n",
    "        np.array([4, 3, 2, 1])\n",
    "    )\n",
    ")\n",
    "\n",
    "neural_data = neural_data_1 * neural_data_2"
   ]
  },
  {
   "cell_type": "code",
   "execution_count": 14,
   "metadata": {},
   "outputs": [
    {
     "data": {
      "text/plain": [
       "array([0.5, 0.5, 0.5, 0.5])"
      ]
     },
     "execution_count": 14,
     "metadata": {},
     "output_type": "execute_result"
    }
   ],
   "source": [
    "neural_data.potentials"
   ]
  },
  {
   "cell_type": "code",
   "execution_count": 15,
   "metadata": {},
   "outputs": [
    {
     "data": {
      "text/plain": [
       "array([8, 8, 8, 8, 8])"
      ]
     },
     "execution_count": 15,
     "metadata": {},
     "output_type": "execute_result"
    }
   ],
   "source": [
    "neural_data.plasticity"
   ]
  },
  {
   "cell_type": "code",
   "execution_count": 16,
   "metadata": {},
   "outputs": [
    {
     "data": {
      "text/plain": [
       "array([4, 6, 6, 4])"
      ]
     },
     "execution_count": 16,
     "metadata": {},
     "output_type": "execute_result"
    }
   ],
   "source": [
    "neural_data.rates"
   ]
  },
  {
   "cell_type": "markdown",
   "metadata": {},
   "source": [
    "### What if mathematical operations is not enough and I need 1st multiplied by sin of 2nd?"
   ]
  },
  {
   "cell_type": "code",
   "execution_count": 17,
   "metadata": {},
   "outputs": [],
   "source": [
    "neural_data = neural_data_1.operation_with(neural_data_2, lambda x, y: x * np.sin(y))"
   ]
  },
  {
   "cell_type": "code",
   "execution_count": 18,
   "metadata": {},
   "outputs": [
    {
     "data": {
      "text/plain": [
       "array([0.47942554, 0.47942554, 0.47942554, 0.47942554])"
      ]
     },
     "execution_count": 18,
     "metadata": {},
     "output_type": "execute_result"
    }
   ],
   "source": [
    "neural_data.potentials"
   ]
  },
  {
   "cell_type": "code",
   "execution_count": 19,
   "metadata": {},
   "outputs": [
    {
     "data": {
      "text/plain": [
       "array([-1.51360499, -1.51360499, -1.51360499, -1.51360499, -1.51360499])"
      ]
     },
     "execution_count": 19,
     "metadata": {},
     "output_type": "execute_result"
    }
   ],
   "source": [
    "neural_data.plasticity"
   ]
  },
  {
   "cell_type": "code",
   "execution_count": 20,
   "metadata": {},
   "outputs": [
    {
     "data": {
      "text/plain": [
       "array([-0.7568025 ,  0.28224002,  2.72789228,  3.36588394])"
      ]
     },
     "execution_count": 20,
     "metadata": {},
     "output_type": "execute_result"
    }
   ],
   "source": [
    "neural_data.rates"
   ]
  },
  {
   "cell_type": "markdown",
   "metadata": {},
   "source": [
    "### How to combine 2 groups together?"
   ]
  },
  {
   "cell_type": "code",
   "execution_count": 21,
   "metadata": {},
   "outputs": [],
   "source": [
    "neural_data_1 = TensorGroup(\n",
    "    NamedTensor(\n",
    "        'potentials',\n",
    "        np.array([1, 1, 1, 1])\n",
    "    ),\n",
    "    NamedTensor(\n",
    "        'plasticity',\n",
    "        np.array([2, 2, 2, 2, 2])\n",
    "    ),\n",
    "    NamedTensor(\n",
    "        'rates',\n",
    "        np.array([1, 2, 3, 4])\n",
    "    )\n",
    ")\n",
    "\n",
    "neural_data_2 = TensorGroup(\n",
    "    NamedTensor(\n",
    "        'spikes',\n",
    "        np.array([1, 0, 0, 1])\n",
    "    ),\n",
    "    NamedTensor(\n",
    "        'excitation',\n",
    "        np.array([.1, .2, .3, .4, .5])\n",
    "    ),\n",
    "    NamedTensor(\n",
    "        'inhibition',\n",
    "        -np.array([.1, .2, .3, .4, .5])\n",
    "    )\n",
    ")\n",
    "\n",
    "neural_data = neural_data_1 + neural_data_2"
   ]
  },
  {
   "cell_type": "code",
   "execution_count": 22,
   "metadata": {},
   "outputs": [
    {
     "data": {
      "text/plain": [
       "TensorGroup(potentials: ((4,)), plasticity: ((5,)), rates: ((4,)), spikes: ((4,)), excitation: ((5,)), inhibition: ((5,)))"
      ]
     },
     "execution_count": 22,
     "metadata": {},
     "output_type": "execute_result"
    }
   ],
   "source": [
    "neural_data"
   ]
  },
  {
   "cell_type": "markdown",
   "metadata": {},
   "source": [
    "### What if I still like dictionaries more?"
   ]
  },
  {
   "cell_type": "code",
   "execution_count": 44,
   "metadata": {},
   "outputs": [],
   "source": [
    "n_neurons = 10\n",
    "n_synapses = 1000\n",
    "n_timepoints = 100\n",
    "\n",
    "neural_data = TensorGroup(\n",
    "    potentials=w1.copy(),\n",
    "    plasticity=w2.copy(),\n",
    "    rates=w3.copy()\n",
    ")\n",
    "\n",
    "# or\n",
    "# neural_data = TensorGroup(\n",
    "#     {\n",
    "#         'potentials': np.random.rand(n_neurons, n_timepoints, n_synapses),\n",
    "#         'plasticity': np.random.rand(n_synapses, n_timepoints),\n",
    "#         'rate': np.random.rand(n_neurons, n_timepoints)\n",
    "#     }\n",
    "# )"
   ]
  },
  {
   "cell_type": "code",
   "execution_count": 45,
   "metadata": {},
   "outputs": [
    {
     "data": {
      "text/plain": [
       "array([[0.4375681 , 0.26586352, 0.14220791, 0.38205243, 0.59603709,\n",
       "        0.44504534, 0.00254881, 0.57584246, 0.70370608, 0.57245133],\n",
       "       [0.22932506, 0.13221058, 0.95517244, 0.21074444, 0.02237982,\n",
       "        0.76120744, 0.26532478, 0.62864019, 0.2424173 , 0.91929489],\n",
       "       [0.54530063, 0.61215541, 0.36203934, 0.32925348, 0.19392067,\n",
       "        0.57679211, 0.20497217, 0.22867237, 0.99387789, 0.49850833],\n",
       "       [0.85493129, 0.56159765, 0.07814701, 0.21008373, 0.87283796,\n",
       "        0.35564461, 0.95743348, 0.8005833 , 0.75096908, 0.48748988],\n",
       "       [0.48337011, 0.02113998, 0.9896186 , 0.27132514, 0.02286618,\n",
       "        0.88394514, 0.52313955, 0.44545802, 0.10654749, 0.31978303],\n",
       "       [0.81827047, 0.55898988, 0.02712178, 0.35360691, 0.83580882,\n",
       "        0.88875689, 0.79812387, 0.67486703, 0.37332261, 0.65359003],\n",
       "       [0.76121944, 0.24619093, 0.18404694, 0.52869595, 0.24147184,\n",
       "        0.717787  , 0.12166215, 0.16867429, 0.6688752 , 0.32437465],\n",
       "       [0.49547568, 0.13838178, 0.16307015, 0.89732866, 0.17796095,\n",
       "        0.03450255, 0.61364578, 0.48529254, 0.24275664, 0.57587819],\n",
       "       [0.17078015, 0.49837911, 0.03387123, 0.3750933 , 0.05437215,\n",
       "        0.73870236, 0.60571149, 0.83869513, 0.11390016, 0.86399664],\n",
       "       [0.5637386 , 0.8003237 , 0.79065167, 0.51330412, 0.63308865,\n",
       "        0.50799972, 0.07059611, 0.54644455, 0.33136143, 0.97517104]])"
      ]
     },
     "execution_count": 45,
     "metadata": {},
     "output_type": "execute_result"
    }
   ],
   "source": [
    "neural_data['rates']"
   ]
  },
  {
   "cell_type": "code",
   "execution_count": 46,
   "metadata": {},
   "outputs": [
    {
     "data": {
      "text/plain": [
       "(5.441784056814392e-06, 0.9999580583346502)"
      ]
     },
     "execution_count": 46,
     "metadata": {},
     "output_type": "execute_result"
    }
   ],
   "source": [
    "neural_data['plasticity'].min(), neural_data['plasticity'].max()"
   ]
  },
  {
   "cell_type": "code",
   "execution_count": 47,
   "metadata": {},
   "outputs": [],
   "source": [
    "for key in neural_data.keys():\n",
    "    neural_data[key] -= .5"
   ]
  },
  {
   "cell_type": "code",
   "execution_count": 48,
   "metadata": {},
   "outputs": [
    {
     "data": {
      "text/plain": [
       "array([[-0.0624319 , -0.23413648, -0.35779209, -0.11794757,  0.09603709,\n",
       "        -0.05495466, -0.49745119,  0.07584246,  0.20370608,  0.07245133],\n",
       "       [-0.27067494, -0.36778942,  0.45517244, -0.28925556, -0.47762018,\n",
       "         0.26120744, -0.23467522,  0.12864019, -0.2575827 ,  0.41929489],\n",
       "       [ 0.04530063,  0.11215541, -0.13796066, -0.17074652, -0.30607933,\n",
       "         0.07679211, -0.29502783, -0.27132763,  0.49387789, -0.00149167],\n",
       "       [ 0.35493129,  0.06159765, -0.42185299, -0.28991627,  0.37283796,\n",
       "        -0.14435539,  0.45743348,  0.3005833 ,  0.25096908, -0.01251012],\n",
       "       [-0.01662989, -0.47886002,  0.4896186 , -0.22867486, -0.47713382,\n",
       "         0.38394514,  0.02313955, -0.05454198, -0.39345251, -0.18021697],\n",
       "       [ 0.31827047,  0.05898988, -0.47287822, -0.14639309,  0.33580882,\n",
       "         0.38875689,  0.29812387,  0.17486703, -0.12667739,  0.15359003],\n",
       "       [ 0.26121944, -0.25380907, -0.31595306,  0.02869595, -0.25852816,\n",
       "         0.217787  , -0.37833785, -0.33132571,  0.1688752 , -0.17562535],\n",
       "       [-0.00452432, -0.36161822, -0.33692985,  0.39732866, -0.32203905,\n",
       "        -0.46549745,  0.11364578, -0.01470746, -0.25724336,  0.07587819],\n",
       "       [-0.32921985, -0.00162089, -0.46612877, -0.1249067 , -0.44562785,\n",
       "         0.23870236,  0.10571149,  0.33869513, -0.38609984,  0.36399664],\n",
       "       [ 0.0637386 ,  0.3003237 ,  0.29065167,  0.01330412,  0.13308865,\n",
       "         0.00799972, -0.42940389,  0.04644455, -0.16863857,  0.47517104]])"
      ]
     },
     "execution_count": 48,
     "metadata": {},
     "output_type": "execute_result"
    }
   ],
   "source": [
    "neural_data['rates']"
   ]
  },
  {
   "cell_type": "code",
   "execution_count": 49,
   "metadata": {},
   "outputs": [
    {
     "data": {
      "text/plain": [
       "(-0.4999945582159432, 0.49995805833465023)"
      ]
     },
     "execution_count": 49,
     "metadata": {},
     "output_type": "execute_result"
    }
   ],
   "source": [
    "neural_data['plasticity'].min(), neural_data['plasticity'].max()"
   ]
  },
  {
   "cell_type": "code",
   "execution_count": 50,
   "metadata": {},
   "outputs": [],
   "source": [
    "some_crazy_rule = np.exp(1 - (neural_data['potentials']@neural_data['plasticity']).mean(-1))\n",
    "neural_data['rates'] /= some_crazy_rule"
   ]
  },
  {
   "cell_type": "code",
   "execution_count": 51,
   "metadata": {},
   "outputs": [
    {
     "data": {
      "text/plain": [
       "array([[-0.01723146, -0.11413112, -0.12494898, -0.08448989,  0.03014359,\n",
       "        -0.01455516, -0.22911851,  0.01247747,  0.03964687,  0.05084605],\n",
       "       [-0.23608711, -0.04634081,  0.04058095, -0.17119248, -0.34333101,\n",
       "         0.05640139, -0.04559339,  0.02962628, -0.0180382 ,  0.16825328],\n",
       "       [ 0.02296517,  0.02659846, -0.02795959, -0.01434298, -0.1002668 ,\n",
       "         0.00949969, -0.25022725, -0.01753683,  0.14051646, -0.00096907],\n",
       "       [ 0.40341979,  0.01489934, -0.55894851, -0.14853048,  0.16786591,\n",
       "        -0.23334495,  0.09347986,  0.29473016,  0.05742345, -0.01624364],\n",
       "       [-0.00468364, -0.17174078,  0.20591357, -0.0331035 , -0.27351499,\n",
       "         0.02663909,  0.00927578, -0.00495752, -0.15613794, -0.09725065],\n",
       "       [ 0.12327673,  0.00670079, -0.25664991, -0.10155475,  0.05343189,\n",
       "         0.06739292,  0.08414997,  0.01403295, -0.03674664,  0.03717096],\n",
       "       [ 0.16386089, -0.16983087, -0.21871366,  0.01293949, -0.06490282,\n",
       "         0.09350111, -0.09133371, -0.10825115,  0.2798733 , -0.1084512 ],\n",
       "       [-0.00610964, -0.27122956, -0.08965883,  0.32122444, -0.32257777,\n",
       "        -0.11441013,  0.02864929, -0.007396  , -0.03061793,  0.05357685],\n",
       "       [-0.16605909, -0.00071245, -0.14971463, -0.0320708 , -0.08108222,\n",
       "         0.18488599,  0.05272961,  0.02490953, -0.08084916,  0.06664829],\n",
       "       [ 0.07975391,  0.42067699,  0.06646537,  0.0027266 ,  0.02933315,\n",
       "         0.00506161, -0.12107939,  0.01342869, -0.04731429,  0.18094325]])"
      ]
     },
     "execution_count": 51,
     "metadata": {},
     "output_type": "execute_result"
    }
   ],
   "source": [
    "neural_data['rates']"
   ]
  },
  {
   "cell_type": "code",
   "execution_count": 52,
   "metadata": {},
   "outputs": [],
   "source": [
    "for key, value in neural_data.items():\n",
    "    neural_data[key] = value * np.sin(value)"
   ]
  },
  {
   "cell_type": "code",
   "execution_count": 53,
   "metadata": {},
   "outputs": [
    {
     "data": {
      "text/plain": [
       "array([[2.96908402e-04, 1.29976520e-02, 1.55716547e-02, 7.13005187e-03,\n",
       "        9.08498424e-04, 2.11845291e-04, 5.20372020e-02, 1.55683225e-04,\n",
       "        1.57146285e-03, 2.58420651e-03],\n",
       "       [5.52207957e-02, 2.14670258e-03, 1.64636130e-03, 2.91639256e-02,\n",
       "        1.15573993e-01, 3.17943037e-03, 2.07803750e-03, 8.77588023e-04,\n",
       "        3.25359172e-04, 2.81757873e-02],\n",
       "       [5.27352713e-04, 7.07394527e-04, 7.81636751e-04, 2.05714157e-04,\n",
       "        1.00365941e-02, 9.02427152e-05, 6.19623061e-02, 3.07524785e-04,\n",
       "        1.96799618e-02, 9.39095217e-07],\n",
       "       [1.58368852e-01, 2.21982189e-04, 2.96407609e-01, 2.19802750e-02,\n",
       "        2.80468075e-02, 5.39570768e-02, 8.72576294e-03, 8.56137039e-02,\n",
       "        3.29564125e-03, 2.63844242e-04],\n",
       "       [2.19364150e-05, 2.93501166e-02, 4.21014013e-02, 1.09564183e-03,\n",
       "        7.38811677e-02, 7.09557109e-04, 8.60387878e-05, 2.45768788e-05,\n",
       "        2.42801212e-02, 9.44278758e-03],\n",
       "       [1.51586882e-02, 4.49002134e-05, 6.51484295e-02, 1.02956494e-02,\n",
       "        2.85360875e-03, 4.53836831e-03, 7.07286386e-03, 1.96917253e-04,\n",
       "        1.35001143e-03, 1.38136192e-03],\n",
       "       [2.67303955e-02, 2.87040742e-02, 4.74551993e-02, 1.67425719e-04,\n",
       "        4.20941875e-03, 8.72972558e-03, 8.33025318e-03, 1.16954389e-02,\n",
       "        7.73104857e-02, 1.17386200e-02],\n",
       "       [3.73274457e-05, 7.26668073e-02, 8.02793939e-03, 1.01419746e-01,\n",
       "        1.02261160e-01, 1.30611401e-02, 8.20669616e-04, 5.47003747e-05,\n",
       "        9.37311319e-04, 2.86910563e-03],\n",
       "       [2.74490609e-02, 5.07579148e-07, 2.23308309e-02, 1.02836008e-03,\n",
       "        6.56712558e-03, 3.39884159e-02, 2.77912397e-03, 6.20420594e-04,\n",
       "        6.52946718e-03, 4.43870678e-03],\n",
       "       [6.35394469e-03, 1.71795445e-01, 4.41439288e-03, 7.43432260e-06,\n",
       "        8.60310175e-04, 2.56198284e-05, 1.46244240e-02, 1.80324306e-04,\n",
       "        2.23780708e-03, 3.25620953e-02]])"
      ]
     },
     "execution_count": 53,
     "metadata": {},
     "output_type": "execute_result"
    }
   ],
   "source": [
    "neural_data['rates']"
   ]
  },
  {
   "cell_type": "code",
   "execution_count": 54,
   "metadata": {},
   "outputs": [],
   "source": [
    "neural_data_1 = TensorGroup({\n",
    "    'potentials': np.array([1, 1, 1, 1]),\n",
    "    'plasticity': np.array([2, 2, 2, 2, 2]),\n",
    "    'rates': np.array([1, 2, 3, 4])\n",
    "})\n",
    "\n",
    "neural_data_2 = TensorGroup({\n",
    "    'potentials': np.array([.5, .5, .5, .5]),\n",
    "    'plasticity': np.array([4, 4, 4, 4, 4]),\n",
    "    'rates': np.array([4, 3, 2, 1])\n",
    "})\n",
    "\n",
    "neural_data = TensorGroup()\n",
    "for key in neural_data_1.keys():\n",
    "    neural_data[key] = neural_data_1[key] * neural_data_2[key]"
   ]
  },
  {
   "cell_type": "code",
   "execution_count": 34,
   "metadata": {},
   "outputs": [
    {
     "data": {
      "text/plain": [
       "array([0.5, 0.5, 0.5, 0.5])"
      ]
     },
     "execution_count": 34,
     "metadata": {},
     "output_type": "execute_result"
    }
   ],
   "source": [
    "neural_data['potentials']"
   ]
  },
  {
   "cell_type": "code",
   "execution_count": 35,
   "metadata": {},
   "outputs": [
    {
     "data": {
      "text/plain": [
       "array([8, 8, 8, 8, 8])"
      ]
     },
     "execution_count": 35,
     "metadata": {},
     "output_type": "execute_result"
    }
   ],
   "source": [
    "neural_data['plasticity']"
   ]
  },
  {
   "cell_type": "code",
   "execution_count": 36,
   "metadata": {},
   "outputs": [
    {
     "data": {
      "text/plain": [
       "array([4, 6, 6, 4])"
      ]
     },
     "execution_count": 36,
     "metadata": {},
     "output_type": "execute_result"
    }
   ],
   "source": [
    "neural_data['rates']"
   ]
  },
  {
   "cell_type": "code",
   "execution_count": 37,
   "metadata": {},
   "outputs": [],
   "source": [
    "neural_data = TensorGroup()\n",
    "for key in neural_data_1.keys():\n",
    "    neural_data[key] = neural_data_1[key] * np.sin(neural_data_2[key])"
   ]
  },
  {
   "cell_type": "code",
   "execution_count": 38,
   "metadata": {},
   "outputs": [
    {
     "data": {
      "text/plain": [
       "array([0.47942554, 0.47942554, 0.47942554, 0.47942554])"
      ]
     },
     "execution_count": 38,
     "metadata": {},
     "output_type": "execute_result"
    }
   ],
   "source": [
    "neural_data['potentials']"
   ]
  },
  {
   "cell_type": "code",
   "execution_count": 39,
   "metadata": {},
   "outputs": [
    {
     "data": {
      "text/plain": [
       "array([-1.51360499, -1.51360499, -1.51360499, -1.51360499, -1.51360499])"
      ]
     },
     "execution_count": 39,
     "metadata": {},
     "output_type": "execute_result"
    }
   ],
   "source": [
    "neural_data['plasticity']"
   ]
  },
  {
   "cell_type": "code",
   "execution_count": 40,
   "metadata": {},
   "outputs": [
    {
     "data": {
      "text/plain": [
       "array([-0.7568025 ,  0.28224002,  2.72789228,  3.36588394])"
      ]
     },
     "execution_count": 40,
     "metadata": {},
     "output_type": "execute_result"
    }
   ],
   "source": [
    "neural_data['rates']"
   ]
  },
  {
   "cell_type": "code",
   "execution_count": 55,
   "metadata": {},
   "outputs": [],
   "source": [
    "neural_data_1 = TensorGroup(\n",
    "    {\n",
    "        'potentials': np.array([1, 1, 1, 1]),\n",
    "        'plasticity': np.array([2, 2, 2, 2, 2]),\n",
    "        'rates': np.array([1, 2, 3, 4])\n",
    "    }\n",
    ")\n",
    "\n",
    "\n",
    "\n",
    "neural_data = neural_data_1.copy()\n",
    "neural_data.update(\n",
    "    {\n",
    "        'spikes': np.array([1, 0, 0, 1]),\n",
    "        'excitation': np.array([.1, .2, .3, .4, .5]),\n",
    "        'inhibition': -np.array([.1, .2, .3, .4, .5])\n",
    "    }\n",
    ")"
   ]
  },
  {
   "cell_type": "code",
   "execution_count": 56,
   "metadata": {},
   "outputs": [
    {
     "data": {
      "text/plain": [
       "TensorGroup(potentials: ((4,)), plasticity: ((5,)), rates: ((4,)), spikes: ((4,)), excitation: ((5,)), inhibition: ((5,)))"
      ]
     },
     "execution_count": 56,
     "metadata": {},
     "output_type": "execute_result"
    }
   ],
   "source": [
    "neural_data"
   ]
  },
  {
   "cell_type": "markdown",
   "metadata": {},
   "source": [
    "### Everything works! Let's save that"
   ]
  },
  {
   "cell_type": "code",
   "execution_count": 41,
   "metadata": {},
   "outputs": [],
   "source": [
    "neural_data.save('./neural_data.pkl')"
   ]
  },
  {
   "cell_type": "markdown",
   "metadata": {},
   "source": [
    "### And read"
   ]
  },
  {
   "cell_type": "code",
   "execution_count": 42,
   "metadata": {},
   "outputs": [],
   "source": [
    "loaded_neural_data = TensorGroup.load('./neural_data.pkl')"
   ]
  },
  {
   "cell_type": "code",
   "execution_count": 43,
   "metadata": {},
   "outputs": [
    {
     "data": {
      "text/plain": [
       "True"
      ]
     },
     "execution_count": 43,
     "metadata": {},
     "output_type": "execute_result"
    }
   ],
   "source": [
    "np.all(loaded_neural_data.rates == neural_data.rates)"
   ]
  }
 ],
 "metadata": {
  "kernelspec": {
   "display_name": "venv",
   "language": "python",
   "name": "python3"
  },
  "language_info": {
   "codemirror_mode": {
    "name": "ipython",
    "version": 3
   },
   "file_extension": ".py",
   "mimetype": "text/x-python",
   "name": "python",
   "nbconvert_exporter": "python",
   "pygments_lexer": "ipython3",
   "version": "3.12.3"
  }
 },
 "nbformat": 4,
 "nbformat_minor": 2
}
