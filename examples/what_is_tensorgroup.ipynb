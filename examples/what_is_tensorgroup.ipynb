{
 "cells": [
  {
   "cell_type": "markdown",
   "metadata": {},
   "source": [
    "# Disclamer: Example here is NOT a neural model\n",
    "\n",
    "This is a simple example showing how to use TensorGroup and DirectedTensorGroup classes.\n"
   ]
  },
  {
   "cell_type": "code",
   "execution_count": 1,
   "metadata": {},
   "outputs": [],
   "source": [
    "import os\n",
    "import sys\n",
    "sys.path.insert(1, os.path.realpath(os.path.pardir))\n",
    "\n",
    "import numpy as np\n",
    "\n",
    "from bbtoolkit.structures.tensorgroups import TensorGroup, DirectedTensorGroup, NamedTensor, DirectedTensor"
   ]
  },
  {
   "cell_type": "markdown",
   "metadata": {},
   "source": [
    "### Create TensorGroup"
   ]
  },
  {
   "cell_type": "code",
   "execution_count": 2,
   "metadata": {},
   "outputs": [],
   "source": [
    "n_neurons = 10\n",
    "n_synapses = 1000\n",
    "n_timepoints = 10\n",
    "\n",
    "w1 = np.random.rand(n_neurons, n_timepoints, n_synapses)\n",
    "w2 = np.random.rand(n_synapses, n_timepoints)\n",
    "w3 = np.random.rand(n_neurons, n_timepoints)\n",
    "\n",
    "\n",
    "neural_data = TensorGroup(\n",
    "    NamedTensor(\n",
    "        'potentials',\n",
    "        w1.copy()\n",
    "    ),\n",
    "    NamedTensor(\n",
    "        'plasticity',\n",
    "        w2.copy()\n",
    "    ),\n",
    "    NamedTensor(\n",
    "        'rates',\n",
    "        w3.copy()\n",
    "    )\n",
    ")"
   ]
  },
  {
   "cell_type": "markdown",
   "metadata": {},
   "source": [
    "### How does it look like?"
   ]
  },
  {
   "cell_type": "code",
   "execution_count": 3,
   "metadata": {},
   "outputs": [
    {
     "data": {
      "text/plain": [
       "TensorGroup(potentials: ((10, 10, 1000)), plasticity: ((1000, 10)), rates: ((10, 10)))"
      ]
     },
     "execution_count": 3,
     "metadata": {},
     "output_type": "execute_result"
    }
   ],
   "source": [
    "neural_data"
   ]
  },
  {
   "cell_type": "markdown",
   "metadata": {},
   "source": [
    "### Let's take a look what is inside rates"
   ]
  },
  {
   "cell_type": "code",
   "execution_count": 4,
   "metadata": {},
   "outputs": [
    {
     "data": {
      "text/plain": [
       "array([[0.52204761, 0.59265797, 0.25856925, 0.10785986, 0.81598852,\n",
       "        0.93264882, 0.08565943, 0.41425655, 0.24621629, 0.42701444],\n",
       "       [0.4468596 , 0.28251438, 0.32397303, 0.04865305, 0.56509122,\n",
       "        0.11219784, 0.309262  , 0.25489199, 0.93840309, 0.79914837],\n",
       "       [0.18119309, 0.22761645, 0.23941499, 0.29013364, 0.89963499,\n",
       "        0.41632122, 0.78243297, 0.46283606, 0.44035838, 0.69753209],\n",
       "       [0.63393529, 0.78405118, 0.3036635 , 0.08720888, 0.38903702,\n",
       "        0.07006973, 0.55248663, 0.98170927, 0.22474091, 0.14495742],\n",
       "       [0.03233896, 0.64247456, 0.17254489, 0.66644069, 0.04048339,\n",
       "        0.65472692, 0.5432218 , 0.1863485 , 0.52492256, 0.06557487],\n",
       "       [0.40485961, 0.15840864, 0.53858381, 0.32352748, 0.57657207,\n",
       "        0.99257511, 0.11150721, 0.4729103 , 0.92390306, 0.98080936],\n",
       "       [0.42862044, 0.05205699, 0.62063884, 0.88613878, 0.88430045,\n",
       "        0.77347983, 0.25389497, 0.65390141, 0.94898988, 0.68696434],\n",
       "       [0.1076473 , 0.03857778, 0.99328313, 0.91481608, 0.2286976 ,\n",
       "        0.88630669, 0.12858995, 0.23081209, 0.93872225, 0.57288555],\n",
       "       [0.00702726, 0.00852414, 0.27959927, 0.10042162, 0.35573968,\n",
       "        0.10232742, 0.60394712, 0.92672532, 0.05049181, 0.4872825 ],\n",
       "       [0.29573673, 0.95247191, 0.69809935, 0.51964514, 0.09061096,\n",
       "        0.45239349, 0.05722094, 0.3471003 , 0.1776998 , 0.69693003]])"
      ]
     },
     "execution_count": 4,
     "metadata": {},
     "output_type": "execute_result"
    }
   ],
   "source": [
    "neural_data.rates"
   ]
  },
  {
   "cell_type": "markdown",
   "metadata": {},
   "source": [
    "### And how to access plasticity"
   ]
  },
  {
   "cell_type": "code",
   "execution_count": 5,
   "metadata": {},
   "outputs": [
    {
     "data": {
      "text/plain": [
       "(0.00026848656952860317, 0.9999198841213022)"
      ]
     },
     "execution_count": 5,
     "metadata": {},
     "output_type": "execute_result"
    }
   ],
   "source": [
    "neural_data.plasticity.min(), neural_data.plasticity.max()"
   ]
  },
  {
   "cell_type": "markdown",
   "metadata": {},
   "source": [
    "### Let's say, we need it to be distributed around 0"
   ]
  },
  {
   "cell_type": "code",
   "execution_count": 6,
   "metadata": {},
   "outputs": [],
   "source": [
    "neural_data -= 0.5"
   ]
  },
  {
   "cell_type": "markdown",
   "metadata": {},
   "source": [
    "### What do we see now?"
   ]
  },
  {
   "cell_type": "code",
   "execution_count": 7,
   "metadata": {},
   "outputs": [
    {
     "data": {
      "text/plain": [
       "array([[ 0.02204761,  0.09265797, -0.24143075, -0.39214014,  0.31598852,\n",
       "         0.43264882, -0.41434057, -0.08574345, -0.25378371, -0.07298556],\n",
       "       [-0.0531404 , -0.21748562, -0.17602697, -0.45134695,  0.06509122,\n",
       "        -0.38780216, -0.190738  , -0.24510801,  0.43840309,  0.29914837],\n",
       "       [-0.31880691, -0.27238355, -0.26058501, -0.20986636,  0.39963499,\n",
       "        -0.08367878,  0.28243297, -0.03716394, -0.05964162,  0.19753209],\n",
       "       [ 0.13393529,  0.28405118, -0.1963365 , -0.41279112, -0.11096298,\n",
       "        -0.42993027,  0.05248663,  0.48170927, -0.27525909, -0.35504258],\n",
       "       [-0.46766104,  0.14247456, -0.32745511,  0.16644069, -0.45951661,\n",
       "         0.15472692,  0.0432218 , -0.3136515 ,  0.02492256, -0.43442513],\n",
       "       [-0.09514039, -0.34159136,  0.03858381, -0.17647252,  0.07657207,\n",
       "         0.49257511, -0.38849279, -0.0270897 ,  0.42390306,  0.48080936],\n",
       "       [-0.07137956, -0.44794301,  0.12063884,  0.38613878,  0.38430045,\n",
       "         0.27347983, -0.24610503,  0.15390141,  0.44898988,  0.18696434],\n",
       "       [-0.3923527 , -0.46142222,  0.49328313,  0.41481608, -0.2713024 ,\n",
       "         0.38630669, -0.37141005, -0.26918791,  0.43872225,  0.07288555],\n",
       "       [-0.49297274, -0.49147586, -0.22040073, -0.39957838, -0.14426032,\n",
       "        -0.39767258,  0.10394712,  0.42672532, -0.44950819, -0.0127175 ],\n",
       "       [-0.20426327,  0.45247191,  0.19809935,  0.01964514, -0.40938904,\n",
       "        -0.04760651, -0.44277906, -0.1528997 , -0.3223002 ,  0.19693003]])"
      ]
     },
     "execution_count": 7,
     "metadata": {},
     "output_type": "execute_result"
    }
   ],
   "source": [
    "neural_data.rates"
   ]
  },
  {
   "cell_type": "code",
   "execution_count": 8,
   "metadata": {},
   "outputs": [
    {
     "data": {
      "text/plain": [
       "(-0.4997315134304714, 0.49991988412130217)"
      ]
     },
     "execution_count": 8,
     "metadata": {},
     "output_type": "execute_result"
    }
   ],
   "source": [
    "neural_data.plasticity.min(), neural_data.plasticity.max()"
   ]
  },
  {
   "cell_type": "markdown",
   "metadata": {},
   "source": [
    "### But can we change variables within the group?"
   ]
  },
  {
   "cell_type": "code",
   "execution_count": 9,
   "metadata": {},
   "outputs": [],
   "source": [
    "some_crazy_rule = np.exp(1 - (neural_data.potentials@neural_data.plasticity).mean(-1))\n",
    "neural_data.rates /= some_crazy_rule"
   ]
  },
  {
   "cell_type": "markdown",
   "metadata": {},
   "source": [
    "### Works!"
   ]
  },
  {
   "cell_type": "code",
   "execution_count": 10,
   "metadata": {},
   "outputs": [
    {
     "data": {
      "text/plain": [
       "array([[ 0.0106168 ,  0.06617958, -0.30390672, -0.09439851,  0.06118212,\n",
       "         0.10759845, -0.09603363, -0.08278522, -0.02880955, -0.02006303],\n",
       "       [-0.04493903, -0.35599249, -0.14194274, -0.37300998,  0.01459291,\n",
       "        -0.1933345 , -0.06831331, -0.13034074,  0.08491789,  0.05999704],\n",
       "       [-0.13612079, -0.20196336, -0.27277751, -0.0044045 ,  0.20522596,\n",
       "        -0.03140591,  0.09037196, -0.02863803, -0.00353677,  0.04598782],\n",
       "       [ 0.09168234,  0.12816669, -0.12401489, -0.07713693, -0.05962388,\n",
       "        -0.29530078,  0.00716716,  0.43666583, -0.0791373 , -0.10352288],\n",
       "       [-0.09247643,  0.06643601, -0.4399926 ,  0.09056814, -0.09070296,\n",
       "         0.01837217,  0.09035721, -0.09630976,  0.00666881, -0.14431626],\n",
       "       [-0.04127368, -0.28626816,  0.01733473, -0.04519581,  0.12363269,\n",
       "         0.15254722, -0.22173933, -0.00572849,  0.19396416,  0.25268557],\n",
       "       [-0.00825059, -1.01852414,  0.04832768,  0.09244156,  0.0649442 ,\n",
       "         0.08902416, -1.29824564,  0.13521787,  0.4979283 ,  0.02678454],\n",
       "       [-1.12901961, -0.15969335,  0.26624841,  0.12086388, -0.2505187 ,\n",
       "         0.0619552 , -0.14932844, -0.21272988,  0.39514214,  0.03055043],\n",
       "       [-0.2534486 , -0.06248343, -0.2653025 , -0.13527875, -0.14895549,\n",
       "        -0.32577654,  0.24107254,  0.05346222, -0.0423424 , -0.00990384],\n",
       "       [-0.13326669,  0.1835988 ,  0.16255814,  0.00524397, -0.1104452 ,\n",
       "        -0.01822872, -0.06402   , -0.06363126, -0.11867787,  0.08699003]])"
      ]
     },
     "execution_count": 10,
     "metadata": {},
     "output_type": "execute_result"
    }
   ],
   "source": [
    "neural_data.rates"
   ]
  },
  {
   "cell_type": "markdown",
   "metadata": {},
   "source": [
    "### What if I need some operation to be done on the group? For example x*sin(x)"
   ]
  },
  {
   "cell_type": "code",
   "execution_count": 11,
   "metadata": {},
   "outputs": [
    {
     "data": {
      "text/plain": [
       "TensorGroup(potentials: ((10, 10, 1000)), plasticity: ((1000, 10)), rates: ((10, 10)))"
      ]
     },
     "execution_count": 11,
     "metadata": {},
     "output_type": "execute_result"
    }
   ],
   "source": [
    "neural_data.map(lambda x: x*np.sin(x), inplace=True)"
   ]
  },
  {
   "cell_type": "code",
   "execution_count": 12,
   "metadata": {},
   "outputs": [
    {
     "data": {
      "text/plain": [
       "array([[1.12714316e-04, 4.37654004e-03, 9.09441374e-02, 8.89784915e-03,\n",
       "        3.74091723e-03, 1.15550994e-02, 9.20828945e-03, 6.84556781e-03,\n",
       "        8.29875516e-04, 4.02498305e-04],\n",
       "       [2.01883657e-03, 1.24070784e-01, 2.00801541e-02, 1.35932322e-01,\n",
       "        2.12945551e-04, 3.71458097e-02, 4.66307956e-03, 1.69406462e-02,\n",
       "        7.20238467e-03, 3.59748518e-03],\n",
       "       [1.84717033e-02, 4.05124705e-02, 7.34882481e-02, 1.93995629e-05,\n",
       "        4.18226685e-02, 9.86169315e-04, 8.15597871e-03, 8.20024780e-04,\n",
       "        1.25087460e-05, 2.11413412e-03],\n",
       "       [8.39388053e-03, 1.63817656e-02, 1.53403009e-02, 5.94420736e-03,\n",
       "        3.55290110e-03, 8.59406859e-02, 5.13676971e-05, 1.84674931e-01,\n",
       "        6.25617771e-03, 1.06978555e-02],\n",
       "       [8.53970698e-03, 4.41049775e-03, 1.87407267e-01, 8.19137951e-03,\n",
       "        8.21575014e-03, 3.37517629e-04, 8.15331976e-03, 9.26123806e-03,\n",
       "        4.44727185e-05, 2.07549633e-02],\n",
       "       [1.70303315e-03, 8.08347510e-02, 3.00477686e-04, 2.04196601e-03,\n",
       "        1.52461330e-02, 2.31805051e-02, 4.87663999e-02, 3.28153965e-05,\n",
       "        3.73866343e-02, 6.31726918e-02],\n",
       "       [6.80714867e-05, 8.67104923e-01, 2.33465603e-03, 8.53327692e-03,\n",
       "        4.21478452e-03, 7.91483697e-03, 1.25032403e+00, 1.82282066e-02,\n",
       "        2.37813756e-01, 7.17325717e-04],\n",
       "       [1.02062634e+00, 2.53937116e-02, 7.00536584e-02, 1.45725369e-02,\n",
       "        6.21052129e-02, 3.83599176e-03, 2.22162008e-02, 4.49134511e-02,\n",
       "        1.52105767e-01, 9.33183345e-04],\n",
       "       [6.35506835e-02, 3.90163904e-03, 6.95626307e-02, 1.82445752e-02,\n",
       "        2.21057807e-02, 1.04263016e-01, 5.75546943e-02, 2.85684726e-03,\n",
       "        1.79234276e-03, 9.80844062e-05],\n",
       "       [1.77074888e-02, 3.35194616e-02, 2.63089222e-02, 2.74990618e-05,\n",
       "        1.21733586e-02, 3.32267770e-04, 4.09576104e-03, 4.04620513e-03,\n",
       "        1.40513992e-02, 7.55772503e-03]])"
      ]
     },
     "execution_count": 12,
     "metadata": {},
     "output_type": "execute_result"
    }
   ],
   "source": [
    "neural_data.rates"
   ]
  },
  {
   "cell_type": "markdown",
   "metadata": {},
   "source": [
    "### Can we do opeations between two groups?"
   ]
  },
  {
   "cell_type": "code",
   "execution_count": 13,
   "metadata": {},
   "outputs": [],
   "source": [
    "neural_data_1 = TensorGroup(\n",
    "    NamedTensor(\n",
    "        'potentials',\n",
    "        np.array([1, 1, 1, 1])\n",
    "    ),\n",
    "    NamedTensor(\n",
    "        'plasticity',\n",
    "        np.array([2, 2, 2, 2, 2])\n",
    "    ),\n",
    "    NamedTensor(\n",
    "        'rates',\n",
    "        np.array([1, 2, 3, 4])\n",
    "    )\n",
    ")\n",
    "\n",
    "neural_data_2 = TensorGroup(\n",
    "    NamedTensor(\n",
    "        'potentials',\n",
    "        np.array([.5, .5, .5, .5])\n",
    "    ),\n",
    "    NamedTensor(\n",
    "        'plasticity',\n",
    "        np.array([4, 4, 4, 4, 4])\n",
    "    ),\n",
    "    NamedTensor(\n",
    "        'rates',\n",
    "        np.array([4, 3, 2, 1])\n",
    "    )\n",
    ")\n",
    "\n",
    "neural_data = neural_data_1 * neural_data_2"
   ]
  },
  {
   "cell_type": "code",
   "execution_count": 14,
   "metadata": {},
   "outputs": [
    {
     "data": {
      "text/plain": [
       "array([0.5, 0.5, 0.5, 0.5])"
      ]
     },
     "execution_count": 14,
     "metadata": {},
     "output_type": "execute_result"
    }
   ],
   "source": [
    "neural_data.potentials"
   ]
  },
  {
   "cell_type": "code",
   "execution_count": 15,
   "metadata": {},
   "outputs": [
    {
     "data": {
      "text/plain": [
       "array([8, 8, 8, 8, 8])"
      ]
     },
     "execution_count": 15,
     "metadata": {},
     "output_type": "execute_result"
    }
   ],
   "source": [
    "neural_data.plasticity"
   ]
  },
  {
   "cell_type": "code",
   "execution_count": 16,
   "metadata": {},
   "outputs": [
    {
     "data": {
      "text/plain": [
       "array([4, 6, 6, 4])"
      ]
     },
     "execution_count": 16,
     "metadata": {},
     "output_type": "execute_result"
    }
   ],
   "source": [
    "neural_data.rates"
   ]
  },
  {
   "cell_type": "markdown",
   "metadata": {},
   "source": [
    "### What if mathematical operations is not enough and I need 1st multiplied by sin of 2nd?"
   ]
  },
  {
   "cell_type": "code",
   "execution_count": 17,
   "metadata": {},
   "outputs": [],
   "source": [
    "neural_data = neural_data_1.operation_with(neural_data_2, lambda x, y: x * np.sin(y))"
   ]
  },
  {
   "cell_type": "code",
   "execution_count": 18,
   "metadata": {},
   "outputs": [
    {
     "data": {
      "text/plain": [
       "array([0.47942554, 0.47942554, 0.47942554, 0.47942554])"
      ]
     },
     "execution_count": 18,
     "metadata": {},
     "output_type": "execute_result"
    }
   ],
   "source": [
    "neural_data.potentials"
   ]
  },
  {
   "cell_type": "code",
   "execution_count": 19,
   "metadata": {},
   "outputs": [
    {
     "data": {
      "text/plain": [
       "array([-1.51360499, -1.51360499, -1.51360499, -1.51360499, -1.51360499])"
      ]
     },
     "execution_count": 19,
     "metadata": {},
     "output_type": "execute_result"
    }
   ],
   "source": [
    "neural_data.plasticity"
   ]
  },
  {
   "cell_type": "code",
   "execution_count": 20,
   "metadata": {},
   "outputs": [
    {
     "data": {
      "text/plain": [
       "array([-0.7568025 ,  0.28224002,  2.72789228,  3.36588394])"
      ]
     },
     "execution_count": 20,
     "metadata": {},
     "output_type": "execute_result"
    }
   ],
   "source": [
    "neural_data.rates"
   ]
  },
  {
   "cell_type": "markdown",
   "metadata": {},
   "source": [
    "### How to combine 2 groups together?"
   ]
  },
  {
   "cell_type": "code",
   "execution_count": 21,
   "metadata": {},
   "outputs": [],
   "source": [
    "neural_data_1 = TensorGroup(\n",
    "    NamedTensor(\n",
    "        'potentials',\n",
    "        np.array([1, 1, 1, 1])\n",
    "    ),\n",
    "    NamedTensor(\n",
    "        'plasticity',\n",
    "        np.array([2, 2, 2, 2, 2])\n",
    "    ),\n",
    "    NamedTensor(\n",
    "        'rates',\n",
    "        np.array([1, 2, 3, 4])\n",
    "    )\n",
    ")\n",
    "\n",
    "neural_data_2 = TensorGroup(\n",
    "    NamedTensor(\n",
    "        'spikes',\n",
    "        np.array([1, 0, 0, 1])\n",
    "    ),\n",
    "    NamedTensor(\n",
    "        'excitation',\n",
    "        np.array([.1, .2, .3, .4, .5])\n",
    "    ),\n",
    "    NamedTensor(\n",
    "        'inhibition',\n",
    "        -np.array([.1, .2, .3, .4, .5])\n",
    "    )\n",
    ")\n",
    "\n",
    "neural_data = neural_data_1 + neural_data_2"
   ]
  },
  {
   "cell_type": "code",
   "execution_count": 22,
   "metadata": {},
   "outputs": [
    {
     "data": {
      "text/plain": [
       "TensorGroup(potentials: ((4,)), plasticity: ((5,)), rates: ((4,)), spikes: ((4,)), excitation: ((5,)), inhibition: ((5,)))"
      ]
     },
     "execution_count": 22,
     "metadata": {},
     "output_type": "execute_result"
    }
   ],
   "source": [
    "neural_data"
   ]
  },
  {
   "cell_type": "markdown",
   "metadata": {},
   "source": [
    "### What if I still like dictionaries more?"
   ]
  },
  {
   "cell_type": "code",
   "execution_count": 23,
   "metadata": {},
   "outputs": [],
   "source": [
    "n_neurons = 10\n",
    "n_synapses = 1000\n",
    "n_timepoints = 100\n",
    "\n",
    "neural_data = TensorGroup(\n",
    "    potentials=w1.copy(),\n",
    "    plasticity=w2.copy(),\n",
    "    rates=w3.copy()\n",
    ")\n",
    "\n",
    "# or\n",
    "# neural_data = TensorGroup(\n",
    "#     {\n",
    "#         'potentials': np.random.rand(n_neurons, n_timepoints, n_synapses),\n",
    "#         'plasticity': np.random.rand(n_synapses, n_timepoints),\n",
    "#         'rate': np.random.rand(n_neurons, n_timepoints)\n",
    "#     }\n",
    "# )"
   ]
  },
  {
   "cell_type": "code",
   "execution_count": 24,
   "metadata": {},
   "outputs": [
    {
     "data": {
      "text/plain": [
       "array([[0.52204761, 0.59265797, 0.25856925, 0.10785986, 0.81598852,\n",
       "        0.93264882, 0.08565943, 0.41425655, 0.24621629, 0.42701444],\n",
       "       [0.4468596 , 0.28251438, 0.32397303, 0.04865305, 0.56509122,\n",
       "        0.11219784, 0.309262  , 0.25489199, 0.93840309, 0.79914837],\n",
       "       [0.18119309, 0.22761645, 0.23941499, 0.29013364, 0.89963499,\n",
       "        0.41632122, 0.78243297, 0.46283606, 0.44035838, 0.69753209],\n",
       "       [0.63393529, 0.78405118, 0.3036635 , 0.08720888, 0.38903702,\n",
       "        0.07006973, 0.55248663, 0.98170927, 0.22474091, 0.14495742],\n",
       "       [0.03233896, 0.64247456, 0.17254489, 0.66644069, 0.04048339,\n",
       "        0.65472692, 0.5432218 , 0.1863485 , 0.52492256, 0.06557487],\n",
       "       [0.40485961, 0.15840864, 0.53858381, 0.32352748, 0.57657207,\n",
       "        0.99257511, 0.11150721, 0.4729103 , 0.92390306, 0.98080936],\n",
       "       [0.42862044, 0.05205699, 0.62063884, 0.88613878, 0.88430045,\n",
       "        0.77347983, 0.25389497, 0.65390141, 0.94898988, 0.68696434],\n",
       "       [0.1076473 , 0.03857778, 0.99328313, 0.91481608, 0.2286976 ,\n",
       "        0.88630669, 0.12858995, 0.23081209, 0.93872225, 0.57288555],\n",
       "       [0.00702726, 0.00852414, 0.27959927, 0.10042162, 0.35573968,\n",
       "        0.10232742, 0.60394712, 0.92672532, 0.05049181, 0.4872825 ],\n",
       "       [0.29573673, 0.95247191, 0.69809935, 0.51964514, 0.09061096,\n",
       "        0.45239349, 0.05722094, 0.3471003 , 0.1776998 , 0.69693003]])"
      ]
     },
     "execution_count": 24,
     "metadata": {},
     "output_type": "execute_result"
    }
   ],
   "source": [
    "neural_data['rates']"
   ]
  },
  {
   "cell_type": "code",
   "execution_count": 25,
   "metadata": {},
   "outputs": [
    {
     "data": {
      "text/plain": [
       "(0.00026848656952860317, 0.9999198841213022)"
      ]
     },
     "execution_count": 25,
     "metadata": {},
     "output_type": "execute_result"
    }
   ],
   "source": [
    "neural_data['plasticity'].min(), neural_data['plasticity'].max()"
   ]
  },
  {
   "cell_type": "code",
   "execution_count": 26,
   "metadata": {},
   "outputs": [],
   "source": [
    "for key in neural_data.keys():\n",
    "    neural_data[key] -= .5"
   ]
  },
  {
   "cell_type": "code",
   "execution_count": 27,
   "metadata": {},
   "outputs": [
    {
     "data": {
      "text/plain": [
       "array([[ 0.02204761,  0.09265797, -0.24143075, -0.39214014,  0.31598852,\n",
       "         0.43264882, -0.41434057, -0.08574345, -0.25378371, -0.07298556],\n",
       "       [-0.0531404 , -0.21748562, -0.17602697, -0.45134695,  0.06509122,\n",
       "        -0.38780216, -0.190738  , -0.24510801,  0.43840309,  0.29914837],\n",
       "       [-0.31880691, -0.27238355, -0.26058501, -0.20986636,  0.39963499,\n",
       "        -0.08367878,  0.28243297, -0.03716394, -0.05964162,  0.19753209],\n",
       "       [ 0.13393529,  0.28405118, -0.1963365 , -0.41279112, -0.11096298,\n",
       "        -0.42993027,  0.05248663,  0.48170927, -0.27525909, -0.35504258],\n",
       "       [-0.46766104,  0.14247456, -0.32745511,  0.16644069, -0.45951661,\n",
       "         0.15472692,  0.0432218 , -0.3136515 ,  0.02492256, -0.43442513],\n",
       "       [-0.09514039, -0.34159136,  0.03858381, -0.17647252,  0.07657207,\n",
       "         0.49257511, -0.38849279, -0.0270897 ,  0.42390306,  0.48080936],\n",
       "       [-0.07137956, -0.44794301,  0.12063884,  0.38613878,  0.38430045,\n",
       "         0.27347983, -0.24610503,  0.15390141,  0.44898988,  0.18696434],\n",
       "       [-0.3923527 , -0.46142222,  0.49328313,  0.41481608, -0.2713024 ,\n",
       "         0.38630669, -0.37141005, -0.26918791,  0.43872225,  0.07288555],\n",
       "       [-0.49297274, -0.49147586, -0.22040073, -0.39957838, -0.14426032,\n",
       "        -0.39767258,  0.10394712,  0.42672532, -0.44950819, -0.0127175 ],\n",
       "       [-0.20426327,  0.45247191,  0.19809935,  0.01964514, -0.40938904,\n",
       "        -0.04760651, -0.44277906, -0.1528997 , -0.3223002 ,  0.19693003]])"
      ]
     },
     "execution_count": 27,
     "metadata": {},
     "output_type": "execute_result"
    }
   ],
   "source": [
    "neural_data['rates']"
   ]
  },
  {
   "cell_type": "code",
   "execution_count": 28,
   "metadata": {},
   "outputs": [
    {
     "data": {
      "text/plain": [
       "(-0.4997315134304714, 0.49991988412130217)"
      ]
     },
     "execution_count": 28,
     "metadata": {},
     "output_type": "execute_result"
    }
   ],
   "source": [
    "neural_data['plasticity'].min(), neural_data['plasticity'].max()"
   ]
  },
  {
   "cell_type": "code",
   "execution_count": 29,
   "metadata": {},
   "outputs": [],
   "source": [
    "some_crazy_rule = np.exp(1 - (neural_data['potentials']@neural_data['plasticity']).mean(-1))\n",
    "neural_data['rates'] /= some_crazy_rule"
   ]
  },
  {
   "cell_type": "code",
   "execution_count": 30,
   "metadata": {},
   "outputs": [
    {
     "data": {
      "text/plain": [
       "array([[ 0.0106168 ,  0.06617958, -0.30390672, -0.09439851,  0.06118212,\n",
       "         0.10759845, -0.09603363, -0.08278522, -0.02880955, -0.02006303],\n",
       "       [-0.04493903, -0.35599249, -0.14194274, -0.37300998,  0.01459291,\n",
       "        -0.1933345 , -0.06831331, -0.13034074,  0.08491789,  0.05999704],\n",
       "       [-0.13612079, -0.20196336, -0.27277751, -0.0044045 ,  0.20522596,\n",
       "        -0.03140591,  0.09037196, -0.02863803, -0.00353677,  0.04598782],\n",
       "       [ 0.09168234,  0.12816669, -0.12401489, -0.07713693, -0.05962388,\n",
       "        -0.29530078,  0.00716716,  0.43666583, -0.0791373 , -0.10352288],\n",
       "       [-0.09247643,  0.06643601, -0.4399926 ,  0.09056814, -0.09070296,\n",
       "         0.01837217,  0.09035721, -0.09630976,  0.00666881, -0.14431626],\n",
       "       [-0.04127368, -0.28626816,  0.01733473, -0.04519581,  0.12363269,\n",
       "         0.15254722, -0.22173933, -0.00572849,  0.19396416,  0.25268557],\n",
       "       [-0.00825059, -1.01852414,  0.04832768,  0.09244156,  0.0649442 ,\n",
       "         0.08902416, -1.29824564,  0.13521787,  0.4979283 ,  0.02678454],\n",
       "       [-1.12901961, -0.15969335,  0.26624841,  0.12086388, -0.2505187 ,\n",
       "         0.0619552 , -0.14932844, -0.21272988,  0.39514214,  0.03055043],\n",
       "       [-0.2534486 , -0.06248343, -0.2653025 , -0.13527875, -0.14895549,\n",
       "        -0.32577654,  0.24107254,  0.05346222, -0.0423424 , -0.00990384],\n",
       "       [-0.13326669,  0.1835988 ,  0.16255814,  0.00524397, -0.1104452 ,\n",
       "        -0.01822872, -0.06402   , -0.06363126, -0.11867787,  0.08699003]])"
      ]
     },
     "execution_count": 30,
     "metadata": {},
     "output_type": "execute_result"
    }
   ],
   "source": [
    "neural_data['rates']"
   ]
  },
  {
   "cell_type": "code",
   "execution_count": 31,
   "metadata": {},
   "outputs": [],
   "source": [
    "for key, value in neural_data.items():\n",
    "    neural_data[key] = value * np.sin(value)"
   ]
  },
  {
   "cell_type": "code",
   "execution_count": 32,
   "metadata": {},
   "outputs": [
    {
     "data": {
      "text/plain": [
       "array([[1.12714316e-04, 4.37654004e-03, 9.09441374e-02, 8.89784915e-03,\n",
       "        3.74091723e-03, 1.15550994e-02, 9.20828945e-03, 6.84556781e-03,\n",
       "        8.29875516e-04, 4.02498305e-04],\n",
       "       [2.01883657e-03, 1.24070784e-01, 2.00801541e-02, 1.35932322e-01,\n",
       "        2.12945551e-04, 3.71458097e-02, 4.66307956e-03, 1.69406462e-02,\n",
       "        7.20238467e-03, 3.59748518e-03],\n",
       "       [1.84717033e-02, 4.05124705e-02, 7.34882481e-02, 1.93995629e-05,\n",
       "        4.18226685e-02, 9.86169315e-04, 8.15597871e-03, 8.20024780e-04,\n",
       "        1.25087460e-05, 2.11413412e-03],\n",
       "       [8.39388053e-03, 1.63817656e-02, 1.53403009e-02, 5.94420736e-03,\n",
       "        3.55290110e-03, 8.59406859e-02, 5.13676971e-05, 1.84674931e-01,\n",
       "        6.25617771e-03, 1.06978555e-02],\n",
       "       [8.53970698e-03, 4.41049775e-03, 1.87407267e-01, 8.19137951e-03,\n",
       "        8.21575014e-03, 3.37517629e-04, 8.15331976e-03, 9.26123806e-03,\n",
       "        4.44727185e-05, 2.07549633e-02],\n",
       "       [1.70303315e-03, 8.08347510e-02, 3.00477686e-04, 2.04196601e-03,\n",
       "        1.52461330e-02, 2.31805051e-02, 4.87663999e-02, 3.28153965e-05,\n",
       "        3.73866343e-02, 6.31726918e-02],\n",
       "       [6.80714867e-05, 8.67104923e-01, 2.33465603e-03, 8.53327692e-03,\n",
       "        4.21478452e-03, 7.91483697e-03, 1.25032403e+00, 1.82282066e-02,\n",
       "        2.37813756e-01, 7.17325717e-04],\n",
       "       [1.02062634e+00, 2.53937116e-02, 7.00536584e-02, 1.45725369e-02,\n",
       "        6.21052129e-02, 3.83599176e-03, 2.22162008e-02, 4.49134511e-02,\n",
       "        1.52105767e-01, 9.33183345e-04],\n",
       "       [6.35506835e-02, 3.90163904e-03, 6.95626307e-02, 1.82445752e-02,\n",
       "        2.21057807e-02, 1.04263016e-01, 5.75546943e-02, 2.85684726e-03,\n",
       "        1.79234276e-03, 9.80844062e-05],\n",
       "       [1.77074888e-02, 3.35194616e-02, 2.63089222e-02, 2.74990618e-05,\n",
       "        1.21733586e-02, 3.32267770e-04, 4.09576104e-03, 4.04620513e-03,\n",
       "        1.40513992e-02, 7.55772503e-03]])"
      ]
     },
     "execution_count": 32,
     "metadata": {},
     "output_type": "execute_result"
    }
   ],
   "source": [
    "neural_data['rates']"
   ]
  },
  {
   "cell_type": "code",
   "execution_count": 33,
   "metadata": {},
   "outputs": [],
   "source": [
    "neural_data_1 = TensorGroup({\n",
    "    'potentials': np.array([1, 1, 1, 1]),\n",
    "    'plasticity': np.array([2, 2, 2, 2, 2]),\n",
    "    'rates': np.array([1, 2, 3, 4])\n",
    "})\n",
    "\n",
    "neural_data_2 = TensorGroup({\n",
    "    'potentials': np.array([.5, .5, .5, .5]),\n",
    "    'plasticity': np.array([4, 4, 4, 4, 4]),\n",
    "    'rates': np.array([4, 3, 2, 1])\n",
    "})\n",
    "\n",
    "neural_data = TensorGroup()\n",
    "for key in neural_data_1.keys():\n",
    "    neural_data[key] = neural_data_1[key] * neural_data_2[key]"
   ]
  },
  {
   "cell_type": "code",
   "execution_count": 34,
   "metadata": {},
   "outputs": [
    {
     "data": {
      "text/plain": [
       "array([0.5, 0.5, 0.5, 0.5])"
      ]
     },
     "execution_count": 34,
     "metadata": {},
     "output_type": "execute_result"
    }
   ],
   "source": [
    "neural_data['potentials']"
   ]
  },
  {
   "cell_type": "code",
   "execution_count": 35,
   "metadata": {},
   "outputs": [
    {
     "data": {
      "text/plain": [
       "array([8, 8, 8, 8, 8])"
      ]
     },
     "execution_count": 35,
     "metadata": {},
     "output_type": "execute_result"
    }
   ],
   "source": [
    "neural_data['plasticity']"
   ]
  },
  {
   "cell_type": "code",
   "execution_count": 36,
   "metadata": {},
   "outputs": [
    {
     "data": {
      "text/plain": [
       "array([4, 6, 6, 4])"
      ]
     },
     "execution_count": 36,
     "metadata": {},
     "output_type": "execute_result"
    }
   ],
   "source": [
    "neural_data['rates']"
   ]
  },
  {
   "cell_type": "code",
   "execution_count": 37,
   "metadata": {},
   "outputs": [],
   "source": [
    "neural_data = TensorGroup()\n",
    "for key in neural_data_1.keys():\n",
    "    neural_data[key] = neural_data_1[key] * np.sin(neural_data_2[key])"
   ]
  },
  {
   "cell_type": "code",
   "execution_count": 38,
   "metadata": {},
   "outputs": [
    {
     "data": {
      "text/plain": [
       "array([0.47942554, 0.47942554, 0.47942554, 0.47942554])"
      ]
     },
     "execution_count": 38,
     "metadata": {},
     "output_type": "execute_result"
    }
   ],
   "source": [
    "neural_data['potentials']"
   ]
  },
  {
   "cell_type": "code",
   "execution_count": 39,
   "metadata": {},
   "outputs": [
    {
     "data": {
      "text/plain": [
       "array([-1.51360499, -1.51360499, -1.51360499, -1.51360499, -1.51360499])"
      ]
     },
     "execution_count": 39,
     "metadata": {},
     "output_type": "execute_result"
    }
   ],
   "source": [
    "neural_data['plasticity']"
   ]
  },
  {
   "cell_type": "code",
   "execution_count": 40,
   "metadata": {},
   "outputs": [
    {
     "data": {
      "text/plain": [
       "array([-0.7568025 ,  0.28224002,  2.72789228,  3.36588394])"
      ]
     },
     "execution_count": 40,
     "metadata": {},
     "output_type": "execute_result"
    }
   ],
   "source": [
    "neural_data['rates']"
   ]
  },
  {
   "cell_type": "code",
   "execution_count": 41,
   "metadata": {},
   "outputs": [],
   "source": [
    "neural_data_1 = TensorGroup(\n",
    "    {\n",
    "        'potentials': np.array([1, 1, 1, 1]),\n",
    "        'plasticity': np.array([2, 2, 2, 2, 2]),\n",
    "        'rates': np.array([1, 2, 3, 4])\n",
    "    }\n",
    ")\n",
    "\n",
    "\n",
    "\n",
    "neural_data = neural_data_1.copy()\n",
    "neural_data.update(\n",
    "    {\n",
    "        'spikes': np.array([1, 0, 0, 1]),\n",
    "        'excitation': np.array([.1, .2, .3, .4, .5]),\n",
    "        'inhibition': -np.array([.1, .2, .3, .4, .5])\n",
    "    }\n",
    ")"
   ]
  },
  {
   "cell_type": "code",
   "execution_count": 42,
   "metadata": {},
   "outputs": [
    {
     "data": {
      "text/plain": [
       "TensorGroup(potentials: ((4,)), plasticity: ((5,)), rates: ((4,)), spikes: ((4,)), excitation: ((5,)), inhibition: ((5,)))"
      ]
     },
     "execution_count": 42,
     "metadata": {},
     "output_type": "execute_result"
    }
   ],
   "source": [
    "neural_data"
   ]
  },
  {
   "cell_type": "markdown",
   "metadata": {},
   "source": [
    "### Everything works! Let's save that"
   ]
  },
  {
   "cell_type": "code",
   "execution_count": 43,
   "metadata": {},
   "outputs": [],
   "source": [
    "neural_data.save('./neural_data.pkl')"
   ]
  },
  {
   "cell_type": "markdown",
   "metadata": {},
   "source": [
    "### And read"
   ]
  },
  {
   "cell_type": "code",
   "execution_count": 44,
   "metadata": {},
   "outputs": [],
   "source": [
    "loaded_neural_data = TensorGroup.load('./neural_data.pkl')"
   ]
  },
  {
   "cell_type": "code",
   "execution_count": 45,
   "metadata": {},
   "outputs": [
    {
     "data": {
      "text/plain": [
       "True"
      ]
     },
     "execution_count": 45,
     "metadata": {},
     "output_type": "execute_result"
    }
   ],
   "source": [
    "np.all(loaded_neural_data.rates == neural_data.rates)"
   ]
  }
 ],
 "metadata": {
  "kernelspec": {
   "display_name": "venv",
   "language": "python",
   "name": "python3"
  },
  "language_info": {
   "codemirror_mode": {
    "name": "ipython",
    "version": 3
   },
   "file_extension": ".py",
   "mimetype": "text/x-python",
   "name": "python",
   "nbconvert_exporter": "python",
   "pygments_lexer": "ipython3",
   "version": "3.12.3"
  }
 },
 "nbformat": 4,
 "nbformat_minor": 2
}
