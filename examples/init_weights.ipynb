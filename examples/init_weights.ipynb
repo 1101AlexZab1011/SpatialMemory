{
 "cells": [
  {
   "cell_type": "markdown",
   "metadata": {},
   "source": [
    "## Imports"
   ]
  },
  {
   "cell_type": "code",
   "execution_count": 9,
   "metadata": {},
   "outputs": [],
   "source": [
    "import os\n",
    "import sys\n",
    "sys.path.insert(1, os.path.realpath(os.path.pardir))\n",
    "from bbtoolkit.models.bb.neural_generators import MTLGenerator,\\\n",
    "    HDGenerator,\\\n",
    "    TCGenerator,\\\n",
    "    GCGenerator, GCMap,\\\n",
    "    PCGenerator\n",
    "import configparser\n",
    "from bbtoolkit.utils.datautils.configparser import EvalConfigParser\n",
    "import numpy as np\n",
    "from bbtoolkit.environment import Environment\n",
    "from bbtoolkit.environment.builders import EnvironmentBuilder"
   ]
  },
  {
   "cell_type": "markdown",
   "metadata": {},
   "source": [
    "## Create environment"
   ]
  },
  {
   "cell_type": "code",
   "execution_count": 10,
   "metadata": {},
   "outputs": [],
   "source": [
    "min_xy, max_xy = -10, 10 # create the box of size 20x20\n",
    "min_train_x, max_train_x, min_train_y, max_train_y = -10, 10, -10, 10 # create the training area of size 20x10\n",
    "res = 0.3 # set grid resolution\n",
    "\n",
    "builder = EnvironmentBuilder(\n",
    "    min_xy,\n",
    "    max_xy,\n",
    "    (min_train_x, min_train_y),\n",
    "    (max_train_x, max_train_y),\n",
    "    res=res\n",
    ")"
   ]
  },
  {
   "cell_type": "code",
   "execution_count": 11,
   "metadata": {},
   "outputs": [
    {
     "data": {
      "text/plain": [
       "<bbtoolkit.environment.builders.EnvironmentBuilder at 0x72a7abfdbbf0>"
      ]
     },
     "execution_count": 11,
     "metadata": {},
     "output_type": "execute_result"
    }
   ],
   "source": [
    "from bbtoolkit.structures.geometry import Texture, TexturedPolygon\n",
    "from shapely.geometry import Polygon, Point\n",
    "\n",
    "builder.add_wall(\n",
    "    TexturedPolygon(\n",
    "        Polygon(\n",
    "            shell=[\n",
    "                Point(-10, 10),\n",
    "                Point(10, 10),\n",
    "                Point(10, 9),\n",
    "                Point(-10, 9)\n",
    "            ],\n",
    "        ),\n",
    "        texture=Texture(\n",
    "            1,\n",
    "            '#16745B',\n",
    "            'north_wall'\n",
    "        )\n",
    "    ),\n",
    "    TexturedPolygon(\n",
    "        Polygon(\n",
    "            shell=[\n",
    "                Point(-10, 9),\n",
    "                Point(-10, -9),\n",
    "                Point(-9, -9),\n",
    "                Point(-9, 9)\n",
    "            ],\n",
    "        ),\n",
    "        texture=Texture(\n",
    "            2,\n",
    "            '#16745B',\n",
    "            'western_wall'\n",
    "        )\n",
    "    ),\n",
    "    TexturedPolygon(\n",
    "        Polygon(\n",
    "            shell=[\n",
    "                Point(-10, -10),\n",
    "                Point(10, -10),\n",
    "                Point(10, -9),\n",
    "                Point(-10, -9)\n",
    "            ],\n",
    "        ),\n",
    "        texture=Texture(\n",
    "            3,\n",
    "            '#16745B',\n",
    "            'south_wall'\n",
    "        )\n",
    "    ),\n",
    "    TexturedPolygon(\n",
    "        Polygon(\n",
    "            shell=[\n",
    "                Point(10, 9),\n",
    "                Point(10, -9),\n",
    "                Point(9, -9),\n",
    "                Point(9, 9)\n",
    "            ],\n",
    "        ),\n",
    "        texture=Texture(\n",
    "            4,\n",
    "            '#16745B',\n",
    "            'eastern_wall'\n",
    "        )\n",
    "    ),\n",
    "    TexturedPolygon(\n",
    "        Polygon(\n",
    "            shell=[\n",
    "                Point(-5, 5),\n",
    "                Point(5, 5),\n",
    "                Point(5, 4),\n",
    "                Point(-5, 4)\n",
    "            ],\n",
    "        ),\n",
    "        texture=Texture(\n",
    "            5,\n",
    "            '#16745B',\n",
    "            'inserted_wall'\n",
    "        )\n",
    "    )\n",
    ")"
   ]
  },
  {
   "cell_type": "code",
   "execution_count": 12,
   "metadata": {},
   "outputs": [
    {
     "data": {
      "image/png": "[encoded data removed]",
      "text/plain": [
       "<Figure size 640x480 with 1 Axes>"
      ]
     },
     "metadata": {},
     "output_type": "display_data"
    }
   ],
   "source": [
    "_ =  builder.plot()"
   ]
  },
  {
   "cell_type": "code",
   "execution_count": 13,
   "metadata": {},
   "outputs": [],
   "source": [
    "from bbtoolkit.environment.compilers import EnvironmentCompiler\n",
    "\n",
    "\n",
    "compiler = EnvironmentCompiler(builder)\n",
    "env = compiler.compile()"
   ]
  },
  {
   "cell_type": "code",
   "execution_count": 14,
   "metadata": {},
   "outputs": [],
   "source": [
    "env.save('../data/envs/inserted_wall_environment.pkl')"
   ]
  },
  {
   "cell_type": "code",
   "execution_count": 10,
   "metadata": {},
   "outputs": [],
   "source": [
    "env = Environment.load('../data/envs/inserted_wall_environment.pkl')"
   ]
  },
  {
   "cell_type": "code",
   "execution_count": 15,
   "metadata": {},
   "outputs": [
    {
     "data": {
      "text/plain": [
       "[<matplotlib.lines.Line2D at 0x72a7355e1550>]"
      ]
     },
     "execution_count": 15,
     "metadata": {},
     "output_type": "execute_result"
    },
    {
     "data": {
      "image/png": "[encoded data removed]",
      "text/plain": [
       "<Figure size 640x480 with 1 Axes>"
      ]
     },
     "metadata": {},
     "output_type": "display_data"
    }
   ],
   "source": [
    "from bbtoolkit.utils.viz import plot_polygon\n",
    "import matplotlib.pyplot as plt\n",
    "\n",
    "fig, ax = plt.subplots()\n",
    "position = 1000 # the position of the agent (visible area has dimensionality n_positions x 2)\n",
    "for i, obj in enumerate(env.objects + env.walls):\n",
    "    plot_polygon(obj.polygon, ax=ax, alpha=0.5, linewidth=1)\n",
    "    ax.plot(\n",
    "        obj.visible_parts[position, :, 0],\n",
    "        obj.visible_parts[position, :, 1],\n",
    "        'o',\n",
    "        color=obj.polygon.texture.color,\n",
    "        markersize=2\n",
    "    )\n",
    "\n",
    "ax.plot(\n",
    "    env.params.coords[position, 0],\n",
    "    env.params.coords[position, 1],\n",
    "    'o'\n",
    ")"
   ]
  },
  {
   "cell_type": "markdown",
   "metadata": {},
   "source": [
    "## MTL weights"
   ]
  },
  {
   "cell_type": "code",
   "execution_count": 16,
   "metadata": {},
   "outputs": [],
   "source": [
    "mtl_cfg = '../cfg/cells/mtl_cells.ini'\n",
    "config = EvalConfigParser(interpolation=configparser.ExtendedInterpolation(), allow_no_value=True)\n",
    "config.read(mtl_cfg)\n",
    "\n",
    "space_section = config['Space']\n",
    "res = space_section.eval('res')\n",
    "r_max = space_section.eval('r_max')\n",
    "\n",
    "polargrid_section = config['PolarGrid']\n",
    "polar_dist_res = polargrid_section.eval('polar_dist_res')\n",
    "polar_ang_res = polargrid_section.eval('polar_ang_res', locals=dict(pi=np.pi))\n",
    "h_sig = polargrid_section.eval('sigma_hill')\n",
    "\n",
    "\n",
    "gen = MTLGenerator(\n",
    "    r_max, h_sig, polar_dist_res, polar_ang_res, env\n",
    ")\n",
    "gen.save('../data/generators/mtl_gen.pkl')\n",
    "weights = gen.generate()"
   ]
  },
  {
   "cell_type": "code",
   "execution_count": null,
   "metadata": {},
   "outputs": [
    {
     "data": {
      "text/html": [
       "<div>\n",
       "<style scoped>\n",
       "    .dataframe tbody tr th:only-of-type {\n",
       "        vertical-align: middle;\n",
       "    }\n",
       "\n",
       "    .dataframe tbody tr th {\n",
       "        vertical-align: top;\n",
       "    }\n",
       "\n",
       "    .dataframe thead th {\n",
       "        text-align: right;\n",
       "    }\n",
       "</style>\n",
       "<table border=\"1\" class=\"dataframe\">\n",
       "  <thead>\n",
       "    <tr style=\"text-align: right;\">\n",
       "      <th></th>\n",
       "      <th>h</th>\n",
       "      <th>bvc</th>\n",
       "      <th>pr</th>\n",
       "    </tr>\n",
       "  </thead>\n",
       "  <tbody>\n",
       "    <tr>\n",
       "      <th>h</th>\n",
       "      <td>1</td>\n",
       "      <td>1</td>\n",
       "      <td>1</td>\n",
       "    </tr>\n",
       "    <tr>\n",
       "      <th>bvc</th>\n",
       "      <td>1</td>\n",
       "      <td>1</td>\n",
       "      <td>1</td>\n",
       "    </tr>\n",
       "    <tr>\n",
       "      <th>pr</th>\n",
       "      <td>1</td>\n",
       "      <td>1</td>\n",
       "      <td>1</td>\n",
       "    </tr>\n",
       "  </tbody>\n",
       "</table>\n",
       "</div>"
      ],
      "text/plain": [
       "     h  bvc  pr\n",
       "h    1    1   1\n",
       "bvc  1    1   1\n",
       "pr   1    1   1"
      ]
     },
     "execution_count": 5,
     "metadata": {},
     "output_type": "execute_result"
    }
   ],
   "source": [
    "weights.connection_map"
   ]
  },
  {
   "cell_type": "code",
   "execution_count": 17,
   "metadata": {},
   "outputs": [],
   "source": [
    "weights.save('../data/weights/mtl_weights_inserted_wall.pkl')"
   ]
  },
  {
   "cell_type": "markdown",
   "metadata": {},
   "source": [
    "## Head Direction Weights"
   ]
  },
  {
   "cell_type": "code",
   "execution_count": 18,
   "metadata": {},
   "outputs": [],
   "source": [
    "config_path = '../cfg/cells/hd_cells.ini'\n",
    "config = EvalConfigParser(interpolation=configparser.ExtendedInterpolation(), allow_no_value=True)\n",
    "config.read(config_path)\n",
    "\n",
    "neurons_cfg = config['Neurons']\n",
    "n_hd = neurons_cfg.eval('n_neurons')\n",
    "amp_max = neurons_cfg.eval('max_amplitude')\n",
    "sig_scaled = neurons_cfg.eval('sigma', locals={'pi': np.pi})\n",
    "\n",
    "training_cfg = config['Training']\n",
    "n_steps = training_cfg.eval('n_steps')\n",
    "dt = training_cfg.eval('dt')\n",
    "log_size = training_cfg.eval('log_size')\n",
    "decay = training_cfg.eval('decay')\n",
    "\n",
    "weights = HDGenerator(\n",
    "    n_hd,\n",
    "    amp_max,\n",
    "    sig_scaled,\n",
    "    n_steps,\n",
    "    dt,\n",
    "    log_size,\n",
    "    decay\n",
    ").generate()"
   ]
  },
  {
   "cell_type": "code",
   "execution_count": null,
   "metadata": {},
   "outputs": [
    {
     "data": {
      "text/html": [
       "<div>\n",
       "<style scoped>\n",
       "    .dataframe tbody tr th:only-of-type {\n",
       "        vertical-align: middle;\n",
       "    }\n",
       "\n",
       "    .dataframe tbody tr th {\n",
       "        vertical-align: top;\n",
       "    }\n",
       "\n",
       "    .dataframe thead th {\n",
       "        text-align: right;\n",
       "    }\n",
       "</style>\n",
       "<table border=\"1\" class=\"dataframe\">\n",
       "  <thead>\n",
       "    <tr style=\"text-align: right;\">\n",
       "      <th></th>\n",
       "      <th>rot</th>\n",
       "      <th>hd</th>\n",
       "    </tr>\n",
       "  </thead>\n",
       "  <tbody>\n",
       "    <tr>\n",
       "      <th>rot</th>\n",
       "      <td>1</td>\n",
       "      <td>0</td>\n",
       "    </tr>\n",
       "    <tr>\n",
       "      <th>hd</th>\n",
       "      <td>0</td>\n",
       "      <td>1</td>\n",
       "    </tr>\n",
       "  </tbody>\n",
       "</table>\n",
       "</div>"
      ],
      "text/plain": [
       "     rot  hd\n",
       "rot    1   0\n",
       "hd     0   1"
      ]
     },
     "execution_count": 15,
     "metadata": {},
     "output_type": "execute_result"
    }
   ],
   "source": [
    "weights.connection_map"
   ]
  },
  {
   "cell_type": "code",
   "execution_count": 19,
   "metadata": {},
   "outputs": [],
   "source": [
    "weights.save('../data/weights/hd_weights_inserted_wall.pkl')"
   ]
  },
  {
   "cell_type": "markdown",
   "metadata": {},
   "source": [
    "## Transformation circuit"
   ]
  },
  {
   "cell_type": "code",
   "execution_count": 20,
   "metadata": {},
   "outputs": [],
   "source": [
    "hd_config_path = '../cfg/cells/hd_cells.ini'\n",
    "hd_config = EvalConfigParser(interpolation=configparser.ExtendedInterpolation(), allow_no_value=True)\n",
    "hd_config.read(hd_config_path)\n",
    "\n",
    "mtl_config_path = '../cfg/cells/mtl_cells.ini'\n",
    "mtl_config = EvalConfigParser(interpolation=configparser.ExtendedInterpolation(), allow_no_value=True)\n",
    "mtl_config.read(mtl_config_path)\n",
    "\n",
    "tr_config_path = '../cfg/cells/transformation_circuit.ini'\n",
    "tr_config = EvalConfigParser(interpolation=configparser.ExtendedInterpolation(), allow_no_value=True)\n",
    "tr_config.read(tr_config_path)\n",
    "\n",
    "r_max = mtl_config['Space'].eval('r_max')\n",
    "\n",
    "mtl_grid_cfg = mtl_config['PolarGrid']\n",
    "n_radial_points = mtl_grid_cfg.eval('n_radial_points')\n",
    "polar_dist_res = mtl_grid_cfg.eval('polar_dist_res')\n",
    "polar_ang_res = mtl_grid_cfg.eval('polar_ang_res', locals={'pi': np.pi})\n",
    "h_sig = mtl_grid_cfg.eval('sigma_hill')\n",
    "\n",
    "tr_space_cfg = tr_config['Space']\n",
    "tr_res = tr_space_cfg.eval('tr_res', locals={'pi': np.pi})\n",
    "res = tr_space_cfg.eval('res')\n",
    "\n",
    "n_steps = tr_config['Training'].eval('n_steps')\n",
    "\n",
    "hd_neurons_cfg = hd_config['Neurons']\n",
    "sigma_angular = hd_neurons_cfg.eval('sigma', locals={'pi': np.pi})\n",
    "n_hd = hd_neurons_cfg.eval('n_neurons')\n",
    "\n",
    "\n",
    "gen = TCGenerator(\n",
    "    n_hd,\n",
    "    tr_res,\n",
    "    res,\n",
    "    r_max,\n",
    "    polar_dist_res,\n",
    "    n_radial_points,\n",
    "    polar_ang_res,\n",
    "    sigma_angular,\n",
    "    n_steps=n_steps\n",
    ")\n",
    "gen.save('../data/generators/tc_gen.pkl')\n",
    "weights = gen.generate()"
   ]
  },
  {
   "cell_type": "code",
   "execution_count": null,
   "metadata": {},
   "outputs": [
    {
     "data": {
      "text/html": [
       "<div>\n",
       "<style scoped>\n",
       "    .dataframe tbody tr th:only-of-type {\n",
       "        vertical-align: middle;\n",
       "    }\n",
       "\n",
       "    .dataframe tbody tr th {\n",
       "        vertical-align: top;\n",
       "    }\n",
       "\n",
       "    .dataframe thead th {\n",
       "        text-align: right;\n",
       "    }\n",
       "</style>\n",
       "<table border=\"1\" class=\"dataframe\">\n",
       "  <thead>\n",
       "    <tr style=\"text-align: right;\">\n",
       "      <th></th>\n",
       "      <th>tr</th>\n",
       "      <th>bvc</th>\n",
       "      <th>pw</th>\n",
       "      <th>hd</th>\n",
       "    </tr>\n",
       "  </thead>\n",
       "  <tbody>\n",
       "    <tr>\n",
       "      <th>tr</th>\n",
       "      <td>0</td>\n",
       "      <td>1</td>\n",
       "      <td>1</td>\n",
       "      <td>0</td>\n",
       "    </tr>\n",
       "    <tr>\n",
       "      <th>bvc</th>\n",
       "      <td>1</td>\n",
       "      <td>0</td>\n",
       "      <td>0</td>\n",
       "      <td>0</td>\n",
       "    </tr>\n",
       "    <tr>\n",
       "      <th>pw</th>\n",
       "      <td>1</td>\n",
       "      <td>0</td>\n",
       "      <td>0</td>\n",
       "      <td>0</td>\n",
       "    </tr>\n",
       "    <tr>\n",
       "      <th>hd</th>\n",
       "      <td>1</td>\n",
       "      <td>0</td>\n",
       "      <td>0</td>\n",
       "      <td>0</td>\n",
       "    </tr>\n",
       "  </tbody>\n",
       "</table>\n",
       "</div>"
      ],
      "text/plain": [
       "     tr  bvc  pw  hd\n",
       "tr    0    1   1   0\n",
       "bvc   1    0   0   0\n",
       "pw    1    0   0   0\n",
       "hd    1    0   0   0"
      ]
     },
     "execution_count": 18,
     "metadata": {},
     "output_type": "execute_result"
    }
   ],
   "source": [
    "weights.connection_map"
   ]
  },
  {
   "cell_type": "code",
   "execution_count": 21,
   "metadata": {},
   "outputs": [],
   "source": [
    "weights.save('../data/weights/tc_weights_inserted_wall.pkl')"
   ]
  },
  {
   "cell_type": "markdown",
   "metadata": {},
   "source": [
    "## Grid Cells Firing Rate Map"
   ]
  },
  {
   "cell_type": "code",
   "execution_count": 22,
   "metadata": {},
   "outputs": [],
   "source": [
    "cfg_path = '../cfg/cells/grid_cells.ini'\n",
    "config = EvalConfigParser()\n",
    "config.read(cfg_path)\n",
    "\n",
    "space_config = config['Space']\n",
    "n_mod = space_config.eval('n_mod')\n",
    "n_per_mod = space_config.eval('n_per_mod')\n",
    "\n",
    "neurons_config = config['Neurons']\n",
    "f_mods = neurons_config.eval('f_mods', locals={'pi': np.pi})\n",
    "fac = neurons_config.eval('FAC')\n",
    "r_size = neurons_config.eval('r_size')\n",
    "orientations = neurons_config.eval('orientations', locals={'pi': np.pi})\n",
    "\n",
    "\n",
    "frmap = GCGenerator(\n",
    "    env,\n",
    "    n_mod,\n",
    "    n_per_mod,\n",
    "    f_mods,\n",
    "    fac,\n",
    "    r_size,\n",
    "    orientations\n",
    ").generate()"
   ]
  },
  {
   "cell_type": "code",
   "execution_count": 23,
   "metadata": {},
   "outputs": [],
   "source": [
    "frmap.save('../data/weights/gc_map_inserted_wall.pkl')"
   ]
  },
  {
   "cell_type": "markdown",
   "metadata": {},
   "source": [
    "## Place Cells"
   ]
  },
  {
   "cell_type": "code",
   "execution_count": 24,
   "metadata": {},
   "outputs": [],
   "source": [
    "gc_cfg_path = '../cfg/cells/grid_cells.ini'\n",
    "gc_config = EvalConfigParser()\n",
    "gc_config.read(gc_cfg_path)\n",
    "\n",
    "pc_cfg_path = '../cfg/cells/place_cells.ini'\n",
    "pc_config = EvalConfigParser()\n",
    "pc_config.read(pc_cfg_path)\n",
    "\n",
    "gc_space_config = gc_config['Space']\n",
    "n_mod = gc_space_config.eval('n_mod')\n",
    "n_per_mod = gc_space_config.eval('n_per_mod')\n",
    "\n",
    "pc_space_config = pc_config['Space']\n",
    "res = pc_space_config.eval('res')\n",
    "x_max = pc_space_config.eval('x_max')\n",
    "y_max = pc_space_config.eval('y_max')\n",
    "\n",
    "weights = PCGenerator(\n",
    "    env,\n",
    "    n_mod=7,\n",
    "    n_per_mod=100,\n",
    "    gc_map=GCMap.load('../data/weights/gc_map.pkl')\n",
    ").generate()"
   ]
  },
  {
   "cell_type": "code",
   "execution_count": 25,
   "metadata": {},
   "outputs": [],
   "source": [
    "gc_map = GCMap.load('../data/weights/gc_map.pkl')"
   ]
  },
  {
   "cell_type": "code",
   "execution_count": 26,
   "metadata": {},
   "outputs": [
    {
     "data": {
      "text/plain": [
       "<matplotlib.image.AxesImage at 0x72a736779520>"
      ]
     },
     "execution_count": 26,
     "metadata": {},
     "output_type": "execute_result"
    },
    {
     "data": {
      "image/png": "[encoded data removed]",
      "text/plain": [
       "<Figure size 640x480 with 1 Axes>"
      ]
     },
     "metadata": {},
     "output_type": "display_data"
    }
   ],
   "source": [
    "import matplotlib.pyplot as plt\n",
    "\n",
    "plt.imshow(np.reshape((weights.gc.to.h)@np.reshape(gc_map.fr[20, 20], (-1, 1)), (58, 58)))"
   ]
  },
  {
   "cell_type": "code",
   "execution_count": null,
   "metadata": {},
   "outputs": [
    {
     "data": {
      "text/html": [
       "<div>\n",
       "<style scoped>\n",
       "    .dataframe tbody tr th:only-of-type {\n",
       "        vertical-align: middle;\n",
       "    }\n",
       "\n",
       "    .dataframe tbody tr th {\n",
       "        vertical-align: top;\n",
       "    }\n",
       "\n",
       "    .dataframe thead th {\n",
       "        text-align: right;\n",
       "    }\n",
       "</style>\n",
       "<table border=\"1\" class=\"dataframe\">\n",
       "  <thead>\n",
       "    <tr style=\"text-align: right;\">\n",
       "      <th></th>\n",
       "      <th>gc</th>\n",
       "      <th>h</th>\n",
       "    </tr>\n",
       "  </thead>\n",
       "  <tbody>\n",
       "    <tr>\n",
       "      <th>gc</th>\n",
       "      <td>0</td>\n",
       "      <td>1</td>\n",
       "    </tr>\n",
       "  </tbody>\n",
       "</table>\n",
       "</div>"
      ],
      "text/plain": [
       "    gc  h\n",
       "gc   0  1"
      ]
     },
     "execution_count": 25,
     "metadata": {},
     "output_type": "execute_result"
    }
   ],
   "source": [
    "weights.connection_map"
   ]
  },
  {
   "cell_type": "code",
   "execution_count": 27,
   "metadata": {},
   "outputs": [],
   "source": [
    "weights.save('../data/weights/pc_weights_inserted_wall.pkl')"
   ]
  }
 ],
 "metadata": {
  "kernelspec": {
   "display_name": "venv",
   "language": "python",
   "name": "python3"
  },
  "language_info": {
   "codemirror_mode": {
    "name": "ipython",
    "version": 3
   },
   "file_extension": ".py",
   "mimetype": "text/x-python",
   "name": "python",
   "nbconvert_exporter": "python",
   "pygments_lexer": "ipython3",
   "version": "3.12.3"
  }
 },
 "nbformat": 4,
 "nbformat_minor": 2
}
