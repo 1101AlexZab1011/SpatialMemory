{
 "cells": [
  {
   "cell_type": "code",
   "execution_count": 13,
   "metadata": {},
   "outputs": [
    {
     "name": "stdout",
     "output_type": "stream",
     "text": [
      "(400, 200) = (8, 400) x (8, 200)\n",
      "Demixing Error: 5.750218010081021e-16\n"
     ]
    }
   ],
   "source": [
    "import numpy as np\n",
    "import torch\n",
    "import torch.nn as nn\n",
    "\n",
    "\n",
    "# Define the mixing matrix A\n",
    "n_sources, n_sensors = 400, 8\n",
    "n_times = 200\n",
    "A = np.random.rand(n_sensors, n_sources)  # Mixing from n_sources sources to n_sensors sensors\n",
    "\n",
    "\n",
    "# Generate some random mixed sensors\n",
    "S_true = np.random.rand(n_sensors, n_times)  # Signals of n_sensors sensors\n",
    "\n",
    "# Get sources signals from sensors\n",
    "X = np.dot(A.T, S_true)\n",
    "\n",
    "print(f'{X.shape} = {A.shape} x {S_true.shape}')\n",
    "\n",
    "# Get sensors signals from sources\n",
    "S_recovered = np.dot(np.linalg.pinv(A.T), X)\n",
    "\n",
    "# Check the demixing error (difference betAeen true and recovered sources)\n",
    "demixing_error = np.mean(np.abs(S_recovered - S_true))\n",
    "print(\"Demixing Error:\", demixing_error)\n"
   ]
  },
  {
   "cell_type": "code",
   "execution_count": 76,
   "metadata": {},
   "outputs": [],
   "source": [
    "n_epochs, n_neurons, n_times = 1000, 100, 200\n",
    "n_sources = 8\n",
    "\n",
    "neural_data = np.random.normal(0, 1, (n_epochs, n_neurons, n_times))\n",
    "mixing = np.random.random((n_neurons, n_sources))\n",
    "sources_data = mixing.T @ neural_data"
   ]
  },
  {
   "cell_type": "code",
   "execution_count": 77,
   "metadata": {},
   "outputs": [],
   "source": [
    "from deepmeg.data.datasets import EpochsDataset\n",
    "\n",
    "dataset = EpochsDataset((neural_data, sources_data), savepath='../data/neural2sources')"
   ]
  },
  {
   "cell_type": "code",
   "execution_count": 78,
   "metadata": {},
   "outputs": [],
   "source": [
    "train, test = torch.utils.data.random_split(dataset, [.7, .3])"
   ]
  },
  {
   "cell_type": "code",
   "execution_count": 79,
   "metadata": {},
   "outputs": [],
   "source": [
    "X, Y = next(iter(torch.utils.data.DataLoader(train, batch_size=1)))"
   ]
  },
  {
   "cell_type": "code",
   "execution_count": 88,
   "metadata": {},
   "outputs": [
    {
     "name": "stdout",
     "output_type": "stream",
     "text": [
      "tensor([[[-0.0070,  0.7376,  2.0927,  ..., -0.1754,  0.1733, -1.3889],\n",
      "         [ 0.6768, -1.4888,  0.5969,  ..., -0.9020, -0.0555, -1.1501],\n",
      "         [ 0.3935, -0.8567,  0.8651,  ..., -1.6247, -1.5322,  2.0631],\n",
      "         ...,\n",
      "         [-1.0882,  2.0781, -0.0508,  ...,  0.7880,  0.3239,  0.1273],\n",
      "         [-1.4242,  1.5748, -0.6420,  ..., -1.0031, -1.2482,  0.8490],\n",
      "         [-0.0534, -0.4696,  0.3028,  ..., -1.3529,  1.4938,  0.2045]]])\n",
      "\n",
      "tensor([[[-0.2799, -0.0928,  0.2256,  ..., -0.1090, -0.0409, -0.1841],\n",
      "         [-0.4231,  0.0383,  0.0878,  ..., -0.2486,  0.1264,  0.2677],\n",
      "         [-0.1913, -0.2720, -0.1343,  ...,  0.1338, -0.2142,  0.5412],\n",
      "         ...,\n",
      "         [-0.2964,  0.2531,  0.2126,  ..., -0.2890,  0.4188,  0.0719],\n",
      "         [-0.3518, -0.0830, -0.1555,  ..., -0.0794, -0.4123,  0.3222],\n",
      "         [-0.0540,  0.1194,  0.5037,  ..., -0.5504, -0.0075,  0.0952]]],\n",
      "       grad_fn=<CloneBackward0>)\n"
     ]
    }
   ],
   "source": [
    "\n",
    "class PseudoInverseLinear(nn.Module):\n",
    "    def __init__(self, in_features, out_features, bias=False):\n",
    "        super(PseudoInverseLinear, self).__init__()\n",
    "        self.in_features = in_features\n",
    "        self.out_features = out_features\n",
    "\n",
    "        # Initialize the weight matrix with random values (you can replace this)\n",
    "        self.weight = nn.Parameter(torch.randn(out_features, in_features), requires_grad=True)\n",
    "\n",
    "        if bias:\n",
    "            # Initialize the bias vector with random values (you can replace this)\n",
    "            self.bias = nn.Parameter(torch.randn(out_features), requires_grad=True)\n",
    "        else:\n",
    "            self.register_parameter('bias', None)\n",
    "\n",
    "    def forward(self, input_):\n",
    "        # Calculate the pseudoinverse of the weight matrix\n",
    "        weight_pseudo_inv = torch.pinverse(self.weight)\n",
    "\n",
    "        # Apply the pseudoinverse to the input\n",
    "        output = torch.matmul(weight_pseudo_inv.t(), input_)\n",
    "        print(input_)\n",
    "        print()\n",
    "        print(torch.matmul(self.weight.t(), output))\n",
    "\n",
    "        if self.bias is not None:\n",
    "            output += self.bias\n",
    "\n",
    "        return output\n",
    "\n",
    "    def inverse(self, input_):\n",
    "\n",
    "        output = torch.matmul(self.weight.t(), input_)\n",
    "\n",
    "        if self.bias is not None:\n",
    "            output += self.bias\n",
    "\n",
    "        return output\n",
    "\n",
    "\n",
    "layer = PseudoInverseLinear(n_neurons, n_sources, bias=False)\n",
    "Y_pred = layer(X)\n"
   ]
  },
  {
   "cell_type": "code",
   "execution_count": 81,
   "metadata": {},
   "outputs": [
    {
     "data": {
      "text/plain": [
       "(torch.Size([1, 100, 200]), torch.Size([1, 8, 200]))"
      ]
     },
     "execution_count": 81,
     "metadata": {},
     "output_type": "execute_result"
    }
   ],
   "source": [
    "X.shape, Y.shape"
   ]
  },
  {
   "cell_type": "code",
   "execution_count": 82,
   "metadata": {},
   "outputs": [],
   "source": [
    "layer = PseudoInverseLinear(n_neurons, n_sources, bias=False)\n",
    "Y_pred = layer(X)"
   ]
  },
  {
   "cell_type": "code",
   "execution_count": 83,
   "metadata": {},
   "outputs": [
    {
     "data": {
      "text/plain": [
       "torch.Size([1, 8, 200])"
      ]
     },
     "execution_count": 83,
     "metadata": {},
     "output_type": "execute_result"
    }
   ],
   "source": [
    "Y_pred.shape"
   ]
  },
  {
   "cell_type": "code",
   "execution_count": 84,
   "metadata": {},
   "outputs": [],
   "source": [
    "X_pred = layer.inverse(Y_pred)"
   ]
  },
  {
   "cell_type": "code",
   "execution_count": 85,
   "metadata": {},
   "outputs": [
    {
     "data": {
      "text/plain": [
       "tensor([[[ 0.3701,  0.0998,  0.0980,  ...,  0.1088,  0.2210, -0.0138],\n",
       "         [ 0.2047,  0.0888,  0.2642,  ...,  0.2262, -0.0202, -0.1809],\n",
       "         [ 0.4177, -0.2307, -0.3622,  ..., -0.2193, -0.3200,  0.6209],\n",
       "         ...,\n",
       "         [-0.4194,  0.3992,  0.1561,  ...,  0.3293,  0.6307, -0.3261],\n",
       "         [ 0.1423, -0.0211,  0.1449,  ...,  0.1704,  0.0437,  0.2132],\n",
       "         [ 0.1384, -0.0276,  0.2082,  ...,  0.1781,  0.0891,  0.2825]]],\n",
       "       grad_fn=<CloneBackward0>)"
      ]
     },
     "execution_count": 85,
     "metadata": {},
     "output_type": "execute_result"
    }
   ],
   "source": [
    "X_pred"
   ]
  },
  {
   "cell_type": "code",
   "execution_count": 86,
   "metadata": {},
   "outputs": [
    {
     "data": {
      "text/plain": [
       "tensor([[[-0.0070,  0.7376,  2.0927,  ..., -0.1754,  0.1733, -1.3889],\n",
       "         [ 0.6768, -1.4888,  0.5969,  ..., -0.9020, -0.0555, -1.1501],\n",
       "         [ 0.3935, -0.8567,  0.8651,  ..., -1.6247, -1.5322,  2.0631],\n",
       "         ...,\n",
       "         [-1.0882,  2.0781, -0.0508,  ...,  0.7880,  0.3239,  0.1273],\n",
       "         [-1.4242,  1.5748, -0.6420,  ..., -1.0031, -1.2482,  0.8490],\n",
       "         [-0.0534, -0.4696,  0.3028,  ..., -1.3529,  1.4938,  0.2045]]])"
      ]
     },
     "execution_count": 86,
     "metadata": {},
     "output_type": "execute_result"
    }
   ],
   "source": [
    "X"
   ]
  },
  {
   "cell_type": "code",
   "execution_count": null,
   "metadata": {},
   "outputs": [],
   "source": []
  }
 ],
 "metadata": {
  "kernelspec": {
   "display_name": "venv",
   "language": "python",
   "name": "python3"
  },
  "language_info": {
   "codemirror_mode": {
    "name": "ipython",
    "version": 3
   },
   "file_extension": ".py",
   "mimetype": "text/x-python",
   "name": "python",
   "nbconvert_exporter": "python",
   "pygments_lexer": "ipython3",
   "version": "3.11.5"
  },
  "orig_nbformat": 4
 },
 "nbformat": 4,
 "nbformat_minor": 2
}
