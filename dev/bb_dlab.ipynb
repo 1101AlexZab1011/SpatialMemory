{
 "cells": [
  {
   "cell_type": "code",
   "execution_count": 34,
   "metadata": {},
   "outputs": [],
   "source": [
    "import os\n",
    "import sys\n",
    "sys.path.insert(1, os.path.realpath(os.path.pardir))\n",
    "\n",
    "import configparser\n",
    "import logging\n",
    "from functools import partial\n",
    "from typing import OrderedDict\n",
    "\n",
    "import numpy as np\n",
    "from shapely import Polygon\n",
    "\n",
    "from bbtoolkit.dynamics import DynamicsManager\n",
    "from bbtoolkit.dynamics.callbacks.attention import AttentionCallback\n",
    "from bbtoolkit.dynamics.callbacks.fov import EgoCallback, EgoSegmentationCallback, FOVCallback, ParietalWindowCallback\n",
    "from bbtoolkit.dynamics.callbacks.movement import MovementCallback, MovementSchedulerCallback, TrajectoryCallback\n",
    "from bbtoolkit.dynamics.callbacks.viz import AgentPlotter, PlottingCallback\n",
    "\n",
    "from bbtoolkit.models.bb.callbacks import FramesStoringCallback, TimerCallback\n",
    "from bbtoolkit.models.bb.callbacks.memory import ObjectWeightsUpdatingCallback\n",
    "from bbtoolkit.models.bb.callbacks.movement import MentalMovementCallback, MentalMovementSchedulerCallback, MentalPositionCallback, MentalTrajectoryCallback\n",
    "from bbtoolkit.models.bb.callbacks.populations import BVCCallback, GCRateCallback, HDCallback, IPRateCallback, OVCCallback, PCCallback, PRCallback, PWCallback,\\\n",
    "    TCCallback, oPRCallback, oPWCallback, oTCCallback\n",
    "from bbtoolkit.models.bb.callbacks.viz import AloEnvPlotter, BVCPlotter, DistanceAttentionPlotter, EgoEnvPlotter, HDPlotter, MentalAgentPlotter,\\\n",
    "    MentalTargetPlotter, MentalTrajectoryPlotter, MouseEventCallback, OVCPlotter, ObjectRecallCallback, PCPlotter, PWPlotter, PickedObjectPlotter,\\\n",
    "    TargetPlotter, TimerPlotter, TrajectoryPlotter, oPRPlotter, oPWPlotter\n",
    "from bbtoolkit.models.bb.structures import BBCache, ClickParameters, DynamicParameters, EcodingParameters\n",
    "from bbtoolkit.models.bb.utils import Grid2CartTransition, connectivity_config2dict, activity2rate\n",
    "from bbtoolkit.models.bb.neural_generators import TCGenerator, GCMap\n",
    "\n",
    "from bbtoolkit.utils.attention import DistanceAttention\n",
    "from bbtoolkit.utils.movement import MovementManager\n",
    "from bbtoolkit.utils.movement.trajectory import AStarTrajectory\n",
    "from bbtoolkit.utils.datautils import Cached\n",
    "from bbtoolkit.utils.datautils.configparser import EvalConfigParser\n",
    "from bbtoolkit.utils.math import pol2cart\n",
    "from bbtoolkit.utils.math.geometry import calculate_polar_distance, points2segments\n",
    "from bbtoolkit.utils.viz.colors import generate_cmap\n",
    "\n",
    "from bbtoolkit.environment import Environment\n",
    "from bbtoolkit.environment.compilers import DynamicEnvironmentCompiler\n",
    "from bbtoolkit.environment.compilers.callbacks import TransparentObjects\n",
    "from bbtoolkit.environment.utils import env2builder\n",
    "from bbtoolkit.environment.visible_planes import LazyVisiblePlaneWithTransparancy\n",
    "from bbtoolkit.environment.fov import FOVManager\n",
    "from bbtoolkit.environment.fov.ego import EgoManager\n",
    "\n",
    "from bbtoolkit.structures.geometry import Texture, TexturedPolygon\n",
    "from bbtoolkit.structures.tensorgroups import DirectedTensorGroup, dict2directed_tensor, DirectedTensor, TensorGroup, NamedTensor\n"
   ]
  },
  {
   "cell_type": "code",
   "execution_count": 37,
   "metadata": {},
   "outputs": [],
   "source": [
    "hd_config_path = '../cfg/cells/hd_cells.ini'\n",
    "hd_config = EvalConfigParser(interpolation=configparser.ExtendedInterpolation(), allow_no_value=True)\n",
    "hd_config.read(hd_config_path)\n",
    "\n",
    "mtl_config_path = '../cfg/cells/mtl_cells.ini'\n",
    "mtl_config = EvalConfigParser(interpolation=configparser.ExtendedInterpolation(), allow_no_value=True)\n",
    "mtl_config.read(mtl_config_path)\n",
    "\n",
    "tr_config_path = '../cfg/cells/transformation_circuit.ini'\n",
    "tr_config = EvalConfigParser(interpolation=configparser.ExtendedInterpolation(), allow_no_value=True)\n",
    "tr_config.read(tr_config_path)\n",
    "\n",
    "env_cfg = EvalConfigParser(interpolation=configparser.ExtendedInterpolation(), allow_no_value=True)\n",
    "env_cfg.read('../cfg/envs/squared_room.ini')\n",
    "\n",
    "space_cfg = mtl_config['Space']\n",
    "h_res = space_cfg.eval('res')\n",
    "r_max = space_cfg.eval('r_max')\n",
    "\n",
    "mtl_grid_cfg = mtl_config['PolarGrid']\n",
    "n_radial_points = mtl_grid_cfg.eval('n_radial_points')\n",
    "polar_dist_res = mtl_grid_cfg.eval('polar_dist_res')\n",
    "polar_ang_res = mtl_grid_cfg.eval('polar_ang_res', locals={'pi': np.pi})\n",
    "h_sig = mtl_grid_cfg.eval('sigma_hill')\n",
    "\n",
    "tr_space_cfg = tr_config['Space']\n",
    "tr_res = tr_space_cfg.eval('tr_res', locals={'pi': np.pi})\n",
    "res = tr_space_cfg.eval('res')\n",
    "\n",
    "n_steps = tr_config['Training'].eval('n_steps')\n",
    "\n",
    "hd_neurons_cfg = hd_config['Neurons']\n",
    "sigma_angular = hd_neurons_cfg.eval('sigma', locals={'pi': np.pi})\n",
    "n_hd = hd_neurons_cfg.eval('n_neurons')\n",
    "\n",
    "\n",
    "training_rect_cfg = env_cfg['TrainingRectangle']\n",
    "max_train_x = training_rect_cfg.eval('max_train_x')\n",
    "min_train_x = training_rect_cfg.eval('min_train_x')\n",
    "max_train_y = training_rect_cfg.eval('max_train_y')\n",
    "min_train_y = training_rect_cfg.eval('min_train_y')\n",
    "\n",
    "# env = Environment.load('../../../Downloads/Telegram Desktop/doellerlab_env (2).pkl')\n",
    "env = Environment.load('../data/envs/inserted_wall_environment.pkl')\n",
    "# env = Environment.load('../data/envs/square_environment.pkl')\n",
    "\n",
    "tc_gen = TCGenerator(\n",
    "    n_hd,\n",
    "    tr_res,\n",
    "    res,\n",
    "    r_max,\n",
    "    polar_dist_res,\n",
    "    n_radial_points,\n",
    "    polar_ang_res,\n",
    "    sigma_angular\n",
    ")\n",
    "\n",
    "builder = env2builder(env)\n",
    "cache_manager = Cached(cache_storage=OrderedDict(), max_size=10000)\n",
    "compiler = DynamicEnvironmentCompiler(\n",
    "    builder,\n",
    "    partial(\n",
    "        LazyVisiblePlaneWithTransparancy,\n",
    "        cache_manager=cache_manager,\n",
    "    ),\n",
    "    callbacks=[TransparentObjects()]\n",
    ")\n",
    "\n",
    "compiler.add_object(\n",
    "    # TexturedPolygon(\n",
    "    #     Polygon([\n",
    "    #         (-5, -5),\n",
    "    #         (-6, -5),\n",
    "    #         (-6, -6),\n",
    "    #         (-5, -6)\n",
    "    #     ]),\n",
    "    #     texture=Texture(\n",
    "    #         id_=31,\n",
    "    #         color='#ffd200',\n",
    "    #         name='main_object'\n",
    "    #     )\n",
    "    # ),\n",
    "    # TexturedPolygon(\n",
    "    #     Polygon([\n",
    "    #         (-7, -7),\n",
    "    #         (-8, -7),\n",
    "    #         (-8, -8),\n",
    "    #         (-7, -8)\n",
    "    #     ]),\n",
    "    #     texture=Texture(\n",
    "    #         id_=32,\n",
    "    #         color='#ffd200',\n",
    "    #         name='main_object'\n",
    "    #     )\n",
    "    # ),\n",
    "    # TexturedPolygon(\n",
    "    #     Polygon([\n",
    "    #         (2, 2),\n",
    "    #         (1, 2),\n",
    "    #         (1, 1),\n",
    "    #         (2, 1)\n",
    "    #     ]),\n",
    "    #     texture=Texture(\n",
    "    #         id_=33,\n",
    "    #         color='#ffd200',\n",
    "    #         name='main_object'\n",
    "    #     )\n",
    "    # ),\n",
    "    # TexturedPolygon(\n",
    "    #     Polygon([\n",
    "    #         (-2, 2),\n",
    "    #         (-1, 2),\n",
    "    #         (-1, 1),\n",
    "    #         (-2, 1)\n",
    "    #     ]),\n",
    "    #     texture=Texture(\n",
    "    #         id_=34,\n",
    "    #         color='#ffd200',\n",
    "    #         name='main_object'\n",
    "    #     )\n",
    "    # ),\n",
    "    TexturedPolygon(\n",
    "        Polygon([\n",
    "            (7, 7),\n",
    "            (6, 7),\n",
    "            (6, 6),\n",
    "            (7, 6)\n",
    "        ]),\n",
    "        texture=Texture(\n",
    "            id_=35,\n",
    "            color='#ffd200',\n",
    "            name='main_object'\n",
    "        )\n",
    "    )\n",
    ")"
   ]
  },
  {
   "cell_type": "code",
   "execution_count": 38,
   "metadata": {},
   "outputs": [
    {
     "data": {
      "text/plain": [
       "[<matplotlib.lines.Line2D at 0x766376e0db20>]"
      ]
     },
     "execution_count": 38,
     "metadata": {},
     "output_type": "execute_result"
    },
    {
     "data": {
      "image/png": "[encoded data removed]",
      "text/plain": [
       "<Figure size 640x480 with 1 Axes>"
      ]
     },
     "metadata": {},
     "output_type": "display_data"
    }
   ],
   "source": [
    "from bbtoolkit.utils.viz import plot_polygon\n",
    "import matplotlib.pyplot as plt\n",
    "\n",
    "fig, ax = plt.subplots()\n",
    "position = 1000 # the position of the agent (visible area has dimensionality n_positions x 2)\n",
    "env = compiler.environment\n",
    "for i, obj in enumerate(env.objects + env.walls):\n",
    "    plot_polygon(obj.polygon, ax=ax, alpha=0.5, linewidth=1)\n",
    "    ax.plot(\n",
    "        obj.visible_parts[position, :, 0],\n",
    "        obj.visible_parts[position, :, 1],\n",
    "        'o',\n",
    "        color=obj.polygon.texture.color,\n",
    "        markersize=2\n",
    "    )\n",
    "\n",
    "ax.plot(\n",
    "    env.params.coords[position, 0],\n",
    "    env.params.coords[position, 1],\n",
    "    'o'\n",
    ")"
   ]
  },
  {
   "cell_type": "code",
   "execution_count": 39,
   "metadata": {},
   "outputs": [],
   "source": [
    "config = EvalConfigParser(interpolation=configparser.ExtendedInterpolation(), allow_no_value=True)\n",
    "config.read('../cfg/connectivity/main.ini')\n",
    "\n",
    "configdict = connectivity_config2dict(config)\n",
    "connections = dict2directed_tensor(configdict)\n",
    "connectivity = DirectedTensorGroup(*connections)\n",
    "\n",
    "position = 1, -5\n",
    "# direction = -np.pi/2\n",
    "direction = 0\n",
    "fov_angle = np.pi*.9\n",
    "fov_manager = FOVManager(compiler.environment, fov_angle)\n",
    "ego_manager = EgoManager(fov_manager)\n",
    "\n",
    "cache = {'env': compiler.environment, 'tc_gen': tc_gen}\n",
    "dt = 0.01\n",
    "n_objects = len(compiler.environment.objects)\n",
    "\n",
    "polar_distance = calculate_polar_distance(tc_gen.r_max)\n",
    "polar_angle = np.linspace(0, (tc_gen.n_bvc_theta + 1) * tc_gen.polar_ang_res, tc_gen.n_bvc_theta)\n",
    "polar_distance, polar_angle = np.meshgrid(polar_distance, polar_angle)\n",
    "pdist, pang = polar_distance, polar_angle\n",
    "x_bvc, y_bvc = pol2cart(pdist, pang)\n",
    "hd_polar_res = 2 * np.pi / n_hd\n",
    "hd_angles = np.arange(0, 2 * np.pi+ hd_polar_res, hd_polar_res) + np.pi/2\n",
    "hd_dist, hd_ang = np.meshgrid(np.array([1, 1.5]), hd_angles)\n",
    "hd_x, hd_y = pol2cart(hd_dist, hd_ang)"
   ]
  },
  {
   "cell_type": "code",
   "execution_count": 40,
   "metadata": {},
   "outputs": [],
   "source": [
    "# mtl_weights = DirectedTensorGroup.load('../../../Downloads/Telegram Desktop/mtl_weights (5).pkl')\n",
    "# tc_weights = DirectedTensorGroup.load('../../../Downloads/Telegram Desktop/tc_weights (2).pkl')\n",
    "# hd_weights = DirectedTensorGroup.load('../../../Downloads/Telegram Desktop/hd_weights (2).pkl')\n",
    "# pc_weights = DirectedTensorGroup.load('../../../Downloads/Telegram Desktop/pc_weights (2).pkl')\n",
    "# gc_map = GCMap.load('../../../Downloads/Telegram Desktop/gc_map (2).pkl')\n",
    "\n",
    "mtl_weights = DirectedTensorGroup.load('../data/weights/mtl_weights_inserted_wall.pkl')\n",
    "tc_weights = DirectedTensorGroup.load('../data/weights/tc_weights_inserted_wall.pkl')\n",
    "hd_weights = DirectedTensorGroup.load('../data/weights/hd_weights_inserted_wall.pkl')\n",
    "pc_weights = DirectedTensorGroup.load('../data/weights/pc_weights_inserted_wall.pkl')\n",
    "gc_map = GCMap.load('../data/weights/gc_map_inserted_wall.pkl')\n",
    "\n",
    "# mtl_weights = DirectedTensorGroup.load('../data/weights/mtl_weights_square.pkl')\n",
    "# tc_weights = DirectedTensorGroup.load('../data/weights/tc_weights_square.pkl')\n",
    "# hd_weights = DirectedTensorGroup.load('../data/weights/hd_weights_square.pkl')\n",
    "# pc_weights = DirectedTensorGroup.load('../data/weights/pc_weights_square.pkl')\n",
    "# gc_map = GCMap.load('../data/weights/gc_map_square.pkl')\n",
    "\n",
    "weights = mtl_weights + tc_weights + hd_weights + pc_weights\n",
    "\n",
    "n_h_neurons = len(weights.h.to.h)\n",
    "n_bvc_neurons = n_opw_neurons = n_ovc_neurons = len(weights.bvc.to.bvc)\n",
    "n_pr_neurons = len(weights.pr.to.pr)\n",
    "n_hd_neurons = len(weights.hd.to.hd)\n",
    "n_pc_neurons = len(weights.gc.to.h)\n",
    "n_gc_neurons = len(weights.gc.to.h.T)\n",
    "n_tc_layers = len(weights.tr.to.pw.T)\n",
    "\n",
    "tr_projection = DirectedTensorGroup(\n",
    "    DirectedTensor(\n",
    "        from_='bvc',\n",
    "        to='tr',\n",
    "        weights=np.eye(n_bvc_neurons)\n",
    "    ),\n",
    "    DirectedTensor(\n",
    "        from_='tr',\n",
    "        to='bvc',\n",
    "        weights=np.eye(n_bvc_neurons)\n",
    "    )\n",
    ")\n",
    "\n",
    "new_pathways = DirectedTensorGroup(\n",
    "    DirectedTensor(\n",
    "        from_='h',\n",
    "        to='opr',\n",
    "        weights=np.zeros((n_objects, n_h_neurons))\n",
    "    ),\n",
    "    DirectedTensor(\n",
    "        from_='opr',\n",
    "        to='h',\n",
    "        weights=np.zeros((n_h_neurons, n_objects))\n",
    "    ),\n",
    "    DirectedTensor(\n",
    "        from_='h',\n",
    "        to='ovc',\n",
    "        weights=np.zeros((n_ovc_neurons, n_h_neurons))\n",
    "    ),\n",
    "    DirectedTensor(\n",
    "        from_='ovc',\n",
    "        to='h',\n",
    "        weights=np.zeros((n_h_neurons, n_ovc_neurons))\n",
    "    ),\n",
    "    DirectedTensor(\n",
    "        from_='ovc',\n",
    "        to='ovc',\n",
    "        weights=np.zeros((n_ovc_neurons, n_ovc_neurons))\n",
    "    ),\n",
    "    DirectedTensor(\n",
    "        from_='bvc',\n",
    "        to='ovc',\n",
    "        weights=np.zeros((n_ovc_neurons, n_bvc_neurons))\n",
    "    ),\n",
    "    DirectedTensor(\n",
    "        from_='ovc',\n",
    "        to='bvc',\n",
    "        weights=np.zeros((n_bvc_neurons, n_ovc_neurons))\n",
    "    ),\n",
    "    DirectedTensor(\n",
    "        from_='opw',\n",
    "        to='opw',\n",
    "        weights=np.zeros((n_opw_neurons, n_opw_neurons))\n",
    "    ),\n",
    "    DirectedTensor(\n",
    "        from_='ovc',\n",
    "        to='opr',\n",
    "        weights=np.zeros((n_objects, n_ovc_neurons))\n",
    "    ),\n",
    "    DirectedTensor(\n",
    "        from_='opr',\n",
    "        to='ovc',\n",
    "        weights=np.zeros((n_ovc_neurons, n_objects))\n",
    "    ),\n",
    "    DirectedTensor(\n",
    "        from_='opr',\n",
    "        to='pw',\n",
    "        weights=np.zeros((n_opw_neurons, n_objects))\n",
    "    ),\n",
    "    DirectedTensor(\n",
    "        from_='opr',\n",
    "        to='hd',\n",
    "        weights=np.zeros((n_hd_neurons, n_objects))\n",
    "    ),\n",
    "    DirectedTensor(\n",
    "        from_='bvc',\n",
    "        to='opr',\n",
    "        weights=np.zeros((n_objects, n_bvc_neurons))\n",
    "    ),\n",
    "    DirectedTensor(\n",
    "        from_='opr',\n",
    "        to='bvc',\n",
    "        weights=np.zeros((n_bvc_neurons, n_objects))\n",
    "    ),\n",
    "    DirectedTensor(\n",
    "        from_='opr',\n",
    "        to='opr',\n",
    "        weights=np.zeros((n_objects, n_objects))\n",
    "    ),\n",
    ")\n",
    "\n",
    "weights += tr_projection\n",
    "weights += new_pathways\n",
    "\n",
    "weights = weights.operation_with(connectivity, lambda a, b: a - b.get('inhibitory_phi', 0), on_missing_weights='ignore', on_missing_sources='ignore')"
   ]
  },
  {
   "cell_type": "code",
   "execution_count": 41,
   "metadata": {},
   "outputs": [],
   "source": [
    "activity = TensorGroup(\n",
    "    NamedTensor('h', np.zeros((n_h_neurons, 1))),\n",
    "    NamedTensor('bvc', np.zeros((n_bvc_neurons, 1))),\n",
    "    NamedTensor('pr', np.zeros((n_pr_neurons, 1))),\n",
    "    NamedTensor('pw', np.zeros((n_bvc_neurons, 1))),\n",
    "    NamedTensor('hd', np.zeros((n_hd_neurons, 1))),\n",
    "    NamedTensor('ovc', np.zeros((n_ovc_neurons, 1))),\n",
    "    NamedTensor('opw', np.zeros((n_opw_neurons, 1))),\n",
    "    NamedTensor('opr', np.zeros((n_objects, 1))),\n",
    "    NamedTensor('tr', np.zeros((n_tc_layers, n_bvc_neurons, 1))),\n",
    "    NamedTensor('otr', np.zeros((n_tc_layers, n_bvc_neurons, 1)))\n",
    ")\n",
    "\n",
    "walls_ego, objects_ego = ego_manager(position, direction)\n",
    "wall_segments = np.concatenate([points2segments(wall) for wall in walls_ego if wall.size])\n",
    "ego_input_walls = tc_gen.get_grid_activity(wall_segments)\n",
    "hd_cue_init = 40*tc_gen.get_hd_activity(np.array([direction]))\n",
    "hd_cue = np.zeros_like(hd_cue_init)\n",
    "ohd_cue = hd_cue.copy()\n",
    "pr_cue = np.zeros((n_pr_neurons, 1))\n",
    "\n",
    "k_ratio = TensorGroup(\n",
    "    NamedTensor('h', np.zeros((n_h_neurons, 1))),\n",
    "    NamedTensor('bvc', np.zeros((n_bvc_neurons, 1))),\n",
    "    NamedTensor('pr', np.zeros((n_pr_neurons, 1))),\n",
    "    NamedTensor('opr', np.zeros((n_objects, 1))),\n",
    "    NamedTensor('hd', np.zeros((n_hd_neurons, 1))),\n",
    "    NamedTensor('pw', np.expand_dims(40*ego_input_walls, 1)), # FIXME: why 40?\n",
    "    NamedTensor('ovc', np.zeros((n_ovc_neurons, 1))),\n",
    "    NamedTensor('opw', np.zeros((n_opw_neurons, 1))),\n",
    "    NamedTensor('tr', np.zeros((n_tc_layers, n_bvc_neurons, 1))),\n",
    "    NamedTensor('otr', np.zeros((n_tc_layers, n_bvc_neurons, 1))),\n",
    ")\n",
    "\n",
    "activity.pw += dt/connectivity.pw.to.pw['tau']*k_ratio.pw"
   ]
  },
  {
   "cell_type": "code",
   "execution_count": 42,
   "metadata": {},
   "outputs": [],
   "source": [
    "rates = activity2rate(activity, connectivity)\n",
    "rates.add_tensor(NamedTensor('gc', np.array([])))\n",
    "rates.add_tensor(NamedTensor('ip', np.array([])))"
   ]
  },
  {
   "cell_type": "code",
   "execution_count": 43,
   "metadata": {},
   "outputs": [],
   "source": [
    "red = '#b20000'\n",
    "green = '#00b2b2'\n",
    "cmap = generate_cmap(*[\n",
    "    green,\n",
    "    '#fff',\n",
    "    red\n",
    "])"
   ]
  },
  {
   "cell_type": "code",
   "execution_count": 58,
   "metadata": {},
   "outputs": [
    {
     "data": {
      "text/plain": [
       "array([[4.75663849e-03, 5.17587249e-03, 4.13567169e-03, ...,\n",
       "        3.27897071e-03, 3.13103698e-03, 3.37245944e-03],\n",
       "       [4.62622796e-03, 4.64815686e-03, 3.43086524e-03, ...,\n",
       "        3.33400180e-03, 3.18264243e-03, 3.44961551e-03],\n",
       "       [4.50817040e-03, 4.17088022e-03, 2.75959278e-03, ...,\n",
       "        3.41040285e-03, 3.26278483e-03, 3.57680916e-03],\n",
       "       ...,\n",
       "       [4.33499478e-03, 3.83570926e-03, 2.25535908e-03, ...,\n",
       "        5.16195459e-20, 3.03539046e-20, 1.93613223e-20],\n",
       "       [4.43787611e-03, 3.91692454e-03, 2.30647160e-03, ...,\n",
       "        5.25689443e-20, 3.09148414e-20, 1.99471583e-20],\n",
       "       [4.55432073e-03, 4.00583305e-03, 2.36390828e-03, ...,\n",
       "        5.35655433e-20, 3.15010355e-20, 2.04483334e-20]])"
      ]
     },
     "execution_count": 58,
     "metadata": {},
     "output_type": "execute_result"
    }
   ],
   "source": [
    "weights.bvc.to.h"
   ]
  },
  {
   "cell_type": "code",
   "execution_count": 59,
   "metadata": {},
   "outputs": [
    {
     "data": {
      "text/plain": [
       "array([[6.81724376e-04, 6.71056753e-04, 5.38366750e-04, ...,\n",
       "        3.88711762e-04, 4.03408058e-04, 4.88436073e-04],\n",
       "       [9.20147457e-04, 8.36330975e-04, 6.19808543e-04, ...,\n",
       "        5.48501346e-04, 5.69070330e-04, 6.93351422e-04],\n",
       "       [9.96102130e-04, 8.33677861e-04, 5.53824344e-04, ...,\n",
       "        6.23290768e-04, 6.48096497e-04, 7.98641055e-04],\n",
       "       ...,\n",
       "       [1.02951404e-03, 8.24055344e-04, 4.86500048e-04, ...,\n",
       "        1.01400323e-20, 6.48046177e-21, 4.64655439e-21],\n",
       "       [9.52327460e-04, 7.60367146e-04, 4.49554907e-04, ...,\n",
       "        9.33086391e-21, 5.96383816e-21, 4.32558136e-21],\n",
       "       [7.06947888e-04, 5.62501442e-04, 3.33286642e-04, ...,\n",
       "        6.87750270e-21, 4.39578368e-21, 3.20755436e-21]])"
      ]
     },
     "execution_count": 59,
     "metadata": {},
     "output_type": "execute_result"
    }
   ],
   "source": [
    "weights.h.to.bvc.T"
   ]
  },
  {
   "cell_type": "code",
   "execution_count": 70,
   "metadata": {},
   "outputs": [],
   "source": [
    "from typing import Mapping\n",
    "\n",
    "from bbtoolkit.dynamics.callbacks import BaseCallback\n",
    "\n",
    "class PCCallback(BaseCallback):\n",
    "    def __init__(self, i_comp: float = 0, i_comp_scale: float = 1):\n",
    "        super().__init__()\n",
    "        self.i_comp = i_comp\n",
    "        self.i_comp_scale = i_comp_scale\n",
    "\n",
    "    def set_cache(self, cache: Mapping, on_repeat: str = 'raise'):\n",
    "        cache['rates'].add_tensor(NamedTensor('i_comp', np.array([self.i_comp]).astype(float)))\n",
    "        self.requires = [\n",
    "            'dynamics_params',\n",
    "            'k_ratio',\n",
    "            'activity',\n",
    "            'connectivity',\n",
    "            'weights',\n",
    "            'rates',\n",
    "            'grid2cart'\n",
    "        ]\n",
    "        super().set_cache(cache, on_repeat)\n",
    "        self.dt = self.dynamics_params['dt']\n",
    "\n",
    "    def on_step_begin(self, step: int):\n",
    "        self.cache['k_ratio'].h = (\n",
    "            - self.activity.h\n",
    "            # + self.connectivity.h.to.h['phi']*self.weights.h.to.h@self.rates.h\n",
    "            # + self.connectivity.pr.to.h['phi']*self.weights.pr.to.h@self.rates.pr\n",
    "            # + self.connectivity.ovc.to.h['phi']*self.weights.ovc.to.h@self.rates.ovc\n",
    "            + self.rates.i_comp\n",
    "        )\n",
    "        match self.dynamics_params['mode']:\n",
    "            case 'bottom-up':\n",
    "                self.cache['k_ratio'].h += self.connectivity.bvc.to.h['phi']*self.weights.bvc.to.h@self.rates.bvc\n",
    "            case 'recall':\n",
    "                self.cache['k_ratio'].h += self.connectivity.opr.to.h['phi']*self.weights.opr.to.h@self.rates.opr\n",
    "            case 'top-down':\n",
    "                self.cache['k_ratio'].h += self.connectivity.opr.to.h['phi']*self.weights.opr.to.h@self.rates.opr +\\\n",
    "                    self.connectivity.gc.to.h['phi']*self.weights.gc.to.h@self.rates.gc\n",
    "\n",
    "        self.activity.h += self.dt/self.connectivity.h.to.h['tau']*self.cache['k_ratio'].h\n",
    "        # self.rates.h = 1/(1 + np.exp(-2*self.connectivity.h.to.h['beta']*(self.activity.h - self.connectivity.h.to.h['alpha'])))\n",
    "        self.rates.h = self.weights.bvc.to.h@self.rates.bvc\n",
    "        self.rates.i_comp += self.dt/self.connectivity.ic.to.ic['tau']*(self.i_comp_scale - np.sum(self.rates.h))\n"
   ]
  },
  {
   "cell_type": "code",
   "execution_count": 71,
   "metadata": {},
   "outputs": [
    {
     "ename": "KeyboardInterrupt",
     "evalue": "",
     "output_type": "error",
     "traceback": [
      "\u001b[0;31m---------------------------------------------------------------------------\u001b[0m",
      "\u001b[0;31mKeyboardInterrupt\u001b[0m                         Traceback (most recent call last)",
      "Cell \u001b[0;32mIn[71], line 131\u001b[0m\n\u001b[1;32m     36\u001b[0m cache[\u001b[38;5;124m'\u001b[39m\u001b[38;5;124mweights\u001b[39m\u001b[38;5;124m'\u001b[39m]\u001b[38;5;241m.\u001b[39mbvc\u001b[38;5;241m.\u001b[39mto\u001b[38;5;241m.\u001b[39mtr \u001b[38;5;241m=\u001b[39m np\u001b[38;5;241m.\u001b[39meye(\u001b[38;5;28mlen\u001b[39m(weights\u001b[38;5;241m.\u001b[39mtr\u001b[38;5;241m.\u001b[39mto\u001b[38;5;241m.\u001b[39mbvc))\n\u001b[1;32m     38\u001b[0m dynamics \u001b[38;5;241m=\u001b[39m DynamicsManager(\n\u001b[1;32m     39\u001b[0m     dt,\n\u001b[1;32m     40\u001b[0m     callbacks\u001b[38;5;241m=\u001b[39m[\n\u001b[0;32m   (...)\u001b[0m\n\u001b[1;32m    127\u001b[0m     cache\u001b[38;5;241m=\u001b[39mcache\n\u001b[1;32m    128\u001b[0m )\n\u001b[0;32m--> 131\u001b[0m \u001b[38;5;28;43;01mfor\u001b[39;49;00m\u001b[43m \u001b[49m\u001b[43m_\u001b[49m\u001b[43m \u001b[49m\u001b[38;5;129;43;01min\u001b[39;49;00m\u001b[43m \u001b[49m\u001b[43mdynamics\u001b[49m\u001b[43m(\u001b[49m\u001b[38;5;28;43;01mTrue\u001b[39;49;00m\u001b[43m)\u001b[49m\u001b[43m:\u001b[49m\n\u001b[1;32m    132\u001b[0m \u001b[43m    \u001b[49m\u001b[38;5;28;43mprint\u001b[39;49m\u001b[43m(\u001b[49m\u001b[38;5;124;43m'\u001b[39;49m\u001b[38;5;124;43mout: \u001b[39;49m\u001b[38;5;124;43m'\u001b[39;49m\u001b[43m,\u001b[49m\u001b[43m \u001b[49m\u001b[43m_\u001b[49m\u001b[43m)\u001b[49m\n",
      "File \u001b[0;32m~/Projects/SpatialMemory/bbtoolkit/dynamics/__init__.py:96\u001b[0m, in \u001b[0;36mDynamicsManager.__call__\u001b[0;34m(self, time)\u001b[0m\n\u001b[1;32m     94\u001b[0m \u001b[38;5;28;01mif\u001b[39;00m \u001b[38;5;28misinstance\u001b[39m(time, \u001b[38;5;28mbool\u001b[39m):\n\u001b[1;32m     95\u001b[0m     \u001b[38;5;28;01mwhile\u001b[39;00m time:\n\u001b[0;32m---> 96\u001b[0m         \u001b[38;5;28;01myield\u001b[39;00m \u001b[38;5;28;43mself\u001b[39;49m\u001b[38;5;241;43m.\u001b[39;49m\u001b[43mrun\u001b[49m\u001b[43m(\u001b[49m\u001b[38;5;28;43mself\u001b[39;49m\u001b[38;5;241;43m.\u001b[39;49m\u001b[43msteps_per_cycle\u001b[49m\u001b[43m)\u001b[49m\n\u001b[1;32m     97\u001b[0m \u001b[38;5;28;01melif\u001b[39;00m \u001b[38;5;28misinstance\u001b[39m(time, (\u001b[38;5;28mint\u001b[39m, \u001b[38;5;28mfloat\u001b[39m)):\n\u001b[1;32m     98\u001b[0m     rest \u001b[38;5;241m=\u001b[39m \u001b[38;5;28mint\u001b[39m(time\u001b[38;5;241m*\u001b[39m\u001b[38;5;28mself\u001b[39m\u001b[38;5;241m.\u001b[39msteps_per_cycle\u001b[38;5;241m%\u001b[39m\u001b[38;5;28mself\u001b[39m\u001b[38;5;241m.\u001b[39msteps_per_cycle)\n",
      "File \u001b[0;32m~/Projects/SpatialMemory/bbtoolkit/dynamics/__init__.py:75\u001b[0m, in \u001b[0;36mDynamicsManager.run\u001b[0;34m(self, n_steps)\u001b[0m\n\u001b[1;32m     72\u001b[0m \u001b[38;5;28mself\u001b[39m\u001b[38;5;241m.\u001b[39mcallbacks\u001b[38;5;241m.\u001b[39mexecute(\u001b[38;5;124m'\u001b[39m\u001b[38;5;124mon_iteration_begin\u001b[39m\u001b[38;5;124m'\u001b[39m, n_steps)\n\u001b[1;32m     74\u001b[0m \u001b[38;5;28;01mfor\u001b[39;00m _ \u001b[38;5;129;01min\u001b[39;00m \u001b[38;5;28mrange\u001b[39m(n_steps):\n\u001b[0;32m---> 75\u001b[0m     \u001b[38;5;28;43mself\u001b[39;49m\u001b[38;5;241;43m.\u001b[39;49m\u001b[43m_step\u001b[49m\u001b[43m(\u001b[49m\u001b[43m)\u001b[49m\n\u001b[1;32m     77\u001b[0m \u001b[38;5;28;01mreturn\u001b[39;00m \u001b[38;5;28mself\u001b[39m\u001b[38;5;241m.\u001b[39mcallbacks\u001b[38;5;241m.\u001b[39mexecute(\u001b[38;5;124m'\u001b[39m\u001b[38;5;124mon_iteration_end\u001b[39m\u001b[38;5;124m'\u001b[39m, \u001b[38;5;28mself\u001b[39m\u001b[38;5;241m.\u001b[39mtimer\u001b[38;5;241m/\u001b[39m\u001b[38;5;28mself\u001b[39m\u001b[38;5;241m.\u001b[39msteps_per_cycle)\n",
      "File \u001b[0;32m~/Projects/SpatialMemory/bbtoolkit/dynamics/__init__.py:55\u001b[0m, in \u001b[0;36mDynamicsManager._step\u001b[0;34m(self)\u001b[0m\n\u001b[1;32m     52\u001b[0m \u001b[38;5;28;01mif\u001b[39;00m \u001b[38;5;129;01mnot\u001b[39;00m \u001b[38;5;28mself\u001b[39m\u001b[38;5;241m.\u001b[39mtimer\u001b[38;5;241m%\u001b[39m\u001b[38;5;28mself\u001b[39m\u001b[38;5;241m.\u001b[39msteps_per_cycle: \u001b[38;5;66;03m# only if new cycle is started\u001b[39;00m\n\u001b[1;32m     53\u001b[0m     \u001b[38;5;28mself\u001b[39m\u001b[38;5;241m.\u001b[39mcallbacks\u001b[38;5;241m.\u001b[39mexecute(\u001b[38;5;124m'\u001b[39m\u001b[38;5;124mon_cycle_begin\u001b[39m\u001b[38;5;124m'\u001b[39m, \u001b[38;5;28mself\u001b[39m\u001b[38;5;241m.\u001b[39mtimer)\n\u001b[0;32m---> 55\u001b[0m \u001b[38;5;28;43mself\u001b[39;49m\u001b[38;5;241;43m.\u001b[39;49m\u001b[43mcallbacks\u001b[49m\u001b[38;5;241;43m.\u001b[39;49m\u001b[43mexecute\u001b[49m\u001b[43m(\u001b[49m\u001b[38;5;124;43m'\u001b[39;49m\u001b[38;5;124;43mon_step_begin\u001b[39;49m\u001b[38;5;124;43m'\u001b[39;49m\u001b[43m,\u001b[49m\u001b[43m \u001b[49m\u001b[38;5;28;43mself\u001b[39;49m\u001b[38;5;241;43m.\u001b[39;49m\u001b[43mtimer\u001b[49m\u001b[38;5;241;43m%\u001b[39;49m\u001b[38;5;28;43mself\u001b[39;49m\u001b[38;5;241;43m.\u001b[39;49m\u001b[43msteps_per_cycle\u001b[49m\u001b[43m)\u001b[49m\n\u001b[1;32m     56\u001b[0m \u001b[38;5;28mself\u001b[39m\u001b[38;5;241m.\u001b[39mtimer \u001b[38;5;241m+\u001b[39m\u001b[38;5;241m=\u001b[39m \u001b[38;5;241m1\u001b[39m\n\u001b[1;32m     57\u001b[0m \u001b[38;5;28mself\u001b[39m\u001b[38;5;241m.\u001b[39mcallbacks\u001b[38;5;241m.\u001b[39mexecute(\u001b[38;5;124m'\u001b[39m\u001b[38;5;124mon_step_end\u001b[39m\u001b[38;5;124m'\u001b[39m, \u001b[38;5;28mself\u001b[39m\u001b[38;5;241m.\u001b[39mtimer\u001b[38;5;241m%\u001b[39m\u001b[38;5;28mself\u001b[39m\u001b[38;5;241m.\u001b[39msteps_per_cycle)\n",
      "File \u001b[0;32m~/Projects/SpatialMemory/bbtoolkit/structures/__init__.py:155\u001b[0m, in \u001b[0;36mCallbacksCollection.execute\u001b[0;34m(self, method, *args, **kwargs)\u001b[0m\n\u001b[1;32m    143\u001b[0m \u001b[38;5;28;01mdef\u001b[39;00m \u001b[38;5;21mexecute\u001b[39m(\u001b[38;5;28mself\u001b[39m, method: \u001b[38;5;28mstr\u001b[39m, \u001b[38;5;241m*\u001b[39margs, \u001b[38;5;241m*\u001b[39m\u001b[38;5;241m*\u001b[39mkwargs):\n\u001b[1;32m    144\u001b[0m \u001b[38;5;250m    \u001b[39m\u001b[38;5;124;03m\"\"\"\u001b[39;00m\n\u001b[1;32m    145\u001b[0m \u001b[38;5;124;03m    Executes a specified method on all callback objects in the collection.\u001b[39;00m\n\u001b[1;32m    146\u001b[0m \n\u001b[0;32m   (...)\u001b[0m\n\u001b[1;32m    153\u001b[0m \u001b[38;5;124;03m        tuple: A tuple containing the results of executing the method on each callback object.\u001b[39;00m\n\u001b[1;32m    154\u001b[0m \u001b[38;5;124;03m    \"\"\"\u001b[39;00m\n\u001b[0;32m--> 155\u001b[0m     \u001b[38;5;28;01mreturn\u001b[39;00m \u001b[38;5;28mtuple\u001b[39m([\u001b[38;5;28;43mgetattr\u001b[39;49m\u001b[43m(\u001b[49m\u001b[43mcallback\u001b[49m\u001b[43m,\u001b[49m\u001b[43m \u001b[49m\u001b[43mmethod\u001b[49m\u001b[43m)\u001b[49m\u001b[43m(\u001b[49m\u001b[38;5;241;43m*\u001b[39;49m\u001b[43margs\u001b[49m\u001b[43m,\u001b[49m\u001b[43m \u001b[49m\u001b[38;5;241;43m*\u001b[39;49m\u001b[38;5;241;43m*\u001b[39;49m\u001b[43mkwargs\u001b[49m\u001b[43m)\u001b[49m \u001b[38;5;28;01mfor\u001b[39;00m callback \u001b[38;5;129;01min\u001b[39;00m \u001b[38;5;28mself\u001b[39m])\n",
      "File \u001b[0;32m~/Projects/SpatialMemory/bbtoolkit/models/bb/callbacks/populations.py:919\u001b[0m, in \u001b[0;36moTCCallback.on_step_begin\u001b[0;34m(self, step)\u001b[0m\n\u001b[1;32m    915\u001b[0m     \u001b[38;5;28;01mcase\u001b[39;00m \u001b[38;5;124m'\u001b[39m\u001b[38;5;124mrecall\u001b[39m\u001b[38;5;124m'\u001b[39m \u001b[38;5;241m|\u001b[39m \u001b[38;5;124m'\u001b[39m\u001b[38;5;124mtop-down\u001b[39m\u001b[38;5;124m'\u001b[39m:\n\u001b[1;32m    916\u001b[0m         \u001b[38;5;28mself\u001b[39m\u001b[38;5;241m.\u001b[39mk_ratio\u001b[38;5;241m.\u001b[39motr \u001b[38;5;241m+\u001b[39m\u001b[38;5;241m=\u001b[39m \u001b[38;5;28mself\u001b[39m\u001b[38;5;241m.\u001b[39mconnectivity\u001b[38;5;241m.\u001b[39mbvc\u001b[38;5;241m.\u001b[39mto\u001b[38;5;241m.\u001b[39mtr[\u001b[38;5;124m'\u001b[39m\u001b[38;5;124mphi\u001b[39m\u001b[38;5;124m'\u001b[39m]\u001b[38;5;241m*\u001b[39m\u001b[38;5;28mself\u001b[39m\u001b[38;5;241m.\u001b[39mweights\u001b[38;5;241m.\u001b[39mbvc\u001b[38;5;241m.\u001b[39mto\u001b[38;5;241m.\u001b[39mtr \u001b[38;5;241m@\u001b[39m \u001b[38;5;28mself\u001b[39m\u001b[38;5;241m.\u001b[39mrates\u001b[38;5;241m.\u001b[39movc\n\u001b[0;32m--> 919\u001b[0m \u001b[38;5;28;43mself\u001b[39;49m\u001b[38;5;241;43m.\u001b[39;49m\u001b[43mactivity\u001b[49m\u001b[38;5;241m.\u001b[39motr \u001b[38;5;241m+\u001b[39m\u001b[38;5;241m=\u001b[39m \u001b[38;5;28mself\u001b[39m\u001b[38;5;241m.\u001b[39mdt\u001b[38;5;241m/\u001b[39m\u001b[38;5;28mself\u001b[39m\u001b[38;5;241m.\u001b[39mconnectivity\u001b[38;5;241m.\u001b[39motr\u001b[38;5;241m.\u001b[39mto\u001b[38;5;241m.\u001b[39motr[\u001b[38;5;124m'\u001b[39m\u001b[38;5;124mtau\u001b[39m\u001b[38;5;124m'\u001b[39m]\u001b[38;5;241m*\u001b[39m\u001b[38;5;28mself\u001b[39m\u001b[38;5;241m.\u001b[39mk_ratio\u001b[38;5;241m.\u001b[39motr\n\u001b[1;32m    921\u001b[0m \u001b[38;5;28mself\u001b[39m\u001b[38;5;241m.\u001b[39mrates\u001b[38;5;241m.\u001b[39motr \u001b[38;5;241m=\u001b[39m \u001b[38;5;241m1\u001b[39m\u001b[38;5;241m/\u001b[39m(\u001b[38;5;241m1\u001b[39m \u001b[38;5;241m+\u001b[39m np\u001b[38;5;241m.\u001b[39mexp(\u001b[38;5;241m-\u001b[39m\u001b[38;5;241m2\u001b[39m\u001b[38;5;241m*\u001b[39m\u001b[38;5;28mself\u001b[39m\u001b[38;5;241m.\u001b[39mconnectivity\u001b[38;5;241m.\u001b[39mtr\u001b[38;5;241m.\u001b[39mto\u001b[38;5;241m.\u001b[39mtr[\u001b[38;5;124m'\u001b[39m\u001b[38;5;124mbeta\u001b[39m\u001b[38;5;124m'\u001b[39m]\u001b[38;5;241m*\u001b[39m(\u001b[38;5;28mself\u001b[39m\u001b[38;5;241m.\u001b[39mactivity\u001b[38;5;241m.\u001b[39motr \u001b[38;5;241m-\u001b[39m \u001b[38;5;28mself\u001b[39m\u001b[38;5;241m.\u001b[39mconnectivity\u001b[38;5;241m.\u001b[39mtr\u001b[38;5;241m.\u001b[39mto\u001b[38;5;241m.\u001b[39mtr[\u001b[38;5;124m'\u001b[39m\u001b[38;5;124malpha\u001b[39m\u001b[38;5;124m'\u001b[39m])))\n",
      "File \u001b[0;32m~/Projects/SpatialMemory/bbtoolkit/structures/__init__.py:285\u001b[0m, in \u001b[0;36mBaseCallback.__getattribute__\u001b[0;34m(self, _BaseCallback__name)\u001b[0m\n\u001b[1;32m    279\u001b[0m                 \u001b[38;5;28;01mcase\u001b[39;00m\u001b[38;5;250m \u001b[39m\u001b[38;5;28;01m_\u001b[39;00m:\n\u001b[1;32m    280\u001b[0m                     \u001b[38;5;28;01mraise\u001b[39;00m \u001b[38;5;167;01mValueError\u001b[39;00m(\n\u001b[1;32m    281\u001b[0m                         \u001b[38;5;124mf\u001b[39m\u001b[38;5;124m'\u001b[39m\u001b[38;5;124mInvalid value for on_repeat: \u001b[39m\u001b[38;5;132;01m{\u001b[39;00mon_repeat\u001b[38;5;132;01m}\u001b[39;00m\u001b[38;5;124m.\u001b[39m\u001b[38;5;130;01m\\n\u001b[39;00m\u001b[38;5;124m'\u001b[39m\n\u001b[1;32m    282\u001b[0m                         \u001b[38;5;124m'\u001b[39m\u001b[38;5;124mValid values are \u001b[39m\u001b[38;5;124m\"\u001b[39m\u001b[38;5;124mraise\u001b[39m\u001b[38;5;124m\"\u001b[39m\u001b[38;5;124m, \u001b[39m\u001b[38;5;124m\"\u001b[39m\u001b[38;5;124mignore\u001b[39m\u001b[38;5;124m\"\u001b[39m\u001b[38;5;124m, and \u001b[39m\u001b[38;5;124m\"\u001b[39m\u001b[38;5;124moverwrite\u001b[39m\u001b[38;5;124m\"\u001b[39m\u001b[38;5;124m.\u001b[39m\u001b[38;5;124m'\u001b[39m\n\u001b[1;32m    283\u001b[0m                     )\n\u001b[0;32m--> 285\u001b[0m \u001b[38;5;28;01mdef\u001b[39;00m \u001b[38;5;21m__getattribute__\u001b[39m(\u001b[38;5;28mself\u001b[39m, __name: \u001b[38;5;28mstr\u001b[39m) \u001b[38;5;241m-\u001b[39m\u001b[38;5;241m>\u001b[39m Any:\n\u001b[1;32m    286\u001b[0m \u001b[38;5;250m    \u001b[39m\u001b[38;5;124;03m'''\u001b[39;00m\n\u001b[1;32m    287\u001b[0m \u001b[38;5;124;03m    Overrides the default behavior for attribute access by checking if the attribute is in the cache and mutable.\u001b[39;00m\n\u001b[1;32m    288\u001b[0m \n\u001b[0;32m   (...)\u001b[0m\n\u001b[1;32m    296\u001b[0m \u001b[38;5;124;03m        * If the attribute is in the cache, it checks if the value is the same as the one in the cache. All values must be mutable.\u001b[39;00m\n\u001b[1;32m    297\u001b[0m \u001b[38;5;124;03m    '''\u001b[39;00m\n\u001b[1;32m    298\u001b[0m     out \u001b[38;5;241m=\u001b[39m \u001b[38;5;28msuper\u001b[39m()\u001b[38;5;241m.\u001b[39m\u001b[38;5;21m__getattribute__\u001b[39m(__name)\n",
      "\u001b[0;31mKeyboardInterrupt\u001b[0m: "
     ]
    }
   ],
   "source": [
    "%matplotlib qt\n",
    "\n",
    "logging.getLogger('matplotlib').setLevel(logging.WARNING)\n",
    "\n",
    "dt = .005\n",
    "\n",
    "position = (7, -7)\n",
    "direction = np.pi/2\n",
    "attn_dist = 7.5\n",
    "\n",
    "connectivity2use = connectivity.copy()\n",
    "connectivity2use.h.to.h['phi'] = 4\n",
    "# connectivity2use.pr.to.h['phi'] = 0\n",
    "# connectivity2use.ovc.to.h['phi'] = 0\n",
    "# connectivity2use.bvc.to.h['phi'] = 1000\n",
    "\n",
    "\n",
    "weights2use = weights.copy()\n",
    "# weights2use.bvc.to.h = bvc2h\n",
    "\n",
    "cache = BBCache(\n",
    "    connectivity2use,\n",
    "    weights2use,\n",
    "    k_ratio.copy(),\n",
    "    activity.copy(),\n",
    "    rates.copy(),\n",
    "    tc_gen,\n",
    "    compiler.environment,\n",
    "    Grid2CartTransition(compiler.environment),\n",
    "    DynamicParameters(dt, 'bottom-up'),\n",
    "    EcodingParameters(),\n",
    "    ClickParameters()\n",
    ")\n",
    "\n",
    "cache['weights'].tr.to.bvc = np.eye(len(weights.tr.to.bvc))\n",
    "cache['weights'].bvc.to.tr = np.eye(len(weights.tr.to.bvc))\n",
    "\n",
    "dynamics = DynamicsManager(\n",
    "    dt,\n",
    "    callbacks=[\n",
    "        TimerCallback(),\n",
    "        MovementCallback(\n",
    "            MovementManager(\n",
    "                5,\n",
    "                np.pi*2,\n",
    "                position,\n",
    "                direction\n",
    "            )\n",
    "        ),\n",
    "        MentalPositionCallback(),\n",
    "        MentalMovementCallback(\n",
    "            MovementManager(\n",
    "                5,\n",
    "                np.pi*2,\n",
    "                position,\n",
    "                direction\n",
    "            )\n",
    "        ),\n",
    "        FOVCallback(fov_manager),\n",
    "        EgoCallback(ego_manager),\n",
    "        EgoSegmentationCallback(),\n",
    "        ParietalWindowCallback(),\n",
    "        MovementSchedulerCallback(),\n",
    "        TrajectoryCallback(\n",
    "            AStarTrajectory(compiler.environment)\n",
    "        ),\n",
    "        MentalMovementSchedulerCallback(),\n",
    "        MentalTrajectoryCallback(\n",
    "            AStarTrajectory(compiler.environment)\n",
    "        ),\n",
    "        AttentionCallback(\n",
    "            DistanceAttention(7, dt, len(compiler.environment.objects), attn_dist)\n",
    "        ),\n",
    "        HDCallback(),\n",
    "        GCRateCallback(gc_map),\n",
    "        PCCallback(),\n",
    "        BVCCallback(),\n",
    "        OVCCallback(),\n",
    "        PRCallback(),\n",
    "        oPRCallback(),\n",
    "        PWCallback(),\n",
    "        oPWCallback(),\n",
    "        IPRateCallback(),\n",
    "        TCCallback(),\n",
    "        oTCCallback(),\n",
    "        ObjectWeightsUpdatingCallback(),\n",
    "        PlottingCallback(\n",
    "            [\n",
    "                AloEnvPlotter(\n",
    "                    attn_color=red\n",
    "                ),\n",
    "                EgoEnvPlotter(\n",
    "                    attn_color=red\n",
    "                ),\n",
    "                MouseEventCallback(),\n",
    "                TimerPlotter(),\n",
    "                AgentPlotter(),\n",
    "                TargetPlotter(\n",
    "                    move_target_color=red\n",
    "                ),\n",
    "                TrajectoryPlotter(\n",
    "                    target_color=red\n",
    "                ),\n",
    "                PWPlotter(cmap=cmap),\n",
    "                BVCPlotter(cmap=cmap),\n",
    "                oPWPlotter(cmap=cmap),\n",
    "                OVCPlotter(cmap=cmap),\n",
    "                HDPlotter(cmap=cmap),\n",
    "                PCPlotter(cmap=cmap),\n",
    "                oPRPlotter(\n",
    "                    '#00b2b2',\n",
    "                    '#b20000'\n",
    "                ),\n",
    "                ObjectRecallCallback(),\n",
    "                PickedObjectPlotter(),\n",
    "                DistanceAttentionPlotter(attn_dist, color=red),\n",
    "                MentalAgentPlotter(),\n",
    "                MentalTargetPlotter(),\n",
    "                MentalTrajectoryPlotter()\n",
    "            ],\n",
    "            update_rate=5,\n",
    "            fig_kwargs=dict(figsize=(10, 10)),\n",
    "            gc_kwargs=dict(nrows=12, ncols=12)\n",
    "        ),\n",
    "        FramesStoringCallback(5, '../tmp')\n",
    "    ],\n",
    "    cache=cache\n",
    ")\n",
    "\n",
    "\n",
    "for _ in dynamics(True):\n",
    "    print('out: ', _)"
   ]
  },
  {
   "cell_type": "code",
   "execution_count": null,
   "metadata": {},
   "outputs": [
    {
     "name": "stdout",
     "output_type": "stream",
     "text": [
      "out:  (None, None, None, None, None, None, None, None, None, None, None, None, None, None, None, None, None, None, None, None, None, None, None, None, None, None, None, None)\n",
      "out:  (None, None, None, None, None, None, None, None, None, None, None, None, None, None, None, None, None, None, None, None, None, None, None, None, None, None, None, None)\n"
     ]
    },
    {
     "ename": "KeyboardInterrupt",
     "evalue": "",
     "output_type": "error",
     "traceback": [
      "\u001b[0;31m---------------------------------------------------------------------------\u001b[0m",
      "\u001b[0;31mKeyboardInterrupt\u001b[0m                         Traceback (most recent call last)",
      "Cell \u001b[0;32mIn[11], line 1\u001b[0m\n\u001b[0;32m----> 1\u001b[0m \u001b[38;5;28;43;01mfor\u001b[39;49;00m\u001b[43m \u001b[49m\u001b[43m_\u001b[49m\u001b[43m \u001b[49m\u001b[38;5;129;43;01min\u001b[39;49;00m\u001b[43m \u001b[49m\u001b[43mdynamics\u001b[49m\u001b[43m(\u001b[49m\u001b[38;5;28;43;01mTrue\u001b[39;49;00m\u001b[43m)\u001b[49m\u001b[43m:\u001b[49m\n\u001b[1;32m      2\u001b[0m \u001b[43m    \u001b[49m\u001b[38;5;28;43mprint\u001b[39;49m\u001b[43m(\u001b[49m\u001b[38;5;124;43m'\u001b[39;49m\u001b[38;5;124;43mout: \u001b[39;49m\u001b[38;5;124;43m'\u001b[39;49m\u001b[43m,\u001b[49m\u001b[43m \u001b[49m\u001b[43m_\u001b[49m\u001b[43m)\u001b[49m\n",
      "File \u001b[0;32m~/Projects/SpatialMemory/bbtoolkit/dynamics/__init__.py:96\u001b[0m, in \u001b[0;36mDynamicsManager.__call__\u001b[0;34m(self, time)\u001b[0m\n\u001b[1;32m     94\u001b[0m \u001b[38;5;28;01mif\u001b[39;00m \u001b[38;5;28misinstance\u001b[39m(time, \u001b[38;5;28mbool\u001b[39m):\n\u001b[1;32m     95\u001b[0m     \u001b[38;5;28;01mwhile\u001b[39;00m time:\n\u001b[0;32m---> 96\u001b[0m         \u001b[38;5;28;01myield\u001b[39;00m \u001b[38;5;28;43mself\u001b[39;49m\u001b[38;5;241;43m.\u001b[39;49m\u001b[43mrun\u001b[49m\u001b[43m(\u001b[49m\u001b[38;5;28;43mself\u001b[39;49m\u001b[38;5;241;43m.\u001b[39;49m\u001b[43msteps_per_cycle\u001b[49m\u001b[43m)\u001b[49m\n\u001b[1;32m     97\u001b[0m \u001b[38;5;28;01melif\u001b[39;00m \u001b[38;5;28misinstance\u001b[39m(time, (\u001b[38;5;28mint\u001b[39m, \u001b[38;5;28mfloat\u001b[39m)):\n\u001b[1;32m     98\u001b[0m     rest \u001b[38;5;241m=\u001b[39m \u001b[38;5;28mint\u001b[39m(time\u001b[38;5;241m*\u001b[39m\u001b[38;5;28mself\u001b[39m\u001b[38;5;241m.\u001b[39msteps_per_cycle\u001b[38;5;241m%\u001b[39m\u001b[38;5;28mself\u001b[39m\u001b[38;5;241m.\u001b[39msteps_per_cycle)\n",
      "File \u001b[0;32m~/Projects/SpatialMemory/bbtoolkit/dynamics/__init__.py:75\u001b[0m, in \u001b[0;36mDynamicsManager.run\u001b[0;34m(self, n_steps)\u001b[0m\n\u001b[1;32m     72\u001b[0m \u001b[38;5;28mself\u001b[39m\u001b[38;5;241m.\u001b[39mcallbacks\u001b[38;5;241m.\u001b[39mexecute(\u001b[38;5;124m'\u001b[39m\u001b[38;5;124mon_iteration_begin\u001b[39m\u001b[38;5;124m'\u001b[39m, n_steps)\n\u001b[1;32m     74\u001b[0m \u001b[38;5;28;01mfor\u001b[39;00m _ \u001b[38;5;129;01min\u001b[39;00m \u001b[38;5;28mrange\u001b[39m(n_steps):\n\u001b[0;32m---> 75\u001b[0m     \u001b[38;5;28;43mself\u001b[39;49m\u001b[38;5;241;43m.\u001b[39;49m\u001b[43m_step\u001b[49m\u001b[43m(\u001b[49m\u001b[43m)\u001b[49m\n\u001b[1;32m     77\u001b[0m \u001b[38;5;28;01mreturn\u001b[39;00m \u001b[38;5;28mself\u001b[39m\u001b[38;5;241m.\u001b[39mcallbacks\u001b[38;5;241m.\u001b[39mexecute(\u001b[38;5;124m'\u001b[39m\u001b[38;5;124mon_iteration_end\u001b[39m\u001b[38;5;124m'\u001b[39m, \u001b[38;5;28mself\u001b[39m\u001b[38;5;241m.\u001b[39mtimer\u001b[38;5;241m/\u001b[39m\u001b[38;5;28mself\u001b[39m\u001b[38;5;241m.\u001b[39msteps_per_cycle)\n",
      "File \u001b[0;32m~/Projects/SpatialMemory/bbtoolkit/dynamics/__init__.py:55\u001b[0m, in \u001b[0;36mDynamicsManager._step\u001b[0;34m(self)\u001b[0m\n\u001b[1;32m     52\u001b[0m \u001b[38;5;28;01mif\u001b[39;00m \u001b[38;5;129;01mnot\u001b[39;00m \u001b[38;5;28mself\u001b[39m\u001b[38;5;241m.\u001b[39mtimer\u001b[38;5;241m%\u001b[39m\u001b[38;5;28mself\u001b[39m\u001b[38;5;241m.\u001b[39msteps_per_cycle: \u001b[38;5;66;03m# only if new cycle is started\u001b[39;00m\n\u001b[1;32m     53\u001b[0m     \u001b[38;5;28mself\u001b[39m\u001b[38;5;241m.\u001b[39mcallbacks\u001b[38;5;241m.\u001b[39mexecute(\u001b[38;5;124m'\u001b[39m\u001b[38;5;124mon_cycle_begin\u001b[39m\u001b[38;5;124m'\u001b[39m, \u001b[38;5;28mself\u001b[39m\u001b[38;5;241m.\u001b[39mtimer)\n\u001b[0;32m---> 55\u001b[0m \u001b[38;5;28;43mself\u001b[39;49m\u001b[38;5;241;43m.\u001b[39;49m\u001b[43mcallbacks\u001b[49m\u001b[38;5;241;43m.\u001b[39;49m\u001b[43mexecute\u001b[49m\u001b[43m(\u001b[49m\u001b[38;5;124;43m'\u001b[39;49m\u001b[38;5;124;43mon_step_begin\u001b[39;49m\u001b[38;5;124;43m'\u001b[39;49m\u001b[43m,\u001b[49m\u001b[43m \u001b[49m\u001b[38;5;28;43mself\u001b[39;49m\u001b[38;5;241;43m.\u001b[39;49m\u001b[43mtimer\u001b[49m\u001b[38;5;241;43m%\u001b[39;49m\u001b[38;5;28;43mself\u001b[39;49m\u001b[38;5;241;43m.\u001b[39;49m\u001b[43msteps_per_cycle\u001b[49m\u001b[43m)\u001b[49m\n\u001b[1;32m     56\u001b[0m \u001b[38;5;28mself\u001b[39m\u001b[38;5;241m.\u001b[39mtimer \u001b[38;5;241m+\u001b[39m\u001b[38;5;241m=\u001b[39m \u001b[38;5;241m1\u001b[39m\n\u001b[1;32m     57\u001b[0m \u001b[38;5;28mself\u001b[39m\u001b[38;5;241m.\u001b[39mcallbacks\u001b[38;5;241m.\u001b[39mexecute(\u001b[38;5;124m'\u001b[39m\u001b[38;5;124mon_step_end\u001b[39m\u001b[38;5;124m'\u001b[39m, \u001b[38;5;28mself\u001b[39m\u001b[38;5;241m.\u001b[39mtimer\u001b[38;5;241m%\u001b[39m\u001b[38;5;28mself\u001b[39m\u001b[38;5;241m.\u001b[39msteps_per_cycle)\n",
      "File \u001b[0;32m~/Projects/SpatialMemory/bbtoolkit/structures/__init__.py:155\u001b[0m, in \u001b[0;36mCallbacksCollection.execute\u001b[0;34m(self, method, *args, **kwargs)\u001b[0m\n\u001b[1;32m    143\u001b[0m \u001b[38;5;28;01mdef\u001b[39;00m \u001b[38;5;21mexecute\u001b[39m(\u001b[38;5;28mself\u001b[39m, method: \u001b[38;5;28mstr\u001b[39m, \u001b[38;5;241m*\u001b[39margs, \u001b[38;5;241m*\u001b[39m\u001b[38;5;241m*\u001b[39mkwargs):\n\u001b[1;32m    144\u001b[0m \u001b[38;5;250m    \u001b[39m\u001b[38;5;124;03m\"\"\"\u001b[39;00m\n\u001b[1;32m    145\u001b[0m \u001b[38;5;124;03m    Executes a specified method on all callback objects in the collection.\u001b[39;00m\n\u001b[1;32m    146\u001b[0m \n\u001b[0;32m   (...)\u001b[0m\n\u001b[1;32m    153\u001b[0m \u001b[38;5;124;03m        tuple: A tuple containing the results of executing the method on each callback object.\u001b[39;00m\n\u001b[1;32m    154\u001b[0m \u001b[38;5;124;03m    \"\"\"\u001b[39;00m\n\u001b[0;32m--> 155\u001b[0m     \u001b[38;5;28;01mreturn\u001b[39;00m \u001b[38;5;28mtuple\u001b[39m([\u001b[38;5;28;43mgetattr\u001b[39;49m\u001b[43m(\u001b[49m\u001b[43mcallback\u001b[49m\u001b[43m,\u001b[49m\u001b[43m \u001b[49m\u001b[43mmethod\u001b[49m\u001b[43m)\u001b[49m\u001b[43m(\u001b[49m\u001b[38;5;241;43m*\u001b[39;49m\u001b[43margs\u001b[49m\u001b[43m,\u001b[49m\u001b[43m \u001b[49m\u001b[38;5;241;43m*\u001b[39;49m\u001b[38;5;241;43m*\u001b[39;49m\u001b[43mkwargs\u001b[49m\u001b[43m)\u001b[49m \u001b[38;5;28;01mfor\u001b[39;00m callback \u001b[38;5;129;01min\u001b[39;00m \u001b[38;5;28mself\u001b[39m])\n",
      "File \u001b[0;32m~/Projects/SpatialMemory/bbtoolkit/models/bb/callbacks/populations.py:919\u001b[0m, in \u001b[0;36moTCCallback.on_step_begin\u001b[0;34m(self, step)\u001b[0m\n\u001b[1;32m    915\u001b[0m     \u001b[38;5;28;01mcase\u001b[39;00m \u001b[38;5;124m'\u001b[39m\u001b[38;5;124mrecall\u001b[39m\u001b[38;5;124m'\u001b[39m \u001b[38;5;241m|\u001b[39m \u001b[38;5;124m'\u001b[39m\u001b[38;5;124mtop-down\u001b[39m\u001b[38;5;124m'\u001b[39m:\n\u001b[1;32m    916\u001b[0m         \u001b[38;5;28mself\u001b[39m\u001b[38;5;241m.\u001b[39mk_ratio\u001b[38;5;241m.\u001b[39motr \u001b[38;5;241m+\u001b[39m\u001b[38;5;241m=\u001b[39m \u001b[38;5;28mself\u001b[39m\u001b[38;5;241m.\u001b[39mconnectivity\u001b[38;5;241m.\u001b[39mbvc\u001b[38;5;241m.\u001b[39mto\u001b[38;5;241m.\u001b[39mtr[\u001b[38;5;124m'\u001b[39m\u001b[38;5;124mphi\u001b[39m\u001b[38;5;124m'\u001b[39m]\u001b[38;5;241m*\u001b[39m\u001b[38;5;28mself\u001b[39m\u001b[38;5;241m.\u001b[39mweights\u001b[38;5;241m.\u001b[39mbvc\u001b[38;5;241m.\u001b[39mto\u001b[38;5;241m.\u001b[39mtr \u001b[38;5;241m@\u001b[39m \u001b[38;5;28mself\u001b[39m\u001b[38;5;241m.\u001b[39mrates\u001b[38;5;241m.\u001b[39movc\n\u001b[0;32m--> 919\u001b[0m \u001b[38;5;28;43mself\u001b[39;49m\u001b[38;5;241;43m.\u001b[39;49m\u001b[43mactivity\u001b[49m\u001b[38;5;241m.\u001b[39motr \u001b[38;5;241m+\u001b[39m\u001b[38;5;241m=\u001b[39m \u001b[38;5;28mself\u001b[39m\u001b[38;5;241m.\u001b[39mdt\u001b[38;5;241m/\u001b[39m\u001b[38;5;28mself\u001b[39m\u001b[38;5;241m.\u001b[39mconnectivity\u001b[38;5;241m.\u001b[39motr\u001b[38;5;241m.\u001b[39mto\u001b[38;5;241m.\u001b[39motr[\u001b[38;5;124m'\u001b[39m\u001b[38;5;124mtau\u001b[39m\u001b[38;5;124m'\u001b[39m]\u001b[38;5;241m*\u001b[39m\u001b[38;5;28mself\u001b[39m\u001b[38;5;241m.\u001b[39mk_ratio\u001b[38;5;241m.\u001b[39motr\n\u001b[1;32m    921\u001b[0m \u001b[38;5;28mself\u001b[39m\u001b[38;5;241m.\u001b[39mrates\u001b[38;5;241m.\u001b[39motr \u001b[38;5;241m=\u001b[39m \u001b[38;5;241m1\u001b[39m\u001b[38;5;241m/\u001b[39m(\u001b[38;5;241m1\u001b[39m \u001b[38;5;241m+\u001b[39m np\u001b[38;5;241m.\u001b[39mexp(\u001b[38;5;241m-\u001b[39m\u001b[38;5;241m2\u001b[39m\u001b[38;5;241m*\u001b[39m\u001b[38;5;28mself\u001b[39m\u001b[38;5;241m.\u001b[39mconnectivity\u001b[38;5;241m.\u001b[39mtr\u001b[38;5;241m.\u001b[39mto\u001b[38;5;241m.\u001b[39mtr[\u001b[38;5;124m'\u001b[39m\u001b[38;5;124mbeta\u001b[39m\u001b[38;5;124m'\u001b[39m]\u001b[38;5;241m*\u001b[39m(\u001b[38;5;28mself\u001b[39m\u001b[38;5;241m.\u001b[39mactivity\u001b[38;5;241m.\u001b[39motr \u001b[38;5;241m-\u001b[39m \u001b[38;5;28mself\u001b[39m\u001b[38;5;241m.\u001b[39mconnectivity\u001b[38;5;241m.\u001b[39mtr\u001b[38;5;241m.\u001b[39mto\u001b[38;5;241m.\u001b[39mtr[\u001b[38;5;124m'\u001b[39m\u001b[38;5;124malpha\u001b[39m\u001b[38;5;124m'\u001b[39m])))\n",
      "File \u001b[0;32m~/Projects/SpatialMemory/bbtoolkit/structures/__init__.py:285\u001b[0m, in \u001b[0;36mBaseCallback.__getattribute__\u001b[0;34m(self, _BaseCallback__name)\u001b[0m\n\u001b[1;32m    279\u001b[0m                 \u001b[38;5;28;01mcase\u001b[39;00m\u001b[38;5;250m \u001b[39m\u001b[38;5;28;01m_\u001b[39;00m:\n\u001b[1;32m    280\u001b[0m                     \u001b[38;5;28;01mraise\u001b[39;00m \u001b[38;5;167;01mValueError\u001b[39;00m(\n\u001b[1;32m    281\u001b[0m                         \u001b[38;5;124mf\u001b[39m\u001b[38;5;124m'\u001b[39m\u001b[38;5;124mInvalid value for on_repeat: \u001b[39m\u001b[38;5;132;01m{\u001b[39;00mon_repeat\u001b[38;5;132;01m}\u001b[39;00m\u001b[38;5;124m.\u001b[39m\u001b[38;5;130;01m\\n\u001b[39;00m\u001b[38;5;124m'\u001b[39m\n\u001b[1;32m    282\u001b[0m                         \u001b[38;5;124m'\u001b[39m\u001b[38;5;124mValid values are \u001b[39m\u001b[38;5;124m\"\u001b[39m\u001b[38;5;124mraise\u001b[39m\u001b[38;5;124m\"\u001b[39m\u001b[38;5;124m, \u001b[39m\u001b[38;5;124m\"\u001b[39m\u001b[38;5;124mignore\u001b[39m\u001b[38;5;124m\"\u001b[39m\u001b[38;5;124m, and \u001b[39m\u001b[38;5;124m\"\u001b[39m\u001b[38;5;124moverwrite\u001b[39m\u001b[38;5;124m\"\u001b[39m\u001b[38;5;124m.\u001b[39m\u001b[38;5;124m'\u001b[39m\n\u001b[1;32m    283\u001b[0m                     )\n\u001b[0;32m--> 285\u001b[0m \u001b[38;5;28;01mdef\u001b[39;00m \u001b[38;5;21m__getattribute__\u001b[39m(\u001b[38;5;28mself\u001b[39m, __name: \u001b[38;5;28mstr\u001b[39m) \u001b[38;5;241m-\u001b[39m\u001b[38;5;241m>\u001b[39m Any:\n\u001b[1;32m    286\u001b[0m \u001b[38;5;250m    \u001b[39m\u001b[38;5;124;03m'''\u001b[39;00m\n\u001b[1;32m    287\u001b[0m \u001b[38;5;124;03m    Overrides the default behavior for attribute access by checking if the attribute is in the cache and mutable.\u001b[39;00m\n\u001b[1;32m    288\u001b[0m \n\u001b[0;32m   (...)\u001b[0m\n\u001b[1;32m    296\u001b[0m \u001b[38;5;124;03m        * If the attribute is in the cache, it checks if the value is the same as the one in the cache. All values must be mutable.\u001b[39;00m\n\u001b[1;32m    297\u001b[0m \u001b[38;5;124;03m    '''\u001b[39;00m\n\u001b[1;32m    298\u001b[0m     out \u001b[38;5;241m=\u001b[39m \u001b[38;5;28msuper\u001b[39m()\u001b[38;5;241m.\u001b[39m\u001b[38;5;21m__getattribute__\u001b[39m(__name)\n",
      "\u001b[0;31mKeyboardInterrupt\u001b[0m: "
     ]
    }
   ],
   "source": [
    "for _ in dynamics(True):\n",
    "    print('out: ', _)"
   ]
  },
  {
   "cell_type": "code",
   "execution_count": 45,
   "metadata": {},
   "outputs": [],
   "source": [
    "%matplotlib inline\n",
    "plt.show()"
   ]
  },
  {
   "cell_type": "code",
   "execution_count": 46,
   "metadata": {},
   "outputs": [
    {
     "data": {
      "text/plain": [
       "<matplotlib.image.AxesImage at 0x766376c45040>"
      ]
     },
     "execution_count": 46,
     "metadata": {},
     "output_type": "execute_result"
    },
    {
     "data": {
      "image/png": "[encoded data removed]",
      "text/plain": [
       "<Figure size 640x480 with 1 Axes>"
      ]
     },
     "metadata": {},
     "output_type": "display_data"
    }
   ],
   "source": [
    "%matplotlib inline\n",
    "plt.imshow(cache.weights.h.to.h)"
   ]
  },
  {
   "cell_type": "code",
   "execution_count": 48,
   "metadata": {},
   "outputs": [
    {
     "data": {
      "text/plain": [
       "<matplotlib.image.AxesImage at 0x7663755b3410>"
      ]
     },
     "execution_count": 48,
     "metadata": {},
     "output_type": "execute_result"
    },
    {
     "data": {
      "image/png": "[encoded data removed]",
      "text/plain": [
       "<Figure size 640x480 with 1 Axes>"
      ]
     },
     "metadata": {},
     "output_type": "display_data"
    }
   ],
   "source": [
    "plt.imshow(np.reshape(cache.weights.h.to.h[600], cache.grid2cart.shape))"
   ]
  },
  {
   "cell_type": "code",
   "execution_count": 52,
   "metadata": {},
   "outputs": [
    {
     "data": {
      "text/plain": [
       "(3364, 816)"
      ]
     },
     "execution_count": 52,
     "metadata": {},
     "output_type": "execute_result"
    }
   ],
   "source": [
    "weights.bvc.to.h.shape"
   ]
  },
  {
   "cell_type": "code",
   "execution_count": 53,
   "metadata": {},
   "outputs": [],
   "source": [
    "bvc2h = weights.bvc.to.h.copy()\n",
    "\n",
    "bvc2h = np.reshape(bvc2h, (*cache.grid2cart.shape, n_bvc_neurons))\n",
    "bvc2h = np.transpose(bvc2h, (1, 0, 2))\n",
    "bvc2h = np.reshape(bvc2h, (cache.grid2cart.shape[1]*cache.grid2cart.shape[0], n_bvc_neurons))"
   ]
  },
  {
   "cell_type": "code",
   "execution_count": 54,
   "metadata": {},
   "outputs": [
    {
     "data": {
      "text/plain": [
       "<matplotlib.image.AxesImage at 0x766413a43ad0>"
      ]
     },
     "execution_count": 54,
     "metadata": {},
     "output_type": "execute_result"
    },
    {
     "data": {
      "image/png": "[encoded data removed]",
      "text/plain": [
       "<Figure size 640x480 with 1 Axes>"
      ]
     },
     "metadata": {},
     "output_type": "display_data"
    }
   ],
   "source": [
    "plt.imshow(np.reshape(bvc2h[:, 1], cache.grid2cart.shape), origin='lower')"
   ]
  },
  {
   "cell_type": "code",
   "execution_count": 51,
   "metadata": {},
   "outputs": [
    {
     "data": {
      "text/plain": [
       "<matplotlib.image.AxesImage at 0x7664139374a0>"
      ]
     },
     "execution_count": 51,
     "metadata": {},
     "output_type": "execute_result"
    },
    {
     "data": {
      "image/png": "[encoded data removed]",
      "text/plain": [
       "<Figure size 640x480 with 1 Axes>"
      ]
     },
     "metadata": {},
     "output_type": "display_data"
    }
   ],
   "source": [
    "plt.imshow(np.reshape(weights.bvc.to.h[:, 1], cache.grid2cart.shape), origin='lower')"
   ]
  },
  {
   "cell_type": "code",
   "execution_count": 33,
   "metadata": {},
   "outputs": [
    {
     "data": {
      "text/plain": [
       "<matplotlib.image.AxesImage at 0x7663770874a0>"
      ]
     },
     "execution_count": 33,
     "metadata": {},
     "output_type": "execute_result"
    },
    {
     "data": {
      "image/png": "[encoded data removed]",
      "text/plain": [
       "<Figure size 640x480 with 1 Axes>"
      ]
     },
     "metadata": {},
     "output_type": "display_data"
    }
   ],
   "source": [
    "plt.imshow(np.reshape(weights.bvc.to.h[:, 1], cache.grid2cart.shape), origin='lower')"
   ]
  },
  {
   "cell_type": "code",
   "execution_count": 30,
   "metadata": {},
   "outputs": [
    {
     "data": {
      "text/plain": [
       "array([1.14745178e-05, 1.36556780e-05, 1.64338793e-05, ...,\n",
       "       4.57565300e-03, 4.62450902e-03, 4.66128520e-03])"
      ]
     },
     "execution_count": 30,
     "metadata": {},
     "output_type": "execute_result"
    }
   ],
   "source": []
  },
  {
   "cell_type": "code",
   "execution_count": 65,
   "metadata": {},
   "outputs": [],
   "source": [
    "from bbtoolkit.utils.viz.video import make_video_from_images\n",
    "\n",
    "\n",
    "image_directory = '../tmp'\n",
    "video_save_path = './square_transposed_bvc2h.mp4'\n",
    "make_video_from_images(image_directory, video_save_path, 4)"
   ]
  },
  {
   "cell_type": "code",
   "execution_count": 63,
   "metadata": {},
   "outputs": [],
   "source": [
    "from bbtoolkit.utils.datautils import remove_files_from_dir\n",
    "\n",
    "image_directory = '../tmp'\n",
    "remove_files_from_dir(image_directory)"
   ]
  },
  {
   "cell_type": "code",
   "execution_count": null,
   "metadata": {},
   "outputs": [],
   "source": [
    "raise"
   ]
  },
  {
   "cell_type": "code",
   "execution_count": 13,
   "metadata": {},
   "outputs": [
    {
     "data": {
      "text/plain": [
       "<matplotlib.image.AxesImage at 0x754ed1f886e0>"
      ]
     },
     "execution_count": 13,
     "metadata": {},
     "output_type": "execute_result"
    },
    {
     "data": {
      "image/png": "[encoded data removed]",
      "text/plain": [
       "<Figure size 640x480 with 1 Axes>"
      ]
     },
     "metadata": {},
     "output_type": "display_data"
    }
   ],
   "source": [
    "%matplotlib inline\n",
    "plt.imshow(np.reshape(cache.rates.h, cache.grid2cart.shape))"
   ]
  },
  {
   "cell_type": "code",
   "execution_count": null,
   "metadata": {},
   "outputs": [
    {
     "data": {
      "text/plain": [
       "<matplotlib.image.AxesImage at 0x71fd7c2e00e0>"
      ]
     },
     "execution_count": 24,
     "metadata": {},
     "output_type": "execute_result"
    },
    {
     "data": {
      "image/png": "[encoded data removed]",
      "text/plain": [
       "<Figure size 640x480 with 1 Axes>"
      ]
     },
     "metadata": {},
     "output_type": "display_data"
    }
   ],
   "source": [
    "plt.imshow(np.reshape(cache.weights.h.to.h@cache.rates.h, cache.grid2cart.shape))"
   ]
  },
  {
   "cell_type": "code",
   "execution_count": null,
   "metadata": {},
   "outputs": [
    {
     "data": {
      "text/plain": [
       "<matplotlib.image.AxesImage at 0x71fd743aa570>"
      ]
     },
     "execution_count": 26,
     "metadata": {},
     "output_type": "execute_result"
    },
    {
     "data": {
      "image/png": "[encoded data removed]",
      "text/plain": [
       "<Figure size 640x480 with 1 Axes>"
      ]
     },
     "metadata": {},
     "output_type": "display_data"
    }
   ],
   "source": [
    "plt.imshow(np.reshape(cache.weights.bvc.to.h@cache.rates.bvc, cache.grid2cart.shape))"
   ]
  }
 ],
 "metadata": {
  "kernelspec": {
   "display_name": "venv",
   "language": "python",
   "name": "python3"
  },
  "language_info": {
   "codemirror_mode": {
    "name": "ipython",
    "version": 3
   },
   "file_extension": ".py",
   "mimetype": "text/x-python",
   "name": "python",
   "nbconvert_exporter": "python",
   "pygments_lexer": "ipython3",
   "version": "3.12.3"
  }
 },
 "nbformat": 4,
 "nbformat_minor": 2
}
