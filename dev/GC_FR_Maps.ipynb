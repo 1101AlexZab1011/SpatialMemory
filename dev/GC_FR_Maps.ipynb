{
 "cells": [
  {
   "cell_type": "code",
   "execution_count": 1,
   "metadata": {},
   "outputs": [],
   "source": [
    "import numpy as np\n",
    "import matplotlib.pyplot as plt\n",
    "import os\n",
    "import sys\n",
    "sys.path.insert(1, os.path.realpath(os.path.pardir))\n",
    "from bbtoolkit.preprocessing.neural_generators import AbstractGenerator\n",
    "from bbtoolkit.data.configparser import EvalConfigParser"
   ]
  },
  {
   "cell_type": "code",
   "execution_count": 2,
   "metadata": {},
   "outputs": [],
   "source": [
    "np.set_printoptions(threshold=sys.maxsize)\n",
    "np.set_printoptions(linewidth=1000,)\n",
    "np.set_printoptions(suppress=False)"
   ]
  },
  {
   "cell_type": "code",
   "execution_count": 44,
   "metadata": {},
   "outputs": [],
   "source": [
    "from dataclasses import dataclass\n",
    "from bbtoolkit.data import WritablePickle\n",
    "\n",
    "@dataclass\n",
    "class GCMap(WritablePickle):\n",
    "    \"\"\"\n",
    "    Represents a Grid Cells activity Map.\n",
    "\n",
    "    Attributes:\n",
    "    -----------\n",
    "    frequency_rates : np.ndarray\n",
    "        An array representing the frequency rates.\n",
    "    standard_deviations : np.ndarray\n",
    "        An array representing the standard deviations.\n",
    "    \"\"\"\n",
    "    frequency_rates: np.ndarray\n",
    "    standard_deviations: np.ndarray\n",
    "\n",
    "\n",
    "class GCGenerator(AbstractGenerator):\n",
    "    \"\"\"\n",
    "    A class for generating grid cell firing rate maps based on specified parameters.\n",
    "    \"\"\"\n",
    "    def __init__(\n",
    "        self,\n",
    "        res: float,\n",
    "        x_max: int,\n",
    "        y_max: int,\n",
    "        n_mod: int,\n",
    "        n_per_mod: int,\n",
    "        f_mods: np.ndarray,\n",
    "        fac: np.ndarray,\n",
    "        r_size: np.ndarray,\n",
    "        orientations: np.ndarray\n",
    "    ):\n",
    "        \"\"\"\n",
    "        Initialize the GridCellFRGenerator.\n",
    "\n",
    "        Args:\n",
    "            res (float): Resolution of the grid.\n",
    "            x_max (int): Maximum X coordinate.\n",
    "            y_max (int): Maximum Y coordinate.\n",
    "            n_mod (int): Number of grid modules.\n",
    "            n_per_mod (int): Number of offsets per module.\n",
    "            f_mods (np.ndarray): Frequencies for different modules.\n",
    "            fac (np.ndarray): Scaling offset steps to cover the complete rhombus.\n",
    "            r_size (np.ndarray): Template radius in number of pixels for each module.\n",
    "            orientations (np.ndarray): Orientations for different modules.\n",
    "            save_path (str): Path where generated data will be saved.\n",
    "        \"\"\"\n",
    "\n",
    "        self.n_mod = n_mod\n",
    "        self.n_per_mod = n_per_mod\n",
    "        self.res = res\n",
    "        self.x_max = x_max\n",
    "        self.y_max = y_max\n",
    "\n",
    "        self.f_mods = f_mods\n",
    "        self.fac = fac\n",
    "        self.r_size = r_size\n",
    "        self.orientations = orientations\n",
    "\n",
    "    def get_coordinates(self) -> tuple[np.ndarray, tuple[int, int]]:\n",
    "        \"\"\"\n",
    "        Generate coordinates and mesh grids.\n",
    "\n",
    "        Returns:\n",
    "            tuple[np.ndarray, tuple[int, int]]: Mesh grid of X and Y coordinates and their shape.\n",
    "        \"\"\"\n",
    "        x = np.arange(0, self.x_max + self.res, self.res)\n",
    "        y = np.arange(0, self.y_max + self.res, self.res)\n",
    "        xg, yg = np.meshgrid(x, y)\n",
    "        # Yg and Xg are flipped because of the way matrices are indexed in matlab\n",
    "        XY = np.column_stack((yg.ravel(), xg.ravel()))\n",
    "        return XY, (len(x), len(y))\n",
    "\n",
    "    def get_orientation_params(self, index: int) -> tuple[float, float, np.ndarray]:\n",
    "        \"\"\"\n",
    "        Get parameters for a specific orientation index.\n",
    "\n",
    "        Args:\n",
    "            index (int): Index of the orientation.\n",
    "\n",
    "        Returns:\n",
    "            Tuple[float, float, np.ndarray]: Frequency, factor, and rotation matrix.\n",
    "        \"\"\"\n",
    "        f = self.f_mods[index]\n",
    "        fac = self.fac[index]\n",
    "        orientation = self.orientations[index]\n",
    "        r = np.array([[np.cos(orientation), -np.sin(orientation)], [np.sin(orientation), np.cos(orientation)]])\n",
    "        return f, fac, r\n",
    "\n",
    "    @staticmethod\n",
    "    def get_basis_vectors() -> tuple[np.ndarray, np.ndarray, np.ndarray]:\n",
    "        \"\"\"\n",
    "        Get the basis vectors for the triangular grid pattern.\n",
    "\n",
    "        Returns:\n",
    "            Tuple[np.ndarray, np.ndarray, np.ndarray]: Three basis vectors representing triangular directions.\n",
    "        \"\"\"\n",
    "        b0 = np.array([np.cos(0), np.sin(0)])\n",
    "        b1 = np.array([np.cos(np.pi / 3), np.sin(np.pi / 3)])\n",
    "        b2 = np.array([np.cos(2 * np.pi / 3), np.sin(2 * np.pi / 3)])\n",
    "        return b0, b1, b2\n",
    "\n",
    "    @staticmethod\n",
    "    def get_offset_vectors(fac: float, f: float, r: np.ndarray) -> tuple[np.ndarray, np.ndarray]:\n",
    "        \"\"\"\n",
    "        Get offset vectors for the triangular grid pattern.\n",
    "\n",
    "        Args:\n",
    "            fac (float): Factor for scaling offset vectors.\n",
    "            F (float): Frequency parameter.\n",
    "            R (np.ndarray): Rotation matrix.\n",
    "\n",
    "        Returns:\n",
    "            Tuple[np.ndarray, np.ndarray]: Two offset vectors based on the given parameters.\n",
    "        \"\"\"\n",
    "        x_off_base1 = 0\n",
    "        y_off_base1 = fac * (1 / f)\n",
    "        x_off_base2 = fac * (1 / f) * np.cos(np.pi / 6)\n",
    "        y_off_base2 = fac * (1 / f) * np.sin(np.pi / 6)\n",
    "        off_vec1 = np.dot(r, np.array([x_off_base1, y_off_base1]))\n",
    "        off_vec2 = np.dot(r, np.array([x_off_base2, y_off_base2]))\n",
    "        return off_vec1, off_vec2\n",
    "\n",
    "    @staticmethod\n",
    "    def get_offset(w: int, j: int, off_vec1: np.ndarray, off_vec2: np.ndarray) -> np.ndarray:\n",
    "        \"\"\"\n",
    "        Calculate the offset vector for the grid cell.\n",
    "\n",
    "        Args:\n",
    "            w (int): Row index.\n",
    "            j (int): Column index.\n",
    "            off_vec1 (np.ndarray): First offset vector.\n",
    "            off_vec2 (np.ndarray): Second offset vector.\n",
    "\n",
    "        Returns:\n",
    "            np.ndarray: Computed offset vector for the grid cell.\n",
    "        \"\"\"\n",
    "        off = (j) / 10 * off_vec1 + (w) / 10 * off_vec2\n",
    "        return off\n",
    "\n",
    "    @staticmethod\n",
    "    def get_z_values(\n",
    "        f: float,\n",
    "        xy: np.ndarray,\n",
    "        r: np.ndarray,\n",
    "        offset: np.ndarray,\n",
    "        b0: np.ndarray,\n",
    "        b1: np.ndarray,\n",
    "        b2: np.ndarray\n",
    "    ) -> tuple[np.ndarray, np.ndarray, np.ndarray]:\n",
    "        \"\"\"\n",
    "        Calculate the z values for grid cell positions.\n",
    "\n",
    "        Args:\n",
    "            f (float): Frequency parameter.\n",
    "            xy (np.ndarray): Array of XY coordinates.\n",
    "            r (np.ndarray): Rotation matrix.\n",
    "            offset (np.ndarray): Offset vector.\n",
    "            b0 (np.ndarray): First basis vector.\n",
    "            b1 (np.ndarray): Second basis vector.\n",
    "            b2 (np.ndarray): Third basis vector.\n",
    "\n",
    "        Returns:\n",
    "            Tuple[np.ndarray, np.ndarray, np.ndarray]: Calculated z values for the three basis vectors.\n",
    "        \"\"\"\n",
    "        def calculate_z(r, b, xy, f, offset):\n",
    "            b_dot_xy_offset = f * xy + np.tile(offset, (xy.shape[0], 1))\n",
    "            b_dot_r = np.tile(np.dot(r, b), (xy.shape[0], 1))\n",
    "            return np.sum(b_dot_r * b_dot_xy_offset, axis=1)\n",
    "\n",
    "        z0 = calculate_z(r, b0, xy, f, offset)\n",
    "        z1 = calculate_z(r, b1, xy, f, offset)\n",
    "        z2 = calculate_z(r, b2, xy, f, offset)\n",
    "\n",
    "        return z0, z1, z2\n",
    "\n",
    "    @staticmethod\n",
    "    def get_FR_map(z0: np.ndarray, z1: np.ndarray, z2: np.ndarray, shape: tuple[int, int]) -> np.ndarray:\n",
    "        \"\"\"\n",
    "        Calculate the firing rate map based on the given z values.\n",
    "\n",
    "        Args:\n",
    "            z0 (np.ndarray): Z values for basis vector 0.\n",
    "            z1 (np.ndarray): Z values for basis vector 1.\n",
    "            z2 (np.ndarray): Z values for basis vector 2.\n",
    "            shape (Tuple[int, int]): Shape of the firing rate map.\n",
    "\n",
    "        Returns:\n",
    "            np.ndarray: Firing rate map with values computed from the z values.\n",
    "        \"\"\"\n",
    "        FRmap = np.cos(z0) + np.cos(z1) + np.cos(z2)\n",
    "        FRmap = FRmap / np.max(FRmap)\n",
    "        FRmap[FRmap < 0] = 0\n",
    "        return np.reshape(FRmap, shape)\n",
    "\n",
    "    @staticmethod\n",
    "    def normalize(matrix: np.ndarray) -> np.ndarray:\n",
    "        \"\"\"\n",
    "        Normalize a matrix by dividing all its elements by the maximum value.\n",
    "\n",
    "        Args:\n",
    "            matrix (np.ndarray): Matrix to be normalized.\n",
    "\n",
    "        Returns:\n",
    "            np.ndarray: Normalized matrix.\n",
    "        \"\"\"\n",
    "        matrix = matrix / np.max(matrix)\n",
    "        return matrix\n",
    "\n",
    "    def populate(\n",
    "        self,\n",
    "        FRmap: np.ndarray,\n",
    "        gc_fr_maps: np.ndarray,\n",
    "        gc_fr_maps_sd: np.ndarray,\n",
    "        w: int,\n",
    "        j: int,\n",
    "        i: int\n",
    "    ) -> None:\n",
    "        \"\"\"\n",
    "        Populate the grid cell firing rate maps with values computed from the given firing rate map.\n",
    "\n",
    "        Args:\n",
    "            FRmap (np.ndarray): Firing rate map to be populated.\n",
    "            gc_fr_maps (np.ndarray): Grid cell firing rate maps.\n",
    "            gc_fr_maps_sd (np.ndarray): Standard deviations for grid cell firing rate maps.\n",
    "            w (int): Row index.\n",
    "            j (int): Column index.\n",
    "            i (int): Orientation index.\n",
    "\n",
    "        Returns:\n",
    "            None\n",
    "        \"\"\"\n",
    "        shape = FRmap.shape\n",
    "        tmp = np.zeros((int(shape[0] / 10), int(shape[1] / 10)))\n",
    "        for k in range(int(shape[0] / 10)):\n",
    "            for l in range(int(shape[1] / 10)):\n",
    "                x_low, y_low = k * 10, l * 10\n",
    "                tmp[k, l] = np.mean(\n",
    "                    FRmap[\n",
    "                        # in window of size 10x10 take mean of central 8x8 pixels\n",
    "                        x_low + 1: x_low + 9,\n",
    "                        y_low + 1: y_low + 9\n",
    "                    ]\n",
    "                )\n",
    "\n",
    "        gc_fr_maps[:, :, (j) * int(np.sqrt(self.n_per_mod)) + w, i] = FRmap.T\n",
    "        gc_fr_maps_sd[:, :, (j) * int(np.sqrt(self.n_per_mod)) + w, i] = (tmp / (np.max(tmp) + 1e-7)).T\n",
    "\n",
    "    def generate(self) -> GCMap:\n",
    "        \"\"\"\n",
    "        Generate grid cell firing rate maps.\n",
    "\n",
    "        Args:\n",
    "            save (bool, optional): Whether to save the generated maps. Defaults to False.\n",
    "\n",
    "        Returns:\n",
    "            Tuple[np.ndarray, np.ndarray]: Generated firing rate maps and associated maps with standard deviations.\n",
    "        \"\"\"\n",
    "        xy, shape = self.get_coordinates()\n",
    "\n",
    "        b0, b1, b2 = self.get_basis_vectors()\n",
    "\n",
    "        gc_fr_maps = np.zeros((*shape, self.n_per_mod, self.n_mod))\n",
    "        gc_fr_maps_sd = np.zeros((shape[0] // 10, shape[1] // 10, self.n_per_mod, self.n_mod))\n",
    "\n",
    "        for i in range(len(self.orientations)):\n",
    "            f, fac, r = self.get_orientation_params(i)\n",
    "            off_vec1, off_vec2 = self.get_offset_vectors(fac, f, r)\n",
    "\n",
    "            for w in range(int(np.sqrt(self.n_per_mod))):\n",
    "                for j in range(int(np.sqrt(self.n_per_mod))):\n",
    "                    offset = self.get_offset(w, j, off_vec1, off_vec2)\n",
    "                    z0, z1, z2 = self.get_z_values(f, xy, r, offset, b0, b1, b2)\n",
    "                    FRmap = self.normalize(self.get_FR_map(z0, z1, z2, shape))\n",
    "\n",
    "                    self.populate(\n",
    "                        FRmap,\n",
    "                        gc_fr_maps,\n",
    "                        gc_fr_maps_sd,\n",
    "                        w, j, i\n",
    "                    )\n",
    "\n",
    "        return GCMap(gc_fr_maps, gc_fr_maps_sd)\n",
    "\n",
    "\n",
    "cfg_path = '../cfg/cells/grid_cells.ini'\n",
    "config = EvalConfigParser()\n",
    "config.read(cfg_path)\n",
    "\n",
    "space_config = config['Space']\n",
    "\n",
    "n_mod = space_config.eval('n_mod')\n",
    "n_perr_mod = space_config.eval('n_per_mod')\n",
    "res = space_config.eval('res')\n",
    "x_max = space_config.eval('x_max')\n",
    "y_max = space_config.eval('y_max')\n",
    "\n",
    "neurons_config = config['Neurons']\n",
    "f_mods = neurons_config.eval('f_mods', locals={'pi': np.pi})\n",
    "fac = neurons_config.eval('FAC')\n",
    "r_size = neurons_config.eval('r_size')\n",
    "orientations = neurons_config.eval('orientations', locals={'pi': np.pi})\n",
    "\n",
    "\n",
    "generator = GCGenerator(\n",
    "    res,\n",
    "    x_max,\n",
    "    y_max,\n",
    "    n_mod,\n",
    "    n_perr_mod,\n",
    "    f_mods,\n",
    "    fac,\n",
    "    r_size,\n",
    "    orientations\n",
    ")\n",
    "\n",
    "gc = generator.generate()"
   ]
  },
  {
   "cell_type": "code",
   "execution_count": 72,
   "metadata": {},
   "outputs": [
    {
     "data": {
      "text/plain": [
       "(441, 441, 100, 7)"
      ]
     },
     "execution_count": 72,
     "metadata": {},
     "output_type": "execute_result"
    }
   ],
   "source": [
    "GC_FR_maps.shape"
   ]
  },
  {
   "cell_type": "code",
   "execution_count": 45,
   "metadata": {},
   "outputs": [
    {
     "data": {
      "text/plain": [
       "array([0.25565141, 0.18229825, 0.11010566, 0.03977881, 0.        , 0.        , 0.        , 0.        , 0.        , 0.        , 0.        , 0.        , 0.        , 0.        , 0.        , 0.        , 0.        , 0.        , 0.        , 0.        , 0.        , 0.        , 0.        , 0.        , 0.        , 0.        , 0.        , 0.        , 0.        ])"
      ]
     },
     "execution_count": 45,
     "metadata": {},
     "output_type": "execute_result"
    }
   ],
   "source": [
    "GC_FR_maps_SD[0, 15:, 0, 0]"
   ]
  },
  {
   "cell_type": "code",
   "execution_count": 35,
   "metadata": {},
   "outputs": [
    {
     "data": {
      "text/plain": [
       "array([0.25565141, 0.18229825, 0.11010566, 0.03977881, 0.        , 0.        , 0.        , 0.        , 0.        , 0.        , 0.        , 0.        , 0.        , 0.        , 0.        , 0.        , 0.        , 0.        , 0.        , 0.        , 0.        , 0.        , 0.        , 0.        , 0.        , 0.        , 0.        , 0.        , 0.        ])"
      ]
     },
     "execution_count": 35,
     "metadata": {},
     "output_type": "execute_result"
    }
   ],
   "source": [
    "GC_FR_maps_SD[0, 15:, 0, 0]"
   ]
  },
  {
   "cell_type": "code",
   "execution_count": 46,
   "metadata": {},
   "outputs": [
    {
     "data": {
      "text/plain": [
       "array([0.02969801, 0.02283934, 0.0160075 , 0.00920313, 0.00242683, 0.        , 0.        , 0.        , 0.        , 0.        , 0.        , 0.        , 0.        , 0.        , 0.        , 0.        , 0.        , 0.        , 0.        , 0.        , 0.        , 0.        , 0.        , 0.        , 0.        , 0.        , 0.        , 0.        , 0.        , 0.        , 0.        , 0.        , 0.        , 0.        , 0.        , 0.        , 0.        , 0.        , 0.        , 0.        , 0.        , 0.        , 0.        , 0.        , 0.        , 0.        , 0.        , 0.        , 0.        , 0.        , 0.        , 0.        , 0.        , 0.        , 0.        , 0.        , 0.        , 0.        , 0.        , 0.        , 0.        , 0.        , 0.        , 0.        , 0.        , 0.        , 0.        , 0.        , 0.        , 0.        , 0.        , 0.        , 0.        , 0.        , 0.        , 0.        , 0.        , 0.        , 0.        , 0.        , 0.        , 0.        ,\n",
       "       0.        , 0.        , 0.        , 0.        , 0.        , 0.        , 0.        , 0.        , 0.        , 0.        , 0.        , 0.        , 0.        , 0.        , 0.        , 0.        , 0.        , 0.        , 0.        , 0.        , 0.        , 0.        , 0.        , 0.        , 0.        , 0.        , 0.        , 0.        , 0.        , 0.        , 0.        , 0.        , 0.        , 0.        , 0.        , 0.        , 0.        , 0.        , 0.        , 0.        , 0.        , 0.        , 0.        , 0.        , 0.        , 0.        , 0.        , 0.        , 0.        , 0.        , 0.        , 0.        , 0.        , 0.        , 0.        , 0.        , 0.        , 0.        , 0.        , 0.        , 0.        , 0.        , 0.        , 0.        , 0.        , 0.        , 0.        , 0.        , 0.        , 0.        , 0.        , 0.        , 0.        , 0.        , 0.        , 0.        , 0.        , 0.        , 0.        , 0.        , 0.        , 0.        ,\n",
       "       0.        , 0.        , 0.        , 0.        , 0.        , 0.        , 0.        , 0.        , 0.        , 0.        , 0.        , 0.        , 0.        , 0.        , 0.        , 0.        , 0.        , 0.        , 0.        , 0.        , 0.        , 0.        , 0.        , 0.        , 0.        , 0.        , 0.        , 0.        , 0.        , 0.        , 0.        , 0.        , 0.        , 0.        , 0.        , 0.        , 0.        , 0.        , 0.        , 0.        , 0.        , 0.        , 0.        , 0.        , 0.        , 0.        , 0.        , 0.        , 0.        , 0.        , 0.        , 0.        , 0.        , 0.        , 0.        , 0.        , 0.        , 0.        , 0.        , 0.        , 0.        , 0.        , 0.        , 0.        , 0.        , 0.        , 0.        , 0.        , 0.        , 0.        , 0.        , 0.        , 0.        , 0.        , 0.        , 0.        , 0.        , 0.        , 0.        , 0.        , 0.        , 0.        ,\n",
       "       0.        , 0.        , 0.        , 0.        , 0.        , 0.        , 0.        , 0.        , 0.        ])"
      ]
     },
     "execution_count": 46,
     "metadata": {},
     "output_type": "execute_result"
    }
   ],
   "source": [
    "GC_FR_maps[0, 186:, 0, 0]"
   ]
  },
  {
   "cell_type": "code",
   "execution_count": 38,
   "metadata": {},
   "outputs": [
    {
     "data": {
      "text/plain": [
       "array([0.02969801, 0.02283934, 0.0160075 , 0.00920313, 0.00242683, 0.        , 0.        , 0.        , 0.        , 0.        , 0.        , 0.        , 0.        , 0.        , 0.        , 0.        , 0.        , 0.        , 0.        , 0.        , 0.        , 0.        , 0.        , 0.        , 0.        , 0.        , 0.        , 0.        , 0.        , 0.        , 0.        , 0.        , 0.        , 0.        , 0.        , 0.        , 0.        , 0.        , 0.        , 0.        , 0.        , 0.        , 0.        , 0.        , 0.        , 0.        , 0.        , 0.        , 0.        , 0.        , 0.        , 0.        , 0.        , 0.        , 0.        , 0.        , 0.        , 0.        , 0.        , 0.        , 0.        , 0.        , 0.        , 0.        , 0.        , 0.        , 0.        , 0.        , 0.        , 0.        , 0.        , 0.        , 0.        , 0.        , 0.        , 0.        , 0.        , 0.        , 0.        , 0.        , 0.        , 0.        ,\n",
       "       0.        , 0.        , 0.        , 0.        , 0.        , 0.        , 0.        , 0.        , 0.        , 0.        , 0.        , 0.        , 0.        , 0.        , 0.        , 0.        , 0.        , 0.        , 0.        , 0.        , 0.        , 0.        , 0.        , 0.        , 0.        , 0.        , 0.        , 0.        , 0.        , 0.        , 0.        , 0.        , 0.        , 0.        , 0.        , 0.        , 0.        , 0.        , 0.        , 0.        , 0.        , 0.        , 0.        , 0.        , 0.        , 0.        , 0.        , 0.        , 0.        , 0.        , 0.        , 0.        , 0.        , 0.        , 0.        , 0.        , 0.        , 0.        , 0.        , 0.        , 0.        , 0.        , 0.        , 0.        , 0.        , 0.        , 0.        , 0.        , 0.        , 0.        , 0.        , 0.        , 0.        , 0.        , 0.        , 0.        , 0.        , 0.        , 0.        , 0.        , 0.        , 0.        ,\n",
       "       0.        , 0.        , 0.        , 0.        , 0.        , 0.        , 0.        , 0.        , 0.        , 0.        , 0.        , 0.        , 0.        , 0.        , 0.        , 0.        , 0.        , 0.        , 0.        , 0.        , 0.        , 0.        , 0.        , 0.        , 0.        , 0.        , 0.        , 0.        , 0.        , 0.        , 0.        , 0.        , 0.        , 0.        , 0.        , 0.        , 0.        , 0.        , 0.        , 0.        , 0.        , 0.        , 0.        , 0.        , 0.        , 0.        , 0.        , 0.        , 0.        , 0.        , 0.        , 0.        , 0.        , 0.        , 0.        , 0.        , 0.        , 0.        , 0.        , 0.        , 0.        , 0.        , 0.        , 0.        , 0.        , 0.        , 0.        , 0.        , 0.        , 0.        , 0.        , 0.        , 0.        , 0.        , 0.        , 0.        , 0.        , 0.        , 0.        , 0.        , 0.        , 0.        ,\n",
       "       0.        , 0.        , 0.        , 0.        , 0.        , 0.        , 0.        , 0.        , 0.        ])"
      ]
     },
     "execution_count": 38,
     "metadata": {},
     "output_type": "execute_result"
    }
   ],
   "source": [
    "GC_FR_maps[0, 186:, 0, 0]"
   ]
  },
  {
   "cell_type": "code",
   "execution_count": 23,
   "metadata": {},
   "outputs": [
    {
     "data": {
      "text/plain": [
       "array([[0.01532582, 0.        , 0.        , 0.        , 0.        , 0.        , 0.        , 0.        , 0.        , 0.        , 0.        ],\n",
       "       [0.01520424, 0.        , 0.        , 0.        , 0.        , 0.        , 0.        , 0.        , 0.        , 0.        , 0.        ],\n",
       "       [0.0148396 , 0.        , 0.        , 0.        , 0.        , 0.        , 0.        , 0.        , 0.        , 0.        , 0.        ],\n",
       "       [0.01423226, 0.        , 0.        , 0.        , 0.        , 0.        , 0.        , 0.        , 0.        , 0.        , 0.        ],\n",
       "       [0.0133828 , 0.        , 0.        , 0.        , 0.        , 0.        , 0.        , 0.        , 0.        , 0.        , 0.        ],\n",
       "       [0.01229204, 0.        , 0.        , 0.        , 0.        , 0.        , 0.        , 0.        , 0.        , 0.        , 0.        ],\n",
       "       [0.01096102, 0.        , 0.        , 0.        , 0.        , 0.        , 0.        , 0.        , 0.        , 0.        , 0.        ],\n",
       "       [0.00939104, 0.        , 0.        , 0.        , 0.        , 0.        , 0.        , 0.        , 0.        , 0.        , 0.        ],\n",
       "       [0.00758359, 0.        , 0.        , 0.        , 0.        , 0.        , 0.        , 0.        , 0.        , 0.        , 0.        ],\n",
       "       [0.00554043, 0.        , 0.        , 0.        , 0.        , 0.        , 0.        , 0.        , 0.        , 0.        , 0.        ]])"
      ]
     },
     "execution_count": 23,
     "metadata": {},
     "output_type": "execute_result"
    }
   ],
   "source": [
    "GC_FR_maps[66:77, :10, 0, 3]"
   ]
  },
  {
   "cell_type": "code",
   "execution_count": 5,
   "metadata": {},
   "outputs": [
    {
     "data": {
      "text/plain": [
       "array([[0.8719907 , 0.86892842, 0.86572695, 0.86238705, 0.85890947, 0.85529504, 0.85154459, 0.84765899, 0.84363914, 0.83948597],\n",
       "       [0.87710858, 0.87403764, 0.87082712, 0.86747777, 0.86399036, 0.8603657 , 0.85660464, 0.85270805, 0.84867684, 0.84451193],\n",
       "       [0.88209528, 0.87901592, 0.87579659, 0.87243805, 0.86894108, 0.86530648, 0.86153511, 0.85762783, 0.85358556, 0.84940923],\n",
       "       [0.88694965, 0.8838621 , 0.88063422, 0.87726675, 0.87376048, 0.87011623, 0.86633483, 0.86241717, 0.85836415, 0.85417672],\n",
       "       [0.89167055, 0.88857505, 0.88533886, 0.88196273, 0.87844744, 0.87479381, 0.87100268, 0.86707493, 0.86301149, 0.85881328],\n",
       "       [0.89625688, 0.89315368, 0.88990944, 0.8865249 , 0.88300086, 0.87933813, 0.87553756, 0.87160004, 0.86752648, 0.86331782],\n",
       "       [0.90070759, 0.89759692, 0.89434487, 0.89095219, 0.88741967, 0.88374813, 0.87993842, 0.87599143, 0.87190806, 0.86768928],\n",
       "       [0.90502162, 0.90190373, 0.89864413, 0.89524357, 0.89170284, 0.88802278, 0.88420422, 0.88024805, 0.87615521, 0.87192662],\n",
       "       [0.90919799, 0.90607311, 0.90280621, 0.89939803, 0.89584938, 0.89216106, 0.88833395, 0.88436893, 0.88026691, 0.87602886],\n",
       "       [0.9132357 , 0.91010409, 0.90683013, 0.9034146 , 0.89985829, 0.89616202, 0.89232665, 0.88835307, 0.88424221, 0.87999501]])"
      ]
     },
     "execution_count": 5,
     "metadata": {},
     "output_type": "execute_result"
    }
   ],
   "source": [
    "GC_FR_maps[:10, :10, 0, 1]"
   ]
  },
  {
   "cell_type": "code",
   "execution_count": 11,
   "metadata": {},
   "outputs": [
    {
     "data": {
      "text/plain": [
       "array([[0., 0., 0., 0., 0., 0., 0., 0., 0., 0.],\n",
       "       [0., 0., 0., 0., 0., 0., 0., 0., 0., 0.],\n",
       "       [0., 0., 0., 0., 0., 0., 0., 0., 0., 0.],\n",
       "       [0., 0., 0., 0., 0., 0., 0., 0., 0., 0.],\n",
       "       [0., 0., 0., 0., 0., 0., 0., 0., 0., 0.],\n",
       "       [0., 0., 0., 0., 0., 0., 0., 0., 0., 0.],\n",
       "       [0., 0., 0., 0., 0., 0., 0., 0., 0., 0.],\n",
       "       [0., 0., 0., 0., 0., 0., 0., 0., 0., 0.],\n",
       "       [0., 0., 0., 0., 0., 0., 0., 0., 0., 0.],\n",
       "       [0., 0., 0., 0., 0., 0., 0., 0., 0., 0.]])"
      ]
     },
     "execution_count": 11,
     "metadata": {},
     "output_type": "execute_result"
    }
   ],
   "source": [
    "GC_FR_maps[:10, :10, 0, 2]"
   ]
  },
  {
   "cell_type": "code",
   "execution_count": 15,
   "metadata": {},
   "outputs": [
    {
     "data": {
      "text/plain": [
       "array([[0.36610313, 0.36813417, 0.37016287, 0.37218924, 0.37421325, 0.37623492, 0.37825423, 0.38027117, 0.38228574, 0.38429794],\n",
       "       [0.36727686, 0.36930513, 0.37133106, 0.37335466, 0.37537591, 0.37739481, 0.37941134, 0.38142552, 0.38343732, 0.38544674],\n",
       "       [0.36845144, 0.37047694, 0.37250011, 0.37452094, 0.37653942, 0.37855554, 0.38056931, 0.38258071, 0.38458973, 0.38659638],\n",
       "       [0.36962688, 0.37164961, 0.37367001, 0.37568807, 0.37770377, 0.37971713, 0.38172812, 0.38373674, 0.38574299, 0.38774686],\n",
       "       [0.37080317, 0.37282313, 0.37484076, 0.37685604, 0.37886898, 0.38087955, 0.38288777, 0.38489361, 0.38689708, 0.38889817],\n",
       "       [0.37198031, 0.3739975 , 0.37601235, 0.37802486, 0.38003502, 0.38204282, 0.38404825, 0.38605132, 0.38805201, 0.39005032],\n",
       "       [0.37315829, 0.37517271, 0.37718479, 0.37919452, 0.3812019 , 0.38320692, 0.38520957, 0.38720986, 0.38920776, 0.39120329],\n",
       "       [0.37433712, 0.37634876, 0.37835806, 0.38036501, 0.38236961, 0.38437185, 0.38637172, 0.38836922, 0.39036434, 0.39235708],\n",
       "       [0.37551678, 0.37752564, 0.37953216, 0.38153634, 0.38353815, 0.38553761, 0.3875347 , 0.38952941, 0.39152175, 0.3935117 ],\n",
       "       [0.37669728, 0.37870336, 0.3807071 , 0.38270849, 0.38470752, 0.38670419, 0.38869849, 0.39069042, 0.39267997, 0.39466713]])"
      ]
     },
     "execution_count": 15,
     "metadata": {},
     "output_type": "execute_result"
    }
   ],
   "source": [
    "GC_FR_maps[:10, :10, 0, 0]"
   ]
  },
  {
   "cell_type": "code",
   "execution_count": 2,
   "metadata": {},
   "outputs": [
    {
     "data": {
      "text/plain": [
       "<matplotlib.image.AxesImage at 0x7fe2642aa650>"
      ]
     },
     "execution_count": 2,
     "metadata": {},
     "output_type": "execute_result"
    },
    {
     "data": {
      "image/png": "[encoded data removed]",
      "text/plain": [
       "<Figure size 640x480 with 1 Axes>"
      ]
     },
     "metadata": {},
     "output_type": "display_data"
    }
   ],
   "source": [
    "x = np.load('../data/grid_cells/GC_FR_maps_BB.npy')\n",
    "plt.imshow(x[:, :, 0, 6])"
   ]
  },
  {
   "cell_type": "code",
   "execution_count": null,
   "metadata": {},
   "outputs": [],
   "source": [
    "x.shape"
   ]
  },
  {
   "cell_type": "code",
   "execution_count": 3,
   "metadata": {},
   "outputs": [
    {
     "data": {
      "text/plain": [
       "<matplotlib.image.AxesImage at 0x7f28f58ff910>"
      ]
     },
     "execution_count": 3,
     "metadata": {},
     "output_type": "execute_result"
    },
    {
     "data": {
      "image/png": "[encoded data removed]",
      "text/plain": [
       "<Figure size 640x480 with 1 Axes>"
      ]
     },
     "metadata": {},
     "output_type": "display_data"
    }
   ],
   "source": [
    "x = np.load('../data/grid_cells/GC_FR_maps_SD.npy')\n",
    "plt.imshow(x[:, :, 0, 6])"
   ]
  },
  {
   "cell_type": "code",
   "execution_count": 26,
   "metadata": {},
   "outputs": [],
   "source": [
    "x = np.load('../data/place_cells/GC2PCwts_BB.npy')"
   ]
  },
  {
   "cell_type": "code",
   "execution_count": 27,
   "metadata": {},
   "outputs": [
    {
     "data": {
      "text/plain": [
       "(1936, 700)"
      ]
     },
     "execution_count": 27,
     "metadata": {},
     "output_type": "execute_result"
    }
   ],
   "source": [
    "x.shape"
   ]
  },
  {
   "cell_type": "code",
   "execution_count": 28,
   "metadata": {},
   "outputs": [
    {
     "data": {
      "text/plain": [
       "<matplotlib.image.AxesImage at 0x7fc67a9dd8d0>"
      ]
     },
     "execution_count": 28,
     "metadata": {},
     "output_type": "execute_result"
    },
    {
     "data": {
      "image/png": "[encoded data removed]",
      "text/plain": [
       "<Figure size 640x480 with 1 Axes>"
      ]
     },
     "metadata": {},
     "output_type": "display_data"
    }
   ],
   "source": [
    "plt.imshow(x)"
   ]
  }
 ],
 "metadata": {
  "kernelspec": {
   "display_name": "venv",
   "language": "python",
   "name": "python3"
  },
  "language_info": {
   "codemirror_mode": {
    "name": "ipython",
    "version": 3
   },
   "file_extension": ".py",
   "mimetype": "text/x-python",
   "name": "python",
   "nbconvert_exporter": "python",
   "pygments_lexer": "ipython3",
   "version": "3.11.5"
  },
  "orig_nbformat": 4
 },
 "nbformat": 4,
 "nbformat_minor": 2
}
