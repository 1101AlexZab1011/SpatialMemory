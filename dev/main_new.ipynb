{
 "cells": [
  {
   "cell_type": "code",
   "execution_count": 1,
   "metadata": {},
   "outputs": [],
   "source": [
    "import numpy as np\n",
    "import matplotlib.pyplot as plt\n",
    "import os\n",
    "import sys\n",
    "sys.path.insert(1, os.path.realpath(os.path.pardir))\n",
    "from bbtoolkit.data.configparser import EvalConfigParser\n",
    "import configparser\n",
    "from typing import Any\n",
    "from bbtoolkit.structures.synapses import TensorGroup, DirectedTensor, dict2directed_tensor\n",
    "from bbtoolkit.math import pol2cart\n",
    "from bbtoolkit.preprocessing.neural_generators import GCMap\n",
    "from bbtoolkit.preprocessing.environment import Environment\n",
    "from bbtoolkit.preprocessing.neural_generators import MTLGenerator, TCGenerator\n"
   ]
  },
  {
   "cell_type": "code",
   "execution_count": 2,
   "metadata": {},
   "outputs": [
    {
     "data": {
      "text/plain": [
       "['../cfg/connectivity/main.ini']"
      ]
     },
     "execution_count": 2,
     "metadata": {},
     "output_type": "execute_result"
    }
   ],
   "source": [
    "config = EvalConfigParser(interpolation=configparser.ExtendedInterpolation(), allow_no_value=True)\n",
    "config.read('../cfg/connectivity/main.ini')"
   ]
  },
  {
   "cell_type": "code",
   "execution_count": 3,
   "metadata": {},
   "outputs": [],
   "source": [
    "def connectivity_config2dict(\n",
    "    config: EvalConfigParser,\n",
    "    populations: tuple[str, ...] = None,\n",
    "    ignore: tuple[str, ...] = None\n",
    ") -> dict[str, dict[str, Any]]:\n",
    "    \"\"\"\n",
    "    Converts EvalConfigParser object into a nested dictionary with specified sections and populations.\n",
    "\n",
    "    Args:\n",
    "        config (EvalConfigParser): An instance of EvalConfigParser containing configuration data.\n",
    "        populations (tuple[str, ..], optional): A tuple of sections to include.\n",
    "            If None, read all sections except of 'ExternalSources' and 'Hyperparameters'. Defaults to None.\n",
    "        ignore (tuple[str, ..], optional): A tuple of sections to ignore. 'ExternalSources' and 'Hyperparameters' sections are always ignored. Defaults to None.\n",
    "\n",
    "    Returns:\n",
    "        dict[str, dict[str, Any]]: A nested dictionary containing configuration data organized by sections and populations.\n",
    "    \"\"\"\n",
    "    if populations is None:\n",
    "        populations = tuple(config.sections())\n",
    "\n",
    "    if ignore is None:\n",
    "        ignore = {'ExternalSources', 'Hyperparameters'}\n",
    "    else:\n",
    "        ignore = set(list(ignore) + ['ExternalSources', 'Hyperparameters'])\n",
    "\n",
    "    out = {\n",
    "        config.optionxform(section): {\n",
    "            population: config.eval(section, population)\n",
    "            for population in config[section]\n",
    "        }\n",
    "        for section in config.sections() if section in populations and section not in ignore\n",
    "    }\n",
    "    return out"
   ]
  },
  {
   "cell_type": "code",
   "execution_count": 4,
   "metadata": {},
   "outputs": [],
   "source": [
    "configdict = connectivity_config2dict(config)\n",
    "connections = dict2directed_tensor(configdict)\n",
    "connectivity = TensorGroup(*connections)"
   ]
  },
  {
   "cell_type": "code",
   "execution_count": 5,
   "metadata": {},
   "outputs": [],
   "source": [
    "simconfig_path = '../cfg/simulation/one_one.ini'\n",
    "simconfig = EvalConfigParser(interpolation=configparser.ExtendedInterpolation(), allow_no_value=True)\n",
    "simconfig.read(simconfig_path)\n",
    "\n",
    "dt = simconfig.eval('Simulation', 'dt')\n",
    "step = simconfig.eval('Simulation', 'step')\n",
    "lesion_noise_level =  simconfig.eval('Simulation', 'lesion_noise_level')\n",
    "fr_noise_level = simconfig.eval('Simulation', 'fr_noise_level')"
   ]
  },
  {
   "cell_type": "code",
   "execution_count": 6,
   "metadata": {},
   "outputs": [],
   "source": [
    "mtl_weights = TensorGroup.load('../data/weights/mtl_weights.pkl')\n",
    "tc_weights = TensorGroup.load('../data/weights/tc_weights.pkl')\n",
    "hd_weights = TensorGroup.load('../data/weights/hd_weights.pkl')\n",
    "pc_weights = TensorGroup.load('../data/weights/pc_weights.pkl')\n",
    "gc_map = GCMap.load('../data/weights/gc_map.pkl')"
   ]
  },
  {
   "cell_type": "code",
   "execution_count": 7,
   "metadata": {},
   "outputs": [],
   "source": [
    "weights = mtl_weights + tc_weights + hd_weights + pc_weights"
   ]
  },
  {
   "cell_type": "code",
   "execution_count": 8,
   "metadata": {},
   "outputs": [],
   "source": [
    "n_h_neurons = len(weights.h.to.h)\n",
    "n_bvc_neurons = n_opw_neurons = n_ovc_neurons = len(weights.bvc.to.bvc)\n",
    "n_pr_neurons = len(weights.pr.to.pr)\n",
    "n_hd_neurons = len(weights.hd.to.hd)\n",
    "n_pc_neurons = len(weights.gc.to.pc)\n",
    "n_gc_neurons = len(weights.gc.to.pc.T)\n",
    "n_tc_layers = len(weights.tr.to.pw.T)"
   ]
  },
  {
   "cell_type": "code",
   "execution_count": 9,
   "metadata": {},
   "outputs": [
    {
     "data": {
      "text/plain": [
       "(6400, 816, 2, 100, 700, 816, 816)"
      ]
     },
     "execution_count": 9,
     "metadata": {},
     "output_type": "execute_result"
    }
   ],
   "source": [
    "n_h_neurons, n_bvc_neurons, n_pr_neurons, n_hd_neurons, n_gc_neurons, n_opw_neurons, n_ovc_neurons"
   ]
  },
  {
   "cell_type": "code",
   "execution_count": 10,
   "metadata": {},
   "outputs": [],
   "source": [
    "tr_projection = TensorGroup(\n",
    "    DirectedTensor(\n",
    "        from_='bvc',\n",
    "        to='tr',\n",
    "        weights=np.eye(n_bvc_neurons)\n",
    "    ),\n",
    "    DirectedTensor(\n",
    "        from_='tr',\n",
    "        to='bvc',\n",
    "        weights=np.eye(n_bvc_neurons)\n",
    "    )\n",
    ")\n",
    "\n",
    "# initialize activity to zeros\n",
    "\n",
    "h_act = np.zeros((n_h_neurons, 1))\n",
    "bvc_act = np.zeros((n_bvc_neurons, 1))\n",
    "pr_act = np.zeros((n_pr_neurons, 1))\n",
    "pw_act = bvc_act.copy()\n",
    "hd_act = np.zeros((n_hd_neurons, 1))\n",
    "ovc_act = bvc_act.copy()\n",
    "opw_act = bvc_act.copy()\n",
    "tr_act = np.zeros((n_tc_layers, n_bvc_neurons, 1))\n",
    "gc = np.reshape(gc_map.fr, (*gc_map.fr.shape[:2], -1))"
   ]
  },
  {
   "cell_type": "code",
   "execution_count": 11,
   "metadata": {},
   "outputs": [],
   "source": [
    "hd_config_path = '../cfg/cells/hd_cells.ini'\n",
    "hd_config = EvalConfigParser(interpolation=configparser.ExtendedInterpolation(), allow_no_value=True)\n",
    "hd_config.read(hd_config_path)\n",
    "\n",
    "mtl_config_path = '../cfg/cells/mtl_cells.ini'\n",
    "mtl_config = EvalConfigParser(interpolation=configparser.ExtendedInterpolation(), allow_no_value=True)\n",
    "mtl_config.read(mtl_config_path)\n",
    "\n",
    "tr_config_path = '../cfg/cells/transformation_circuit.ini'\n",
    "tr_config = EvalConfigParser(interpolation=configparser.ExtendedInterpolation(), allow_no_value=True)\n",
    "tr_config.read(tr_config_path)\n",
    "\n",
    "env_cfg = EvalConfigParser(interpolation=configparser.ExtendedInterpolation(), allow_no_value=True)\n",
    "env_cfg.read('../cfg/envs/squared_room.ini')\n",
    "\n",
    "space_cfg = mtl_config['Space']\n",
    "h_res = space_cfg.eval('res')\n",
    "r_max = space_cfg.eval('r_max')\n",
    "\n",
    "mtl_grid_cfg = mtl_config['PolarGrid']\n",
    "n_radial_points = mtl_grid_cfg.eval('n_radial_points')\n",
    "polar_dist_res = mtl_grid_cfg.eval('polar_dist_res')\n",
    "polar_ang_res = mtl_grid_cfg.eval('polar_ang_res', locals={'pi': np.pi})\n",
    "h_sig = mtl_grid_cfg.eval('sigma_hill')\n",
    "\n",
    "tr_space_cfg = tr_config['Space']\n",
    "tr_res = tr_space_cfg.eval('tr_res', locals={'pi': np.pi})\n",
    "res = tr_space_cfg.eval('res')\n",
    "\n",
    "n_steps = tr_config['Training'].eval('n_steps')\n",
    "\n",
    "hd_neurons_cfg = hd_config['Neurons']\n",
    "sigma_angular = hd_neurons_cfg.eval('sigma', locals={'pi': np.pi})\n",
    "n_hd = hd_neurons_cfg.eval('n_neurons')\n",
    "\n",
    "training_rect_cfg = env_cfg['TrainingRectangle']\n",
    "max_train_x = training_rect_cfg.eval('max_train_x')\n",
    "min_train_x = training_rect_cfg.eval('min_train_x')\n",
    "max_train_y = training_rect_cfg.eval('max_train_y')\n",
    "min_train_y = training_rect_cfg.eval('min_train_y')\n",
    "\n",
    "environment = Environment.load('../data/envs/main_environment.pkl')\n",
    "\n",
    "tc_gen = TCGenerator(\n",
    "    n_hd,\n",
    "    tr_res,\n",
    "    res,\n",
    "    r_max,\n",
    "    polar_dist_res,\n",
    "    n_radial_points,\n",
    "    polar_ang_res,\n",
    "    h_sig,\n",
    "    sigma_angular,\n",
    "    n_steps\n",
    ")\n",
    "\n",
    "mtl_gen = MTLGenerator(\n",
    "    r_max, h_sig, polar_dist_res, polar_ang_res, environment\n",
    ")"
   ]
  },
  {
   "cell_type": "code",
   "execution_count": 12,
   "metadata": {},
   "outputs": [],
   "source": [
    "h_coords, *_ = mtl_gen.get_coords()\n",
    "pdist, pang = tc_gen.polar_distance, tc_gen.polar_angle\n",
    "x_bvc, y_bvc = pol2cart(pdist, pang)\n",
    "hd_polar_res = 2 * np.pi / n_hd\n",
    "hd_angles = np.arange(0, 2 * np.pi+ hd_polar_res, hd_polar_res) + np.pi/2\n",
    "hd_dist, hd_ang = np.meshgrid(np.array([1, 1.5]), hd_angles)\n",
    "hd_x, hd_y = pol2cart(hd_dist, hd_ang)"
   ]
  },
  {
   "cell_type": "code",
   "execution_count": 13,
   "metadata": {},
   "outputs": [],
   "source": [
    "trajectory_cfg = EvalConfigParser(interpolation=configparser.ExtendedInterpolation(), allow_no_value=True)\n",
    "trajectory_cfg.read('../cfg/trajectory/papez_circuit_lesion.ini')\n",
    "\n",
    "agent_cfg = trajectory_cfg['AgentPosition']\n",
    "agent_x = agent_cfg.eval('x')\n",
    "agent_y = agent_cfg.eval('y')\n",
    "agent_hd = agent_cfg.eval('theta', locals={'pi': np.pi})\n",
    "agent_v = agent_cfg.eval('v')\n",
    "\n",
    "mode_cfg = trajectory_cfg['Mode']\n",
    "perception = mode_cfg.eval('perception')\n",
    "imagery = mode_cfg.eval('imagery')\n",
    "movement = mode_cfg.eval('movement')\n",
    "imaginary_movement = mode_cfg.eval('imaginary_movement')\n",
    "stand_time = mode_cfg.eval('stand_t')\n",
    "\n",
    "targets_cfg = trajectory_cfg['Targets']\n",
    "locate_next_target = targets_cfg.eval('locate_next_target')\n",
    "move_to_next_target = targets_cfg.eval('move_to_next_target')\n",
    "rotation_resolved = targets_cfg.eval('rotation_resolved')\n",
    "targets = np.array(targets_cfg.eval('targets'))\n",
    "\n",
    "itargets_cfg = trajectory_cfg['ImaginaryTargets']\n",
    "ilocate_next_target = itargets_cfg.eval('locate_next_target')\n",
    "imove_to_next_target = itargets_cfg.eval('move_to_next_target')\n",
    "irotation_resolved = itargets_cfg.eval('rotation_resolved')\n",
    "itargets = np.array(itargets_cfg.eval('targets'))\n",
    "idwell_time = itargets_cfg.eval('dwell')\n",
    "\n",
    "objects_cfg = trajectory_cfg['Objects']\n",
    "object_coords = np.array(objects_cfg.eval('coords'))\n",
    "encoding_threshold = objects_cfg.eval('encoding_threshold')\n",
    "\n",
    "\n",
    "connectivity_modified = connectivity.operation_with(\n",
    "    TensorGroup(\n",
    "        *dict2directed_tensor(\n",
    "            connectivity_config2dict(\n",
    "                trajectory_cfg, ignore=('AgentPosition', 'Mode', 'Targets', 'ImaginaryTargets', 'Objects')\n",
    "            )\n",
    "        )\n",
    "    ),\n",
    "    lambda dict1, dict2:\n",
    "        {\n",
    "            key: dict1.get(key, 1) * dict2.get(key, 1)\n",
    "            for key in set(dict1) | set(dict2)\n",
    "        }\n",
    ")"
   ]
  },
  {
   "cell_type": "code",
   "execution_count": 14,
   "metadata": {},
   "outputs": [],
   "source": [
    "import numpy as np\n",
    "import matplotlib.pyplot as plt\n",
    "import os\n",
    "import sys\n",
    "from bbtoolkit.math.geometry import create_cartesian_space, regroup_min_max\n",
    "from shapely import Polygon\n",
    "\n",
    "from bbtoolkit.structures.geometry import TexturedPolygon\n",
    "sys.path.insert(1, os.path.realpath(os.path.pardir))\n",
    "from bbtoolkit.data.configparser import EvalConfigParser\n",
    "import configparser\n",
    "from typing import Any, Callable, Literal\n",
    "from bbtoolkit.structures.synapses import TensorGroup, DirectedTensor, dict2directed_tensor\n",
    "from bbtoolkit.math import pol2cart\n",
    "from bbtoolkit.preprocessing.neural_generators import GCMap\n",
    "from bbtoolkit.preprocessing.environment import Environment, EnvironmentCompiler, Object, SpatialParameters\n",
    "from bbtoolkit.preprocessing.neural_generators import MTLGenerator, TCGenerator\n",
    "\n",
    "\n",
    "from collections import OrderedDict\n",
    "from functools import partial\n",
    "from bbtoolkit.data import Cached\n",
    "from bbtoolkit.preprocessing.environment import DynamicEnvironmentCompiler, LazyVisiblePlane\n",
    "from bbtoolkit.preprocessing.environment import EnvironmentBuilder\n",
    "\n",
    "\n",
    "\n",
    "def env2builder(environment: Environment) -> EnvironmentBuilder:\n",
    "    xy_min = np.min(environment.room.boundary.xy)\n",
    "    xy_max = np.max(environment.room.boundary.xy)\n",
    "    xy_train_min = tuple(np.min(environment.visible_area.boundary.xy, 1))\n",
    "    xy_train_max = tuple(np.max(environment.visible_area.boundary.xy, 1))\n",
    "    res = environment.params.res\n",
    "    builder = EnvironmentBuilder(xy_min, xy_max, xy_train_min, xy_train_max, res)\n",
    "\n",
    "    for wall in environment.walls:\n",
    "        builder.add_wall(wall.polygon)\n",
    "    for obj in environment.objects:\n",
    "        builder.add_object(obj.polygon)\n",
    "\n",
    "    return builder\n",
    "\n",
    "environment = Environment.load('../data/envs/main_environment.pkl')\n",
    "compiler = DynamicEnvironmentCompiler(\n",
    "    env2builder(environment),\n",
    "    partial(\n",
    "        LazyVisiblePlane,\n",
    "        cache_manager=Cached(cache_storage=OrderedDict(), max_size=10000),\n",
    "    )\n",
    ")"
   ]
  },
  {
   "cell_type": "code",
   "execution_count": 15,
   "metadata": {},
   "outputs": [
    {
     "data": {
      "text/plain": [
       "[<matplotlib.lines.Line2D at 0x7f4aaf447850>]"
      ]
     },
     "execution_count": 15,
     "metadata": {},
     "output_type": "execute_result"
    },
    {
     "data": {
      "image/png": "[encoded data removed]",
      "text/plain": [
       "<Figure size 640x480 with 1 Axes>"
      ]
     },
     "metadata": {},
     "output_type": "display_data"
    }
   ],
   "source": [
    "from bbtoolkit.preprocessing.environment.viz import plot_polygon\n",
    "\n",
    "\n",
    "env = compiler.environment\n",
    "\n",
    "fig, ax = plt.subplots()\n",
    "position = 1000\n",
    "for i, obj in enumerate(env.objects + env.walls):\n",
    "    plot_polygon(obj.polygon, ax=ax, alpha=0.5, linewidth=1)\n",
    "    ax.plot(\n",
    "        obj.visible_parts[position, :, 0],\n",
    "        obj.visible_parts[position, :, 1],\n",
    "        'o',\n",
    "        color=obj.polygon.texture.color,\n",
    "        markersize=2\n",
    "    )\n",
    "\n",
    "ax.plot(\n",
    "    env.params.coords[position, 0],\n",
    "    env.params.coords[position, 1],\n",
    "    'o'\n",
    ")"
   ]
  },
  {
   "cell_type": "code",
   "execution_count": 174,
   "metadata": {},
   "outputs": [],
   "source": [
    "from shapely import Point\n",
    "from bbtoolkit.structures.geometry import Texture, TexturedPolygon\n",
    "\n",
    "\n",
    "compiler.add_object(\n",
    "    TexturedPolygon(\n",
    "        [\n",
    "            Point(-7.5, -7.5),\n",
    "            Point(-7, -7.5),\n",
    "            Point(-7, -7),\n",
    "            Point(-7.5, -7)\n",
    "        ],\n",
    "        texture=Texture(\n",
    "            21,\n",
    "            '#fff44b',\n",
    "            'obj_main'\n",
    "        )\n",
    "    ),\n",
    "    TexturedPolygon(\n",
    "        [\n",
    "            Point(-4.5, -4.5),\n",
    "            Point(-4, -4.5),\n",
    "            Point(-4, -4),\n",
    "            Point(-4.5, -4)\n",
    "        ],\n",
    "        texture=Texture(\n",
    "            21,\n",
    "            '#fff44b',\n",
    "            'obj_main'\n",
    "        )\n",
    "    ),\n",
    "    TexturedPolygon(\n",
    "        [\n",
    "            Point(7.5, -7.5),\n",
    "            Point(7, -7.5),\n",
    "            Point(7, -7),\n",
    "            Point(7.5, -7)\n",
    "        ],\n",
    "        texture=Texture(\n",
    "            21,\n",
    "            '#fff44b',\n",
    "            'obj_main'\n",
    "        )\n",
    "    )\n",
    ")"
   ]
  },
  {
   "cell_type": "code",
   "execution_count": 175,
   "metadata": {},
   "outputs": [
    {
     "data": {
      "text/plain": [
       "[<matplotlib.lines.Line2D at 0x7fa9bd474bd0>]"
      ]
     },
     "execution_count": 175,
     "metadata": {},
     "output_type": "execute_result"
    },
    {
     "data": {
      "image/png": "[encoded data removed]",
      "text/plain": [
       "<Figure size 640x480 with 1 Axes>"
      ]
     },
     "metadata": {},
     "output_type": "display_data"
    }
   ],
   "source": [
    "from bbtoolkit.preprocessing.environment.viz import plot_polygon\n",
    "\n",
    "\n",
    "env = compiler.environment\n",
    "\n",
    "fig, ax = plt.subplots()\n",
    "position = 1000\n",
    "for i, obj in enumerate(env.objects + env.walls):\n",
    "    plot_polygon(obj.polygon, ax=ax, alpha=0.5, linewidth=1)\n",
    "    ax.plot(\n",
    "        obj.visible_parts[position, :, 0],\n",
    "        obj.visible_parts[position, :, 1],\n",
    "        'o',\n",
    "        color=obj.polygon.texture.color,\n",
    "        markersize=2\n",
    "    )\n",
    "\n",
    "ax.plot(\n",
    "    env.params.coords[position, 0],\n",
    "    env.params.coords[position, 1],\n",
    "    'o'\n",
    ")"
   ]
  },
  {
   "cell_type": "code",
   "execution_count": 176,
   "metadata": {},
   "outputs": [],
   "source": [
    "def get_fov(phi, theta):\n",
    "    # Calculate the lower and upper bounds of the field of view\n",
    "    lower_bound = (phi - theta/2) % (2*np.pi)\n",
    "    upper_bound = (phi + theta/2) % (2*np.pi)\n",
    "\n",
    "    return lower_bound, upper_bound\n",
    "\n",
    "\n",
    "def visible_points(coords_list, location, angle1, angle2):\n",
    "    visible_points_list = []\n",
    "\n",
    "    for coords in coords_list:\n",
    "        # Calculate the relative coordinates\n",
    "        relative_coords = coords - location\n",
    "\n",
    "        # Calculate the angles\n",
    "        angles = np.arctan2(relative_coords[:,1], relative_coords[:,0]) % (2 * np.pi)\n",
    "\n",
    "        # Filter the points\n",
    "        visible = ((angles >= angle1) & (angles <= angle2)) | ((angles + 2 * np.pi >= angle1) & (angles + 2 * np.pi <= angle2))\n",
    "\n",
    "        visible_points_list.append(coords[visible])\n",
    "\n",
    "    return visible_points_list"
   ]
  },
  {
   "cell_type": "code",
   "execution_count": 177,
   "metadata": {},
   "outputs": [],
   "source": [
    "class FOVManager:\n",
    "    def __init__(\n",
    "        self,\n",
    "        environment: Environment,\n",
    "        fov: float\n",
    "    ):\n",
    "        self.environment = environment\n",
    "        self.fov = fov\n",
    "\n",
    "    def __call__(\n",
    "        self,\n",
    "        position: tuple[float, float],\n",
    "        direction: float,\n",
    "    ):\n",
    "        phi1, phi2 = get_fov(direction, self.fov)\n",
    "        objects_fov = visible_points(\n",
    "            [\n",
    "                obj.visible_parts(*position)\n",
    "                for obj in self.environment.objects\n",
    "            ],\n",
    "            position, phi1, phi2\n",
    "        )\n",
    "        walls_fov = visible_points(\n",
    "            [\n",
    "                wall.visible_parts(*position)\n",
    "                for wall in self.environment.walls\n",
    "            ],\n",
    "            position, phi1, phi2\n",
    "        )\n",
    "        return walls_fov, objects_fov"
   ]
  },
  {
   "cell_type": "code",
   "execution_count": 178,
   "metadata": {},
   "outputs": [],
   "source": [
    "def plot_arrow(angle: float, x: float, y: float, ax: plt.Axes = None, **kwargs) -> plt.Figure:\n",
    "    \"\"\"\n",
    "    Plot an arrow at a specified angle with given x and y coordinates.\n",
    "\n",
    "    Args:\n",
    "        angle (float): Angle in radians (from 0 to 2*pi).\n",
    "        x (float): X-coordinate of the arrow.\n",
    "        y (float): Y-coordinate of the arrow.\n",
    "        ax (plt.Axes): Optional axis for the plot. If not provided, a new plot is created.\n",
    "        **kwargs: Keyword arguments passed to the matplotlib.pyplot.arrow function.\n",
    "\n",
    "    Returns:\n",
    "        plt.Figure: The figure on which the arrow is plotted.\n",
    "    \"\"\"\n",
    "\n",
    "    if ax is None:\n",
    "        fig, ax = plt.subplots()\n",
    "    else:\n",
    "        fig = ax.get_figure()\n",
    "\n",
    "    kwargs.setdefault('head_width', 1)\n",
    "    kwargs.setdefault('head_length', 1)\n",
    "    kwargs.setdefault('fc', 'red')\n",
    "    kwargs.setdefault('ec', 'red')\n",
    "\n",
    "    # Calculate the arrow components\n",
    "    arrow_length = 0.2\n",
    "    dx = arrow_length * np.cos(angle)\n",
    "    dy = arrow_length * np.sin(angle)\n",
    "\n",
    "    # Plot the arrow\n",
    "    ax.arrow(x, y, dx, dy, **kwargs)\n",
    "\n",
    "    return fig"
   ]
  },
  {
   "cell_type": "code",
   "execution_count": 179,
   "metadata": {},
   "outputs": [
    {
     "data": {
      "image/png": "[encoded data removed]",
      "text/plain": [
       "<Figure size 640x480 with 1 Axes>"
      ]
     },
     "metadata": {},
     "output_type": "display_data"
    }
   ],
   "source": [
    "fov_angle = np.pi/2\n",
    "fov_manager = FOVManager(compiler.environment, fov_angle)\n",
    "position = -0, 0\n",
    "direction = -np.pi/2\n",
    "walls_fov, objects_fov = fov_manager(position, direction)\n",
    "\n",
    "fig, ax = plt.subplots()\n",
    "fig = plot_arrow(direction, *position, ax=ax)\n",
    "\n",
    "for i, obj in enumerate(env.objects + env.walls):\n",
    "    plot_polygon(obj.polygon, ax=ax, alpha=0.5, linewidth=1)\n",
    "\n",
    "for wall, poly in zip(walls_fov, compiler.environment.walls):\n",
    "    ax.plot(wall[:, 0], wall[:, 1], 'o', color=poly.polygon.texture.color)\n",
    "\n",
    "for obj, poly in zip(objects_fov, compiler.environment.objects):\n",
    "    ax.plot(obj[:, 0], obj[:, 1], 'o', color=poly.polygon.texture.color)\n"
   ]
  },
  {
   "cell_type": "code",
   "execution_count": 180,
   "metadata": {},
   "outputs": [],
   "source": [
    "compiler.add_object(\n",
    "    TexturedPolygon(\n",
    "        [\n",
    "            Point(5, -5),\n",
    "            Point(4.5, -5),\n",
    "            Point(4.5, -4.5),\n",
    "            Point(5, -4.5)\n",
    "        ],\n",
    "        texture=Texture(\n",
    "            21,\n",
    "            '#fff44b',\n",
    "            'obj_main'\n",
    "        )\n",
    "    )\n",
    ")"
   ]
  },
  {
   "cell_type": "code",
   "execution_count": 181,
   "metadata": {},
   "outputs": [
    {
     "data": {
      "image/png": "[encoded data removed]",
      "text/plain": [
       "<Figure size 640x480 with 1 Axes>"
      ]
     },
     "metadata": {},
     "output_type": "display_data"
    }
   ],
   "source": [
    "\n",
    "fov_angle = np.pi/2\n",
    "fov_manager = FOVManager(compiler.environment, fov_angle)\n",
    "position = -0, 0\n",
    "direction = -np.pi/2\n",
    "walls_fov, objects_fov = fov_manager(position, direction)\n",
    "\n",
    "fig, ax = plt.subplots()\n",
    "fig = plot_arrow(direction, *position, ax=ax)\n",
    "\n",
    "for i, obj in enumerate(env.objects + env.walls):\n",
    "    plot_polygon(obj.polygon, ax=ax, alpha=0.5, linewidth=1)\n",
    "\n",
    "for wall, poly in zip(walls_fov, compiler.environment.walls):\n",
    "    ax.plot(wall[:, 0], wall[:, 1], 'o', color=poly.polygon.texture.color)\n",
    "\n",
    "for obj, poly in zip(objects_fov, compiler.environment.objects):\n",
    "    ax.plot(obj[:, 0], obj[:, 1], 'o', color=poly.polygon.texture.color)\n"
   ]
  },
  {
   "cell_type": "code",
   "execution_count": 182,
   "metadata": {},
   "outputs": [],
   "source": [
    "compiler.remove_object(-1)"
   ]
  },
  {
   "cell_type": "code",
   "execution_count": 183,
   "metadata": {},
   "outputs": [
    {
     "data": {
      "image/png": "[encoded data removed]",
      "text/plain": [
       "<Figure size 640x480 with 1 Axes>"
      ]
     },
     "metadata": {},
     "output_type": "display_data"
    }
   ],
   "source": [
    "\n",
    "fov_angle = np.pi/2\n",
    "fov_manager = FOVManager(compiler.environment, fov_angle)\n",
    "position = -0, 0\n",
    "direction = -np.pi/2\n",
    "walls_fov, objects_fov = fov_manager(position, direction)\n",
    "\n",
    "fig, ax = plt.subplots()\n",
    "fig = plot_arrow(direction, *position, ax=ax)\n",
    "\n",
    "for i, obj in enumerate(env.objects + env.walls):\n",
    "    plot_polygon(obj.polygon, ax=ax, alpha=0.5, linewidth=1)\n",
    "\n",
    "for wall, poly in zip(walls_fov, compiler.environment.walls):\n",
    "    ax.plot(wall[:, 0], wall[:, 1], 'o', color=poly.polygon.texture.color)\n",
    "\n",
    "for obj, poly in zip(objects_fov, compiler.environment.objects):\n",
    "    ax.plot(obj[:, 0], obj[:, 1], 'o', color=poly.polygon.texture.color)\n"
   ]
  },
  {
   "cell_type": "code",
   "execution_count": 185,
   "metadata": {},
   "outputs": [
    {
     "data": {
      "image/png": "[encoded data removed]",
      "text/plain": [
       "<Figure size 640x480 with 1 Axes>"
      ]
     },
     "metadata": {},
     "output_type": "display_data"
    }
   ],
   "source": [
    "fov_angle = np.pi\n",
    "fov_manager = FOVManager(compiler.environment, fov_angle)\n",
    "position = 0, -7\n",
    "direction = np.pi\n",
    "walls_fov, objects_fov = fov_manager(position, direction)\n",
    "\n",
    "fig, ax = plt.subplots()\n",
    "fig = plot_arrow(direction, *position, ax=ax)\n",
    "\n",
    "for i, obj in enumerate(env.objects + env.walls):\n",
    "    plot_polygon(obj.polygon, ax=ax, alpha=0.5, linewidth=1)\n",
    "\n",
    "for wall, poly in zip(walls_fov, compiler.environment.walls):\n",
    "    ax.plot(wall[:, 0], wall[:, 1], 'o', color=poly.polygon.texture.color)\n",
    "\n",
    "for obj, poly in zip(objects_fov, compiler.environment.objects):\n",
    "    ax.plot(obj[:, 0], obj[:, 1], 'o', color=poly.polygon.texture.color)\n"
   ]
  }
 ],
 "metadata": {
  "kernelspec": {
   "display_name": "venv",
   "language": "python",
   "name": "python3"
  },
  "language_info": {
   "codemirror_mode": {
    "name": "ipython",
    "version": 3
   },
   "file_extension": ".py",
   "mimetype": "text/x-python",
   "name": "python",
   "nbconvert_exporter": "python",
   "pygments_lexer": "ipython3",
   "version": "3.11.6"
  }
 },
 "nbformat": 4,
 "nbformat_minor": 2
}
