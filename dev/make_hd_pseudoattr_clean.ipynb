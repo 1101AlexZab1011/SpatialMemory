{
 "cells": [
  {
   "cell_type": "code",
   "execution_count": 3,
   "metadata": {},
   "outputs": [],
   "source": [
    "from collections import OrderedDict\n",
    "import configparser\n",
    "from functools import partial\n",
    "import time\n",
    "import numpy as np\n",
    "from shapely import Polygon\n",
    "import math\n",
    "from typing import Any\n",
    "from matplotlib.backend_bases import MouseEvent, MouseButton\n",
    "from matplotlib.gridspec import GridSpec\n",
    "from matplotlib import pyplot as plt\n",
    "import logging\n",
    "from shapely import Point, Polygon\n",
    "from typing import Mapping\n",
    "\n",
    "import os\n",
    "import sys\n",
    "sys.path.insert(1, os.path.realpath(os.path.pardir))\n",
    "\n",
    "\n",
    "from bbtoolkit.dynamics.callbacks.viz import ArtistCallback\n",
    "\n",
    "\n",
    "import os\n",
    "import sys\n",
    "sys.path.insert(1, os.path.realpath(os.path.pardir))\n",
    "\n",
    "logging.basicConfig(\n",
    "    level=logging.DEBUG,\n",
    "    format='%(asctime)s - %(levelname)s - %(message)s',\n",
    "    datefmt='%Y-%m-%d %H:%M:%S'\n",
    ")\n"
   ]
  },
  {
   "cell_type": "code",
   "execution_count": 2,
   "metadata": {},
   "outputs": [],
   "source": [
    "class TimerPlotter(ArtistCallback):\n",
    "    def __init__(self, coords: tuple[float, float]):\n",
    "        super().__init__()\n",
    "        self.coords = coords\n",
    "\n",
    "    def set_cache(self, cache: Mapping, on_repeat: str = 'raise'):\n",
    "        cache['time_ax'] = cache.fig.add_subplot(cache.gc[:1, 1])\n",
    "        self.requires = ['time_ax', 'dynamics_params']\n",
    "        super().set_cache(cache, on_repeat)\n",
    "\n",
    "    def plot(self):\n",
    "        self.time_ax.text(*self.coords, f'Time: {(self.dynamics_params.step)*self.dynamics_params.dt : .2f} s')\n",
    "\n",
    "    def on_plot(self):\n",
    "        self.plot()\n",
    "\n",
    "    def on_clean(self):\n",
    "        self.time_ax.clear()\n",
    "        self.time_ax.set_axis_off()\n",
    "\n",
    "\n",
    "class PolarCirclePlotter(ArtistCallback):\n",
    "    def set_cache(self, cache: Mapping, on_repeat: str = 'raise'):\n",
    "        cache['main_ax'] = cache.fig.add_subplot(cache.gc[:6, :], projection='polar')\n",
    "        self.requires = [\n",
    "            'main_ax',\n",
    "            'movement_params',\n",
    "            'fig'\n",
    "        ]\n",
    "        super().set_cache(cache, on_repeat)\n",
    "\n",
    "    def on_plot(self):\n",
    "        if self.movement_params.rotate_target is not None:\n",
    "            self.main_ax.plot(\n",
    "                [\n",
    "                    self.movement_params.rotate_target,\n",
    "                    self.movement_params.rotate_target\n",
    "                ],\n",
    "                [0, 1],\n",
    "                marker='o'\n",
    "            )\n",
    "        if self.movement_params.direction is not None:\n",
    "            self.main_ax.plot(\n",
    "                [\n",
    "                    self.movement_params.direction,\n",
    "                    self.movement_params.direction\n",
    "                ],\n",
    "                [0, 1],\n",
    "                marker='o',\n",
    "                color='red'\n",
    "            )\n",
    "\n",
    "    def on_clean(self):\n",
    "        self.main_ax.clear()\n",
    "\n",
    "\n",
    "class MouseEventCallback(ArtistCallback):\n",
    "    def set_cache(self, cache: Mapping, on_repeat: str = 'raise'):\n",
    "        self.requires = [\n",
    "            'fig',\n",
    "            'dynamics_params',\n",
    "            'movement_params',\n",
    "            'click_params',\n",
    "            'main_ax'\n",
    "        ]\n",
    "        super().set_cache(cache, on_repeat)\n",
    "        self.fig.canvas.mpl_connect('button_press_event', self.on_click)\n",
    "\n",
    "    def on_click(self, event: MouseEvent):\n",
    "\n",
    "        if event.inaxes is self.main_ax:\n",
    "\n",
    "            self.click_params.xy_data = (event.xdata, event.ydata)\n",
    "            self.movement_params.rotate_target = event.xdata\n",
    "\n",
    "    def on_copy(self):\n",
    "        self.fig.canvas.mpl_connect('button_press_event', self.on_click)\n",
    "\n",
    "    def on_load(self):\n",
    "        self.on_copy()"
   ]
  },
  {
   "cell_type": "code",
   "execution_count": 3,
   "metadata": {},
   "outputs": [],
   "source": [
    "from bbtoolkit.models.bb.utils import activity2rate, connectivity_config2dict\n",
    "from bbtoolkit.structures.tensorgroups import NamedTensor, TensorGroup, dict2directed_tensor\n",
    "from bbtoolkit.utils.datautils.configparser import EvalConfigParser\n",
    "from bbtoolkit.structures.tensorgroups import DirectedTensorGroup\n",
    "from bbtoolkit.structures.tensorgroups import DirectedTensor, DirectedTensorGroup\n",
    "\n",
    "\n",
    "n_hd_neurons = 100\n",
    "\n",
    "activity = TensorGroup(\n",
    "    NamedTensor('hd_ring1', np.zeros((n_hd_neurons, 1))),\n",
    "    NamedTensor('hd_ring2', np.zeros((n_hd_neurons, 1))),\n",
    ")\n",
    "\n",
    "config = EvalConfigParser(interpolation=configparser.ExtendedInterpolation(), allow_no_value=True)\n",
    "config.read('../cfg/connectivity/main.ini')\n",
    "\n",
    "configdict = connectivity_config2dict(config)\n",
    "connections = dict2directed_tensor(configdict)\n",
    "connectivity = DirectedTensorGroup(*connections)\n",
    "\n",
    "connectivity.add_tensor(\n",
    "    DirectedTensor(\n",
    "        from_='hd_ring1',\n",
    "        to='hd_ring1',\n",
    "        weights=connectivity.hd.to.hd\n",
    "    )\n",
    ")\n",
    "connectivity.add_tensor(\n",
    "    DirectedTensor(\n",
    "        from_='hd_ring2',\n",
    "        to='hd_ring2',\n",
    "        weights=connectivity.hd.to.hd\n",
    "    )\n",
    ")\n",
    "\n",
    "\n",
    "connectivity.add_tensor(\n",
    "    DirectedTensor(\n",
    "        from_='hd_ring2',\n",
    "        to='hd_ring1',\n",
    "        weights=dict(phi=5)\n",
    "    )\n",
    ")\n",
    "connectivity.add_tensor(\n",
    "    DirectedTensor(\n",
    "        from_='hd_ring1',\n",
    "        to='hd_ring2',\n",
    "        weights=dict(phi=-3)\n",
    "    )\n",
    ")\n",
    "\n",
    "rates = activity2rate(activity, connectivity)\n",
    "\n",
    "k_ratio = TensorGroup(\n",
    "    NamedTensor('hd_ring1', np.zeros((n_hd_neurons, 1))),\n",
    "    NamedTensor('hd_ring2', np.zeros((n_hd_neurons, 1))),\n",
    ")"
   ]
  },
  {
   "cell_type": "code",
   "execution_count": 4,
   "metadata": {},
   "outputs": [
    {
     "data": {
      "text/plain": [
       "{'phi': 15, 'inhibitory_phi': 0.4, 'tau': 0.02, 'beta': 0.1, 'alpha': 5}"
      ]
     },
     "execution_count": 4,
     "metadata": {},
     "output_type": "execute_result"
    }
   ],
   "source": [
    "connectivity.hd.to.hd"
   ]
  },
  {
   "cell_type": "code",
   "execution_count": 17,
   "metadata": {},
   "outputs": [],
   "source": [
    "from bbtoolkit.dynamics.callbacks import BaseCallback\n",
    "from bbtoolkit.structures import DotDict\n",
    "from bbtoolkit.structures.attractors import LoopAttractor\n",
    "from bbtoolkit.structures.attractors.kernels import gaussian_kernel_1d\n",
    "from bbtoolkit.utils.math import circular_gaussian\n",
    "\n",
    "\n",
    "class HDCallback(BaseCallback):\n",
    "    def __init__(\n",
    "        self,\n",
    "        attractor,\n",
    "        init_timesteps: int = 30,\n",
    "        hd_cue_scale: float = 60,\n",
    "    ):\n",
    "        super().__init__()\n",
    "        self.init_timesteps = init_timesteps\n",
    "        self.hd_cue_scale = hd_cue_scale\n",
    "\n",
    "        self.attractor = attractor\n",
    "        self.kernel = self.attractor.kernel\n",
    "        self.hd_estim = None\n",
    "\n",
    "    def set_cache(self, cache: Mapping, on_repeat: str = 'raise'):\n",
    "        self.requires = [\n",
    "            'dynamics_params',  # Dynamic parameters including dt, mode, and step.\n",
    "            'movement_params',  # Movement parameters including position and direction.\n",
    "            'hd_cue',  # HD cue array for external directional cues.\n",
    "            'k_ratio',  # Ratio of excitation/inhibition for HD cells.\n",
    "            'activity',  # Neural activity levels.\n",
    "            'connectivity',  # Connectivity matrices between neural populations.\n",
    "            'rates',  # Firing rates of neurons.\n",
    "            'additive_kernel',  # Additive kernel for attractor.\n",
    "            'hd_cue_params',  # Parameters for HD cue presentation.\n",
    "        ]\n",
    "        cache['additive_kernel'] = np.zeros((len(cache.rates.hd_ring2),))\n",
    "        cache['hd_cue_params'] = DotDict(total_steps=self.init_timesteps)\n",
    "        cache['hd_cue'] = self.hd_cue_scale*circular_gaussian(\n",
    "            cache.movement_params.direction,\n",
    "            len(cache.rates.hd_ring1)\n",
    "        )\n",
    "        super().set_cache(cache, on_repeat)\n",
    "        self.dt = self.dynamics_params.dt\n",
    "\n",
    "    def on_step_begin(self, step: int):\n",
    "\n",
    "        if self.hd_cue_params.total_steps == self.init_timesteps:\n",
    "            logging.debug('HD CUE INITIATED')\n",
    "\n",
    "\n",
    "        if self.hd_cue_params.total_steps != 0:\n",
    "            self.hd_cue_params.total_steps -= 1\n",
    "            self.hd_cue += self.hd_cue_scale*circular_gaussian(\n",
    "                self.movement_params.direction,\n",
    "                len(self.rates.hd_ring1)\n",
    "            )\n",
    "        else:\n",
    "            if not np.all(self.hd_cue == 0):\n",
    "                logging.debug('HD CUE REMOVED')\n",
    "                self.hd_cue *= 0\n",
    "\n",
    "        self.attractor.kernel = (\n",
    "            self.kernel[0],\n",
    "            (self.kernel[1] + self.additive_kernel)\n",
    "        )\n",
    "\n",
    "        bkg_drive   = 4*(10+2*np.random.rand(self.rates.hd_ring2.shape[0], 1))\n",
    "        bkg_driveIN = 2*np.random.rand(self.rates.hd_ring1.shape[0], 1)\n",
    "\n",
    "        state = self.attractor(self.rates.hd_ring1.T, self.rates.hd_ring2.T)\n",
    "        w1, w2 = state.values()\n",
    "        w1, w2 = w1.T, w2.T\n",
    "\n",
    "        self.k_ratio.hd_ring1 = (\n",
    "            - self.activity.hd_ring1\n",
    "            + self.connectivity.hd_ring2.to.hd_ring1['phi']*w1\n",
    "            + bkg_driveIN\n",
    "            + self.hd_cue[:, None]\n",
    "        )\n",
    "        self.k_ratio.hd_ring2 = (\n",
    "            - self.activity.hd_ring2\n",
    "            + self.connectivity.hd_ring1.to.hd_ring2['phi']*w2\n",
    "            + bkg_drive\n",
    "        )\n",
    "\n",
    "        self.activity.hd_ring1 += self.dt/.02*self.k_ratio.hd_ring1\n",
    "        self.activity.hd_ring2 += self.dt/.02*self.k_ratio.hd_ring2\n",
    "\n",
    "        self.rates.hd_ring1 = 1/(1 + np.exp(-2*.1*(self.activity.hd_ring1 - 30)))\n",
    "        self.rates.hd_ring2 = 1/(1 + np.exp(-2*.1*(self.activity.hd_ring2 - 30)))\n",
    "\n",
    "        if self.hd_cue_params.total_steps == 0:\n",
    "            popmax = np.where(self.rates.hd_ring1 == np.max(self.rates.hd_ring1))[0][0]\n",
    "            hd_estim = popmax*2*np.pi/(len(self.rates.hd_ring1) - 1) % (2*np.pi)\n",
    "            self.movement_params.direction = hd_estim\n"
   ]
  },
  {
   "cell_type": "code",
   "execution_count": 6,
   "metadata": {},
   "outputs": [],
   "source": [
    "class HDPlotter(ArtistCallback):\n",
    "    def set_cache(self, cache: Mapping, on_repeat: str = 'raise'):\n",
    "        cache['hd_ax_1'] = cache.fig.add_subplot(cache.gc[6:8, :])\n",
    "        cache['hd_ax_2'] = cache.fig.add_subplot(cache.gc[8:10, :])\n",
    "        cache['hd_ax_3'] = cache.fig.add_subplot(cache.gc[10:, :])\n",
    "        self.requires = [\n",
    "            'hd_ax_1',\n",
    "            'hd_ax_2',\n",
    "            'hd_ax_3',\n",
    "            'fig',\n",
    "            'rates',\n",
    "            'activity',\n",
    "            'k_ratio',\n",
    "            'movement_params',\n",
    "        ]\n",
    "        super().set_cache(cache, on_repeat)\n",
    "\n",
    "    def on_plot(self):\n",
    "        self.hd_ax_1.plot(\n",
    "            self.rates.hd_ring1,\n",
    "            '-'\n",
    "        )\n",
    "        self.hd_ax_2.plot(\n",
    "            self.rates.hd_ring2,\n",
    "            '-'\n",
    "        )\n",
    "\n",
    "    def on_clean(self):\n",
    "        self.hd_ax_1.clear()\n",
    "        self.hd_ax_1.set_ylim(0, 1)\n",
    "        self.hd_ax_2.clear()\n",
    "        self.hd_ax_2.set_ylim(0, 1)\n",
    "        self.hd_ax_3.clear()"
   ]
  },
  {
   "cell_type": "code",
   "execution_count": 90,
   "metadata": {},
   "outputs": [],
   "source": [
    "from bbtoolkit.structures import DotDict\n",
    "from typing import Callable\n",
    "\n",
    "\n",
    "class RotationAdjustingCallback(BaseCallback):\n",
    "    def __init__(\n",
    "        self,\n",
    "        init_timesteps: int = 30,\n",
    "        speed_phi: float = None,\n",
    "        kernel_func: Callable[[float], np.ndarray] = None,\n",
    "        init_angle: float = np.pi/2\n",
    "    ):\n",
    "        self.init_timesteps = init_timesteps\n",
    "        self.step = init_timesteps\n",
    "        self.reset = True\n",
    "\n",
    "        self.speed_phi = np.linspace(0, 1, 101)[1:][::-1] if speed_phi is None else speed_phi\n",
    "\n",
    "        self.speed_phi_index = 0\n",
    "        self.kernel_func = kernel_func\n",
    "        self.init_angle = init_angle\n",
    "        self.final_massage = False\n",
    "\n",
    "        super().__init__()\n",
    "\n",
    "    def set_cache(self, cache: Mapping, on_repeat: str = 'raise'):\n",
    "        self.requires = [\n",
    "            'movement_params',\n",
    "            'dynamics_params',\n",
    "            'rotation_log',\n",
    "            'additive_kernel',\n",
    "            'rates',\n",
    "            'hd_cue_params',\n",
    "            'simulation_params'\n",
    "        ]\n",
    "        cache['rotation_log'] = DotDict()\n",
    "        super().set_cache(cache, on_repeat)\n",
    "        self.kernel_func = self.kernel_func\\\n",
    "            if self.kernel_func is not None\\\n",
    "            else lambda phi: phi*gaussian_kernel_1d(len(self.rates.hd_ring2), center=0.8, sigma=0.15)\n",
    "\n",
    "    def on_step_end(self, step: int):\n",
    "        if self.speed_phi_index == len(self.speed_phi) - 1 or self.speed_phi_index == - 1:\n",
    "            if not self.final_massage:\n",
    "                self.final_massage = True\n",
    "                logging.debug('All speed phis have been tested; Simulation will be completed at the end of the current cycle...')\n",
    "            self.simulation_params.finished = True\n",
    "            raise StopIteration\n",
    "        else:\n",
    "            if self.reset:\n",
    "                if self.step != 0:\n",
    "                    self.step -= 1\n",
    "                    self.cache.additive_kernel *= 0\n",
    "                else:\n",
    "                    self.reset = False\n",
    "                    self.step = self.init_timesteps\n",
    "                    self.cache.additive_kernel *= 0\n",
    "                    self.cache.additive_kernel += self.kernel_func(self.speed_phi[self.speed_phi_index])\n",
    "                    logging.debug('Head direction cue set; New kernel function created')\n",
    "            else:\n",
    "                if self.speed_phi[self.speed_phi_index] not in self.rotation_log:\n",
    "                    logging.debug(f'Testing speed phi: {self.speed_phi[self.speed_phi_index]}')\n",
    "                    self.rotation_log[self.speed_phi[self.speed_phi_index]] = DotDict(time=list(), direction=list())\n",
    "\n",
    "                self.rotation_log[self.speed_phi[self.speed_phi_index]].time.append(self.dynamics_params.step)\n",
    "                self.rotation_log[self.speed_phi[self.speed_phi_index]].direction.append(self.movement_params.direction)\n",
    "\n",
    "                if len(self.rotation_log[self.speed_phi[self.speed_phi_index]].time)*self.dynamics_params.dt > 10:\n",
    "                    logging.debug('Speed phi is too slow (slower that 2*π/10); Removing records and interupting the simulation...')\n",
    "                    del self.rotation_log[self.speed_phi[self.speed_phi_index]]\n",
    "                    self.speed_phi_index = - 1\n",
    "\n",
    "                # print((\n",
    "                #             self.movement_params.direction, self.rotation_log[self.speed_phi[self.speed_phi_index]].direction[0]\n",
    "                #         ))\n",
    "\n",
    "                if self.speed_phi_index != - 1 and\\\n",
    "                    len(self.rotation_log[self.speed_phi[self.speed_phi_index]].time) > 10\\\n",
    "                        and np.isclose(\n",
    "                            self.movement_params.direction, self.rotation_log[self.speed_phi[self.speed_phi_index]].direction[0],\n",
    "                            atol=.1\n",
    "                        ):\n",
    "                    time = len(self.rotation_log[self.speed_phi[self.speed_phi_index]].time)*self.dynamics_params.dt\n",
    "                    self.speed_phi_index += 1\n",
    "                    self.reset = True\n",
    "                    self.hd_cue_params.total_steps = self.init_timesteps\n",
    "                    self.movement_params.direction = self.init_angle\n",
    "                    logging.debug(\n",
    "                        f'Full circle is complete: {time};'\n",
    "                        ' Resetting head direction cue'\n",
    "                    )"
   ]
  },
  {
   "cell_type": "code",
   "execution_count": 20,
   "metadata": {},
   "outputs": [],
   "source": [
    "def rescale(\n",
    "    array: np.ndarray\n",
    ") -> np.ndarray:\n",
    "    if not isinstance(array, np.ndarray):\n",
    "        array = np.array(array)\n",
    "\n",
    "    return (array - np.min(array))/(np.max(array) - np.min(array))"
   ]
  },
  {
   "cell_type": "code",
   "execution_count": 9,
   "metadata": {},
   "outputs": [
    {
     "ename": "NameError",
     "evalue": "name 'sigma' is not defined",
     "output_type": "error",
     "traceback": [
      "\u001b[0;31m---------------------------------------------------------------------------\u001b[0m",
      "\u001b[0;31mNameError\u001b[0m                                 Traceback (most recent call last)",
      "Cell \u001b[0;32mIn[9], line 3\u001b[0m\n\u001b[1;32m      1\u001b[0m plt\u001b[38;5;241m.\u001b[39mplot(\n\u001b[1;32m      2\u001b[0m     np\u001b[38;5;241m.\u001b[39mlinspace(\u001b[38;5;241m0\u001b[39m, \u001b[38;5;241m100\u001b[39m, \u001b[38;5;241m100\u001b[39m),\n\u001b[0;32m----> 3\u001b[0m     \u001b[43msigma\u001b[49m(np\u001b[38;5;241m.\u001b[39mlinspace(\u001b[38;5;241m0\u001b[39m, \u001b[38;5;241m100\u001b[39m, \u001b[38;5;241m100\u001b[39m))\n\u001b[1;32m      4\u001b[0m )\n",
      "\u001b[0;31mNameError\u001b[0m: name 'sigma' is not defined"
     ]
    }
   ],
   "source": [
    "plt.plot(\n",
    "    np.linspace(0, 100, 100),\n",
    "    sigma(np.linspace(0, 100, 100))\n",
    ")"
   ]
  },
  {
   "cell_type": "code",
   "execution_count": 18,
   "metadata": {},
   "outputs": [],
   "source": [
    "from bbtoolkit.utils.datautils import read_pkl\n",
    "\n",
    "\n",
    "rotation_log = read_pkl(\n",
    "    '../data/dynamics/rotation_log.pkl'\n",
    ")\n",
    "\n",
    "base_kernel = (\n",
    "    gaussian_kernel_1d(100, center=0.2, sigma=0.15) +\n",
    "    gaussian_kernel_1d(100, center=0.8, sigma=0.15)\n",
    ")\n",
    "\n",
    "ex_kernel = gaussian_kernel_1d(100, center=0.5, sigma=0.05)\n",
    "\n",
    "additive_kernel_fun =  lambda phi: phi*gaussian_kernel_1d(100, center=0.8, sigma=0.15)\n",
    "\n",
    "sigma = lambda x: 1/(1 + np.exp(-2*.1*(x - 30)))\n"
   ]
  },
  {
   "cell_type": "code",
   "execution_count": 23,
   "metadata": {},
   "outputs": [
    {
     "data": {
      "text/plain": [
       "[<matplotlib.lines.Line2D at 0x7bae53be1e20>]"
      ]
     },
     "execution_count": 23,
     "metadata": {},
     "output_type": "execute_result"
    },
    {
     "data": {
      "image/png": "[encoded data removed]",
      "text/plain": [
       "<Figure size 640x480 with 1 Axes>"
      ]
     },
     "metadata": {},
     "output_type": "display_data"
    }
   ],
   "source": [
    "vals = []\n",
    "\n",
    "sigma = lambda x: 1/(1 + np.exp(-2*.1*(x - 30)))\n",
    "\n",
    "for phi in np.linspace(0.01, 1, 100)[5:]:\n",
    "# for phi in list(rotation_log.keys()):\n",
    "    kernel = (base_kernel  + additive_kernel_fun(phi))\n",
    "    rightside = kernel[len(kernel)//2:]\n",
    "    leftside = kernel[:len(kernel)//2]\n",
    "    # vals.append(\n",
    "    #     np.abs(\n",
    "    #         rightside - leftside\n",
    "    #     ).sum()\n",
    "    # )\n",
    "    vals.append(\n",
    "        np.abs(\n",
    "            10*ex_kernel * (- 3*(base_kernel  + additive_kernel_fun(phi)))\n",
    "        ).sum()\n",
    "    )\n",
    "\n",
    "vals = np.array(vals)\n",
    "\n",
    "plt.plot(vals)"
   ]
  },
  {
   "cell_type": "code",
   "execution_count": 24,
   "metadata": {},
   "outputs": [],
   "source": [
    "from bbtoolkit.utils.datautils import read_pkl\n",
    "\n",
    "\n",
    "rotation_log = read_pkl(\n",
    "    '../data/dynamics/rotation_log.pkl'\n",
    ")\n",
    "\n",
    "times, phis = [], []\n",
    "for key in rotation_log:\n",
    "    times.append(len(rotation_log[key].time))\n",
    "    phis.append(key)"
   ]
  },
  {
   "cell_type": "code",
   "execution_count": 40,
   "metadata": {},
   "outputs": [
    {
     "data": {
      "text/plain": [
       "(8.950000000000001, 0.7256279955707181, 12.334143741188875)"
      ]
     },
     "execution_count": 40,
     "metadata": {},
     "output_type": "execute_result"
    }
   ],
   "source": [
    "0.002*np.array(times[::-1])[0], (1/np.array(vals))[0], 0.002*np.array(times[::-1])[0]/(1/np.array(vals))[0]"
   ]
  },
  {
   "cell_type": "code",
   "execution_count": 61,
   "metadata": {},
   "outputs": [
    {
     "data": {
      "text/plain": [
       "0.16681044500560785"
      ]
     },
     "execution_count": 61,
     "metadata": {},
     "output_type": "execute_result"
    }
   ],
   "source": [
    "ex_kernel.sum()/base_kernel.sum()\n"
   ]
  },
  {
   "cell_type": "code",
   "execution_count": 57,
   "metadata": {},
   "outputs": [
    {
     "data": {
      "text/plain": [
       "[<matplotlib.lines.Line2D at 0x7bae4ea220c0>]"
      ]
     },
     "execution_count": 57,
     "metadata": {},
     "output_type": "execute_result"
    },
    {
     "data": {
      "image/png": "[encoded data removed]",
      "text/plain": [
       "<Figure size 1500x500 with 3 Axes>"
      ]
     },
     "metadata": {},
     "output_type": "display_data"
    }
   ],
   "source": [
    "vals = []\n",
    "for phi in np.linspace(0.01, 1, 100)[5:]:\n",
    "    kernel = (base_kernel  + additive_kernel_fun(phi))\n",
    "    midpoint = kernel[len(kernel)//2]\n",
    "    first_half = kernel[:len(kernel)//2]\n",
    "    second_half = kernel[-len(kernel)//2:]\n",
    "    second_half_mirrored = second_half[::-1]\n",
    "    difference_measure = np.sum(np.abs(first_half - second_half_mirrored))\n",
    "    vals.append(difference_measure)\n",
    "\n",
    "fig, (ax1, ax2, ax3) = plt.subplots(1, 3, figsize=(15, 5))\n",
    "ax1.plot(1/np.array(vals))\n",
    "ax2.plot(0.002*np.array(times[::-1]))\n",
    "ax3.plot(rescale(1/np.array(vals)))\n",
    "ax3.plot(rescale(times)[::-1])"
   ]
  },
  {
   "cell_type": "code",
   "execution_count": 55,
   "metadata": {},
   "outputs": [
    {
     "data": {
      "text/plain": [
       "[<matplotlib.lines.Line2D at 0x7bae4ef77e60>]"
      ]
     },
     "execution_count": 55,
     "metadata": {},
     "output_type": "execute_result"
    },
    {
     "data": {
      "image/png": "[encoded data removed]",
      "text/plain": [
       "<Figure size 640x480 with 1 Axes>"
      ]
     },
     "metadata": {},
     "output_type": "display_data"
    }
   ],
   "source": [
    "plt.plot(11.7*(1/np.array(vals)) + .4)\n",
    "plt.plot(0.002*np.array(times[::-1]))"
   ]
  },
  {
   "cell_type": "code",
   "execution_count": 23,
   "metadata": {},
   "outputs": [
    {
     "data": {
      "text/plain": [
       "<matplotlib.legend.Legend at 0x7a6d1c08a600>"
      ]
     },
     "execution_count": 23,
     "metadata": {},
     "output_type": "execute_result"
    },
    {
     "data": {
      "image/png": "[encoded data removed]",
      "text/plain": [
       "<Figure size 640x480 with 1 Axes>"
      ]
     },
     "metadata": {},
     "output_type": "display_data"
    }
   ],
   "source": [
    "vals = []\n",
    "# for phi in np.linspace(0.01, 1, 100)[5:]:\n",
    "for phi in list(rotation_log.keys())[::-1]:\n",
    "    kernel = base_kernel  + additive_kernel_fun(phi)\n",
    "    midpoint = kernel[len(kernel)//2]\n",
    "    first_half = kernel[:len(kernel)//2]\n",
    "    second_half = kernel[-len(kernel)//2:]\n",
    "    second_half_mirrored = second_half[::-1]\n",
    "    difference_measure = np.mean(np.abs(first_half - second_half_mirrored))\n",
    "    vals.append(difference_measure)\n",
    "\n",
    "plt.plot(rescale(1/np.array(vals)))\n",
    "plt.plot(rescale(times)[::-1])\n",
    "plt.xlabel('Speed Phi')\n",
    "plt.ylabel('Timepoints')\n",
    "plt.legend([\n",
    "    'assymetry_score^(-1)',\n",
    "    'data scaled'\n",
    "])"
   ]
  },
  {
   "cell_type": "code",
   "execution_count": 21,
   "metadata": {},
   "outputs": [
    {
     "data": {
      "text/plain": [
       "(8.950000000000001, 0.812)"
      ]
     },
     "execution_count": 21,
     "metadata": {},
     "output_type": "execute_result"
    }
   ],
   "source": [
    "0.002*np.array(times[::-1])[0], 0.002*np.array(times[::-1])[-1]"
   ]
  },
  {
   "cell_type": "code",
   "execution_count": 22,
   "metadata": {},
   "outputs": [
    {
     "data": {
      "text/plain": [
       "(36.2813997785359, 1.771438998057063)"
      ]
     },
     "execution_count": 22,
     "metadata": {},
     "output_type": "execute_result"
    }
   ],
   "source": [
    "((1/np.array(vals)))[0], ((1/np.array(vals)))[-1]"
   ]
  },
  {
   "cell_type": "code",
   "execution_count": 118,
   "metadata": {},
   "outputs": [
    {
     "data": {
      "text/plain": [
       "[<matplotlib.lines.Line2D at 0x73e6146f57f0>]"
      ]
     },
     "execution_count": 118,
     "metadata": {},
     "output_type": "execute_result"
    },
    {
     "data": {
      "image/png": "[encoded data removed]",
      "text/plain": [
       "<Figure size 640x480 with 1 Axes>"
      ]
     },
     "metadata": {},
     "output_type": "display_data"
    }
   ],
   "source": [
    "plt.plot(0.002*np.array(times[::-1])/((1/np.array(vals))))"
   ]
  },
  {
   "cell_type": "code",
   "execution_count": 111,
   "metadata": {},
   "outputs": [
    {
     "data": {
      "text/plain": [
       "[<matplotlib.lines.Line2D at 0x73e6146a85c0>]"
      ]
     },
     "execution_count": 111,
     "metadata": {},
     "output_type": "execute_result"
    },
    {
     "data": {
      "image/png": "[encoded data removed]",
      "text/plain": [
       "<Figure size 640x480 with 1 Axes>"
      ]
     },
     "metadata": {},
     "output_type": "display_data"
    }
   ],
   "source": [
    "plt.plot((1/np.array(vals))/(np.pi*4/3) + .39)\n",
    "plt.plot(0.002*np.array(times[::-1]))"
   ]
  },
  {
   "cell_type": "code",
   "execution_count": 57,
   "metadata": {},
   "outputs": [
    {
     "data": {
      "text/plain": [
       "[<matplotlib.lines.Line2D at 0x73e615d27320>]"
      ]
     },
     "execution_count": 57,
     "metadata": {},
     "output_type": "execute_result"
    },
    {
     "data": {
      "image/png": "[encoded data removed]",
      "text/plain": [
       "<Figure size 1500x500 with 3 Axes>"
      ]
     },
     "metadata": {},
     "output_type": "display_data"
    }
   ],
   "source": [
    "vals = []\n",
    "for phi in np.linspace(0.01, 1, 100)[5:]:\n",
    "    kernel = -3*(base_kernel  + additive_kernel_fun(phi))\n",
    "    midpoint = kernel[len(kernel)//2]\n",
    "    first_half = kernel[:len(kernel)//2]\n",
    "    second_half = kernel[-len(kernel)//2:]\n",
    "    second_half_mirrored = second_half[::-1]\n",
    "    difference_measure = np.sum(np.abs(first_half - second_half_mirrored))\n",
    "    vals.append(difference_measure)\n",
    "\n",
    "fig, (ax1, ax2, ax3) = plt.subplots(1, 3, figsize=(15, 5))\n",
    "ax1.plot(1/np.array(vals))\n",
    "ax2.plot(0.002*np.array(times[::-1]))\n",
    "ax3.plot(rescale(1/np.array(vals)))\n",
    "ax3.plot(rescale(times)[::-1])"
   ]
  },
  {
   "cell_type": "code",
   "execution_count": 19,
   "metadata": {},
   "outputs": [
    {
     "ename": "NameError",
     "evalue": "name 'rescale' is not defined",
     "output_type": "error",
     "traceback": [
      "\u001b[0;31m---------------------------------------------------------------------------\u001b[0m",
      "\u001b[0;31mNameError\u001b[0m                                 Traceback (most recent call last)",
      "Cell \u001b[0;32mIn[19], line 11\u001b[0m\n\u001b[1;32m      8\u001b[0m     difference_measure \u001b[38;5;241m=\u001b[39m np\u001b[38;5;241m.\u001b[39msum(np\u001b[38;5;241m.\u001b[39mabs(first_half \u001b[38;5;241m-\u001b[39m second_half_mirrored))\n\u001b[1;32m      9\u001b[0m     vals\u001b[38;5;241m.\u001b[39mappend(difference_measure)\n\u001b[0;32m---> 11\u001b[0m plt\u001b[38;5;241m.\u001b[39mplot(\u001b[43mrescale\u001b[49m(\u001b[38;5;241m1\u001b[39m\u001b[38;5;241m/\u001b[39mnp\u001b[38;5;241m.\u001b[39marray(vals)))\n\u001b[1;32m     12\u001b[0m plt\u001b[38;5;241m.\u001b[39mplot(rescale(times)[::\u001b[38;5;241m-\u001b[39m\u001b[38;5;241m1\u001b[39m])\n",
      "\u001b[0;31mNameError\u001b[0m: name 'rescale' is not defined"
     ]
    }
   ],
   "source": [
    "vals = []\n",
    "for phi in np.linspace(0.01, 1, 100)[5:]:\n",
    "    kernel = -3*(base_kernel  + additive_kernel_fun(phi))\n",
    "    midpoint = kernel[len(kernel)//2]\n",
    "    first_half = kernel[:len(kernel)//2]\n",
    "    second_half = kernel[-len(kernel)//2:]\n",
    "    second_half_mirrored = second_half[::-1]\n",
    "    difference_measure = np.sum(np.abs(first_half - second_half_mirrored))\n",
    "    vals.append(difference_measure)\n",
    "\n",
    "plt.plot(rescale(1/np.array(vals)))\n",
    "plt.plot(rescale(times)[::-1])"
   ]
  },
  {
   "cell_type": "code",
   "execution_count": 103,
   "metadata": {},
   "outputs": [
    {
     "data": {
      "text/plain": [
       "[<matplotlib.lines.Line2D at 0x7bae2baf0230>]"
      ]
     },
     "execution_count": 103,
     "metadata": {},
     "output_type": "execute_result"
    },
    {
     "data": {
      "image/png": "[encoded data removed]",
      "text/plain": [
       "<Figure size 640x480 with 1 Axes>"
      ]
     },
     "metadata": {},
     "output_type": "display_data"
    }
   ],
   "source": [
    "vals = []\n",
    "for phi in np.linspace(0.01, 1, 100)[5:]:\n",
    "    kernel = -3*(base_kernel  + additive_kernel_fun(phi))\n",
    "    midpoint = kernel[len(kernel)//2]\n",
    "    first_half = kernel[:len(kernel)//2]\n",
    "    second_half = kernel[-len(kernel)//2:]\n",
    "    second_half_mirrored = second_half[::-1]\n",
    "    difference_measure = np.sum(np.abs(first_half - second_half_mirrored))\n",
    "    vals.append(difference_measure)\n",
    "\n",
    "plt.plot(rescale(1/np.array(vals)))\n",
    "plt.plot(rescale(times)[::-1])\n",
    "plt.plot(rescale(times2)[::-1])"
   ]
  },
  {
   "cell_type": "code",
   "execution_count": 16,
   "metadata": {},
   "outputs": [
    {
     "data": {
      "text/plain": [
       "[<matplotlib.lines.Line2D at 0x73e6183b4fe0>]"
      ]
     },
     "execution_count": 16,
     "metadata": {},
     "output_type": "execute_result"
    },
    {
     "data": {
      "image/png": "[encoded data removed]",
      "text/plain": [
       "<Figure size 640x480 with 1 Axes>"
      ]
     },
     "metadata": {},
     "output_type": "display_data"
    }
   ],
   "source": [
    "base_kernel = (\n",
    "    gaussian_kernel_1d(100, center=0.2, sigma=0.15) +\n",
    "    gaussian_kernel_1d(100, center=0.8, sigma=0.15)\n",
    ")\n",
    "\n",
    "ex_kernel = gaussian_kernel_1d(100, center=0.5, sigma=0.05)\n",
    "\n",
    "additive_kernel_fun =  lambda phi: phi*gaussian_kernel_1d(100, center=0.8, sigma=0.15)\n",
    "\n",
    "sigma = lambda x: 1/(1 + np.exp(-2*.1*(x - 60)))\n",
    "\n",
    "\n",
    "vals = list()\n",
    "# for phi in np.linspace(1, .01, 100)[:95]:\n",
    "for phi in list(rotation_log.keys()):\n",
    "    vals.append(\n",
    "        # (base_kernel + additive_kernel_fun(phi)).sum()\n",
    "        # np.abs(\n",
    "        #     base_kernel - (base_kernel + additive_kernel_fun(phi))\n",
    "        # ).mean()\n",
    "        np.abs(\n",
    "            (ex_kernel - (base_kernel + additive_kernel_fun(phi))) - (ex_kernel - base_kernel)\n",
    "        ).mean()\n",
    "    )\n",
    "\n",
    "vals = np.array(vals)\n",
    "plt.plot(vals)\n",
    "\n",
    "# plt.plot(sigma(np.array(vals)))"
   ]
  },
  {
   "cell_type": "code",
   "execution_count": 87,
   "metadata": {},
   "outputs": [],
   "source": [
    "times, phis = [], []\n",
    "for key in rotation_log:\n",
    "    times.append(len(rotation_log[key].time))\n",
    "    phis.append(key)"
   ]
  },
  {
   "cell_type": "code",
   "execution_count": 377,
   "metadata": {},
   "outputs": [
    {
     "data": {
      "text/plain": [
       "[<matplotlib.lines.Line2D at 0x78728e953020>]"
      ]
     },
     "execution_count": 377,
     "metadata": {},
     "output_type": "execute_result"
    },
    {
     "data": {
      "image/png": "[encoded data removed]",
      "text/plain": [
       "<Figure size 640x480 with 1 Axes>"
      ]
     },
     "metadata": {},
     "output_type": "display_data"
    }
   ],
   "source": [
    "plt.plot(remove_indices(rescale(times), [18, 49, 62, 76])[::-1])\n",
    "plt.ylabel('Phi')\n",
    "plt.xlabel('Timepoints')\n",
    "t = np.arange(95)\n",
    "plt.plot(t, 1/(.2*t + 1))"
   ]
  },
  {
   "cell_type": "code",
   "execution_count": 15,
   "metadata": {},
   "outputs": [],
   "source": [
    "def remove_indices(arr, indices):\n",
    "    \"\"\"\n",
    "    Remove elements from a numpy array at specified indices.\n",
    "    \n",
    "    Parameters:\n",
    "    - arr: Numpy array from which elements will be removed.\n",
    "    - indices: A set of indices indicating which elements to remove.\n",
    "    \n",
    "    Returns:\n",
    "    - A new numpy array with the specified elements removed.\n",
    "    \"\"\"\n",
    "    # Ensure indices is a set to avoid duplicates\n",
    "    indices_to_remove = set(indices)\n",
    "    # Create a mask for all elements that are not in indices_to_remove\n",
    "    mask = np.array([i not in indices_to_remove for i in range(len(arr))])\n",
    "    # Return the array with elements at the specified indices removed\n",
    "    return arr[mask]"
   ]
  },
  {
   "cell_type": "code",
   "execution_count": 189,
   "metadata": {},
   "outputs": [
    {
     "data": {
      "text/plain": [
       "[<matplotlib.lines.Line2D at 0x787292d4d400>]"
      ]
     },
     "execution_count": 189,
     "metadata": {},
     "output_type": "execute_result"
    },
    {
     "data": {
      "image/png": "[encoded data removed]",
      "text/plain": [
       "<Figure size 640x480 with 1 Axes>"
      ]
     },
     "metadata": {},
     "output_type": "display_data"
    }
   ],
   "source": [
    "plt.plot(vals)"
   ]
  },
  {
   "cell_type": "code",
   "execution_count": 216,
   "metadata": {},
   "outputs": [],
   "source": [
    "def random_like(matrix):\n",
    "    return np.random.rand(*matrix.shape)\n",
    "\n",
    "import random\n",
    "\n",
    "def random_walk(n):\n",
    "    # Initialize the starting point\n",
    "    position = 0\n",
    "    walk = [position]\n",
    "    \n",
    "    # Generate the walk\n",
    "    for _ in range(n):\n",
    "        step = random.choice([-1, 1])\n",
    "        position += step\n",
    "        walk.append(position)\n",
    "    \n",
    "    return np.array(walk)"
   ]
  },
  {
   "cell_type": "code",
   "execution_count": 397,
   "metadata": {},
   "outputs": [
    {
     "data": {
      "image/png": "[encoded data removed]",
      "text/plain": [
       "<Figure size 640x480 with 1 Axes>"
      ]
     },
     "metadata": {},
     "output_type": "display_data"
    },
    {
     "name": "stdout",
     "output_type": "stream",
     "text": [
      "The fitted function is: f(x) = -543.9641931528103*x**3 + -78.87480015932174*x**2 + -504.61547324934355*x**1 + -0.07184889484204816\n"
     ]
    }
   ],
   "source": [
    "import numpy as np\n",
    "import matplotlib.pyplot as plt\n",
    "from scipy.optimize import curve_fit\n",
    "\n",
    "# Define a candidate function to fit\n",
    "# For example, a polynomial function of degree 2\n",
    "def poly_func2(x, a, b, c):\n",
    "    return a * x**2 + b * x + c\n",
    "\n",
    "def poly_func3(x, a, b, c, d):\n",
    "    return a * x**3 + b * x**2 + c * x + d\n",
    "\n",
    "def poly_func4(x, a, b, c, d, e):\n",
    "    return a * x**4 + b * x**3 + c * x**2 + d * x + e\n",
    "\n",
    "def poly_func5(x, a, b, c, d, e, f):\n",
    "    return a * x**5 + b * x**4 + c * x**3 + d * x**2 + e * x + f\n",
    "\n",
    "def poly_func6(x, a, b, c, d, e, f, g):\n",
    "    return a * x**6 + b * x**5 + c * x**4 + d * x**3 + e * x**2 + f * x + g\n",
    "\n",
    "def poly_func7(x, a, b, c, d, e, f, g, h):\n",
    "    return a * x**7 + b * x**6 + c * x**5 + d * x**4 + e * x**3 + f * x**2 + g * x + h\n",
    "\n",
    "def poly_func8(x, a, b, c, d, e, f, g, h, i):\n",
    "    return a * x**8 + b * x**7 + c * x**6 + d * x**5 + e * x**4 + f * x**3 + g * x**2 + h * x + i\n",
    "\n",
    "def exp_func(x, a, b, c, d):\n",
    "    return a * np.exp(b * x + c) + d\n",
    "\n",
    "def hip_func(x, a, b, c, d):\n",
    "    return a/(b*x + c) + d\n",
    "\n",
    "\n",
    "\n",
    "# Example data\n",
    "Y = np.array(times)  # Your numpy vector\n",
    "Y = remove_indices(Y, [18, 49, 62, 76])\n",
    "Y = Y[::-1]\n",
    "Y = rescale(Y)\n",
    "# x = remove_indices(vals, [18, 49, 62, 76])\n",
    "x = np.arange(len(Y))\n",
    "\n",
    "\n",
    "func = hip_func\n",
    "\n",
    "# Fit the function to your data\n",
    "params, covariance = curve_fit(func, x, Y)\n",
    "\n",
    "# Plot the original data and the fitted function\n",
    "plt.scatter(x, Y, label='Data')\n",
    "plt.plot(x, func(x, *params), label='Fitted function', color='red')\n",
    "\n",
    "plt.legend()\n",
    "plt.show()\n",
    "\n",
    "# Print the found parameters\n",
    "# print(f\"The fitted function is: f(x) = {params[0]}*x^2 + {params[1]}*x + {params[2]}\")\n",
    "string = 'The fitted function is: f(x) = '\n",
    "for i, param in enumerate(params):\n",
    "    if i < len(params) - 1:\n",
    "        string += f'{param}*x**{len(params) - i - 1} + '\n",
    "    else:\n",
    "        string += f'{param}'\n",
    "\n",
    "print(string)\n"
   ]
  },
  {
   "cell_type": "code",
   "execution_count": 395,
   "metadata": {},
   "outputs": [
    {
     "name": "stdout",
     "output_type": "stream",
     "text": [
      "-543.9641931528103\n",
      "-78.87480015932174\n",
      "-504.61547324934355\n",
      "-0.07184889484204816\n"
     ]
    }
   ],
   "source": [
    "for p in params:\n",
    "    print(p)"
   ]
  },
  {
   "cell_type": "code",
   "execution_count": 177,
   "metadata": {},
   "outputs": [
    {
     "data": {
      "text/plain": [
       "[<matplotlib.lines.Line2D at 0x787293223950>]"
      ]
     },
     "execution_count": 177,
     "metadata": {},
     "output_type": "execute_result"
    },
    {
     "data": {
      "image/png": "[encoded data removed]",
      "text/plain": [
       "<Figure size 640x480 with 1 Axes>"
      ]
     },
     "metadata": {},
     "output_type": "display_data"
    }
   ],
   "source": [
    "plt.plot(\n",
    "    Y[70:80]\n",
    ")"
   ]
  },
  {
   "cell_type": "code",
   "execution_count": 184,
   "metadata": {},
   "outputs": [
    {
     "data": {
      "text/plain": [
       "[<matplotlib.lines.Line2D at 0x787292f47590>]"
      ]
     },
     "execution_count": 184,
     "metadata": {},
     "output_type": "execute_result"
    },
    {
     "data": {
      "image/png": "[encoded data removed]",
      "text/plain": [
       "<Figure size 640x480 with 1 Axes>"
      ]
     },
     "metadata": {},
     "output_type": "display_data"
    }
   ],
   "source": [
    "plt.plot(remove_indices(Y, [18, 49, 62, 76]))"
   ]
  },
  {
   "cell_type": "code",
   "execution_count": 32,
   "metadata": {},
   "outputs": [
    {
     "data": {
      "text/plain": [
       "<matplotlib.legend.Legend at 0x7872a1def380>"
      ]
     },
     "execution_count": 32,
     "metadata": {},
     "output_type": "execute_result"
    },
    {
     "data": {
      "image/png": "[encoded data removed]",
      "text/plain": [
       "<Figure size 640x480 with 2 Axes>"
      ]
     },
     "metadata": {},
     "output_type": "display_data"
    }
   ],
   "source": [
    "fig, (ax1, ax2) = plt.subplots(2, 1)\n",
    "\n",
    "ax1.plot(\n",
    "    base_kernel\n",
    ")\n",
    "for phi in np.linspace(1, .01, 100):\n",
    "    ax1.plot(\n",
    "        base_kernel + additive_kernel_fun(phi),\n",
    "        alpha=phi,\n",
    "        color='tab:red'\n",
    "    )\n",
    "\n",
    "    ax2.plot(\n",
    "        np.abs(\n",
    "            base_kernel - (base_kernel + additive_kernel_fun(phi))\n",
    "        ),\n",
    "        alpha=phi,\n",
    "        color='tab:orange'\n",
    "    )\n",
    "\n",
    "ax1.legend(['Base Kernel', 'Kernel with additive'])"
   ]
  },
  {
   "cell_type": "code",
   "execution_count": 91,
   "metadata": {},
   "outputs": [
    {
     "name": "stderr",
     "output_type": "stream",
     "text": [
      "2024-06-27 15:16:29 - DEBUG - Loaded backend qtagg version 6.7.0.\n",
      "2024-06-27 15:16:30 - DEBUG - HD CUE INITIATED\n",
      "2024-06-27 15:16:35 - DEBUG - HD CUE REMOVED\n",
      "2024-06-27 15:16:35 - DEBUG - Head direction cue set; New kernel function created\n",
      "2024-06-27 15:16:35 - DEBUG - Testing speed phi: 1.0\n"
     ]
    },
    {
     "name": "stdout",
     "output_type": "stream",
     "text": [
      "out:  (None, None, None, None)\n"
     ]
    },
    {
     "name": "stderr",
     "output_type": "stream",
     "text": [
      "2024-06-27 15:16:42 - DEBUG - Full circle is complete: 0.8150000000000001; Resetting head direction cue\n",
      "2024-06-27 15:16:42 - DEBUG - HD CUE INITIATED\n",
      "2024-06-27 15:16:46 - DEBUG - HD CUE REMOVED\n",
      "2024-06-27 15:16:46 - DEBUG - Head direction cue set; New kernel function created\n",
      "2024-06-27 15:16:46 - DEBUG - Testing speed phi: 0.99\n"
     ]
    },
    {
     "name": "stdout",
     "output_type": "stream",
     "text": [
      "out:  (None, None, None, None)\n"
     ]
    },
    {
     "name": "stderr",
     "output_type": "stream",
     "text": [
      "2024-06-27 15:16:52 - DEBUG - Full circle is complete: 0.81; Resetting head direction cue\n",
      "2024-06-27 15:16:52 - DEBUG - HD CUE INITIATED\n"
     ]
    },
    {
     "name": "stdout",
     "output_type": "stream",
     "text": [
      "out:  (None, None, None, None)\n"
     ]
    },
    {
     "name": "stderr",
     "output_type": "stream",
     "text": [
      "2024-06-27 15:16:56 - DEBUG - HD CUE REMOVED\n",
      "2024-06-27 15:16:56 - DEBUG - Head direction cue set; New kernel function created\n",
      "2024-06-27 15:16:56 - DEBUG - Testing speed phi: 0.98\n",
      "2024-06-27 15:17:03 - DEBUG - Full circle is complete: 0.8200000000000001; Resetting head direction cue\n",
      "2024-06-27 15:17:03 - DEBUG - HD CUE INITIATED\n"
     ]
    },
    {
     "name": "stdout",
     "output_type": "stream",
     "text": [
      "out:  (None, None, None, None)\n"
     ]
    },
    {
     "name": "stderr",
     "output_type": "stream",
     "text": [
      "2024-06-27 15:17:07 - DEBUG - HD CUE REMOVED\n",
      "2024-06-27 15:17:07 - DEBUG - Head direction cue set; New kernel function created\n",
      "2024-06-27 15:17:07 - DEBUG - Testing speed phi: 0.97\n"
     ]
    },
    {
     "name": "stdout",
     "output_type": "stream",
     "text": [
      "out:  (None, None, None, None)\n"
     ]
    },
    {
     "name": "stderr",
     "output_type": "stream",
     "text": [
      "2024-06-27 15:17:14 - DEBUG - Full circle is complete: 0.835; Resetting head direction cue\n",
      "2024-06-27 15:17:14 - DEBUG - HD CUE INITIATED\n",
      "2024-06-27 15:17:18 - DEBUG - HD CUE REMOVED\n",
      "2024-06-27 15:17:18 - DEBUG - Head direction cue set; New kernel function created\n",
      "2024-06-27 15:17:18 - DEBUG - Testing speed phi: 0.96\n"
     ]
    },
    {
     "name": "stdout",
     "output_type": "stream",
     "text": [
      "out:  (None, None, None, None)\n"
     ]
    },
    {
     "name": "stderr",
     "output_type": "stream",
     "text": [
      "2024-06-27 15:17:26 - DEBUG - Full circle is complete: 0.8300000000000001; Resetting head direction cue\n",
      "2024-06-27 15:17:26 - DEBUG - HD CUE INITIATED\n"
     ]
    },
    {
     "name": "stdout",
     "output_type": "stream",
     "text": [
      "out:  (None, None, None, None)\n"
     ]
    },
    {
     "name": "stderr",
     "output_type": "stream",
     "text": [
      "2024-06-27 15:17:30 - DEBUG - HD CUE REMOVED\n",
      "2024-06-27 15:17:30 - DEBUG - Head direction cue set; New kernel function created\n",
      "2024-06-27 15:17:30 - DEBUG - Testing speed phi: 0.9500000000000001\n",
      "2024-06-27 15:17:38 - DEBUG - Full circle is complete: 0.845; Resetting head direction cue\n",
      "2024-06-27 15:17:38 - DEBUG - HD CUE INITIATED\n"
     ]
    },
    {
     "name": "stdout",
     "output_type": "stream",
     "text": [
      "out:  (None, None, None, None)\n"
     ]
    },
    {
     "name": "stderr",
     "output_type": "stream",
     "text": [
      "2024-06-27 15:17:42 - DEBUG - HD CUE REMOVED\n",
      "2024-06-27 15:17:42 - DEBUG - Head direction cue set; New kernel function created\n",
      "2024-06-27 15:17:42 - DEBUG - Testing speed phi: 0.9400000000000001\n"
     ]
    },
    {
     "name": "stdout",
     "output_type": "stream",
     "text": [
      "out:  (None, None, None, None)\n"
     ]
    },
    {
     "name": "stderr",
     "output_type": "stream",
     "text": [
      "2024-06-27 15:17:50 - DEBUG - Full circle is complete: 0.85; Resetting head direction cue\n",
      "2024-06-27 15:17:50 - DEBUG - HD CUE INITIATED\n",
      "2024-06-27 15:17:54 - DEBUG - HD CUE REMOVED\n",
      "2024-06-27 15:17:54 - DEBUG - Head direction cue set; New kernel function created\n",
      "2024-06-27 15:17:54 - DEBUG - Testing speed phi: 0.93\n"
     ]
    },
    {
     "name": "stdout",
     "output_type": "stream",
     "text": [
      "out:  (None, None, None, None)\n"
     ]
    },
    {
     "name": "stderr",
     "output_type": "stream",
     "text": [
      "2024-06-27 15:18:02 - DEBUG - Full circle is complete: 0.855; Resetting head direction cue\n",
      "2024-06-27 15:18:02 - DEBUG - HD CUE INITIATED\n"
     ]
    },
    {
     "name": "stdout",
     "output_type": "stream",
     "text": [
      "out:  (None, None, None, None)\n"
     ]
    },
    {
     "name": "stderr",
     "output_type": "stream",
     "text": [
      "2024-06-27 15:18:06 - DEBUG - HD CUE REMOVED\n",
      "2024-06-27 15:18:06 - DEBUG - Head direction cue set; New kernel function created\n",
      "2024-06-27 15:18:06 - DEBUG - Testing speed phi: 0.92\n"
     ]
    },
    {
     "name": "stdout",
     "output_type": "stream",
     "text": [
      "out:  (None, None, None, None)\n"
     ]
    },
    {
     "name": "stderr",
     "output_type": "stream",
     "text": [
      "2024-06-27 15:18:14 - DEBUG - Full circle is complete: 0.85; Resetting head direction cue\n",
      "2024-06-27 15:18:14 - DEBUG - HD CUE INITIATED\n",
      "2024-06-27 15:18:19 - DEBUG - HD CUE REMOVED\n",
      "2024-06-27 15:18:19 - DEBUG - Head direction cue set; New kernel function created\n",
      "2024-06-27 15:18:19 - DEBUG - Testing speed phi: 0.91\n"
     ]
    },
    {
     "name": "stdout",
     "output_type": "stream",
     "text": [
      "out:  (None, None, None, None)\n"
     ]
    },
    {
     "name": "stderr",
     "output_type": "stream",
     "text": [
      "2024-06-27 15:18:27 - DEBUG - Full circle is complete: 0.88; Resetting head direction cue\n",
      "2024-06-27 15:18:27 - DEBUG - HD CUE INITIATED\n",
      "2024-06-27 15:18:31 - DEBUG - HD CUE REMOVED\n",
      "2024-06-27 15:18:31 - DEBUG - Head direction cue set; New kernel function created\n",
      "2024-06-27 15:18:31 - DEBUG - Testing speed phi: 0.9\n"
     ]
    },
    {
     "name": "stdout",
     "output_type": "stream",
     "text": [
      "out:  (None, None, None, None)\n"
     ]
    },
    {
     "name": "stderr",
     "output_type": "stream",
     "text": [
      "2024-06-27 15:18:40 - DEBUG - Full circle is complete: 0.885; Resetting head direction cue\n",
      "2024-06-27 15:18:40 - DEBUG - HD CUE INITIATED\n"
     ]
    },
    {
     "name": "stdout",
     "output_type": "stream",
     "text": [
      "out:  (None, None, None, None)\n"
     ]
    },
    {
     "name": "stderr",
     "output_type": "stream",
     "text": [
      "2024-06-27 15:18:45 - DEBUG - HD CUE REMOVED\n",
      "2024-06-27 15:18:45 - DEBUG - Head direction cue set; New kernel function created\n",
      "2024-06-27 15:18:45 - DEBUG - Testing speed phi: 0.89\n"
     ]
    },
    {
     "name": "stdout",
     "output_type": "stream",
     "text": [
      "out:  (None, None, None, None)\n"
     ]
    },
    {
     "name": "stderr",
     "output_type": "stream",
     "text": [
      "2024-06-27 15:18:53 - DEBUG - Full circle is complete: 0.905; Resetting head direction cue\n",
      "2024-06-27 15:18:53 - DEBUG - HD CUE INITIATED\n",
      "2024-06-27 15:18:58 - DEBUG - HD CUE REMOVED\n",
      "2024-06-27 15:18:58 - DEBUG - Head direction cue set; New kernel function created\n",
      "2024-06-27 15:18:58 - DEBUG - Testing speed phi: 0.88\n"
     ]
    },
    {
     "name": "stdout",
     "output_type": "stream",
     "text": [
      "out:  (None, None, None, None)\n"
     ]
    },
    {
     "name": "stderr",
     "output_type": "stream",
     "text": [
      "2024-06-27 15:19:06 - DEBUG - Full circle is complete: 0.89; Resetting head direction cue\n",
      "2024-06-27 15:19:06 - DEBUG - HD CUE INITIATED\n"
     ]
    },
    {
     "name": "stdout",
     "output_type": "stream",
     "text": [
      "out:  (None, None, None, None)\n"
     ]
    },
    {
     "name": "stderr",
     "output_type": "stream",
     "text": [
      "2024-06-27 15:19:11 - DEBUG - HD CUE REMOVED\n",
      "2024-06-27 15:19:11 - DEBUG - Head direction cue set; New kernel function created\n",
      "2024-06-27 15:19:11 - DEBUG - Testing speed phi: 0.87\n"
     ]
    },
    {
     "name": "stdout",
     "output_type": "stream",
     "text": [
      "out:  (None, None, None, None)\n"
     ]
    },
    {
     "name": "stderr",
     "output_type": "stream",
     "text": [
      "2024-06-27 15:19:19 - DEBUG - Full circle is complete: 0.895; Resetting head direction cue\n",
      "2024-06-27 15:19:19 - DEBUG - HD CUE INITIATED\n",
      "2024-06-27 15:19:24 - DEBUG - HD CUE REMOVED\n",
      "2024-06-27 15:19:24 - DEBUG - Head direction cue set; New kernel function created\n",
      "2024-06-27 15:19:24 - DEBUG - Testing speed phi: 0.86\n"
     ]
    },
    {
     "name": "stdout",
     "output_type": "stream",
     "text": [
      "out:  (None, None, None, None)\n"
     ]
    },
    {
     "name": "stderr",
     "output_type": "stream",
     "text": [
      "2024-06-27 15:19:33 - DEBUG - Full circle is complete: 0.9; Resetting head direction cue\n",
      "2024-06-27 15:19:33 - DEBUG - HD CUE INITIATED\n",
      "2024-06-27 15:19:37 - DEBUG - HD CUE REMOVED\n",
      "2024-06-27 15:19:37 - DEBUG - Head direction cue set; New kernel function created\n",
      "2024-06-27 15:19:37 - DEBUG - Testing speed phi: 0.85\n"
     ]
    },
    {
     "name": "stdout",
     "output_type": "stream",
     "text": [
      "out:  (None, None, None, None)\n"
     ]
    },
    {
     "name": "stderr",
     "output_type": "stream",
     "text": [
      "2024-06-27 15:19:47 - DEBUG - Full circle is complete: 0.91; Resetting head direction cue\n",
      "2024-06-27 15:19:47 - DEBUG - HD CUE INITIATED\n"
     ]
    },
    {
     "name": "stdout",
     "output_type": "stream",
     "text": [
      "out:  (None, None, None, None)\n"
     ]
    },
    {
     "name": "stderr",
     "output_type": "stream",
     "text": [
      "2024-06-27 15:19:52 - DEBUG - HD CUE REMOVED\n",
      "2024-06-27 15:19:52 - DEBUG - Head direction cue set; New kernel function created\n",
      "2024-06-27 15:19:52 - DEBUG - Testing speed phi: 0.84\n"
     ]
    },
    {
     "name": "stdout",
     "output_type": "stream",
     "text": [
      "out:  (None, None, None, None)\n"
     ]
    },
    {
     "name": "stderr",
     "output_type": "stream",
     "text": [
      "2024-06-27 15:20:01 - DEBUG - Full circle is complete: 0.91; Resetting head direction cue\n",
      "2024-06-27 15:20:01 - DEBUG - HD CUE INITIATED\n",
      "2024-06-27 15:20:07 - DEBUG - HD CUE REMOVED\n",
      "2024-06-27 15:20:07 - DEBUG - Head direction cue set; New kernel function created\n",
      "2024-06-27 15:20:07 - DEBUG - Testing speed phi: 0.8300000000000001\n"
     ]
    },
    {
     "name": "stdout",
     "output_type": "stream",
     "text": [
      "out:  (None, None, None, None)\n"
     ]
    },
    {
     "name": "stderr",
     "output_type": "stream",
     "text": [
      "2024-06-27 15:20:17 - DEBUG - Full circle is complete: 0.93; Resetting head direction cue\n",
      "2024-06-27 15:20:17 - DEBUG - HD CUE INITIATED\n"
     ]
    },
    {
     "name": "stdout",
     "output_type": "stream",
     "text": [
      "out:  (None, None, None, None)\n"
     ]
    },
    {
     "name": "stderr",
     "output_type": "stream",
     "text": [
      "2024-06-27 15:20:22 - DEBUG - HD CUE REMOVED\n",
      "2024-06-27 15:20:22 - DEBUG - Head direction cue set; New kernel function created\n",
      "2024-06-27 15:20:22 - DEBUG - Testing speed phi: 0.8200000000000001\n"
     ]
    },
    {
     "name": "stdout",
     "output_type": "stream",
     "text": [
      "out:  (None, None, None, None)\n"
     ]
    },
    {
     "name": "stderr",
     "output_type": "stream",
     "text": [
      "2024-06-27 15:20:32 - DEBUG - Full circle is complete: 0.9450000000000001; Resetting head direction cue\n",
      "2024-06-27 15:20:32 - DEBUG - HD CUE INITIATED\n",
      "2024-06-27 15:20:37 - DEBUG - HD CUE REMOVED\n",
      "2024-06-27 15:20:37 - DEBUG - Head direction cue set; New kernel function created\n",
      "2024-06-27 15:20:37 - DEBUG - Testing speed phi: 0.81\n"
     ]
    },
    {
     "name": "stdout",
     "output_type": "stream",
     "text": [
      "out:  (None, None, None, None)\n"
     ]
    },
    {
     "name": "stderr",
     "output_type": "stream",
     "text": [
      "2024-06-27 15:20:47 - DEBUG - Full circle is complete: 0.9450000000000001; Resetting head direction cue\n",
      "2024-06-27 15:20:47 - DEBUG - HD CUE INITIATED\n"
     ]
    },
    {
     "name": "stdout",
     "output_type": "stream",
     "text": [
      "out:  (None, None, None, None)\n"
     ]
    },
    {
     "name": "stderr",
     "output_type": "stream",
     "text": [
      "2024-06-27 15:20:53 - DEBUG - HD CUE REMOVED\n",
      "2024-06-27 15:20:53 - DEBUG - Head direction cue set; New kernel function created\n",
      "2024-06-27 15:20:53 - DEBUG - Testing speed phi: 0.8\n"
     ]
    },
    {
     "name": "stdout",
     "output_type": "stream",
     "text": [
      "out:  (None, None, None, None)\n"
     ]
    },
    {
     "name": "stderr",
     "output_type": "stream",
     "text": [
      "2024-06-27 15:21:03 - DEBUG - Full circle is complete: 0.9450000000000001; Resetting head direction cue\n",
      "2024-06-27 15:21:03 - DEBUG - HD CUE INITIATED\n",
      "2024-06-27 15:21:08 - DEBUG - HD CUE REMOVED\n",
      "2024-06-27 15:21:08 - DEBUG - Head direction cue set; New kernel function created\n",
      "2024-06-27 15:21:08 - DEBUG - Testing speed phi: 0.79\n"
     ]
    },
    {
     "name": "stdout",
     "output_type": "stream",
     "text": [
      "out:  (None, None, None, None)\n"
     ]
    },
    {
     "name": "stderr",
     "output_type": "stream",
     "text": [
      "2024-06-27 15:21:18 - DEBUG - Full circle is complete: 0.98; Resetting head direction cue\n",
      "2024-06-27 15:21:18 - DEBUG - HD CUE INITIATED\n"
     ]
    },
    {
     "name": "stdout",
     "output_type": "stream",
     "text": [
      "out:  (None, None, None, None)\n"
     ]
    },
    {
     "name": "stderr",
     "output_type": "stream",
     "text": [
      "2024-06-27 15:21:23 - DEBUG - HD CUE REMOVED\n",
      "2024-06-27 15:21:23 - DEBUG - Head direction cue set; New kernel function created\n",
      "2024-06-27 15:21:23 - DEBUG - Testing speed phi: 0.78\n",
      "2024-06-27 15:21:33 - DEBUG - Full circle is complete: 0.98; Resetting head direction cue\n"
     ]
    },
    {
     "name": "stdout",
     "output_type": "stream",
     "text": [
      "out:  (None, None, None, None)\n"
     ]
    },
    {
     "name": "stderr",
     "output_type": "stream",
     "text": [
      "2024-06-27 15:21:33 - DEBUG - HD CUE INITIATED\n",
      "2024-06-27 15:21:37 - DEBUG - HD CUE REMOVED\n",
      "2024-06-27 15:21:37 - DEBUG - Head direction cue set; New kernel function created\n",
      "2024-06-27 15:21:37 - DEBUG - Testing speed phi: 0.77\n"
     ]
    },
    {
     "name": "stdout",
     "output_type": "stream",
     "text": [
      "out:  (None, None, None, None)\n"
     ]
    },
    {
     "name": "stderr",
     "output_type": "stream",
     "text": [
      "2024-06-27 15:21:46 - DEBUG - Full circle is complete: 0.985; Resetting head direction cue\n",
      "2024-06-27 15:21:46 - DEBUG - HD CUE INITIATED\n",
      "2024-06-27 15:21:50 - DEBUG - HD CUE REMOVED\n",
      "2024-06-27 15:21:50 - DEBUG - Head direction cue set; New kernel function created\n",
      "2024-06-27 15:21:50 - DEBUG - Testing speed phi: 0.76\n"
     ]
    },
    {
     "name": "stdout",
     "output_type": "stream",
     "text": [
      "out:  (None, None, None, None)\n"
     ]
    },
    {
     "name": "stderr",
     "output_type": "stream",
     "text": [
      "2024-06-27 15:21:58 - DEBUG - Full circle is complete: 0.995; Resetting head direction cue\n",
      "2024-06-27 15:21:58 - DEBUG - HD CUE INITIATED\n"
     ]
    },
    {
     "name": "stdout",
     "output_type": "stream",
     "text": [
      "out:  (None, None, None, None)\n"
     ]
    },
    {
     "name": "stderr",
     "output_type": "stream",
     "text": [
      "2024-06-27 15:22:03 - DEBUG - HD CUE REMOVED\n",
      "2024-06-27 15:22:03 - DEBUG - Head direction cue set; New kernel function created\n",
      "2024-06-27 15:22:03 - DEBUG - Testing speed phi: 0.75\n"
     ]
    },
    {
     "name": "stdout",
     "output_type": "stream",
     "text": [
      "out:  (None, None, None, None)\n"
     ]
    },
    {
     "name": "stderr",
     "output_type": "stream",
     "text": [
      "2024-06-27 15:22:11 - DEBUG - Full circle is complete: 1.0050000000000001; Resetting head direction cue\n",
      "2024-06-27 15:22:11 - DEBUG - HD CUE INITIATED\n",
      "2024-06-27 15:22:15 - DEBUG - HD CUE REMOVED\n",
      "2024-06-27 15:22:15 - DEBUG - Head direction cue set; New kernel function created\n"
     ]
    },
    {
     "name": "stdout",
     "output_type": "stream",
     "text": [
      "out:  (None, None, None, None)\n"
     ]
    },
    {
     "name": "stderr",
     "output_type": "stream",
     "text": [
      "2024-06-27 15:22:15 - DEBUG - Testing speed phi: 0.74\n",
      "2024-06-27 15:22:24 - DEBUG - Full circle is complete: 1.02; Resetting head direction cue\n"
     ]
    },
    {
     "name": "stdout",
     "output_type": "stream",
     "text": [
      "out:  (None, None, None, None)\n"
     ]
    },
    {
     "name": "stderr",
     "output_type": "stream",
     "text": [
      "2024-06-27 15:22:24 - DEBUG - HD CUE INITIATED\n",
      "2024-06-27 15:22:28 - DEBUG - HD CUE REMOVED\n",
      "2024-06-27 15:22:28 - DEBUG - Head direction cue set; New kernel function created\n",
      "2024-06-27 15:22:28 - DEBUG - Testing speed phi: 0.73\n"
     ]
    },
    {
     "name": "stdout",
     "output_type": "stream",
     "text": [
      "out:  (None, None, None, None)\n"
     ]
    },
    {
     "name": "stderr",
     "output_type": "stream",
     "text": [
      "2024-06-27 15:22:39 - DEBUG - Full circle is complete: 1.02; Resetting head direction cue\n",
      "2024-06-27 15:22:39 - DEBUG - HD CUE INITIATED\n"
     ]
    },
    {
     "name": "stdout",
     "output_type": "stream",
     "text": [
      "out:  (None, None, None, None)\n"
     ]
    },
    {
     "name": "stderr",
     "output_type": "stream",
     "text": [
      "2024-06-27 15:22:44 - DEBUG - HD CUE REMOVED\n",
      "2024-06-27 15:22:44 - DEBUG - Head direction cue set; New kernel function created\n",
      "2024-06-27 15:22:44 - DEBUG - Testing speed phi: 0.72\n"
     ]
    },
    {
     "name": "stdout",
     "output_type": "stream",
     "text": [
      "out:  (None, None, None, None)\n"
     ]
    },
    {
     "name": "stderr",
     "output_type": "stream",
     "text": [
      "2024-06-27 15:22:54 - DEBUG - Full circle is complete: 1.03; Resetting head direction cue\n",
      "2024-06-27 15:22:54 - DEBUG - HD CUE INITIATED\n",
      "2024-06-27 15:22:59 - DEBUG - HD CUE REMOVED\n",
      "2024-06-27 15:22:59 - DEBUG - Head direction cue set; New kernel function created\n",
      "2024-06-27 15:22:59 - DEBUG - Testing speed phi: 0.71\n"
     ]
    },
    {
     "name": "stdout",
     "output_type": "stream",
     "text": [
      "out:  (None, None, None, None)\n"
     ]
    },
    {
     "name": "stderr",
     "output_type": "stream",
     "text": [
      "2024-06-27 15:23:09 - DEBUG - Full circle is complete: 1.06; Resetting head direction cue\n",
      "2024-06-27 15:23:09 - DEBUG - HD CUE INITIATED\n"
     ]
    },
    {
     "name": "stdout",
     "output_type": "stream",
     "text": [
      "out:  (None, None, None, None)\n"
     ]
    },
    {
     "name": "stderr",
     "output_type": "stream",
     "text": [
      "2024-06-27 15:23:14 - DEBUG - HD CUE REMOVED\n",
      "2024-06-27 15:23:14 - DEBUG - Head direction cue set; New kernel function created\n",
      "2024-06-27 15:23:14 - DEBUG - Testing speed phi: 0.7000000000000001\n"
     ]
    },
    {
     "name": "stdout",
     "output_type": "stream",
     "text": [
      "out:  (None, None, None, None)\n"
     ]
    },
    {
     "name": "stderr",
     "output_type": "stream",
     "text": [
      "2024-06-27 15:23:24 - DEBUG - Full circle is complete: 1.035; Resetting head direction cue\n",
      "2024-06-27 15:23:24 - DEBUG - HD CUE INITIATED\n",
      "2024-06-27 15:23:29 - DEBUG - HD CUE REMOVED\n",
      "2024-06-27 15:23:29 - DEBUG - Head direction cue set; New kernel function created\n",
      "2024-06-27 15:23:29 - DEBUG - Testing speed phi: 0.6900000000000001\n"
     ]
    },
    {
     "name": "stdout",
     "output_type": "stream",
     "text": [
      "out:  (None, None, None, None)\n"
     ]
    },
    {
     "name": "stderr",
     "output_type": "stream",
     "text": [
      "2024-06-27 15:23:40 - DEBUG - Full circle is complete: 1.06; Resetting head direction cue\n",
      "2024-06-27 15:23:40 - DEBUG - HD CUE INITIATED\n"
     ]
    },
    {
     "name": "stdout",
     "output_type": "stream",
     "text": [
      "out:  (None, None, None, None)\n"
     ]
    },
    {
     "name": "stderr",
     "output_type": "stream",
     "text": [
      "2024-06-27 15:23:45 - DEBUG - HD CUE REMOVED\n",
      "2024-06-27 15:23:45 - DEBUG - Head direction cue set; New kernel function created\n",
      "2024-06-27 15:23:45 - DEBUG - Testing speed phi: 0.68\n"
     ]
    },
    {
     "name": "stdout",
     "output_type": "stream",
     "text": [
      "out:  (None, None, None, None)\n"
     ]
    },
    {
     "name": "stderr",
     "output_type": "stream",
     "text": [
      "2024-06-27 15:23:56 - DEBUG - Full circle is complete: 1.08; Resetting head direction cue\n",
      "2024-06-27 15:23:56 - DEBUG - HD CUE INITIATED\n",
      "2024-06-27 15:24:01 - DEBUG - HD CUE REMOVED\n",
      "2024-06-27 15:24:01 - DEBUG - Head direction cue set; New kernel function created\n",
      "2024-06-27 15:24:01 - DEBUG - Testing speed phi: 0.67\n"
     ]
    },
    {
     "name": "stdout",
     "output_type": "stream",
     "text": [
      "out:  (None, None, None, None)\n"
     ]
    },
    {
     "name": "stderr",
     "output_type": "stream",
     "text": [
      "2024-06-27 15:24:12 - DEBUG - Full circle is complete: 1.09; Resetting head direction cue\n",
      "2024-06-27 15:24:12 - DEBUG - HD CUE INITIATED\n"
     ]
    },
    {
     "name": "stdout",
     "output_type": "stream",
     "text": [
      "out:  (None, None, None, None)\n"
     ]
    },
    {
     "name": "stderr",
     "output_type": "stream",
     "text": [
      "2024-06-27 15:24:17 - DEBUG - HD CUE REMOVED\n",
      "2024-06-27 15:24:17 - DEBUG - Head direction cue set; New kernel function created\n",
      "2024-06-27 15:24:17 - DEBUG - Testing speed phi: 0.66\n"
     ]
    },
    {
     "name": "stdout",
     "output_type": "stream",
     "text": [
      "out:  (None, None, None, None)\n"
     ]
    },
    {
     "name": "stderr",
     "output_type": "stream",
     "text": [
      "2024-06-27 15:24:28 - DEBUG - Full circle is complete: 1.11; Resetting head direction cue\n",
      "2024-06-27 15:24:28 - DEBUG - HD CUE INITIATED\n"
     ]
    },
    {
     "name": "stdout",
     "output_type": "stream",
     "text": [
      "out:  (None, None, None, None)\n"
     ]
    },
    {
     "name": "stderr",
     "output_type": "stream",
     "text": [
      "2024-06-27 15:24:33 - DEBUG - HD CUE REMOVED\n",
      "2024-06-27 15:24:33 - DEBUG - Head direction cue set; New kernel function created\n",
      "2024-06-27 15:24:33 - DEBUG - Testing speed phi: 0.65\n"
     ]
    },
    {
     "name": "stdout",
     "output_type": "stream",
     "text": [
      "out:  (None, None, None, None)\n"
     ]
    },
    {
     "name": "stderr",
     "output_type": "stream",
     "text": [
      "2024-06-27 15:24:44 - DEBUG - Full circle is complete: 1.105; Resetting head direction cue\n",
      "2024-06-27 15:24:44 - DEBUG - HD CUE INITIATED\n",
      "2024-06-27 15:24:49 - DEBUG - HD CUE REMOVED\n",
      "2024-06-27 15:24:49 - DEBUG - Head direction cue set; New kernel function created\n",
      "2024-06-27 15:24:49 - DEBUG - Testing speed phi: 0.64\n"
     ]
    },
    {
     "name": "stdout",
     "output_type": "stream",
     "text": [
      "out:  (None, None, None, None)\n"
     ]
    },
    {
     "name": "stderr",
     "output_type": "stream",
     "text": [
      "2024-06-27 15:25:00 - DEBUG - Full circle is complete: 1.1300000000000001; Resetting head direction cue\n",
      "2024-06-27 15:25:00 - DEBUG - HD CUE INITIATED\n"
     ]
    },
    {
     "name": "stdout",
     "output_type": "stream",
     "text": [
      "out:  (None, None, None, None)\n"
     ]
    },
    {
     "name": "stderr",
     "output_type": "stream",
     "text": [
      "2024-06-27 15:25:06 - DEBUG - HD CUE REMOVED\n",
      "2024-06-27 15:25:06 - DEBUG - Head direction cue set; New kernel function created\n",
      "2024-06-27 15:25:06 - DEBUG - Testing speed phi: 0.63\n"
     ]
    },
    {
     "name": "stdout",
     "output_type": "stream",
     "text": [
      "out:  (None, None, None, None)\n"
     ]
    },
    {
     "name": "stderr",
     "output_type": "stream",
     "text": [
      "2024-06-27 15:25:17 - DEBUG - Full circle is complete: 1.1400000000000001; Resetting head direction cue\n",
      "2024-06-27 15:25:17 - DEBUG - HD CUE INITIATED\n",
      "2024-06-27 15:25:22 - DEBUG - HD CUE REMOVED\n",
      "2024-06-27 15:25:22 - DEBUG - Head direction cue set; New kernel function created\n",
      "2024-06-27 15:25:22 - DEBUG - Testing speed phi: 0.62\n"
     ]
    },
    {
     "name": "stdout",
     "output_type": "stream",
     "text": [
      "out:  (None, None, None, None)\n",
      "out:  (None, None, None, None)\n"
     ]
    },
    {
     "name": "stderr",
     "output_type": "stream",
     "text": [
      "2024-06-27 15:25:33 - DEBUG - Full circle is complete: 1.17; Resetting head direction cue\n",
      "2024-06-27 15:25:33 - DEBUG - HD CUE INITIATED\n",
      "2024-06-27 15:25:38 - DEBUG - HD CUE REMOVED\n",
      "2024-06-27 15:25:38 - DEBUG - Head direction cue set; New kernel function created\n",
      "2024-06-27 15:25:38 - DEBUG - Testing speed phi: 0.61\n"
     ]
    },
    {
     "name": "stdout",
     "output_type": "stream",
     "text": [
      "out:  (None, None, None, None)\n"
     ]
    },
    {
     "name": "stderr",
     "output_type": "stream",
     "text": [
      "2024-06-27 15:25:50 - DEBUG - Full circle is complete: 1.19; Resetting head direction cue\n",
      "2024-06-27 15:25:50 - DEBUG - HD CUE INITIATED\n"
     ]
    },
    {
     "name": "stdout",
     "output_type": "stream",
     "text": [
      "out:  (None, None, None, None)\n"
     ]
    },
    {
     "name": "stderr",
     "output_type": "stream",
     "text": [
      "2024-06-27 15:25:55 - DEBUG - HD CUE REMOVED\n",
      "2024-06-27 15:25:55 - DEBUG - Head direction cue set; New kernel function created\n",
      "2024-06-27 15:25:55 - DEBUG - Testing speed phi: 0.6\n"
     ]
    },
    {
     "name": "stdout",
     "output_type": "stream",
     "text": [
      "out:  (None, None, None, None)\n"
     ]
    },
    {
     "name": "stderr",
     "output_type": "stream",
     "text": [
      "2024-06-27 15:26:07 - DEBUG - Full circle is complete: 1.21; Resetting head direction cue\n",
      "2024-06-27 15:26:07 - DEBUG - HD CUE INITIATED\n"
     ]
    },
    {
     "name": "stdout",
     "output_type": "stream",
     "text": [
      "out:  (None, None, None, None)\n"
     ]
    },
    {
     "name": "stderr",
     "output_type": "stream",
     "text": [
      "2024-06-27 15:26:12 - DEBUG - HD CUE REMOVED\n",
      "2024-06-27 15:26:12 - DEBUG - Head direction cue set; New kernel function created\n",
      "2024-06-27 15:26:12 - DEBUG - Testing speed phi: 0.59\n"
     ]
    },
    {
     "name": "stdout",
     "output_type": "stream",
     "text": [
      "out:  (None, None, None, None)\n"
     ]
    },
    {
     "name": "stderr",
     "output_type": "stream",
     "text": [
      "2024-06-27 15:26:23 - DEBUG - Full circle is complete: 1.2; Resetting head direction cue\n",
      "2024-06-27 15:26:23 - DEBUG - HD CUE INITIATED\n",
      "2024-06-27 15:26:28 - DEBUG - HD CUE REMOVED\n",
      "2024-06-27 15:26:28 - DEBUG - Head direction cue set; New kernel function created\n",
      "2024-06-27 15:26:28 - DEBUG - Testing speed phi: 0.58\n"
     ]
    },
    {
     "name": "stdout",
     "output_type": "stream",
     "text": [
      "out:  (None, None, None, None)\n"
     ]
    },
    {
     "name": "stderr",
     "output_type": "stream",
     "text": [
      "2024-06-27 15:26:40 - DEBUG - Full circle is complete: 1.215; Resetting head direction cue\n",
      "2024-06-27 15:26:40 - DEBUG - HD CUE INITIATED\n"
     ]
    },
    {
     "name": "stdout",
     "output_type": "stream",
     "text": [
      "out:  (None, None, None, None)\n"
     ]
    },
    {
     "name": "stderr",
     "output_type": "stream",
     "text": [
      "2024-06-27 15:26:45 - DEBUG - HD CUE REMOVED\n",
      "2024-06-27 15:26:45 - DEBUG - Head direction cue set; New kernel function created\n",
      "2024-06-27 15:26:45 - DEBUG - Testing speed phi: 0.5700000000000001\n"
     ]
    },
    {
     "name": "stdout",
     "output_type": "stream",
     "text": [
      "out:  (None, None, None, None)\n"
     ]
    },
    {
     "name": "stderr",
     "output_type": "stream",
     "text": [
      "2024-06-27 15:26:58 - DEBUG - Full circle is complete: 1.2550000000000001; Resetting head direction cue\n",
      "2024-06-27 15:26:58 - DEBUG - HD CUE INITIATED\n"
     ]
    },
    {
     "name": "stdout",
     "output_type": "stream",
     "text": [
      "out:  (None, None, None, None)\n"
     ]
    },
    {
     "name": "stderr",
     "output_type": "stream",
     "text": [
      "2024-06-27 15:27:03 - DEBUG - HD CUE REMOVED\n",
      "2024-06-27 15:27:03 - DEBUG - Head direction cue set; New kernel function created\n",
      "2024-06-27 15:27:03 - DEBUG - Testing speed phi: 0.56\n"
     ]
    },
    {
     "name": "stdout",
     "output_type": "stream",
     "text": [
      "out:  (None, None, None, None)\n"
     ]
    },
    {
     "name": "stderr",
     "output_type": "stream",
     "text": [
      "2024-06-27 15:27:15 - DEBUG - Full circle is complete: 1.26; Resetting head direction cue\n",
      "2024-06-27 15:27:15 - DEBUG - HD CUE INITIATED\n",
      "2024-06-27 15:27:20 - DEBUG - HD CUE REMOVED\n",
      "2024-06-27 15:27:20 - DEBUG - Head direction cue set; New kernel function created\n",
      "2024-06-27 15:27:20 - DEBUG - Testing speed phi: 0.55\n"
     ]
    },
    {
     "name": "stdout",
     "output_type": "stream",
     "text": [
      "out:  (None, None, None, None)\n",
      "out:  (None, None, None, None)\n"
     ]
    },
    {
     "name": "stderr",
     "output_type": "stream",
     "text": [
      "2024-06-27 15:27:31 - DEBUG - Full circle is complete: 1.285; Resetting head direction cue\n",
      "2024-06-27 15:27:31 - DEBUG - HD CUE INITIATED\n",
      "2024-06-27 15:27:36 - DEBUG - HD CUE REMOVED\n",
      "2024-06-27 15:27:36 - DEBUG - Head direction cue set; New kernel function created\n",
      "2024-06-27 15:27:36 - DEBUG - Testing speed phi: 0.54\n"
     ]
    },
    {
     "name": "stdout",
     "output_type": "stream",
     "text": [
      "out:  (None, None, None, None)\n",
      "out:  (None, None, None, None)\n"
     ]
    },
    {
     "name": "stderr",
     "output_type": "stream",
     "text": [
      "2024-06-27 15:27:49 - DEBUG - Full circle is complete: 1.295; Resetting head direction cue\n",
      "2024-06-27 15:27:49 - DEBUG - HD CUE INITIATED\n",
      "2024-06-27 15:27:53 - DEBUG - HD CUE REMOVED\n",
      "2024-06-27 15:27:53 - DEBUG - Head direction cue set; New kernel function created\n",
      "2024-06-27 15:27:53 - DEBUG - Testing speed phi: 0.53\n"
     ]
    },
    {
     "name": "stdout",
     "output_type": "stream",
     "text": [
      "out:  (None, None, None, None)\n"
     ]
    },
    {
     "name": "stderr",
     "output_type": "stream",
     "text": [
      "2024-06-27 15:28:07 - DEBUG - Full circle is complete: 1.31; Resetting head direction cue\n",
      "2024-06-27 15:28:07 - DEBUG - HD CUE INITIATED\n"
     ]
    },
    {
     "name": "stdout",
     "output_type": "stream",
     "text": [
      "out:  (None, None, None, None)\n"
     ]
    },
    {
     "name": "stderr",
     "output_type": "stream",
     "text": [
      "2024-06-27 15:28:12 - DEBUG - HD CUE REMOVED\n",
      "2024-06-27 15:28:12 - DEBUG - Head direction cue set; New kernel function created\n",
      "2024-06-27 15:28:12 - DEBUG - Testing speed phi: 0.52\n"
     ]
    },
    {
     "name": "stdout",
     "output_type": "stream",
     "text": [
      "out:  (None, None, None, None)\n"
     ]
    },
    {
     "name": "stderr",
     "output_type": "stream",
     "text": [
      "2024-06-27 15:28:25 - DEBUG - Full circle is complete: 1.325; Resetting head direction cue\n",
      "2024-06-27 15:28:25 - DEBUG - HD CUE INITIATED\n"
     ]
    },
    {
     "name": "stdout",
     "output_type": "stream",
     "text": [
      "out:  (None, None, None, None)\n"
     ]
    },
    {
     "name": "stderr",
     "output_type": "stream",
     "text": [
      "2024-06-27 15:28:29 - DEBUG - HD CUE REMOVED\n",
      "2024-06-27 15:28:29 - DEBUG - Head direction cue set; New kernel function created\n",
      "2024-06-27 15:28:29 - DEBUG - Testing speed phi: 0.51\n"
     ]
    },
    {
     "name": "stdout",
     "output_type": "stream",
     "text": [
      "out:  (None, None, None, None)\n"
     ]
    },
    {
     "name": "stderr",
     "output_type": "stream",
     "text": [
      "2024-06-27 15:28:44 - DEBUG - Full circle is complete: 1.34; Resetting head direction cue\n",
      "2024-06-27 15:28:44 - DEBUG - HD CUE INITIATED\n"
     ]
    },
    {
     "name": "stdout",
     "output_type": "stream",
     "text": [
      "out:  (None, None, None, None)\n"
     ]
    },
    {
     "name": "stderr",
     "output_type": "stream",
     "text": [
      "2024-06-27 15:28:48 - DEBUG - HD CUE REMOVED\n",
      "2024-06-27 15:28:48 - DEBUG - Head direction cue set; New kernel function created\n",
      "2024-06-27 15:28:48 - DEBUG - Testing speed phi: 0.5\n"
     ]
    },
    {
     "name": "stdout",
     "output_type": "stream",
     "text": [
      "out:  (None, None, None, None)\n"
     ]
    },
    {
     "name": "stderr",
     "output_type": "stream",
     "text": [
      "2024-06-27 15:29:02 - DEBUG - Full circle is complete: 1.365; Resetting head direction cue\n",
      "2024-06-27 15:29:02 - DEBUG - HD CUE INITIATED\n",
      "2024-06-27 15:29:07 - DEBUG - HD CUE REMOVED\n",
      "2024-06-27 15:29:07 - DEBUG - Head direction cue set; New kernel function created\n",
      "2024-06-27 15:29:07 - DEBUG - Testing speed phi: 0.49\n"
     ]
    },
    {
     "name": "stdout",
     "output_type": "stream",
     "text": [
      "out:  (None, None, None, None)\n",
      "out:  (None, None, None, None)\n"
     ]
    },
    {
     "name": "stderr",
     "output_type": "stream",
     "text": [
      "2024-06-27 15:29:21 - DEBUG - Full circle is complete: 1.41; Resetting head direction cue\n",
      "2024-06-27 15:29:21 - DEBUG - HD CUE INITIATED\n",
      "2024-06-27 15:29:25 - DEBUG - HD CUE REMOVED\n",
      "2024-06-27 15:29:25 - DEBUG - Head direction cue set; New kernel function created\n",
      "2024-06-27 15:29:25 - DEBUG - Testing speed phi: 0.48\n"
     ]
    },
    {
     "name": "stdout",
     "output_type": "stream",
     "text": [
      "out:  (None, None, None, None)\n",
      "out:  (None, None, None, None)\n"
     ]
    },
    {
     "name": "stderr",
     "output_type": "stream",
     "text": [
      "2024-06-27 15:29:40 - DEBUG - Full circle is complete: 1.42; Resetting head direction cue\n",
      "2024-06-27 15:29:40 - DEBUG - HD CUE INITIATED\n",
      "2024-06-27 15:29:45 - DEBUG - HD CUE REMOVED\n",
      "2024-06-27 15:29:45 - DEBUG - Head direction cue set; New kernel function created\n",
      "2024-06-27 15:29:45 - DEBUG - Testing speed phi: 0.47000000000000003\n"
     ]
    },
    {
     "name": "stdout",
     "output_type": "stream",
     "text": [
      "out:  (None, None, None, None)\n",
      "out:  (None, None, None, None)\n"
     ]
    },
    {
     "name": "stderr",
     "output_type": "stream",
     "text": [
      "2024-06-27 15:30:00 - DEBUG - Full circle is complete: 1.445; Resetting head direction cue\n",
      "2024-06-27 15:30:00 - DEBUG - HD CUE INITIATED\n",
      "2024-06-27 15:30:05 - DEBUG - HD CUE REMOVED\n",
      "2024-06-27 15:30:05 - DEBUG - Head direction cue set; New kernel function created\n",
      "2024-06-27 15:30:05 - DEBUG - Testing speed phi: 0.46\n"
     ]
    },
    {
     "name": "stdout",
     "output_type": "stream",
     "text": [
      "out:  (None, None, None, None)\n",
      "out:  (None, None, None, None)\n"
     ]
    },
    {
     "name": "stderr",
     "output_type": "stream",
     "text": [
      "2024-06-27 15:30:19 - DEBUG - Full circle is complete: 1.48; Resetting head direction cue\n",
      "2024-06-27 15:30:20 - DEBUG - HD CUE INITIATED\n",
      "2024-06-27 15:30:24 - DEBUG - HD CUE REMOVED\n",
      "2024-06-27 15:30:24 - DEBUG - Head direction cue set; New kernel function created\n",
      "2024-06-27 15:30:24 - DEBUG - Testing speed phi: 0.45\n"
     ]
    },
    {
     "name": "stdout",
     "output_type": "stream",
     "text": [
      "out:  (None, None, None, None)\n",
      "out:  (None, None, None, None)\n"
     ]
    },
    {
     "name": "stderr",
     "output_type": "stream",
     "text": [
      "2024-06-27 15:30:39 - DEBUG - Full circle is complete: 1.49; Resetting head direction cue\n",
      "2024-06-27 15:30:39 - DEBUG - HD CUE INITIATED\n",
      "2024-06-27 15:30:44 - DEBUG - HD CUE REMOVED\n",
      "2024-06-27 15:30:44 - DEBUG - Head direction cue set; New kernel function created\n",
      "2024-06-27 15:30:44 - DEBUG - Testing speed phi: 0.44\n"
     ]
    },
    {
     "name": "stdout",
     "output_type": "stream",
     "text": [
      "out:  (None, None, None, None)\n",
      "out:  (None, None, None, None)\n"
     ]
    },
    {
     "name": "stderr",
     "output_type": "stream",
     "text": [
      "2024-06-27 15:30:59 - DEBUG - Full circle is complete: 1.51; Resetting head direction cue\n",
      "2024-06-27 15:30:59 - DEBUG - HD CUE INITIATED\n",
      "2024-06-27 15:31:04 - DEBUG - HD CUE REMOVED\n",
      "2024-06-27 15:31:04 - DEBUG - Head direction cue set; New kernel function created\n",
      "2024-06-27 15:31:04 - DEBUG - Testing speed phi: 0.43\n"
     ]
    },
    {
     "name": "stdout",
     "output_type": "stream",
     "text": [
      "out:  (None, None, None, None)\n",
      "out:  (None, None, None, None)\n"
     ]
    },
    {
     "name": "stderr",
     "output_type": "stream",
     "text": [
      "2024-06-27 15:31:19 - DEBUG - Full circle is complete: 1.5250000000000001; Resetting head direction cue\n",
      "2024-06-27 15:31:19 - DEBUG - HD CUE INITIATED\n",
      "2024-06-27 15:31:24 - DEBUG - HD CUE REMOVED\n",
      "2024-06-27 15:31:24 - DEBUG - Head direction cue set; New kernel function created\n",
      "2024-06-27 15:31:24 - DEBUG - Testing speed phi: 0.42\n"
     ]
    },
    {
     "name": "stdout",
     "output_type": "stream",
     "text": [
      "out:  (None, None, None, None)\n",
      "out:  (None, None, None, None)\n"
     ]
    },
    {
     "name": "stderr",
     "output_type": "stream",
     "text": [
      "2024-06-27 15:31:41 - DEBUG - Full circle is complete: 1.6400000000000001; Resetting head direction cue\n",
      "2024-06-27 15:31:41 - DEBUG - HD CUE INITIATED\n",
      "2024-06-27 15:31:46 - DEBUG - HD CUE REMOVED\n",
      "2024-06-27 15:31:46 - DEBUG - Head direction cue set; New kernel function created\n",
      "2024-06-27 15:31:46 - DEBUG - Testing speed phi: 0.41000000000000003\n"
     ]
    },
    {
     "name": "stdout",
     "output_type": "stream",
     "text": [
      "out:  (None, None, None, None)\n",
      "out:  (None, None, None, None)\n"
     ]
    },
    {
     "name": "stderr",
     "output_type": "stream",
     "text": [
      "2024-06-27 15:32:03 - DEBUG - Full circle is complete: 1.62; Resetting head direction cue\n",
      "2024-06-27 15:32:03 - DEBUG - HD CUE INITIATED\n"
     ]
    },
    {
     "name": "stdout",
     "output_type": "stream",
     "text": [
      "out:  (None, None, None, None)\n"
     ]
    },
    {
     "name": "stderr",
     "output_type": "stream",
     "text": [
      "2024-06-27 15:32:08 - DEBUG - HD CUE REMOVED\n",
      "2024-06-27 15:32:08 - DEBUG - Head direction cue set; New kernel function created\n",
      "2024-06-27 15:32:08 - DEBUG - Testing speed phi: 0.4\n"
     ]
    },
    {
     "name": "stdout",
     "output_type": "stream",
     "text": [
      "out:  (None, None, None, None)\n"
     ]
    },
    {
     "name": "stderr",
     "output_type": "stream",
     "text": [
      "2024-06-27 15:32:24 - DEBUG - Full circle is complete: 1.625; Resetting head direction cue\n",
      "2024-06-27 15:32:24 - DEBUG - HD CUE INITIATED\n"
     ]
    },
    {
     "name": "stdout",
     "output_type": "stream",
     "text": [
      "out:  (None, None, None, None)\n"
     ]
    },
    {
     "name": "stderr",
     "output_type": "stream",
     "text": [
      "2024-06-27 15:32:29 - DEBUG - HD CUE REMOVED\n",
      "2024-06-27 15:32:29 - DEBUG - Head direction cue set; New kernel function created\n",
      "2024-06-27 15:32:29 - DEBUG - Testing speed phi: 0.39\n"
     ]
    },
    {
     "name": "stdout",
     "output_type": "stream",
     "text": [
      "out:  (None, None, None, None)\n"
     ]
    },
    {
     "name": "stderr",
     "output_type": "stream",
     "text": [
      "2024-06-27 15:32:45 - DEBUG - Full circle is complete: 1.685; Resetting head direction cue\n",
      "2024-06-27 15:32:45 - DEBUG - HD CUE INITIATED\n"
     ]
    },
    {
     "name": "stdout",
     "output_type": "stream",
     "text": [
      "out:  (None, None, None, None)\n"
     ]
    },
    {
     "name": "stderr",
     "output_type": "stream",
     "text": [
      "2024-06-27 15:32:50 - DEBUG - HD CUE REMOVED\n",
      "2024-06-27 15:32:50 - DEBUG - Head direction cue set; New kernel function created\n",
      "2024-06-27 15:32:50 - DEBUG - Testing speed phi: 0.38\n"
     ]
    },
    {
     "name": "stdout",
     "output_type": "stream",
     "text": [
      "out:  (None, None, None, None)\n",
      "out:  (None, None, None, None)\n"
     ]
    },
    {
     "name": "stderr",
     "output_type": "stream",
     "text": [
      "2024-06-27 15:33:08 - DEBUG - Full circle is complete: 1.725; Resetting head direction cue\n",
      "2024-06-27 15:33:08 - DEBUG - HD CUE INITIATED\n",
      "2024-06-27 15:33:12 - DEBUG - HD CUE REMOVED\n",
      "2024-06-27 15:33:12 - DEBUG - Head direction cue set; New kernel function created\n",
      "2024-06-27 15:33:12 - DEBUG - Testing speed phi: 0.37\n"
     ]
    },
    {
     "name": "stdout",
     "output_type": "stream",
     "text": [
      "out:  (None, None, None, None)\n",
      "out:  (None, None, None, None)\n"
     ]
    },
    {
     "name": "stderr",
     "output_type": "stream",
     "text": [
      "2024-06-27 15:33:29 - DEBUG - Full circle is complete: 1.715; Resetting head direction cue\n",
      "2024-06-27 15:33:29 - DEBUG - HD CUE INITIATED\n",
      "2024-06-27 15:33:34 - DEBUG - HD CUE REMOVED\n",
      "2024-06-27 15:33:34 - DEBUG - Head direction cue set; New kernel function created\n",
      "2024-06-27 15:33:35 - DEBUG - Testing speed phi: 0.36\n"
     ]
    },
    {
     "name": "stdout",
     "output_type": "stream",
     "text": [
      "out:  (None, None, None, None)\n",
      "out:  (None, None, None, None)\n"
     ]
    },
    {
     "name": "stderr",
     "output_type": "stream",
     "text": [
      "2024-06-27 15:33:52 - DEBUG - Full circle is complete: 1.7750000000000001; Resetting head direction cue\n",
      "2024-06-27 15:33:52 - DEBUG - HD CUE INITIATED\n"
     ]
    },
    {
     "name": "stdout",
     "output_type": "stream",
     "text": [
      "out:  (None, None, None, None)\n"
     ]
    },
    {
     "name": "stderr",
     "output_type": "stream",
     "text": [
      "2024-06-27 15:33:57 - DEBUG - HD CUE REMOVED\n",
      "2024-06-27 15:33:57 - DEBUG - Head direction cue set; New kernel function created\n",
      "2024-06-27 15:33:57 - DEBUG - Testing speed phi: 0.35000000000000003\n"
     ]
    },
    {
     "name": "stdout",
     "output_type": "stream",
     "text": [
      "out:  (None, None, None, None)\n"
     ]
    },
    {
     "name": "stderr",
     "output_type": "stream",
     "text": [
      "2024-06-27 15:34:15 - DEBUG - Full circle is complete: 1.845; Resetting head direction cue\n",
      "2024-06-27 15:34:15 - DEBUG - HD CUE INITIATED\n"
     ]
    },
    {
     "name": "stdout",
     "output_type": "stream",
     "text": [
      "out:  (None, None, None, None)\n"
     ]
    },
    {
     "name": "stderr",
     "output_type": "stream",
     "text": [
      "2024-06-27 15:34:21 - DEBUG - HD CUE REMOVED\n",
      "2024-06-27 15:34:21 - DEBUG - Head direction cue set; New kernel function created\n",
      "2024-06-27 15:34:21 - DEBUG - Testing speed phi: 0.34\n"
     ]
    },
    {
     "name": "stdout",
     "output_type": "stream",
     "text": [
      "out:  (None, None, None, None)\n",
      "out:  (None, None, None, None)\n"
     ]
    },
    {
     "name": "stderr",
     "output_type": "stream",
     "text": [
      "2024-06-27 15:34:39 - DEBUG - Full circle is complete: 1.8800000000000001; Resetting head direction cue\n",
      "2024-06-27 15:34:39 - DEBUG - HD CUE INITIATED\n",
      "2024-06-27 15:34:44 - DEBUG - HD CUE REMOVED\n",
      "2024-06-27 15:34:44 - DEBUG - Head direction cue set; New kernel function created\n",
      "2024-06-27 15:34:44 - DEBUG - Testing speed phi: 0.33\n"
     ]
    },
    {
     "name": "stdout",
     "output_type": "stream",
     "text": [
      "out:  (None, None, None, None)\n",
      "out:  (None, None, None, None)\n"
     ]
    },
    {
     "name": "stderr",
     "output_type": "stream",
     "text": [
      "2024-06-27 15:35:03 - DEBUG - Full circle is complete: 1.9000000000000001; Resetting head direction cue\n",
      "2024-06-27 15:35:03 - DEBUG - HD CUE INITIATED\n"
     ]
    },
    {
     "name": "stdout",
     "output_type": "stream",
     "text": [
      "out:  (None, None, None, None)\n"
     ]
    },
    {
     "name": "stderr",
     "output_type": "stream",
     "text": [
      "2024-06-27 15:35:08 - DEBUG - HD CUE REMOVED\n",
      "2024-06-27 15:35:08 - DEBUG - Head direction cue set; New kernel function created\n",
      "2024-06-27 15:35:08 - DEBUG - Testing speed phi: 0.32\n"
     ]
    },
    {
     "name": "stdout",
     "output_type": "stream",
     "text": [
      "out:  (None, None, None, None)\n",
      "out:  (None, None, None, None)\n"
     ]
    },
    {
     "name": "stderr",
     "output_type": "stream",
     "text": [
      "2024-06-27 15:35:28 - DEBUG - Full circle is complete: 1.97; Resetting head direction cue\n",
      "2024-06-27 15:35:28 - DEBUG - HD CUE INITIATED\n",
      "2024-06-27 15:35:33 - DEBUG - HD CUE REMOVED\n",
      "2024-06-27 15:35:33 - DEBUG - Head direction cue set; New kernel function created\n",
      "2024-06-27 15:35:33 - DEBUG - Testing speed phi: 0.31\n"
     ]
    },
    {
     "name": "stdout",
     "output_type": "stream",
     "text": [
      "out:  (None, None, None, None)\n",
      "out:  (None, None, None, None)\n"
     ]
    },
    {
     "name": "stderr",
     "output_type": "stream",
     "text": [
      "2024-06-27 15:35:53 - DEBUG - Full circle is complete: 2.0; Resetting head direction cue\n",
      "2024-06-27 15:35:53 - DEBUG - HD CUE INITIATED\n"
     ]
    },
    {
     "name": "stdout",
     "output_type": "stream",
     "text": [
      "out:  (None, None, None, None)\n"
     ]
    },
    {
     "name": "stderr",
     "output_type": "stream",
     "text": [
      "2024-06-27 15:35:58 - DEBUG - HD CUE REMOVED\n",
      "2024-06-27 15:35:58 - DEBUG - Head direction cue set; New kernel function created\n",
      "2024-06-27 15:35:58 - DEBUG - Testing speed phi: 0.3\n"
     ]
    },
    {
     "name": "stdout",
     "output_type": "stream",
     "text": [
      "out:  (None, None, None, None)\n",
      "out:  (None, None, None, None)\n"
     ]
    },
    {
     "name": "stderr",
     "output_type": "stream",
     "text": [
      "2024-06-27 15:36:19 - DEBUG - Full circle is complete: 2.08; Resetting head direction cue\n",
      "2024-06-27 15:36:19 - DEBUG - HD CUE INITIATED\n",
      "2024-06-27 15:36:24 - DEBUG - HD CUE REMOVED\n",
      "2024-06-27 15:36:24 - DEBUG - Head direction cue set; New kernel function created\n",
      "2024-06-27 15:36:24 - DEBUG - Testing speed phi: 0.29\n"
     ]
    },
    {
     "name": "stdout",
     "output_type": "stream",
     "text": [
      "out:  (None, None, None, None)\n",
      "out:  (None, None, None, None)\n"
     ]
    },
    {
     "name": "stderr",
     "output_type": "stream",
     "text": [
      "2024-06-27 15:36:45 - DEBUG - Full circle is complete: 2.145; Resetting head direction cue\n",
      "2024-06-27 15:36:45 - DEBUG - HD CUE INITIATED\n"
     ]
    },
    {
     "name": "stdout",
     "output_type": "stream",
     "text": [
      "out:  (None, None, None, None)\n"
     ]
    },
    {
     "name": "stderr",
     "output_type": "stream",
     "text": [
      "2024-06-27 15:36:50 - DEBUG - HD CUE REMOVED\n",
      "2024-06-27 15:36:50 - DEBUG - Head direction cue set; New kernel function created\n",
      "2024-06-27 15:36:50 - DEBUG - Testing speed phi: 0.28\n"
     ]
    },
    {
     "name": "stdout",
     "output_type": "stream",
     "text": [
      "out:  (None, None, None, None)\n",
      "out:  (None, None, None, None)\n"
     ]
    },
    {
     "name": "stderr",
     "output_type": "stream",
     "text": [
      "2024-06-27 15:37:12 - DEBUG - Full circle is complete: 2.1550000000000002; Resetting head direction cue\n",
      "2024-06-27 15:37:12 - DEBUG - HD CUE INITIATED\n"
     ]
    },
    {
     "name": "stdout",
     "output_type": "stream",
     "text": [
      "out:  (None, None, None, None)\n"
     ]
    },
    {
     "name": "stderr",
     "output_type": "stream",
     "text": [
      "2024-06-27 15:37:17 - DEBUG - HD CUE REMOVED\n",
      "2024-06-27 15:37:17 - DEBUG - Head direction cue set; New kernel function created\n",
      "2024-06-27 15:37:17 - DEBUG - Testing speed phi: 0.27\n"
     ]
    },
    {
     "name": "stdout",
     "output_type": "stream",
     "text": [
      "out:  (None, None, None, None)\n",
      "out:  (None, None, None, None)\n"
     ]
    },
    {
     "name": "stderr",
     "output_type": "stream",
     "text": [
      "2024-06-27 15:37:39 - DEBUG - Full circle is complete: 2.255; Resetting head direction cue\n",
      "2024-06-27 15:37:39 - DEBUG - HD CUE INITIATED\n",
      "2024-06-27 15:37:44 - DEBUG - HD CUE REMOVED\n",
      "2024-06-27 15:37:44 - DEBUG - Head direction cue set; New kernel function created\n",
      "2024-06-27 15:37:44 - DEBUG - Testing speed phi: 0.26\n"
     ]
    },
    {
     "name": "stdout",
     "output_type": "stream",
     "text": [
      "out:  (None, None, None, None)\n",
      "out:  (None, None, None, None)\n",
      "out:  (None, None, None, None)\n"
     ]
    },
    {
     "name": "stderr",
     "output_type": "stream",
     "text": [
      "2024-06-27 15:38:08 - DEBUG - Full circle is complete: 2.335; Resetting head direction cue\n",
      "2024-06-27 15:38:08 - DEBUG - HD CUE INITIATED\n",
      "2024-06-27 15:38:13 - DEBUG - HD CUE REMOVED\n",
      "2024-06-27 15:38:13 - DEBUG - Head direction cue set; New kernel function created\n",
      "2024-06-27 15:38:13 - DEBUG - Testing speed phi: 0.25\n"
     ]
    },
    {
     "name": "stdout",
     "output_type": "stream",
     "text": [
      "out:  (None, None, None, None)\n",
      "out:  (None, None, None, None)\n",
      "out:  (None, None, None, None)\n"
     ]
    },
    {
     "name": "stderr",
     "output_type": "stream",
     "text": [
      "2024-06-27 15:38:36 - DEBUG - Full circle is complete: 2.375; Resetting head direction cue\n",
      "2024-06-27 15:38:36 - DEBUG - HD CUE INITIATED\n",
      "2024-06-27 15:38:41 - DEBUG - HD CUE REMOVED\n",
      "2024-06-27 15:38:41 - DEBUG - Head direction cue set; New kernel function created\n",
      "2024-06-27 15:38:41 - DEBUG - Testing speed phi: 0.24\n"
     ]
    },
    {
     "name": "stdout",
     "output_type": "stream",
     "text": [
      "out:  (None, None, None, None)\n",
      "out:  (None, None, None, None)\n",
      "out:  (None, None, None, None)\n"
     ]
    },
    {
     "name": "stderr",
     "output_type": "stream",
     "text": [
      "2024-06-27 15:39:07 - DEBUG - Full circle is complete: 2.575; Resetting head direction cue\n",
      "2024-06-27 15:39:07 - DEBUG - HD CUE INITIATED\n",
      "2024-06-27 15:39:12 - DEBUG - HD CUE REMOVED\n",
      "2024-06-27 15:39:12 - DEBUG - Head direction cue set; New kernel function created\n",
      "2024-06-27 15:39:12 - DEBUG - Testing speed phi: 0.23\n"
     ]
    },
    {
     "name": "stdout",
     "output_type": "stream",
     "text": [
      "out:  (None, None, None, None)\n",
      "out:  (None, None, None, None)\n",
      "out:  (None, None, None, None)\n"
     ]
    },
    {
     "name": "stderr",
     "output_type": "stream",
     "text": [
      "2024-06-27 15:39:39 - DEBUG - Full circle is complete: 2.685; Resetting head direction cue\n",
      "2024-06-27 15:39:40 - DEBUG - HD CUE INITIATED\n",
      "2024-06-27 15:39:44 - DEBUG - HD CUE REMOVED\n",
      "2024-06-27 15:39:44 - DEBUG - Head direction cue set; New kernel function created\n",
      "2024-06-27 15:39:44 - DEBUG - Testing speed phi: 0.22\n"
     ]
    },
    {
     "name": "stdout",
     "output_type": "stream",
     "text": [
      "out:  (None, None, None, None)\n",
      "out:  (None, None, None, None)\n",
      "out:  (None, None, None, None)\n"
     ]
    },
    {
     "name": "stderr",
     "output_type": "stream",
     "text": [
      "2024-06-27 15:40:12 - DEBUG - Full circle is complete: 2.75; Resetting head direction cue\n",
      "2024-06-27 15:40:12 - DEBUG - HD CUE INITIATED\n"
     ]
    },
    {
     "name": "stdout",
     "output_type": "stream",
     "text": [
      "out:  (None, None, None, None)\n"
     ]
    },
    {
     "name": "stderr",
     "output_type": "stream",
     "text": [
      "2024-06-27 15:40:17 - DEBUG - HD CUE REMOVED\n",
      "2024-06-27 15:40:17 - DEBUG - Head direction cue set; New kernel function created\n",
      "2024-06-27 15:40:17 - DEBUG - Testing speed phi: 0.21\n"
     ]
    },
    {
     "name": "stdout",
     "output_type": "stream",
     "text": [
      "out:  (None, None, None, None)\n",
      "out:  (None, None, None, None)\n"
     ]
    },
    {
     "name": "stderr",
     "output_type": "stream",
     "text": [
      "2024-06-27 15:40:45 - DEBUG - Full circle is complete: 2.765; Resetting head direction cue\n",
      "2024-06-27 15:40:45 - DEBUG - HD CUE INITIATED\n"
     ]
    },
    {
     "name": "stdout",
     "output_type": "stream",
     "text": [
      "out:  (None, None, None, None)\n"
     ]
    },
    {
     "name": "stderr",
     "output_type": "stream",
     "text": [
      "2024-06-27 15:40:51 - DEBUG - HD CUE REMOVED\n",
      "2024-06-27 15:40:51 - DEBUG - Head direction cue set; New kernel function created\n",
      "2024-06-27 15:40:51 - DEBUG - Testing speed phi: 0.2\n"
     ]
    },
    {
     "name": "stdout",
     "output_type": "stream",
     "text": [
      "out:  (None, None, None, None)\n",
      "out:  (None, None, None, None)\n",
      "out:  (None, None, None, None)\n"
     ]
    },
    {
     "name": "stderr",
     "output_type": "stream",
     "text": [
      "2024-06-27 15:41:21 - DEBUG - Full circle is complete: 3.035; Resetting head direction cue\n",
      "2024-06-27 15:41:21 - DEBUG - HD CUE INITIATED\n",
      "2024-06-27 15:41:26 - DEBUG - HD CUE REMOVED\n",
      "2024-06-27 15:41:26 - DEBUG - Head direction cue set; New kernel function created\n",
      "2024-06-27 15:41:26 - DEBUG - Testing speed phi: 0.19\n"
     ]
    },
    {
     "name": "stdout",
     "output_type": "stream",
     "text": [
      "out:  (None, None, None, None)\n",
      "out:  (None, None, None, None)\n",
      "out:  (None, None, None, None)\n"
     ]
    },
    {
     "name": "stderr",
     "output_type": "stream",
     "text": [
      "2024-06-27 15:41:56 - DEBUG - Full circle is complete: 3.08; Resetting head direction cue\n",
      "2024-06-27 15:41:56 - DEBUG - HD CUE INITIATED\n"
     ]
    },
    {
     "name": "stdout",
     "output_type": "stream",
     "text": [
      "out:  (None, None, None, None)\n"
     ]
    },
    {
     "name": "stderr",
     "output_type": "stream",
     "text": [
      "2024-06-27 15:42:01 - DEBUG - HD CUE REMOVED\n",
      "2024-06-27 15:42:01 - DEBUG - Head direction cue set; New kernel function created\n",
      "2024-06-27 15:42:01 - DEBUG - Testing speed phi: 0.18\n"
     ]
    },
    {
     "name": "stdout",
     "output_type": "stream",
     "text": [
      "out:  (None, None, None, None)\n",
      "out:  (None, None, None, None)\n",
      "out:  (None, None, None, None)\n"
     ]
    },
    {
     "name": "stderr",
     "output_type": "stream",
     "text": [
      "2024-06-27 15:42:32 - DEBUG - Full circle is complete: 3.17; Resetting head direction cue\n",
      "2024-06-27 15:42:32 - DEBUG - HD CUE INITIATED\n"
     ]
    },
    {
     "name": "stdout",
     "output_type": "stream",
     "text": [
      "out:  (None, None, None, None)\n"
     ]
    },
    {
     "name": "stderr",
     "output_type": "stream",
     "text": [
      "2024-06-27 15:42:37 - DEBUG - HD CUE REMOVED\n",
      "2024-06-27 15:42:37 - DEBUG - Head direction cue set; New kernel function created\n",
      "2024-06-27 15:42:37 - DEBUG - Testing speed phi: 0.17\n"
     ]
    },
    {
     "name": "stdout",
     "output_type": "stream",
     "text": [
      "out:  (None, None, None, None)\n",
      "out:  (None, None, None, None)\n",
      "out:  (None, None, None, None)\n"
     ]
    },
    {
     "name": "stderr",
     "output_type": "stream",
     "text": [
      "2024-06-27 15:43:10 - DEBUG - Full circle is complete: 3.43; Resetting head direction cue\n",
      "2024-06-27 15:43:10 - DEBUG - HD CUE INITIATED\n"
     ]
    },
    {
     "name": "stdout",
     "output_type": "stream",
     "text": [
      "out:  (None, None, None, None)\n"
     ]
    },
    {
     "name": "stderr",
     "output_type": "stream",
     "text": [
      "2024-06-27 15:43:15 - DEBUG - HD CUE REMOVED\n",
      "2024-06-27 15:43:15 - DEBUG - Head direction cue set; New kernel function created\n",
      "2024-06-27 15:43:15 - DEBUG - Testing speed phi: 0.16\n"
     ]
    },
    {
     "name": "stdout",
     "output_type": "stream",
     "text": [
      "out:  (None, None, None, None)\n",
      "out:  (None, None, None, None)\n",
      "out:  (None, None, None, None)\n"
     ]
    },
    {
     "name": "stderr",
     "output_type": "stream",
     "text": [
      "2024-06-27 15:43:51 - DEBUG - Full circle is complete: 3.575; Resetting head direction cue\n",
      "2024-06-27 15:43:51 - DEBUG - HD CUE INITIATED\n"
     ]
    },
    {
     "name": "stdout",
     "output_type": "stream",
     "text": [
      "out:  (None, None, None, None)\n"
     ]
    },
    {
     "name": "stderr",
     "output_type": "stream",
     "text": [
      "2024-06-27 15:43:56 - DEBUG - HD CUE REMOVED\n",
      "2024-06-27 15:43:56 - DEBUG - Head direction cue set; New kernel function created\n",
      "2024-06-27 15:43:56 - DEBUG - Testing speed phi: 0.15\n"
     ]
    },
    {
     "name": "stdout",
     "output_type": "stream",
     "text": [
      "out:  (None, None, None, None)\n",
      "out:  (None, None, None, None)\n",
      "out:  (None, None, None, None)\n"
     ]
    },
    {
     "name": "stderr",
     "output_type": "stream",
     "text": [
      "2024-06-27 15:44:33 - DEBUG - Full circle is complete: 3.79; Resetting head direction cue\n",
      "2024-06-27 15:44:33 - DEBUG - HD CUE INITIATED\n"
     ]
    },
    {
     "name": "stdout",
     "output_type": "stream",
     "text": [
      "out:  (None, None, None, None)\n"
     ]
    },
    {
     "name": "stderr",
     "output_type": "stream",
     "text": [
      "2024-06-27 15:44:39 - DEBUG - HD CUE REMOVED\n",
      "2024-06-27 15:44:39 - DEBUG - Head direction cue set; New kernel function created\n",
      "2024-06-27 15:44:39 - DEBUG - Testing speed phi: 0.14\n"
     ]
    },
    {
     "name": "stdout",
     "output_type": "stream",
     "text": [
      "out:  (None, None, None, None)\n",
      "out:  (None, None, None, None)\n",
      "out:  (None, None, None, None)\n",
      "out:  (None, None, None, None)\n"
     ]
    },
    {
     "name": "stderr",
     "output_type": "stream",
     "text": [
      "2024-06-27 15:45:19 - DEBUG - Full circle is complete: 4.07; Resetting head direction cue\n",
      "2024-06-27 15:45:19 - DEBUG - HD CUE INITIATED\n"
     ]
    },
    {
     "name": "stdout",
     "output_type": "stream",
     "text": [
      "out:  (None, None, None, None)\n"
     ]
    },
    {
     "name": "stderr",
     "output_type": "stream",
     "text": [
      "2024-06-27 15:45:24 - DEBUG - HD CUE REMOVED\n",
      "2024-06-27 15:45:24 - DEBUG - Head direction cue set; New kernel function created\n",
      "2024-06-27 15:45:24 - DEBUG - Testing speed phi: 0.13\n"
     ]
    },
    {
     "name": "stdout",
     "output_type": "stream",
     "text": [
      "out:  (None, None, None, None)\n",
      "out:  (None, None, None, None)\n",
      "out:  (None, None, None, None)\n",
      "out:  (None, None, None, None)\n"
     ]
    },
    {
     "name": "stderr",
     "output_type": "stream",
     "text": [
      "2024-06-27 15:46:07 - DEBUG - Full circle is complete: 4.385; Resetting head direction cue\n",
      "2024-06-27 15:46:08 - DEBUG - HD CUE INITIATED\n",
      "2024-06-27 15:46:12 - DEBUG - HD CUE REMOVED\n",
      "2024-06-27 15:46:12 - DEBUG - Head direction cue set; New kernel function created\n",
      "2024-06-27 15:46:12 - DEBUG - Testing speed phi: 0.12\n"
     ]
    },
    {
     "name": "stdout",
     "output_type": "stream",
     "text": [
      "out:  (None, None, None, None)\n",
      "out:  (None, None, None, None)\n",
      "out:  (None, None, None, None)\n",
      "out:  (None, None, None, None)\n",
      "out:  (None, None, None, None)\n"
     ]
    },
    {
     "name": "stderr",
     "output_type": "stream",
     "text": [
      "2024-06-27 15:46:59 - DEBUG - Full circle is complete: 4.715; Resetting head direction cue\n",
      "2024-06-27 15:46:59 - DEBUG - HD CUE INITIATED\n"
     ]
    },
    {
     "name": "stdout",
     "output_type": "stream",
     "text": [
      "out:  (None, None, None, None)\n"
     ]
    },
    {
     "name": "stderr",
     "output_type": "stream",
     "text": [
      "2024-06-27 15:47:04 - DEBUG - HD CUE REMOVED\n",
      "2024-06-27 15:47:04 - DEBUG - Head direction cue set; New kernel function created\n",
      "2024-06-27 15:47:04 - DEBUG - Testing speed phi: 0.11\n"
     ]
    },
    {
     "name": "stdout",
     "output_type": "stream",
     "text": [
      "out:  (None, None, None, None)\n",
      "out:  (None, None, None, None)\n",
      "out:  (None, None, None, None)\n",
      "out:  (None, None, None, None)\n",
      "out:  (None, None, None, None)\n"
     ]
    },
    {
     "name": "stderr",
     "output_type": "stream",
     "text": [
      "2024-06-27 15:47:54 - DEBUG - Full circle is complete: 5.05; Resetting head direction cue\n",
      "2024-06-27 15:47:54 - DEBUG - HD CUE INITIATED\n",
      "2024-06-27 15:47:59 - DEBUG - HD CUE REMOVED\n",
      "2024-06-27 15:47:59 - DEBUG - Head direction cue set; New kernel function created\n",
      "2024-06-27 15:47:59 - DEBUG - Testing speed phi: 0.1\n"
     ]
    },
    {
     "name": "stdout",
     "output_type": "stream",
     "text": [
      "out:  (None, None, None, None)\n",
      "out:  (None, None, None, None)\n",
      "out:  (None, None, None, None)\n",
      "out:  (None, None, None, None)\n",
      "out:  (None, None, None, None)\n",
      "out:  (None, None, None, None)\n"
     ]
    },
    {
     "name": "stderr",
     "output_type": "stream",
     "text": [
      "2024-06-27 15:48:56 - DEBUG - Full circle is complete: 5.69; Resetting head direction cue\n",
      "2024-06-27 15:48:56 - DEBUG - HD CUE INITIATED\n",
      "2024-06-27 15:49:01 - DEBUG - HD CUE REMOVED\n",
      "2024-06-27 15:49:01 - DEBUG - Head direction cue set; New kernel function created\n",
      "2024-06-27 15:49:01 - DEBUG - Testing speed phi: 0.09\n"
     ]
    },
    {
     "name": "stdout",
     "output_type": "stream",
     "text": [
      "out:  (None, None, None, None)\n",
      "out:  (None, None, None, None)\n",
      "out:  (None, None, None, None)\n",
      "out:  (None, None, None, None)\n",
      "out:  (None, None, None, None)\n",
      "out:  (None, None, None, None)\n",
      "out:  (None, None, None, None)\n"
     ]
    },
    {
     "name": "stderr",
     "output_type": "stream",
     "text": [
      "2024-06-27 15:50:02 - DEBUG - Full circle is complete: 6.32; Resetting head direction cue\n",
      "2024-06-27 15:50:02 - DEBUG - HD CUE INITIATED\n",
      "2024-06-27 15:50:07 - DEBUG - HD CUE REMOVED\n",
      "2024-06-27 15:50:07 - DEBUG - Head direction cue set; New kernel function created\n",
      "2024-06-27 15:50:07 - DEBUG - Testing speed phi: 0.08\n"
     ]
    },
    {
     "name": "stdout",
     "output_type": "stream",
     "text": [
      "out:  (None, None, None, None)\n",
      "out:  (None, None, None, None)\n",
      "out:  (None, None, None, None)\n",
      "out:  (None, None, None, None)\n",
      "out:  (None, None, None, None)\n",
      "out:  (None, None, None, None)\n",
      "out:  (None, None, None, None)\n"
     ]
    },
    {
     "name": "stderr",
     "output_type": "stream",
     "text": [
      "2024-06-27 15:51:18 - DEBUG - Full circle is complete: 7.03; Resetting head direction cue\n",
      "2024-06-27 15:51:18 - DEBUG - HD CUE INITIATED\n"
     ]
    },
    {
     "name": "stdout",
     "output_type": "stream",
     "text": [
      "out:  (None, None, None, None)\n"
     ]
    },
    {
     "name": "stderr",
     "output_type": "stream",
     "text": [
      "2024-06-27 15:51:23 - DEBUG - HD CUE REMOVED\n",
      "2024-06-27 15:51:23 - DEBUG - Head direction cue set; New kernel function created\n",
      "2024-06-27 15:51:23 - DEBUG - Testing speed phi: 0.07\n"
     ]
    },
    {
     "name": "stdout",
     "output_type": "stream",
     "text": [
      "out:  (None, None, None, None)\n",
      "out:  (None, None, None, None)\n",
      "out:  (None, None, None, None)\n",
      "out:  (None, None, None, None)\n",
      "out:  (None, None, None, None)\n",
      "out:  (None, None, None, None)\n",
      "out:  (None, None, None, None)\n",
      "out:  (None, None, None, None)\n"
     ]
    },
    {
     "name": "stderr",
     "output_type": "stream",
     "text": [
      "2024-06-27 15:52:45 - DEBUG - Full circle is complete: 8.2; Resetting head direction cue\n",
      "2024-06-27 15:52:45 - DEBUG - HD CUE INITIATED\n",
      "2024-06-27 15:52:50 - DEBUG - HD CUE REMOVED\n",
      "2024-06-27 15:52:50 - DEBUG - Head direction cue set; New kernel function created\n",
      "2024-06-27 15:52:50 - DEBUG - Testing speed phi: 0.06\n"
     ]
    },
    {
     "name": "stdout",
     "output_type": "stream",
     "text": [
      "out:  (None, None, None, None)\n",
      "out:  (None, None, None, None)\n",
      "out:  (None, None, None, None)\n",
      "out:  (None, None, None, None)\n",
      "out:  (None, None, None, None)\n",
      "out:  (None, None, None, None)\n",
      "out:  (None, None, None, None)\n",
      "out:  (None, None, None, None)\n",
      "out:  (None, None, None, None)\n"
     ]
    },
    {
     "name": "stderr",
     "output_type": "stream",
     "text": [
      "2024-06-27 15:54:17 - DEBUG - Full circle is complete: 8.700000000000001; Resetting head direction cue\n",
      "2024-06-27 15:54:17 - DEBUG - HD CUE INITIATED\n"
     ]
    },
    {
     "name": "stdout",
     "output_type": "stream",
     "text": [
      "out:  (None, None, None, None)\n"
     ]
    },
    {
     "name": "stderr",
     "output_type": "stream",
     "text": [
      "2024-06-27 15:54:22 - DEBUG - HD CUE REMOVED\n",
      "2024-06-27 15:54:22 - DEBUG - Head direction cue set; New kernel function created\n",
      "2024-06-27 15:54:22 - DEBUG - Testing speed phi: 0.05\n"
     ]
    },
    {
     "name": "stdout",
     "output_type": "stream",
     "text": [
      "out:  (None, None, None, None)\n",
      "out:  (None, None, None, None)\n",
      "out:  (None, None, None, None)\n",
      "out:  (None, None, None, None)\n",
      "out:  (None, None, None, None)\n",
      "out:  (None, None, None, None)\n",
      "out:  (None, None, None, None)\n",
      "out:  (None, None, None, None)\n",
      "out:  (None, None, None, None)\n",
      "out:  (None, None, None, None)\n"
     ]
    },
    {
     "name": "stderr",
     "output_type": "stream",
     "text": [
      "2024-06-27 15:56:02 - DEBUG - Speed phi is too slow (slower that 2*π/10); Removing records and interupting the simulation...\n",
      "2024-06-27 15:56:02 - DEBUG - All speed phis have been tested; Simulation will be completed at the end of the current cycle...\n",
      "2024-06-27 15:56:02 - DEBUG - Simulation was interrupted due to: StopIteration()\n"
     ]
    }
   ],
   "source": [
    "from bbtoolkit.dynamics import DynamicsManager\n",
    "from bbtoolkit.dynamics.callbacks.viz import PlottingCallback\n",
    "from bbtoolkit.models.bb.callbacks import TimerCallback\n",
    "from bbtoolkit.models.bb.structures import ClickParameters, DynamicParameters\n",
    "from bbtoolkit.structures import DotDict\n",
    "from bbtoolkit.dynamics.callbacks.movement import MovementParameters\n",
    "from bbtoolkit.structures.attractors import LoopAttractor\n",
    "from bbtoolkit.structures.attractors.kernels import gaussian_kernel_1d\n",
    "\n",
    "import logging\n",
    "logging.getLogger('matplotlib.font_manager').disabled = True\n",
    "\n",
    "%matplotlib qt\n",
    "\n",
    "dt = .005\n",
    "\n",
    "direction = np.pi/2\n",
    "\n",
    "cache = DotDict()\n",
    "cache['dynamics_params'] = DynamicParameters(dt, None)\n",
    "cache['click_params'] = ClickParameters()\n",
    "cache['movement_params'] = MovementParameters(direction=np.pi/2)\n",
    "cache['activity'] = activity.copy()\n",
    "cache['rates'] = rates.copy()\n",
    "cache['k_ratio'] = k_ratio.copy()\n",
    "cache['connectivity'] = connectivity.copy()\n",
    "cache.connectivity.hd_ring1.to.hd_ring2['phi'] = -3\n",
    "cache.connectivity.hd_ring2.to.hd_ring1['phi'] = 10\n",
    "cache['simulation_params'] = DotDict(finished=False)\n",
    "\n",
    "\n",
    "dynamics = DynamicsManager(\n",
    "    dt,\n",
    "    callbacks=[\n",
    "        HDCallback(\n",
    "            LoopAttractor(\n",
    "                (\n",
    "                    gaussian_kernel_1d(100, center=0.5, sigma=0.05)[None, :],\n",
    "                    (\n",
    "                        gaussian_kernel_1d(100, center=0.2, sigma=0.15) +\n",
    "                        gaussian_kernel_1d(100, center=0.8, sigma=0.15)\n",
    "                    )[None, :]\n",
    "                )\n",
    "            ),\n",
    "            init_timesteps=100\n",
    "        ),\n",
    "        RotationAdjustingCallback(\n",
    "            init_timesteps=100\n",
    "        ),\n",
    "        TimerCallback(),\n",
    "        PlottingCallback(\n",
    "            [\n",
    "                PolarCirclePlotter(),\n",
    "                TimerPlotter((0, 0)),\n",
    "                HDPlotter(),\n",
    "                MouseEventCallback(),\n",
    "            ],\n",
    "            update_rate=5,\n",
    "            fig_kwargs=dict(figsize=(10, 10)),\n",
    "            gc_kwargs=dict(nrows=12, ncols=12)\n",
    "        )\n",
    "    ],\n",
    "    cache=cache\n",
    ")\n",
    "\n",
    "\n",
    "for _ in dynamics(lambda steps_per_cycle: not cache.simulation_params.finished):\n",
    "    print('out: ', _)"
   ]
  },
  {
   "cell_type": "code",
   "execution_count": 12,
   "metadata": {},
   "outputs": [
    {
     "ename": "AttributeError",
     "evalue": "Can't pickle local object 'RotationAdjustingCallback.set_cache.<locals>.<lambda>'",
     "output_type": "error",
     "traceback": [
      "\u001b[0;31m---------------------------------------------------------------------------\u001b[0m",
      "\u001b[0;31mAttributeError\u001b[0m                            Traceback (most recent call last)",
      "Cell \u001b[0;32mIn[12], line 1\u001b[0m\n\u001b[0;32m----> 1\u001b[0m \u001b[43mdynamics\u001b[49m\u001b[38;5;241;43m.\u001b[39;49m\u001b[43msave\u001b[49m\u001b[43m(\u001b[49m\u001b[38;5;124;43m'\u001b[39;49m\u001b[38;5;124;43m../data/dynamics/rotation_adjust_sim.pkl\u001b[39;49m\u001b[38;5;124;43m'\u001b[39;49m\u001b[43m)\u001b[49m\n",
      "File \u001b[0;32m~/Projects/SpatialMemory/bbtoolkit/utils/datautils/__init__.py:104\u001b[0m, in \u001b[0;36mWritablePickle.save\u001b[0;34m(self, savepath)\u001b[0m\n\u001b[1;32m     97\u001b[0m \u001b[38;5;28;01mdef\u001b[39;00m \u001b[38;5;21msave\u001b[39m(\u001b[38;5;28mself\u001b[39m, savepath: \u001b[38;5;28mstr\u001b[39m):\n\u001b[1;32m     98\u001b[0m \u001b[38;5;250m    \u001b[39m\u001b[38;5;124;03m\"\"\"\u001b[39;00m\n\u001b[1;32m     99\u001b[0m \u001b[38;5;124;03m    Save the object to a .pkl file.\u001b[39;00m\n\u001b[1;32m    100\u001b[0m \n\u001b[1;32m    101\u001b[0m \u001b[38;5;124;03m    Args:\u001b[39;00m\n\u001b[1;32m    102\u001b[0m \u001b[38;5;124;03m        savepath (str): The path to the file where the object will be saved in .pkl format.\u001b[39;00m\n\u001b[1;32m    103\u001b[0m \u001b[38;5;124;03m    \"\"\"\u001b[39;00m\n\u001b[0;32m--> 104\u001b[0m     \u001b[43msave_pkl\u001b[49m\u001b[43m(\u001b[49m\u001b[38;5;28;43mself\u001b[39;49m\u001b[43m,\u001b[49m\u001b[43m \u001b[49m\u001b[43msavepath\u001b[49m\u001b[43m)\u001b[49m\n",
      "File \u001b[0;32m~/Projects/SpatialMemory/bbtoolkit/utils/datautils/__init__.py:54\u001b[0m, in \u001b[0;36msave_pkl\u001b[0;34m(content, path)\u001b[0m\n\u001b[1;32m     51\u001b[0m \u001b[38;5;28;01mif\u001b[39;00m path[\u001b[38;5;241m-\u001b[39m\u001b[38;5;241m4\u001b[39m:] \u001b[38;5;241m!=\u001b[39m \u001b[38;5;124m'\u001b[39m\u001b[38;5;124m.pkl\u001b[39m\u001b[38;5;124m'\u001b[39m:\n\u001b[1;32m     52\u001b[0m     \u001b[38;5;28;01mraise\u001b[39;00m \u001b[38;5;167;01mOSError\u001b[39;00m(\u001b[38;5;124mf\u001b[39m\u001b[38;5;124m'\u001b[39m\u001b[38;5;124mPickle file must have extension \u001b[39m\u001b[38;5;124m\"\u001b[39m\u001b[38;5;124m.pkl\u001b[39m\u001b[38;5;124m\"\u001b[39m\u001b[38;5;124m, but it has \u001b[39m\u001b[38;5;124m\"\u001b[39m\u001b[38;5;132;01m{\u001b[39;00mpath[\u001b[38;5;241m-\u001b[39m\u001b[38;5;241m4\u001b[39m:]\u001b[38;5;132;01m}\u001b[39;00m\u001b[38;5;124m\"\u001b[39m\u001b[38;5;124m'\u001b[39m)\n\u001b[0;32m---> 54\u001b[0m \u001b[43mpickle\u001b[49m\u001b[38;5;241;43m.\u001b[39;49m\u001b[43mdump\u001b[49m\u001b[43m(\u001b[49m\u001b[43mcontent\u001b[49m\u001b[43m,\u001b[49m\u001b[43m \u001b[49m\u001b[38;5;28;43mopen\u001b[39;49m\u001b[43m(\u001b[49m\u001b[43mpath\u001b[49m\u001b[43m,\u001b[49m\u001b[43m \u001b[49m\u001b[38;5;124;43m'\u001b[39;49m\u001b[38;5;124;43mwb\u001b[39;49m\u001b[38;5;124;43m'\u001b[39;49m\u001b[43m)\u001b[49m\u001b[43m)\u001b[49m\n",
      "\u001b[0;31mAttributeError\u001b[0m: Can't pickle local object 'RotationAdjustingCallback.set_cache.<locals>.<lambda>'"
     ]
    }
   ],
   "source": [
    "dynamics.save('../data/dynamics/rotation_adjust_sim.pkl')"
   ]
  },
  {
   "cell_type": "code",
   "execution_count": 14,
   "metadata": {},
   "outputs": [
    {
     "data": {
      "text/plain": [
       "{'time': [101, 102, 103, 104, 105, 106, 107, 108, 109, 110, 111, 112, 113, 114, 115, 116, 117, 118, 119, 120, 121, 122, 123, 124, 125, 126, 127, 128, 129, 130, 131, 132, 133, 134, 135, 136, 137, 138, 139, 140, 141, 142, 143, 144, 145, 146, 147, 148, 149, 150, 151, 152, 153, 154, 155, 156, 157, 158, 159, 160, 161, 162, 163, 164, 165, 166, 167, 168, 169, 170, 171, 172, 173, 174, 175, 176, 177, 178, 179, 180, 181, 182, 183, 184, 185, 186, 187, 188, 189, 190, 191, 192, 193, 194, 195, 196, 197, 198, 199, 200, 201, 202, 203, 204, 205, 206, 207, 208, 209, 210, 211, 212, 213, 214, 215, 216, 217, 218, 219, 220, 221, 222, 223, 224, 225, 226, 227, 228, 229, 230, 231, 232, 233, 234, 235, 236, 237, 238, 239, 240, 241, 242, 243, 244, 245, 246, 247, 248, 249, 250, 251, 252, 253, 254, 255, 256, 257, 258, 259, 260, 261, 262, 263, 264, 265, 266, 267, 268, 269, 270, 271, 272, 273, 274, 275, 276, 277, 278, 279, 280, 281, 282, 283, 284, 285, 286, 287, 288, 289, 290, 291, 292, 293, 294, 295, 296, 297, 298, 299, 300, 301, 302, 303, 304, 305, 306, 307, 308, 309, 310, 311, 312, 313, 314, 315, 316, 317, 318, 319, 320, 321, 322, 323, 324, 325, 326, 327, 328, 329, 330, 331, 332, 333, 334, 335, 336, 337, 338, 339, 340, 341, 342, 343, 344, 345, 346, 347, 348, 349, 350, 351, 352, 353, 354, 355, 356, 357, 358, 359, 360, 361, 362, 363, 364, 365, 366, 367, 368, 369, 370, 371, 372, 373, 374, 375, 376, 377, 378, 379, 380, 381, 382, 383, 384, 385, 386, 387, 388, 389, 390, 391, 392, 393, 394, 395, 396, 397, 398, 399, 400, 401, 402, 403, 404, 405, 406, 407, 408, 409, 410, 411, 412, 413, 414, 415, 416, 417, 418, 419, 420, 421, 422, 423, 424, 425, 426, 427, 428, 429, 430, 431, 432, 433, 434, 435, 436, 437, 438, 439, 440, 441, 442, 443, 444, 445, 446, 447, 448, 449, 450, 451, 452, 453, 454, 455, 456, 457, 458, 459, 460, 461, 462, 463, 464, 465, 466, 467, 468, 469, 470, 471, 472, 473, 474, 475, 476, 477, 478, 479, 480, 481, 482, 483, 484, 485, 486, 487, 488, 489, 490, 491, 492, 493, 494, 495, 496, 497, 498, 499, 500, 501, 502, 503, 504, 505, 506], 'direction': [1.2058638468324459, 1.2058638468324459, 1.2058638468324459, 1.2058638468324459, 1.2058638468324459, 1.2058638468324459, 1.269330365086785, 1.269330365086785, 1.269330365086785, 1.269330365086785, 1.269330365086785, 1.269330365086785, 1.269330365086785, 1.3327968833411243, 1.3327968833411243, 1.3327968833411243, 1.3327968833411243, 1.3327968833411243, 1.3327968833411243, 1.3962634015954634, 1.3962634015954634, 1.3962634015954634, 1.3962634015954634, 1.3962634015954634, 1.4597299198498028, 1.4597299198498028, 1.4597299198498028, 1.523196438104142, 1.523196438104142, 1.5866629563584815, 1.5866629563584815, 1.5866629563584815, 1.5866629563584815, 1.5866629563584815, 1.5866629563584815, 1.5866629563584815, 1.5866629563584815, 1.5866629563584815, 1.5866629563584815, 1.5866629563584815, 1.5866629563584815, 1.5866629563584815, 1.5866629563584815, 1.5866629563584815, 1.5866629563584815, 1.5866629563584815, 1.5866629563584815, 1.5866629563584815, 1.6501294746128208, 1.6501294746128208, 1.6501294746128208, 1.6501294746128208, 1.6501294746128208, 1.6501294746128208, 1.6501294746128208, 1.6501294746128208, 1.6501294746128208, 1.6501294746128208, 1.7135959928671598, 1.7135959928671598, 1.777062511121499, 1.8405290293758385, 1.9039955476301775, 1.9674620658845168, 2.0309285841388562, 2.0309285841388562, 2.0309285841388562, 2.0309285841388562, 2.0943951023931953, 2.0943951023931953, 2.0943951023931953, 2.0943951023931953, 2.0943951023931953, 2.0943951023931953, 2.1578616206475347, 2.2213281389018737, 2.2213281389018737, 2.2213281389018737, 2.2213281389018737, 2.2213281389018737, 2.2213281389018737, 2.2213281389018737, 2.2213281389018737, 2.284794657156213, 2.284794657156213, 2.284794657156213, 2.284794657156213, 2.284794657156213, 2.4117276936648917, 2.4117276936648917, 2.4117276936648917, 2.4117276936648917, 2.4117276936648917, 2.4117276936648917, 2.4751942119192307, 2.4751942119192307, 2.4751942119192307, 2.4751942119192307, 2.4751942119192307, 2.4751942119192307, 2.602127248427909, 2.602127248427909, 2.602127248427909, 2.602127248427909, 2.602127248427909, 2.602127248427909, 2.6655937666822487, 2.6655937666822487, 2.6655937666822487, 2.6655937666822487, 2.6655937666822487, 2.7290602849365877, 2.7290602849365877, 2.7925268031909267, 2.7925268031909267, 2.8559933214452666, 2.8559933214452666, 2.8559933214452666, 2.8559933214452666, 2.8559933214452666, 2.8559933214452666, 2.8559933214452666, 2.9194598396996057, 2.982926357953945, 2.982926357953945, 2.982926357953945, 2.982926357953945, 2.982926357953945, 2.982926357953945, 3.046392876208284, 3.046392876208284, 3.046392876208284, 3.046392876208284, 3.046392876208284, 3.109859394462623, 3.109859394462623, 3.109859394462623, 3.109859394462623, 3.109859394462623, 3.173325912716963, 3.173325912716963, 3.173325912716963, 3.236792430971302, 3.3002589492256416, 3.3002589492256416, 3.3002589492256416, 3.3002589492256416, 3.3002589492256416, 3.3637254674799806, 3.3637254674799806, 3.3637254674799806, 3.4271919857343196, 3.4271919857343196, 3.4271919857343196, 3.4271919857343196, 3.4271919857343196, 3.4271919857343196, 3.490658503988659, 3.554125022242998, 3.490658503988659, 3.554125022242998, 3.554125022242998, 3.554125022242998, 3.554125022242998, 3.554125022242998, 3.681058058751677, 3.681058058751677, 3.681058058751677, 3.681058058751677, 3.681058058751677, 3.681058058751677, 3.681058058751677, 3.681058058751677, 3.744524577006016, 3.744524577006016, 3.744524577006016, 3.807991095260355, 3.807991095260355, 3.807991095260355, 3.8714576135146945, 3.8714576135146945, 3.8714576135146945, 3.8714576135146945, 3.8714576135146945, 3.9349241317690336, 3.9349241317690336, 3.9349241317690336, 3.9349241317690336, 3.9983906500233735, 4.0618571682777125, 3.9983906500233735, 4.0618571682777125, 4.0618571682777125, 4.0618571682777125, 4.1253236865320515, 4.1253236865320515, 4.1253236865320515, 4.1253236865320515, 4.1253236865320515, 4.1253236865320515, 4.1887902047863905, 4.25225672304073, 4.25225672304073, 4.25225672304073, 4.25225672304073, 4.25225672304073, 4.25225672304073, 4.3157232412950695, 4.3157232412950695, 4.3157232412950695, 4.3157232412950695, 4.3157232412950695, 4.3791897595494085, 4.3791897595494085, 4.3791897595494085, 4.4426562778037475, 4.4426562778037475, 4.4426562778037475, 4.506122796058087, 4.506122796058087, 4.506122796058087, 4.506122796058087, 4.569589314312426, 4.569589314312426, 4.569589314312426, 4.569589314312426, 4.569589314312426, 4.6330558325667655, 4.696522350821105, 4.696522350821105, 4.696522350821105, 4.696522350821105, 4.696522350821105, 4.696522350821105, 4.696522350821105, 4.759988869075444, 4.759988869075444, 4.823455387329783, 4.823455387329783, 4.823455387329783, 4.823455387329783, 4.886921905584122, 4.886921905584122, 4.886921905584122, 4.9503884238384614, 4.9503884238384614, 4.9503884238384614, 5.013854942092801, 5.013854942092801, 5.013854942092801, 5.013854942092801, 5.013854942092801, 5.013854942092801, 5.013854942092801, 5.013854942092801, 5.07732146034714, 5.07732146034714, 5.07732146034714, 5.07732146034714, 5.204254496855818, 5.204254496855818, 5.204254496855818, 5.204254496855818, 5.204254496855818, 5.204254496855818, 5.204254496855818, 5.204254496855818, 5.331187533364497, 5.331187533364497, 5.331187533364497, 5.331187533364497, 5.331187533364497, 5.394654051618836, 5.331187533364497, 5.394654051618836, 5.394654051618836, 5.458120569873175, 5.458120569873175, 5.458120569873175, 5.458120569873175, 5.458120569873175, 5.458120569873175, 5.521587088127514, 5.521587088127514, 5.521587088127514, 5.585053606381853, 5.585053606381853, 5.585053606381853, 5.585053606381853, 5.585053606381853, 5.648520124636194, 5.648520124636194, 5.648520124636194, 5.648520124636194, 5.775453161144872, 5.775453161144872, 5.775453161144872, 5.775453161144872, 5.775453161144872, 5.775453161144872, 5.838919679399211, 5.838919679399211, 5.838919679399211, 5.838919679399211, 5.838919679399211, 5.96585271590789, 5.96585271590789, 5.96585271590789, 5.96585271590789, 5.96585271590789, 5.96585271590789, 6.029319234162229, 6.029319234162229, 6.029319234162229, 6.029319234162229, 6.029319234162229, 6.092785752416568, 6.092785752416568, 6.156252270670907, 6.156252270670907, 6.156252270670907, 6.156252270670907, 6.156252270670907, 6.219718788925246, 6.219718788925246, 6.219718788925246, 6.219718788925246, 8.881784197001252e-16, 8.881784197001252e-16, 8.881784197001252e-16, 8.881784197001252e-16, 0.0, 0.0, 0.0, 0.0, 0.0, 0.06346651825433926, 0.12693303650867852, 0.12693303650867852, 0.12693303650867852, 0.12693303650867852, 0.12693303650867852, 0.12693303650867852, 0.12693303650867852, 0.12693303650867852, 0.12693303650867852, 0.19039955476301776, 0.19039955476301776, 0.19039955476301776, 0.25386607301735703, 0.3173325912716963, 0.3173325912716963, 0.3173325912716963, 0.3173325912716963, 0.3807991095260355, 0.3807991095260355, 0.3807991095260355, 0.3807991095260355, 0.3807991095260355, 0.3807991095260355, 0.44426562778037476, 0.44426562778037476, 0.44426562778037476, 0.5077321460347141, 0.5077321460347141, 0.5077321460347141, 0.5077321460347141, 0.5711986642890533, 0.5711986642890533, 0.5711986642890533, 0.5711986642890533, 0.5711986642890533, 0.6346651825433925, 0.6346651825433925, 0.6346651825433925, 0.6346651825433925, 0.6346651825433925, 0.6346651825433925, 0.761598219052071, 0.761598219052071, 0.761598219052071, 0.761598219052071, 0.761598219052071, 0.8250647373064104, 0.8250647373064104, 0.8250647373064104, 0.8885312555607495, 0.8885312555607495, 0.8885312555607495, 0.8885312555607495, 0.8885312555607495, 0.8885312555607495, 0.9519977738150888, 1.0154642920694281, 1.0154642920694281, 1.0154642920694281, 1.0154642920694281, 1.0154642920694281, 1.0154642920694281, 1.0154642920694281, 1.0154642920694281, 1.0789308103237674, 1.0789308103237674, 1.0789308103237674, 1.1423973285781066, 1.2058638468324459]}"
      ]
     },
     "execution_count": 14,
     "metadata": {},
     "output_type": "execute_result"
    }
   ],
   "source": [
    "cache.rotation_log[1]"
   ]
  },
  {
   "cell_type": "code",
   "execution_count": 99,
   "metadata": {},
   "outputs": [],
   "source": [
    "from bbtoolkit.utils.datautils import save_pkl\n",
    "\n",
    "\n",
    "save_pkl(cache.rotation_log, '../data/dynamics/rotation_log2.pkl')"
   ]
  },
  {
   "cell_type": "code",
   "execution_count": 5,
   "metadata": {},
   "outputs": [],
   "source": [
    "from bbtoolkit.utils.datautils import read_pkl\n",
    "\n",
    "\n",
    "rotation_log = read_pkl(\n",
    "    '../data/dynamics/rotation_log.pkl'\n",
    ")"
   ]
  },
  {
   "cell_type": "code",
   "execution_count": 8,
   "metadata": {},
   "outputs": [],
   "source": [
    "times2, phis2 = [], []\n",
    "for key in rotation_log2:\n",
    "    times2.append(len(rotation_log2[key].time))\n",
    "    phis2.append(key)"
   ]
  },
  {
   "cell_type": "code",
   "execution_count": 7,
   "metadata": {},
   "outputs": [],
   "source": [
    "times, phis = [], []\n",
    "for key in rotation_log:\n",
    "    times.append(len(rotation_log[key].time))\n",
    "    phis.append(key)"
   ]
  },
  {
   "cell_type": "code",
   "execution_count": 6,
   "metadata": {},
   "outputs": [],
   "source": [
    "rotation_log2 = read_pkl(\n",
    "    '../data/dynamics/rotation_log2.pkl'\n",
    ")"
   ]
  },
  {
   "cell_type": "code",
   "execution_count": 14,
   "metadata": {},
   "outputs": [
    {
     "name": "stderr",
     "output_type": "stream",
     "text": [
      "2024-06-28 15:45:42 - DEBUG - Loaded backend inline version unknown.\n"
     ]
    },
    {
     "data": {
      "text/plain": [
       "<matplotlib.legend.Legend at 0x7a6d34b9e060>"
      ]
     },
     "execution_count": 14,
     "metadata": {},
     "output_type": "execute_result"
    },
    {
     "data": {
      "image/png": "[encoded data removed]",
      "text/plain": [
       "<Figure size 640x480 with 1 Axes>"
      ]
     },
     "metadata": {},
     "output_type": "display_data"
    }
   ],
   "source": [
    "%matplotlib inline\n",
    "plt.plot(np.array(times2)*0.005, phis2)\n",
    "plt.plot(\n",
    "    np.array(times)*0.002, phis\n",
    ")\n",
    "plt.xlabel('Time')\n",
    "plt.ylabel('Phi')\n",
    "plt.legend(\n",
    "    [\n",
    "        'dt = 0.005',\n",
    "        'dt = 0.002'\n",
    "    ]\n",
    ")"
   ]
  },
  {
   "cell_type": "code",
   "execution_count": 12,
   "metadata": {},
   "outputs": [
    {
     "name": "stderr",
     "output_type": "stream",
     "text": [
      "2024-06-28 15:43:51 - DEBUG - Loaded backend inline version unknown.\n"
     ]
    },
    {
     "data": {
      "text/plain": [
       "Text(0, 0.5, 'Phi')"
      ]
     },
     "execution_count": 12,
     "metadata": {},
     "output_type": "execute_result"
    },
    {
     "data": {
      "image/png": "[encoded data removed]",
      "text/plain": [
       "<Figure size 640x480 with 1 Axes>"
      ]
     },
     "metadata": {},
     "output_type": "display_data"
    }
   ],
   "source": [
    "%matplotlib inline\n",
    "plt.plot(0.002*np.array(times), phis)\n",
    "plt.xlabel('Time')\n",
    "plt.ylabel('Phi')"
   ]
  },
  {
   "cell_type": "code",
   "execution_count": null,
   "metadata": {},
   "outputs": [],
   "source": [
    "from typing import Any\n",
    "import numpy as np\n",
    "from sklearn.base import BaseEstimator\n",
    "from sklearn.model_selection import train_test_split\n",
    "\n",
    "class MLRegressor:\n",
    "    def __init__(self, regressor: BaseEstimator) -> None:\n",
    "        \"\"\"\n",
    "        Initializes the MLRegressor with a given regressor.\n",
    "\n",
    "        Args:\n",
    "            regressor (BaseEstimator): A machine learning regressor that follows the scikit-learn regressor interface.\n",
    "        \"\"\"\n",
    "        self.regressor: BaseEstimator = regressor\n",
    "        self.is_fitted: bool = False\n",
    "\n",
    "    def fit(self, X: np.ndarray, Y: np.ndarray, test_size: float = 0.2, random_state: int = None) -> None:\n",
    "        \"\"\"\n",
    "        Splits the data into training and testing sets, then fits the regressor on the training set.\n",
    "\n",
    "        Args:\n",
    "            X (np.ndarray): The feature matrix.\n",
    "            Y (np.ndarray): The target variable array.\n",
    "            test_size (float, optional): The proportion of the dataset to include in the test split. Defaults to 0.2.\n",
    "            random_state (int, optional): Controls the shuffling applied to the data before applying the split. Defaults to None.\n",
    "        \"\"\"\n",
    "        self.regressor.fit(X, Y)\n",
    "        self.is_fitted = True\n",
    "\n",
    "    def __call__(self, X: np.ndarray) -> np.ndarray:\n",
    "        \"\"\"\n",
    "        Makes predictions using the fitted regressor on the provided feature matrix.\n",
    "\n",
    "        Args:\n",
    "            X (np.ndarray): The feature matrix for which to make predictions.\n",
    "\n",
    "        Returns:\n",
    "            np.ndarray: The predicted values.\n",
    "\n",
    "        Raises:\n",
    "            RuntimeError: If the regressor has not been fitted yet.\n",
    "        \"\"\"\n",
    "        if not self.is_fitted:\n",
    "            raise RuntimeError(\"The regressor has not been fitted yet. Please call the fit method first.\")\n",
    "        return self.regressor.predict(X)"
   ]
  }
 ],
 "metadata": {
  "kernelspec": {
   "display_name": "venv",
   "language": "python",
   "name": "python3"
  },
  "language_info": {
   "codemirror_mode": {
    "name": "ipython",
    "version": 3
   },
   "file_extension": ".py",
   "mimetype": "text/x-python",
   "name": "python",
   "nbconvert_exporter": "python",
   "pygments_lexer": "ipython3",
   "version": "3.12.4"
  }
 },
 "nbformat": 4,
 "nbformat_minor": 2
}
